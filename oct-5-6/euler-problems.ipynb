{
 "cells": [
  {
   "cell_type": "markdown",
   "id": "c03aa8c7-ed34-46ec-a499-40516474811c",
   "metadata": {},
   "source": [
    "# My work"
   ]
  },
  {
   "cell_type": "markdown",
   "id": "c27b9521-8a20-48d2-9eaa-d98a62eecfb2",
   "metadata": {},
   "source": [
    "## Euler Problem 8\n",
    "https://projecteuler.net/problem=8"
   ]
  },
  {
   "cell_type": "code",
   "execution_count": 112,
   "id": "3069803d-a9b7-4f6c-a53c-696290ec5f89",
   "metadata": {},
   "outputs": [],
   "source": [
    "input_number_as_string = '''\n",
    "73167176531330624919225119674426574742355349194934\n",
    "96983520312774506326239578318016984801869478851843\n",
    "85861560789112949495459501737958331952853208805511\n",
    "12540698747158523863050715693290963295227443043557\n",
    "66896648950445244523161731856403098711121722383113\n",
    "62229893423380308135336276614282806444486645238749\n",
    "30358907296290491560440772390713810515859307960866\n",
    "70172427121883998797908792274921901699720888093776\n",
    "65727333001053367881220235421809751254540594752243\n",
    "52584907711670556013604839586446706324415722155397\n",
    "53697817977846174064955149290862569321978468622482\n",
    "83972241375657056057490261407972968652414535100474\n",
    "82166370484403199890008895243450658541227588666881\n",
    "16427171479924442928230863465674813919123162824586\n",
    "17866458359124566529476545682848912883142607690042\n",
    "24219022671055626321111109370544217506941658960408\n",
    "07198403850962455444362981230987879927244284909188\n",
    "84580156166097919133875499200524063689912560717606\n",
    "05886116467109405077541002256983155200055935729725\n",
    "71636269561882670428252483600823257530420752963450\n",
    "'''\n"
   ]
  },
  {
   "cell_type": "code",
   "execution_count": 113,
   "id": "958d79ca-90a4-4eeb-9c6a-4a338abea3a1",
   "metadata": {
    "scrolled": true
   },
   "outputs": [],
   "source": [
    "\n",
    "def clean_number_digest(passed_str:str ) -> list:\n",
    "    # cleaned_number_digest = []\n",
    "    # cleaned_number_digest = \n",
    "    return [dig for dig in passed_str if '0' <= dig <= '9']\n"
   ]
  },
  {
   "cell_type": "code",
   "execution_count": 114,
   "id": "350ac25c-5c76-4a10-af10-1d9b60c3062f",
   "metadata": {},
   "outputs": [],
   "source": [
    "\n",
    "# print(list(clean_number_digest(input_number_as_string)))"
   ]
  },
  {
   "cell_type": "code",
   "execution_count": 115,
   "id": "c7172c7b-570d-4d4f-b726-7f7411524921",
   "metadata": {},
   "outputs": [],
   "source": [
    "def product(s: list[str]) -> int:\n",
    "    if '0' in s:\n",
    "        return 0\n",
    "    product = 1\n",
    "    for ch in s:\n",
    "        product *= int(ch)\n",
    "    return product\n",
    "    "
   ]
  },
  {
   "cell_type": "code",
   "execution_count": 116,
   "id": "1502160b-2743-406e-bf90-1122e9b488ff",
   "metadata": {},
   "outputs": [],
   "source": [
    "def euler_08(input_number_as_string, size: int) -> tuple[int,int]:\n",
    "    number_digest = clean_number_digest(input_number_as_string)\n",
    "    start, window_len = 0,size\n",
    "    full_length = len(number_digest)\n",
    "    max_product, location = 0, -1\n",
    "    while start + window_len <= full_length:\n",
    "        window = number_digest[start:start+window_len]\n",
    "        p = product(window)\n",
    "        if p > max_product:\n",
    "            location = start\n",
    "            max_product = p\n",
    "        start += 1\n",
    "    return location, max_product\n",
    "    "
   ]
  },
  {
   "cell_type": "code",
   "execution_count": 117,
   "id": "4d92e645-3afc-4010-b0bb-b56eecf73299",
   "metadata": {},
   "outputs": [
    {
     "name": "stdout",
     "output_type": "stream",
     "text": [
      "CPU times: user 534 µs, sys: 9 µs, total: 543 µs\n",
      "Wall time: 546 µs\n"
     ]
    },
    {
     "data": {
      "text/plain": [
       "(197, 23514624000)"
      ]
     },
     "execution_count": 117,
     "metadata": {},
     "output_type": "execute_result"
    }
   ],
   "source": [
    "euler_08(input_number_as_string,13)\n",
    "%time euler_08(input_number_as_string,13)"
   ]
  },
  {
   "cell_type": "markdown",
   "id": "06f50b4e-998b-4e19-9048-67d2561dedae",
   "metadata": {},
   "source": [
    "# Euler problem 9: Special Pythagorean Triplet\n",
    "https://projecteuler.net/problem=9\n"
   ]
  },
  {
   "cell_type": "code",
   "execution_count": null,
   "id": "a47c8c9b-097c-4550-8dd4-b30d84cf1713",
   "metadata": {},
   "outputs": [],
   "source": []
  },
  {
   "cell_type": "raw",
   "id": "730c8951-b522-4be7-b058-7b2b874ebcda",
   "metadata": {},
   "source": [
    "# Kaprekar’s Constant\n",
    "Step 1: Choose any four digit number, say n. This is the first number of the sequence.\n",
    "\n",
    "Step 2: Create a new number α which is the largest number that can be formed by using the four digits of n.\n",
    "\n",
    "Step 3: Create a new number β which is the smallest number that can be formed by using the four digits of n.\n",
    "\n",
    "Step 4: α − β is the next number in the sequence.\n",
    "\n",
    "Step 5: Repeat from step 2.\n",
    "\n",
    "The sequence is called a Kaprekar sequence and the function K(n) = α − β\n",
    "is the Kaprekar mapping. Some numbers map to themselves; these are the fixed points of the Kaprekar mapping, and are called Kaprekar’s constants. Zero is a Kaprekar’s constant, and so is called a trivial Kaprekar’s constant. All other Kaprekar’s constant are nontrivial Kaprekar’s constants.\n",
    "\n",
    "For example, starting with 3524,\n",
    "K(3524) = 5432 − 2345 = 3087\n",
    "K(3087) = 8730 − 378 = 8352\n",
    "K(8352) = 8532 − 2358 = 6174 K(6174) = 7641 − 1467 = 6174 with 6174 as a Kaprekar’s constant."
   ]
  },
  {
   "cell_type": "code",
   "execution_count": null,
   "id": "b672d409-84a2-4eeb-bea1-e4e19c1a65b8",
   "metadata": {},
   "outputs": [],
   "source": []
  },
  {
   "cell_type": "code",
   "execution_count": null,
   "id": "79666a35-ef3b-4880-a69e-d36a9547ffad",
   "metadata": {},
   "outputs": [],
   "source": [
    "Fizz Buzz\n"
   ]
  },
  {
   "cell_type": "code",
   "execution_count": 149,
   "id": "a7df8eea-3cc1-4bf6-9cbe-46a31d929706",
   "metadata": {},
   "outputs": [],
   "source": [
    "def make_fizzbuzz(upto: int, fizzbuzz) -> list[str]:\n",
    "    return [fizzbuzz(i) for i in range(1, upto)]"
   ]
  },
  {
   "cell_type": "code",
   "execution_count": 151,
   "id": "7f6bbd72-39bd-479f-bc46-8e99cb9413c8",
   "metadata": {},
   "outputs": [],
   "source": [
    "def fizzbuzz_1(n: int) -> str:\n",
    "    if n % 15 == 0:\n",
    "        return 'FizzBuzz'\n",
    "    elif n % 5 == 0:\n",
    "        return 'Buzz'\n",
    "    elif n % 3 == 0:\n",
    "        return 'Fizz'\n",
    "    else:\n",
    "        return str(n)"
   ]
  },
  {
   "cell_type": "code",
   "execution_count": 153,
   "id": "41581c08-7da3-43bf-9187-0b003406a4f8",
   "metadata": {},
   "outputs": [
    {
     "name": "stdout",
     "output_type": "stream",
     "text": [
      "['1', '2', 'Fizz', '4', 'Buzz', 'Fizz', '7', '8', 'Fizz', 'Buzz', '11', 'Fizz', '13', '14', 'FizzBuzz', '16', '17', 'Fizz', '19']\n"
     ]
    }
   ],
   "source": [
    "print(make_fizzbuzz(20, fizzbuzz_1))"
   ]
  },
  {
   "cell_type": "code",
   "execution_count": 159,
   "id": "57d2f1b5-a1d4-45ab-b612-db999de5f296",
   "metadata": {},
   "outputs": [],
   "source": [
    "def fizzbuzz_2(n: int) -> str:\n",
    "    fb = ''\n",
    "    if n % 3 == 0:\n",
    "        fb += 'Fizz'\n",
    "    if n % 5 == 0:\n",
    "        fb += 'Buzz'\n",
    "    # return str(n)\n",
    "    return fb or str(n)"
   ]
  },
  {
   "cell_type": "code",
   "execution_count": 161,
   "id": "8bc49954-0e8e-4597-a0d7-0d7ad511a29f",
   "metadata": {},
   "outputs": [
    {
     "name": "stdout",
     "output_type": "stream",
     "text": [
      "['1', '2', 'Fizz', '4', 'Buzz', 'Fizz', '7', '8', 'Fizz', 'Buzz', '11', 'Fizz', '13', '14', 'FizzBuzz', '16', '17', 'Fizz', '19']\n"
     ]
    }
   ],
   "source": [
    "print(make_fizzbuzz(20, fizzbuzz_2))"
   ]
  },
  {
   "cell_type": "code",
   "execution_count": 143,
   "id": "d9ea8921-78da-45a3-8566-7e4236b0634a",
   "metadata": {},
   "outputs": [
    {
     "data": {
      "text/plain": [
       "'a'"
      ]
     },
     "execution_count": 143,
     "metadata": {},
     "output_type": "execute_result"
    }
   ],
   "source": [
    "'a' or str(15)"
   ]
  },
  {
   "cell_type": "code",
   "execution_count": 145,
   "id": "e5df76e0-8a2b-40e7-9f99-777a9204a982",
   "metadata": {},
   "outputs": [
    {
     "data": {
      "text/plain": [
       "11"
      ]
     },
     "execution_count": 145,
     "metadata": {},
     "output_type": "execute_result"
    }
   ],
   "source": [
    "'' or 4 + 7"
   ]
  },
  {
   "cell_type": "raw",
   "id": "ebd4001e-4a11-434c-8358-bfe4f0a8a9e3",
   "metadata": {},
   "source": [
    "Euler Problem 2\n",
    "Each new term in the Fibonacci sequence is generated by adding the previous two terms. By starting with 1 and 2, the first 10 terms will be:\n",
    "1, 2, 3, 5, 8, 13, 21, 34, 55, 89, ...\n",
    "By considering the terms in the Fibonacci sequence whose values do not exceed four million, find the sum of the even-valued terms."
   ]
  },
  {
   "cell_type": "code",
   "execution_count": null,
   "id": "7fd9e178-634b-4bf9-8152-8ec3d5b53c65",
   "metadata": {},
   "outputs": [],
   "source": [
    "def next_fibo_no(num1:int, num2:int) -> int:\n",
    "    "
   ]
  },
  {
   "cell_type": "markdown",
   "id": "4566bf83-12ee-4b8b-8570-c821a58f6446",
   "metadata": {},
   "source": [
    "# ADPVX\n",
    "\n",
    "* A string is termed ascending and denoted by \"A\" if the characters in that string are in *strict* ascending order. Example: \"best\"\n",
    "\n",
    "* A string is termed descending and denoted by \"D\" if the charatcters in the string are in *strict* descending order. Example: \"yoke\"\n",
    "\n",
    "* If the first part of a string is ascending and the remaining is descending, it is termed a peak and denoted by \"P\". The number of characters in the two parts need not be the same. But together the two parts must contain all the chanracters. Example \"13789640\"\n",
    "\n",
    "* Similarly we use the term valley, denoted by \"V\" for a string whose characters descend and then ascend. \"yoga\"\n",
    "\n",
    "* We denote the strings that do not come under these as \"X\".\n",
    "\n",
    "## Write a set of fuctions to classify a given string"
   ]
  },
  {
   "cell_type": "code",
   "execution_count": 45,
   "id": "0c9dff02-f467-42ad-9fa3-79be7a621036",
   "metadata": {},
   "outputs": [
    {
     "name": "stdout",
     "output_type": "stream",
     "text": [
      "['b', 'e', 's', 't']\n"
     ]
    },
    {
     "data": {
      "text/plain": [
       "'A'"
      ]
     },
     "execution_count": 45,
     "metadata": {},
     "output_type": "execute_result"
    }
   ],
   "source": [
    "def ascending_word(word: str) -> bool:\n",
    "    ch_list=list(word)    \n",
    "    for i in range(len(ch_list)-1):\n",
    "        if ch_list[i] >= ch_list[i+1]:\n",
    "            return False\n",
    "    print(ch_list)\n",
    "    return True\n",
    "\n",
    "\n",
    "def descending_word(word: str) -> bool:\n",
    "    ch_list=list(word)    \n",
    "    for i in range(len(ch_list)-1):\n",
    "        if ch_list[i] <= ch_list[i+1]:\n",
    "            return False\n",
    "    print(ch_list)\n",
    "    return True\n",
    "\n",
    "def peak_word(word: str) -> bool:\n",
    "    ch_list=list(word)\n",
    "    number_of_turns=0\n",
    "    for i in range(len(ch_list)-1):\n",
    "        if ch_list[i] >= ch_list[i+1]:\n",
    "            number_of_turns += 1\n",
    "            \n",
    "\n",
    "def check_word_type(word: str) -> str:\n",
    "    if ascending_word(word):\n",
    "        return \"A\"\n",
    "    if descending_word(word):\n",
    "        return \"D\"\n",
    "    return \"X\"\n",
    "    \n",
    "\n",
    "\n",
    "check_word_type(\"best\")\n"
   ]
  },
  {
   "cell_type": "code",
   "execution_count": 29,
   "id": "7541a86f-4840-4fc7-9103-6a66d615adbc",
   "metadata": {},
   "outputs": [],
   "source": [
    "# def is_ascending(s: str) -> bool:\n",
    "#    return all(a < b for a, b in zip(s, s[1:]))"
   ]
  },
  {
   "cell_type": "code",
   "execution_count": 31,
   "id": "73b5b1fa-89c3-4705-8d51-5d8f6d0ab6d1",
   "metadata": {},
   "outputs": [],
   "source": [
    "UP, DN, EQ = 'A', 'D', 'E'"
   ]
  },
  {
   "cell_type": "code",
   "execution_count": 33,
   "id": "1dd587b3-2591-423b-92c5-542e40465b8b",
   "metadata": {},
   "outputs": [],
   "source": [
    "def relation(a: str, b: str) -> str:\n",
    "    if a < b:\n",
    "        return UP\n",
    "    elif a == b:\n",
    "        return EQ\n",
    "    else:\n",
    "        return DN"
   ]
  },
  {
   "cell_type": "code",
   "execution_count": 35,
   "id": "a274ca8e-aeb2-4edf-98e5-55cd9fc94120",
   "metadata": {},
   "outputs": [],
   "source": [
    "def transform(s: str) -> str:\n",
    "    return ''.join([relation(x, y) for x, y in zip(s, s[1:])])"
   ]
  },
  {
   "cell_type": "code",
   "execution_count": 37,
   "id": "918c26fc-4a56-40f5-b6d9-0bd26d7892d3",
   "metadata": {},
   "outputs": [],
   "source": [
    "def squeeze(s: str) -> str:\n",
    "    if len(s) == 1:\n",
    "        return s\n",
    "    elif s[0] == s[1]:\n",
    "        return squeeze(s[1:])\n",
    "    else:\n",
    "        return s[0] + squeeze(s[1:])"
   ]
  },
  {
   "cell_type": "code",
   "execution_count": 39,
   "id": "52a651f2-3c9f-49b9-9cc4-c6a3a9fd69da",
   "metadata": {},
   "outputs": [],
   "source": [
    "def classify(s: str) -> str:\n",
    "    sig = squeeze(transform(s))\n",
    "    if sig == UP:\n",
    "        return 'A'\n",
    "    elif sig == DN:\n",
    "        return 'D'\n",
    "    elif sig ==  UP + DN:\n",
    "        return 'P'\n",
    "    elif sig == DN + UP:\n",
    "        return 'V'\n",
    "    else:\n",
    "        return 'X'"
   ]
  },
  {
   "cell_type": "code",
   "execution_count": 43,
   "id": "639e49cb-ff5b-4b62-b38f-be7e75f8b36a",
   "metadata": {},
   "outputs": [
    {
     "name": "stdout",
     "output_type": "stream",
     "text": [
      "1234 AAA\n",
      "yogam DDDA\n",
      "yoke DDD\n",
      "zone DDD\n",
      "hello DAEA\n"
     ]
    }
   ],
   "source": [
    "for s in [\"1234\", \"yogam\", \"yoke\", \"zone\", \"hello\"]:\n",
    "    print(s, transform(s))"
   ]
  }
 ],
 "metadata": {
  "kernelspec": {
   "display_name": "Python 3 (ipykernel)",
   "language": "python",
   "name": "python3"
  },
  "language_info": {
   "codemirror_mode": {
    "name": "ipython",
    "version": 3
   },
   "file_extension": ".py",
   "mimetype": "text/x-python",
   "name": "python",
   "nbconvert_exporter": "python",
   "pygments_lexer": "ipython3",
   "version": "3.11.7"
  }
 },
 "nbformat": 4,
 "nbformat_minor": 5
}
