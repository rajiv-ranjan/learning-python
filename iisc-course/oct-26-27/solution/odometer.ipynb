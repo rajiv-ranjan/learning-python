{
 "cells": [
  {
   "cell_type": "markdown",
   "metadata": {},
   "source": [
    "# Odometer\n",
    "\n",
    "## Rules\n",
    "* The readings of the odometer cannot have the digit 0\n",
    "    * That is only digits 1-9 are allowed\n",
    "    * Again just 1-9\n",
    "* The digits of the reading must be in ascending order.\n",
    "\n",
    "## Examples\n",
    "* The (numerically) smallest reading for a 3-digit odometer is 123.\n",
    "* The largest reading for a 3-digit odometer is 789.\n",
    "* For 4 and 5-digit odometers these are (1234, 6789) and (12345, 56789) respectively.\n",
    "* For a 4-digit odometer, the six readings after 2467 are: 2468, 2469, 2478, 2479, 2489, 2567.\n",
    "* For a 3-digit odometer, the ten readings prior to 347 are: 346, 345, 289, 279, 278, 269, 268, 267, 259, 258.\n",
    "* The smallest reading is the next reading of the largest and the largest is the previous of the smallest.\n",
    "\n",
    "## Coding Task\n",
    "Write a set of functions so that a programmer who needs an odometer, with the above characteristics, can use those functions to implement the same.\n",
    "At the minimum, the following functions need to be written:\n",
    "* next reading() to find the next reading for a given reading. Should return 2468 for 2467 and 2567 for 2489.\n",
    "* prev reading() to find the previous reading for a given reading. Should return 328 for 329 and 239 for 345.\n",
    "* nth reading after() Instead of the next reading, return the reading that occurs after n rotations. The next reading can be thought of as a special case: n = 1\n",
    "* nth reading before() Similar to above.\n",
    "* distance() Given two readings find the number of readings between them. Note that just subtracting the readings will be wrong often. You also need to handle the fact that the distance from 789 to 123 is 1, while the distance from 123 to 789 is different."
   ]
  },
  {
   "cell_type": "code",
   "execution_count": 226,
   "metadata": {},
   "outputs": [],
   "source": [
    "def nth_reading_after(\n",
    "    possible_odometer_readings: dict, current_reading: int, jump_by: int\n",
    ") -> int:\n",
    "    max_key_len = len(possible_odometer_readings)\n",
    "    jump_by = jump_by % max_key_len\n",
    "    for k, v in possible_odometer_readings.items():\n",
    "        if v == current_reading:\n",
    "            return possible_odometer_readings[(k + jump_by) % (max_key_len)]\n",
    "    return 0\n"
   ]
  },
  {
   "cell_type": "code",
   "execution_count": 227,
   "metadata": {},
   "outputs": [],
   "source": [
    "def next_reading(possible_odometer_readings: dict, current_reading: int) -> int:\n",
    "    return nth_reading_after(\n",
    "        possible_odometer_readings=possible_odometer_readings,\n",
    "        current_reading=current_reading,\n",
    "        jump_by=1,\n",
    "    )\n"
   ]
  },
  {
   "cell_type": "code",
   "execution_count": 228,
   "metadata": {},
   "outputs": [],
   "source": [
    "def nth_reading_before(\n",
    "    possible_odometer_readings: dict, current_reading: int, jump_by: int\n",
    ") -> int:\n",
    "    max_key_len = len(possible_odometer_readings)\n",
    "    jump_by = jump_by % max_key_len\n",
    "\n",
    "    for k, v in possible_odometer_readings.items():\n",
    "        if v == current_reading:\n",
    "            if k - jump_by < 0:\n",
    "                k = max_key_len\n",
    "            return possible_odometer_readings[k - jump_by]\n",
    "    return 0\n"
   ]
  },
  {
   "cell_type": "code",
   "execution_count": 229,
   "metadata": {},
   "outputs": [],
   "source": [
    "def prev_reading(possible_odometer_readings: dict, current_reading: int) -> int:\n",
    "    return nth_reading_before(\n",
    "        possible_odometer_readings=possible_odometer_readings,\n",
    "        current_reading=current_reading,\n",
    "        jump_by=1,\n",
    "    )\n"
   ]
  },
  {
   "cell_type": "code",
   "execution_count": 230,
   "metadata": {},
   "outputs": [],
   "source": [
    "def distance(\n",
    "    possible_odometer_readings: dict, first_reading: int, second_reading: int\n",
    ") -> int:\n",
    "    first_reading_position = 0\n",
    "    second_reading_position = 0\n",
    "    distance_traveled = 0\n",
    "\n",
    "    for k, v in possible_odometer_readings.items():\n",
    "        if v == first_reading:\n",
    "            first_reading_position = k\n",
    "        if v == second_reading:\n",
    "            second_reading_position = k\n",
    "\n",
    "    if second_reading_position >= first_reading_position:\n",
    "        distance_traveled = second_reading_position - first_reading_position\n",
    "    else:\n",
    "        distance_traveled = len(possible_odometer_readings) + (\n",
    "            second_reading_position - first_reading_position\n",
    "        )\n",
    "\n",
    "    return distance_traveled\n"
   ]
  },
  {
   "cell_type": "code",
   "execution_count": 231,
   "metadata": {},
   "outputs": [],
   "source": [
    "def is_zero_absent(num) -> bool:\n",
    "    is_condition = False\n",
    "    if \"0\" not in str(num):\n",
    "        return True\n",
    "    return is_condition\n"
   ]
  },
  {
   "cell_type": "code",
   "execution_count": 232,
   "metadata": {},
   "outputs": [],
   "source": [
    "def is_ascending(num: int) -> bool:\n",
    "    is_asc = False\n",
    "\n",
    "    num_list1 = [int(n) for n in str(num)]\n",
    "    num_list2 = [int(n) for n in str(num)]\n",
    "\n",
    "    non_repeating_digits = list(set(num_list1))\n",
    "    num_list2.sort()\n",
    "\n",
    "    if (num_list1 == num_list2) and (len(non_repeating_digits) == len(num_list2)):\n",
    "        return True\n",
    "    return is_asc\n"
   ]
  },
  {
   "cell_type": "code",
   "execution_count": 233,
   "metadata": {},
   "outputs": [],
   "source": [
    "def is_ascending_and_without_zero(num: int) -> bool:\n",
    "    is_condition = False\n",
    "    if is_ascending(num=num) and is_zero_absent(num=num):\n",
    "        return True\n",
    "    return is_condition\n"
   ]
  },
  {
   "cell_type": "code",
   "execution_count": 234,
   "metadata": {},
   "outputs": [],
   "source": [
    "def highest_num(digits: int) -> int:\n",
    "    return int(\"\".join([\"1\"] * digits)) * 9\n"
   ]
  },
  {
   "cell_type": "code",
   "execution_count": 235,
   "metadata": {},
   "outputs": [],
   "source": [
    "def lowest_num(digits: int) -> int:\n",
    "    return 10 ** (digits - 1)\n"
   ]
  },
  {
   "cell_type": "code",
   "execution_count": 236,
   "metadata": {},
   "outputs": [],
   "source": [
    "def make_a_choice() -> int:\n",
    "    print(\"Choose the menu number:\")\n",
    "    print(\"1. next reading\")\n",
    "    print(\"2. previous reading\")\n",
    "    print(\"3. reading after n positions\")\n",
    "    print(\"4. reading before n positions\")\n",
    "    print(\"5. distance between two readings\")\n",
    "    print(\"6. exit\")\n",
    "    return int(input(\"menu item: \"))\n"
   ]
  },
  {
   "cell_type": "code",
   "execution_count": 237,
   "metadata": {},
   "outputs": [],
   "source": [
    "def main():\n",
    "    possible_odometer_readings = {}\n",
    "    counter = 0\n",
    "\n",
    "    digits = int(input(\"number of digits in the odometer: \"))\n",
    "    if digits <= 1:\n",
    "        print(\"number of digits has to be more than 1\")\n",
    "    else:\n",
    "        lowest_reading = lowest_num(digits=digits)  # noqa: F821\n",
    "        highest_reading = highest_num(digits=digits)\n",
    "\n",
    "        for reading in range(lowest_reading, highest_reading):\n",
    "            if is_ascending_and_without_zero(reading):\n",
    "                possible_odometer_readings[counter] = reading\n",
    "                counter += 1\n",
    "\n",
    "        print(possible_odometer_readings)\n",
    "\n",
    "        is_next_loop_required = True\n",
    "\n",
    "        while is_next_loop_required:\n",
    "            choice = make_a_choice()\n",
    "            if choice == 1:\n",
    "                current_reading = int(input(\"current reading: \"))\n",
    "                print(f\"\\ncurrent reading: {current_reading} \")\n",
    "                print(\n",
    "                    f\"next reading: {next_reading(possible_odometer_readings, current_reading)}\",\n",
    "                    end=\"\\n\\n\",\n",
    "                )\n",
    "            elif choice == 2:\n",
    "                current_reading = int(input(\"current reading: \"))\n",
    "                print(f\"\\ncurrent reading: {current_reading} \")\n",
    "                print(\n",
    "                    f\"previous reading: {prev_reading(possible_odometer_readings, current_reading)}\",\n",
    "                    end=\"\\n\\n\",\n",
    "                )\n",
    "            elif choice == 3:\n",
    "                current_reading = int(input(\"current reading: \"))\n",
    "                pos_to_skip = int(input(\"positions to skip: \"))\n",
    "                print(f\"\\ncurrent reading: {current_reading} \")\n",
    "                print(\n",
    "                    f\"next reading after {pos_to_skip} readings: {nth_reading_after(possible_odometer_readings, current_reading,pos_to_skip)}\",\n",
    "                    end=\"\\n\\n\",\n",
    "                )\n",
    "            elif choice == 4:\n",
    "                current_reading = int(input(\"current reading: \"))\n",
    "                pos_to_skip = int(input(\"positions to skip: \"))\n",
    "                print(f\"\\ncurrent reading: {current_reading} \")\n",
    "                print(\n",
    "                    f\"previous reading before {pos_to_skip} readings: {nth_reading_before(possible_odometer_readings, current_reading,pos_to_skip)}\",\n",
    "                    end=\"\\n\\n\",\n",
    "                )\n",
    "            elif choice == 5:\n",
    "                first_reading = int(input(\"first reading: \"))\n",
    "                second_reading = int(input(\"second reading: \"))\n",
    "                print(\n",
    "                    f\"\\nfirst reading: {first_reading} second reading: {second_reading}\"\n",
    "                )\n",
    "                print(\n",
    "                    f\"distance is: {distance(possible_odometer_readings, first_reading,second_reading)}\",\n",
    "                    end=\"\\n\\n\",\n",
    "                )\n",
    "            elif choice == 6:\n",
    "                print(\"\\nGood Bye\")\n",
    "                is_next_loop_required = False\n"
   ]
  },
  {
   "cell_type": "code",
   "execution_count": null,
   "metadata": {},
   "outputs": [],
   "source": [
    "main()\n"
   ]
  },
  {
   "cell_type": "code",
   "execution_count": 239,
   "metadata": {},
   "outputs": [],
   "source": [
    "# sample output for 3 digit odometer\n",
    "# {0: 123, 1: 124, 2: 125, 3: 126, 4: 127, 5: 128, 6: 129, 7: 134, 8: 135, 9: 136, 10: 137, 11: 138, 12: 139, 13: 145, 14: 146, 15: 147, 16: 148, 17: 149, 18: 156, 19: 157, 20: 158, 21: 159, 22: 167, 23: 168, 24: 169, 25: 178, 26: 179, 27: 189, 28: 234, 29: 235, 30: 236, 31: 237, 32: 238, 33: 239, 34: 245, 35: 246, 36: 247, 37: 248, 38: 249, 39: 256, 40: 257, 41: 258, 42: 259, 43: 267, 44: 268, 45: 269, 46: 278, 47: 279, 48: 289, 49: 345, 50: 346, 51: 347, 52: 348, 53: 349, 54: 356, 55: 357, 56: 358, 57: 359, 58: 367, 59: 368, 60: 369, 61: 378, 62: 379, 63: 389, 64: 456, 65: 457, 66: 458, 67: 459, 68: 467, 69: 468, 70: 469, 71: 478, 72: 479, 73: 489, 74: 567, 75: 568, 76: 569, 77: 578, 78: 579, 79: 589, 80: 678, 81: 679, 82: 689, 83: 789}\n",
    "\n"
   ]
  }
 ],
 "metadata": {
  "kernelspec": {
   "display_name": ".venv",
   "language": "python",
   "name": "python3"
  },
  "language_info": {
   "codemirror_mode": {
    "name": "ipython",
    "version": 3
   },
   "file_extension": ".py",
   "mimetype": "text/x-python",
   "name": "python",
   "nbconvert_exporter": "python",
   "pygments_lexer": "ipython3",
   "version": "3.13.0"
  }
 },
 "nbformat": 4,
 "nbformat_minor": 2
}
