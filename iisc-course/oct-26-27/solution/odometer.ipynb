{
 "cells": [
  {
   "cell_type": "markdown",
   "metadata": {},
   "source": [
    "# Odometer\n",
    "\n",
    "## Rules\n",
    "* The readings of the odometer cannot have the digit 0\n",
    "    * That is only digits 1-9 are allowed\n",
    "    * Again just 1-9\n",
    "* The digits of the reading must be in ascending order.\n",
    "\n",
    "## Examples\n",
    "* The (numerically) smallest reading for a 3-digit odometer is 123.\n",
    "* The largest reading for a 3-digit odometer is 789.\n",
    "* For 4 and 5-digit odometers these are (1234, 6789) and (12345, 56789) respectively.\n",
    "* For a 4-digit odometer, the six readings after 2467 are: 2468, 2469, 2478, 2479, 2489, 2567.\n",
    "* For a 3-digit odometer, the ten readings prior to 347 are: 346, 345, 289, 279, 278, 269, 268, 267, 259, 258.\n",
    "* The smallest reading is the next reading of the largest and the largest is the previous of the smallest.\n",
    "\n",
    "## Coding Task\n",
    "Write a set of functions so that a programmer who needs an odometer, with the above characteristics, can use those functions to implement the same.\n",
    "At the minimum, the following functions need to be written:\n",
    "* next reading() to find the next reading for a given reading. Should return 2468 for 2467 and 2567 for 2489.\n",
    "* prev reading() to find the previous reading for a given reading. Should return 328 for 329 and 239 for 345.\n",
    "* nth reading after() Instead of the next reading, return the reading that occurs after n rotations. The next reading can be thought of as a special case: n = 1\n",
    "* nth reading before() Similar to above.\n",
    "* distance() Given two readings find the number of readings between them. Note that just subtracting the readings will be wrong often. You also need to handle the fact that the distance from 789 to 123 is 1, while the distance from 123 to 789 is different."
   ]
  },
  {
   "cell_type": "code",
   "execution_count": 167,
   "metadata": {},
   "outputs": [],
   "source": [
    "def nth_reading_after(\n",
    "    possible_odometer_readings: dict, current_reading: int, jump_by: int\n",
    ") -> int:\n",
    "    max_key_len = len(possible_odometer_readings)\n",
    "    jump_by = jump_by % max_key_len\n",
    "    for k, v in possible_odometer_readings.items():\n",
    "        if v == current_reading:\n",
    "            return possible_odometer_readings[(k + jump_by) % (max_key_len)]\n",
    "    return 0\n"
   ]
  },
  {
   "cell_type": "code",
   "execution_count": 168,
   "metadata": {},
   "outputs": [],
   "source": [
    "def next_reading(possible_odometer_readings: dict, current_reading: int) -> int:\n",
    "    # max_key_len = len(possible_odometer_readings)\n",
    "    # for k, v in possible_odometer_readings.items():\n",
    "    #     if v == current_reading:\n",
    "    #         return possible_odometer_readings[(k + 1) % (max_key_len)]\n",
    "    return nth_reading_after(possible_odometer_readings=possible_odometer_readings,current_reading=current_reading,jump_by=1)\n"
   ]
  },
  {
   "cell_type": "code",
   "execution_count": 169,
   "metadata": {},
   "outputs": [],
   "source": [
    "def nth_reading_before(\n",
    "    possible_odometer_readings: dict, current_reading: int, jump_by: int\n",
    ") -> int:\n",
    "    max_key_len = len(possible_odometer_readings)\n",
    "    jump_by = jump_by % max_key_len\n",
    "\n",
    "    for k, v in possible_odometer_readings.items():\n",
    "        if v == current_reading:\n",
    "            if k - jump_by < 0:\n",
    "                k = max_key_len\n",
    "            return possible_odometer_readings[k - jump_by]\n",
    "    return 0\n"
   ]
  },
  {
   "cell_type": "code",
   "execution_count": 170,
   "metadata": {},
   "outputs": [],
   "source": [
    "def prev_reading(possible_odometer_readings: dict, current_reading: int) -> int:\n",
    "    # max_key_len = len(possible_odometer_readings)\n",
    "    # for k, v in possible_odometer_readings.items():\n",
    "    #     if v == current_reading:\n",
    "    #         if k - 1 < 0:\n",
    "    #             k = max_key_len\n",
    "    #         return possible_odometer_readings[k - 1]\n",
    "    return nth_reading_before(possible_odometer_readings=possible_odometer_readings,current_reading=current_reading,jump_by=1)\n"
   ]
  },
  {
   "cell_type": "code",
   "execution_count": 171,
   "metadata": {},
   "outputs": [],
   "source": [
    "def distance(\n",
    "    possible_odometer_readings: dict, first_reading: int, second_reading: int\n",
    ") -> int:\n",
    "    \n",
    "    return 0\n"
   ]
  },
  {
   "cell_type": "code",
   "execution_count": 172,
   "metadata": {},
   "outputs": [],
   "source": [
    "def is_zero_absent(num) -> bool:\n",
    "    is_condition = False\n",
    "    if \"0\" not in str(num):\n",
    "        return True\n",
    "    return is_condition\n"
   ]
  },
  {
   "cell_type": "code",
   "execution_count": 173,
   "metadata": {},
   "outputs": [],
   "source": [
    "def is_ascending(num: int) -> bool:\n",
    "    is_asc = False\n",
    "\n",
    "    num_list1 = [int(n) for n in str(num)]\n",
    "    num_list2 = [int(n) for n in str(num)]\n",
    "\n",
    "    non_repeating_digits = list(set(num_list1))\n",
    "    num_list2.sort()\n",
    "\n",
    "    if (num_list1 == num_list2) and (len(non_repeating_digits) == len(num_list2)):\n",
    "        return True\n",
    "    return is_asc\n"
   ]
  },
  {
   "cell_type": "code",
   "execution_count": 174,
   "metadata": {},
   "outputs": [],
   "source": [
    "def is_ascending_and_without_zero(num: int) -> bool:\n",
    "    is_condition = False\n",
    "    if is_ascending(num=num) and is_zero_absent(num=num):\n",
    "        return True\n",
    "    return is_condition\n"
   ]
  },
  {
   "cell_type": "code",
   "execution_count": 175,
   "metadata": {},
   "outputs": [],
   "source": [
    "def highest_num(digits: int) -> int:\n",
    "    return int(\"\".join([\"1\"] * digits)) * 9\n"
   ]
  },
  {
   "cell_type": "code",
   "execution_count": 176,
   "metadata": {},
   "outputs": [],
   "source": [
    "def lowest_num(digits: int) -> int:\n",
    "    return 10 ** (digits - 1)\n"
   ]
  },
  {
   "cell_type": "code",
   "execution_count": 177,
   "metadata": {},
   "outputs": [],
   "source": [
    "def make_a_choice() -> int:\n",
    "    print(\"Choose the menu number:\")\n",
    "    print(\"1. next reading\")\n",
    "    print(\"2. previous reading\")\n",
    "    print(\"3. reading after n positions\")\n",
    "    print(\"4. reading before n positions\")\n",
    "    print(\"5. distance between two readings\")\n",
    "    print(\"6. exit\")\n",
    "    return int(input(\"menu item: \"))\n"
   ]
  },
  {
   "cell_type": "code",
   "execution_count": 178,
   "metadata": {},
   "outputs": [],
   "source": [
    "def main():\n",
    "    possible_odometer_readings = {}\n",
    "    counter = 0\n",
    "\n",
    "    digits = int(input(\"number of digits in the odometer: \"))\n",
    "    if digits <= 1:\n",
    "        print(\"number of digits has to be more than 1\")\n",
    "    else:\n",
    "        lowest_reading = lowest_num(digits=digits)  # noqa: F821\n",
    "        highest_reading = highest_num(digits=digits)\n",
    "\n",
    "        for reading in range(lowest_reading, highest_reading):\n",
    "            if is_ascending_and_without_zero(reading):\n",
    "                possible_odometer_readings[counter] = reading\n",
    "                counter += 1\n",
    "\n",
    "        print(possible_odometer_readings)\n",
    "\n",
    "        is_next_loop_required = True\n",
    "\n",
    "        while is_next_loop_required:\n",
    "            choice = make_a_choice()\n",
    "            if choice == 1:\n",
    "                current_reading = int(input(\"current reading: \"))\n",
    "                print(f\"\\ncurrent reading: {current_reading} \")\n",
    "                print(\n",
    "                    f\"next reading: {next_reading(possible_odometer_readings, current_reading)}\",\n",
    "                    end=\"\\n\\n\",\n",
    "                )\n",
    "            elif choice == 2:\n",
    "                current_reading = int(input(\"current reading: \"))\n",
    "                print(f\"\\ncurrent reading: {current_reading} \")\n",
    "                print(\n",
    "                    f\"previous reading: {prev_reading(possible_odometer_readings, current_reading)}\",\n",
    "                    end=\"\\n\\n\",\n",
    "                )\n",
    "            elif choice == 3:\n",
    "                current_reading = int(input(\"current reading: \"))\n",
    "                pos_to_skip = int(input(\"positions to skip: \"))\n",
    "                print(f\"\\ncurrent reading: {current_reading} \")\n",
    "                print(\n",
    "                    f\"next reading after {pos_to_skip} readings: {nth_reading_after(possible_odometer_readings, current_reading,pos_to_skip)}\",\n",
    "                    end=\"\\n\\n\",\n",
    "                )\n",
    "            elif choice == 4:\n",
    "                current_reading = int(input(\"current reading: \"))\n",
    "                pos_to_skip = int(input(\"positions to skip: \"))\n",
    "                print(f\"\\ncurrent reading: {current_reading} \")\n",
    "                print(\n",
    "                    f\"next reading after {pos_to_skip} readings: {nth_reading_before(possible_odometer_readings, current_reading,pos_to_skip)}\",\n",
    "                    end=\"\\n\\n\",\n",
    "                )\n",
    "            elif choice == 5:\n",
    "                first_reading = int(input(\"first reading: \"))\n",
    "                second_reading = int(input(\"second reading: \"))\n",
    "                print(\n",
    "                    f\"\\nfirst reading: {current_reading} second reading: {second_reading}\"\n",
    "                )\n",
    "\n",
    "                print(\n",
    "                    f\"distance is: {distance(possible_odometer_readings, first_reading,second_reading)}\",\n",
    "                    end=\"\\n\\n\",\n",
    "                )\n",
    "            elif choice == 6:\n",
    "                print(\"Good Bye\")\n",
    "                is_next_loop_required = False\n"
   ]
  },
  {
   "cell_type": "code",
   "execution_count": 179,
   "metadata": {},
   "outputs": [
    {
     "name": "stdout",
     "output_type": "stream",
     "text": [
      "number of digits has to be more than 1\n"
     ]
    }
   ],
   "source": [
    "main()\n"
   ]
  }
 ],
 "metadata": {
  "kernelspec": {
   "display_name": ".venv",
   "language": "python",
   "name": "python3"
  },
  "language_info": {
   "codemirror_mode": {
    "name": "ipython",
    "version": 3
   },
   "file_extension": ".py",
   "mimetype": "text/x-python",
   "name": "python",
   "nbconvert_exporter": "python",
   "pygments_lexer": "ipython3",
   "version": "3.13.0"
  }
 },
 "nbformat": 4,
 "nbformat_minor": 2
}
