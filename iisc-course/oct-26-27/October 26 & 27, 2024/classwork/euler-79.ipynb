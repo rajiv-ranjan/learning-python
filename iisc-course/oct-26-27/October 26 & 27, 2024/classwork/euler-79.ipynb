{
 "cells": [
  {
   "cell_type": "markdown",
   "metadata": {},
   "source": [
    "# Euler problem\n",
    "https://projecteuler.net/problem=79"
   ]
  },
  {
   "cell_type": "code",
   "execution_count": null,
   "metadata": {},
   "outputs": [],
   "source": [
    "from itertools import permutations as nPr\n",
    "\n",
    "perm = nPr(\"123\", 3)\n",
    "\n",
    "print(list(perm))\n"
   ]
  },
  {
   "cell_type": "code",
   "execution_count": null,
   "metadata": {},
   "outputs": [],
   "source": [
    "# read from the file\n",
    "\n",
    "file = open(\"0079_keylog.txt\")\n",
    "# print(file.read())\n",
    "\n",
    "possible_digits = set(\"\".join(str(file.read()).split()))\n",
    "digits_in_first_position = [num for num in str(file.read())]\n",
    "print(digits_in_first_position)\n",
    "file.close()\n",
    "\n",
    "possible_digits = \"\".join(possible_digits)\n",
    "print(f\"digits possible: {possible_digits}\")\n",
    "\n",
    "\n",
    "all_permutations = list(nPr(possible_digits, len(possible_digits)))\n",
    "\n",
    "# for perm in all_permutations:\n",
    "#     print(perm)\n",
    "# print(list(perm))\n",
    "print(len(all_permutations))\n"
   ]
  },
  {
   "cell_type": "code",
   "execution_count": 29,
   "metadata": {},
   "outputs": [
    {
     "name": "stdout",
     "output_type": "stream",
     "text": [
      "[['3', '1', '9'], ['6', '8', '0'], ['1', '8', '0'], ['6', '9', '0'], ['1', '2', '9'], ['6', '2', '0'], ['7', '6', '2'], ['6', '8', '9'], ['7', '6', '2'], ['3', '1', '8'], ['3', '6', '8'], ['7', '1', '0'], ['7', '2', '0'], ['7', '1', '0'], ['6', '2', '9'], ['1', '6', '8'], ['1', '6', '0'], ['6', '8', '9'], ['7', '1', '6'], ['7', '3', '1'], ['7', '3', '6'], ['7', '2', '9'], ['3', '1', '6'], ['7', '2', '9'], ['7', '2', '9'], ['7', '1', '0'], ['7', '6', '9'], ['2', '9', '0'], ['7', '1', '9'], ['6', '8', '0'], ['3', '1', '8'], ['3', '8', '9'], ['1', '6', '2'], ['2', '8', '9'], ['1', '6', '2'], ['7', '1', '8'], ['7', '2', '9'], ['3', '1', '9'], ['7', '9', '0'], ['6', '8', '0'], ['8', '9', '0'], ['3', '6', '2'], ['3', '1', '9'], ['7', '6', '0'], ['3', '1', '6'], ['7', '2', '9'], ['3', '8', '0'], ['3', '1', '9'], ['7', '2', '8'], ['7', '1', '6']]\n"
     ]
    }
   ],
   "source": [
    "passcode = []\n",
    "success_digit_list = []\n",
    "\n",
    "with open(\"0079_keylog.txt\") as file:\n",
    "    for successful_entry in file:\n",
    "        successful_entry = successful_entry.rstrip(\"\\n\")\n",
    "        success_digit_list.append(list(successful_entry))\n",
    "\n",
    "print(success_digit_list)\n",
    "\n",
    "for successful_entry in success_digit_list:\n",
    "    if successful_entry[0] not in passcode:\n",
    "        passcode.append(successful_entry[0])\n",
    "    if  successful_entry[1] not in passcode:\n",
    "        passcode.append(successful_entry[1])   \n",
    "    if  successful_entry[2] not in passcode:\n",
    "        passcode.append(successful_entry[2])\n",
    "    if passcode.index(successful_entry[0]) > passcode.index(successful_entry[1]):\n",
    "        \n",
    "\n"
   ]
  },
  {
   "cell_type": "code",
   "execution_count": null,
   "metadata": {},
   "outputs": [],
   "source": []
  }
 ],
 "metadata": {
  "kernelspec": {
   "display_name": ".venv",
   "language": "python",
   "name": "python3"
  },
  "language_info": {
   "codemirror_mode": {
    "name": "ipython",
    "version": 3
   },
   "file_extension": ".py",
   "mimetype": "text/x-python",
   "name": "python",
   "nbconvert_exporter": "python",
   "pygments_lexer": "ipython3",
   "version": "3.13.0"
  }
 },
 "nbformat": 4,
 "nbformat_minor": 2
}
