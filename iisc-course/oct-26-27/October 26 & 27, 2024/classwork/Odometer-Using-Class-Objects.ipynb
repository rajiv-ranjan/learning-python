{
 "cells": [
  {
   "cell_type": "code",
   "execution_count": 23,
   "metadata": {},
   "outputs": [],
   "source": [
    "class Odometer:\n",
    "    def __init__(self, size: int):\n",
    "        DIGITS = \"123456789\"\n",
    "        self.size = size\n",
    "        self.lo = int(DIGITS[:size])\n",
    "        self.hi = int(DIGITS[-size:])\n",
    "        self.reading = self.lo\n"
   ]
  },
  {
   "cell_type": "code",
   "execution_count": 24,
   "metadata": {},
   "outputs": [],
   "source": [
    "# p = Odometer() will fail\n",
    "p = Odometer(4)\n"
   ]
  },
  {
   "cell_type": "code",
   "execution_count": null,
   "metadata": {},
   "outputs": [],
   "source": [
    "p.lo\n"
   ]
  },
  {
   "cell_type": "code",
   "execution_count": null,
   "metadata": {},
   "outputs": [],
   "source": [
    "p.hi\n"
   ]
  },
  {
   "cell_type": "code",
   "execution_count": null,
   "metadata": {},
   "outputs": [],
   "source": [
    "p.reading\n"
   ]
  },
  {
   "cell_type": "code",
   "execution_count": null,
   "metadata": {},
   "outputs": [],
   "source": [
    "p.size\n"
   ]
  },
  {
   "cell_type": "code",
   "execution_count": null,
   "metadata": {},
   "outputs": [],
   "source": [
    "print(p)\n"
   ]
  },
  {
   "cell_type": "code",
   "execution_count": 30,
   "metadata": {},
   "outputs": [],
   "source": [
    "class Odometer:\n",
    "    def __init__(self, size: int):\n",
    "        DIGITS = \"123456789\"\n",
    "        self.size = size\n",
    "        self.lo = int(DIGITS[:size])\n",
    "        self.hi = int(DIGITS[-size:])\n",
    "        self.reading = self.lo\n",
    "\n",
    "    def __str__(self) -> str:\n",
    "        return str(self.reading)\n"
   ]
  },
  {
   "cell_type": "code",
   "execution_count": 31,
   "metadata": {},
   "outputs": [],
   "source": [
    "p = Odometer(3)\n"
   ]
  },
  {
   "cell_type": "code",
   "execution_count": null,
   "metadata": {},
   "outputs": [],
   "source": [
    "print(p)\n"
   ]
  },
  {
   "cell_type": "code",
   "execution_count": 33,
   "metadata": {},
   "outputs": [],
   "source": [
    "p.asokan = 17\n"
   ]
  },
  {
   "cell_type": "code",
   "execution_count": null,
   "metadata": {},
   "outputs": [],
   "source": [
    "dir(p)\n"
   ]
  },
  {
   "cell_type": "code",
   "execution_count": null,
   "metadata": {},
   "outputs": [],
   "source": [
    "p.__getattribute__(\"hi\")\n"
   ]
  },
  {
   "cell_type": "code",
   "execution_count": null,
   "metadata": {},
   "outputs": [],
   "source": [
    "p.__class__\n"
   ]
  },
  {
   "cell_type": "code",
   "execution_count": 37,
   "metadata": {},
   "outputs": [],
   "source": [
    "p.__init__(5)\n"
   ]
  },
  {
   "cell_type": "code",
   "execution_count": 51,
   "metadata": {},
   "outputs": [],
   "source": [
    "p.__getattribute__(\"hi\")\n",
    "p.__setattr__(\"low\", 123)\n"
   ]
  },
  {
   "cell_type": "code",
   "execution_count": null,
   "metadata": {},
   "outputs": [],
   "source": [
    "print(p.asokan)\n",
    "p.__delattr__(\"asokan\")\n",
    "# now the attribute asokan is deleted \n",
    "# print(p.asokan)\n"
   ]
  },
  {
   "cell_type": "code",
   "execution_count": 44,
   "metadata": {},
   "outputs": [
    {
     "data": {
      "text/plain": [
       "<__main__.Odometer at 0x1055da710>"
      ]
     },
     "execution_count": 44,
     "metadata": {},
     "output_type": "execute_result"
    }
   ],
   "source": [
    "p = Odometer(3)\n",
    "q = Odometer(3)\n",
    "q\n"
   ]
  },
  {
   "cell_type": "code",
   "execution_count": 45,
   "metadata": {},
   "outputs": [
    {
     "data": {
      "text/plain": [
       "False"
      ]
     },
     "execution_count": 45,
     "metadata": {},
     "output_type": "execute_result"
    }
   ],
   "source": [
    "p is q\n"
   ]
  },
  {
   "cell_type": "code",
   "execution_count": 46,
   "metadata": {},
   "outputs": [],
   "source": [
    "q = p\n"
   ]
  },
  {
   "cell_type": "code",
   "execution_count": 47,
   "metadata": {},
   "outputs": [
    {
     "data": {
      "text/plain": [
       "True"
      ]
     },
     "execution_count": 47,
     "metadata": {},
     "output_type": "execute_result"
    }
   ],
   "source": [
    "p is q\n"
   ]
  },
  {
   "cell_type": "code",
   "execution_count": 48,
   "metadata": {},
   "outputs": [
    {
     "data": {
      "text/plain": [
       "<__main__.Odometer at 0x1055dbb10>"
      ]
     },
     "execution_count": 48,
     "metadata": {},
     "output_type": "execute_result"
    }
   ],
   "source": [
    "p\n"
   ]
  },
  {
   "cell_type": "code",
   "execution_count": 49,
   "metadata": {},
   "outputs": [
    {
     "data": {
      "text/plain": [
       "<__main__.Odometer at 0x1055dbb10>"
      ]
     },
     "execution_count": 49,
     "metadata": {},
     "output_type": "execute_result"
    }
   ],
   "source": [
    "q\n"
   ]
  },
  {
   "cell_type": "code",
   "execution_count": 52,
   "metadata": {},
   "outputs": [],
   "source": [
    "class Odometer:\n",
    "    @staticmethod\n",
    "    def is_valid(n: int) -> bool:\n",
    "        s = str(n)\n",
    "        return all(a < b for a, b in zip(s, s[1:]))\n",
    "\n",
    "    def __init__(self, size: int):\n",
    "        DIGITS = \"123456789\"\n",
    "        self.size = size\n",
    "        self.lo = int(DIGITS[:size])\n",
    "        self.hi = int(DIGITS[-size:])\n",
    "        self.reading = self.lo\n",
    "\n",
    "    def __str__(self) -> str:\n",
    "        return str(self.reading)\n",
    "\n",
    "    def __repr__(self) -> str:\n",
    "        return f\"{self.lo} << {self.reading} << {self.hi}\"\n",
    "\n",
    "    def forward(self, steps=1):\n",
    "        for _ in range(steps):\n",
    "            if self.reading == self.hi:\n",
    "                self.reading = self.lo\n",
    "            else:\n",
    "                self.reading += 1\n",
    "                while not is_valid(self.reading):\n",
    "                    self.reading += 1\n",
    "\n",
    "    def backward(self, steps=1):\n",
    "        for _ in range(steps):\n",
    "            if self.reading == self.lo:\n",
    "                self.reading = self.hi\n",
    "            else:\n",
    "                self.reading -= 1\n",
    "                while not is_valid(self.reading):\n",
    "                    self.reading -= 1\n",
    "\n",
    "    def distance(self, other) -> int:\n",
    "        if self.size != other.size:\n",
    "            return -1\n",
    "        self_copy = Odometer(self.size)\n",
    "        self_copy.reading = self.reading\n",
    "        diff = 0\n",
    "        while self_copy.reading != other.reading:\n",
    "            self_copy.forward()\n",
    "            diff += 1\n",
    "        return diff\n"
   ]
  },
  {
   "cell_type": "code",
   "execution_count": 53,
   "metadata": {},
   "outputs": [],
   "source": [
    "p = Odometer(3)\n",
    "q = Odometer(4)\n",
    "r = Odometer(3)\n",
    "p.forward(7)\n",
    "q.backward(6)\n",
    "r.backward(4)\n"
   ]
  },
  {
   "cell_type": "code",
   "execution_count": 54,
   "metadata": {},
   "outputs": [
    {
     "name": "stdout",
     "output_type": "stream",
     "text": [
      "134 4789 678\n"
     ]
    }
   ],
   "source": [
    "print(p, q, r)\n"
   ]
  },
  {
   "cell_type": "code",
   "execution_count": 55,
   "metadata": {},
   "outputs": [
    {
     "name": "stdout",
     "output_type": "stream",
     "text": [
      "-1\n",
      "73\n",
      "11\n"
     ]
    }
   ],
   "source": [
    "print(p.distance(q))\n",
    "print(p.distance(r))\n",
    "print(r.distance(p))\n"
   ]
  },
  {
   "cell_type": "code",
   "execution_count": 56,
   "metadata": {},
   "outputs": [],
   "source": [
    "from itertools import combinations as nCr\n",
    "import sys\n",
    "\n",
    "class Odometer:\n",
    "    FIRST_TIME = True\n",
    "    READINGS = dict()\n",
    "\n",
    "    def __init__(self, size: int):\n",
    "        if Odometer.FIRST_TIME:\n",
    "            Odometer.FIRST_TIME = False\n",
    "            for k in range(2, 9):\n",
    "                Odometer.READINGS[k] = [\"\".join(_) for _ in nCr(\"123456789\", k)]\n",
    "\n",
    "        self.readings = Odometer.READINGS[size]\n",
    "        self.size = size\n",
    "        self.length = len(self.readings)\n",
    "        self.position = 0\n",
    "\n",
    "    def __str__(self) -> str:\n",
    "        return self.readings[self.position]\n",
    "\n",
    "    def __repr__(self) -> str:\n",
    "        return f\"{self.readings[self.position]} at {self.position} of {self.length}\"\n",
    "\n",
    "    def forward(self, steps=1):\n",
    "        self.position += steps\n",
    "        self.position %= self.length\n",
    "\n",
    "    def backward(self, steps=1):\n",
    "        self.position -= steps\n",
    "        self.position %= self.length\n",
    "\n",
    "    def distance(self, other) -> int:\n",
    "        if self.size != other.size:\n",
    "            return -1\n",
    "        return (other.position - self.position) % self.length\n"
   ]
  },
  {
   "cell_type": "code",
   "execution_count": 63,
   "metadata": {},
   "outputs": [
    {
     "name": "stdout",
     "output_type": "stream",
     "text": [
      "123 at 0 of 84\n",
      "['123', '124', '125', '126', '127', '128', '129', '134', '135', '136', '137', '138', '139', '145', '146', '147', '148', '149', '156', '157', '158', '159', '167', '168', '169', '178', '179', '189', '234', '235', '236', '237', '238', '239', '245', '246', '247', '248', '249', '256', '257', '258', '259', '267', '268', '269', '278', '279', '289', '345', '346', '347', '348', '349', '356', '357', '358', '359', '367', '368', '369', '378', '379', '389', '456', '457', '458', '459', '467', '468', '469', '478', '479', '489', '567', '568', '569', '578', '579', '589', '678', '679', '689', '789']\n",
      "246\n"
     ]
    },
    {
     "ename": "NameError",
     "evalue": "name 'sys' is not defined",
     "output_type": "error",
     "traceback": [
      "\u001b[0;31m---------------------------------------------------------------------------\u001b[0m",
      "\u001b[0;31mNameError\u001b[0m                                 Traceback (most recent call last)",
      "Cell \u001b[0;32mIn[63], line 8\u001b[0m\n\u001b[1;32m      6\u001b[0m \u001b[38;5;28mprint\u001b[39m(r1)\n\u001b[1;32m      7\u001b[0m \u001b[38;5;66;03m# sys.getsizeof(r1)\u001b[39;00m\n\u001b[0;32m----> 8\u001b[0m \u001b[43msys\u001b[49m\u001b[38;5;241m.\u001b[39mgetsizeof(Odometer)\n",
      "\u001b[0;31mNameError\u001b[0m: name 'sys' is not defined"
     ]
    }
   ],
   "source": [
    "r1 = Odometer(3)\n",
    "print(r1.__repr__())\n",
    "print(r1.readings)\n",
    "r1.position = 789\n",
    "r1.forward(2)\n",
    "print(r1)\n",
    "# sys.getsizeof(r1)\n",
    "# sys.getsizeof(Odometer)\n"
   ]
  },
  {
   "cell_type": "code",
   "execution_count": null,
   "metadata": {},
   "outputs": [],
   "source": []
  }
 ],
 "metadata": {
  "kernelspec": {
   "display_name": ".venv",
   "language": "python",
   "name": "python3"
  },
  "language_info": {
   "codemirror_mode": {
    "name": "ipython",
    "version": 3
   },
   "file_extension": ".py",
   "mimetype": "text/x-python",
   "name": "python",
   "nbconvert_exporter": "python",
   "pygments_lexer": "ipython3",
   "version": "3.13.0"
  }
 },
 "nbformat": 4,
 "nbformat_minor": 2
}
