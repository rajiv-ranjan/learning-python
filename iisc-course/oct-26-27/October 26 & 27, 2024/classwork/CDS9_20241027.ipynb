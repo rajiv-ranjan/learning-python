{
  "nbformat": 4,
  "nbformat_minor": 0,
  "metadata": {
    "colab": {
      "private_outputs": true,
      "provenance": []
    },
    "kernelspec": {
      "name": "python3",
      "display_name": "Python 3"
    },
    "language_info": {
      "name": "python"
    }
  },
  "cells": [
    {
      "cell_type": "markdown",
      "source": [
        "# Agenda\n",
        "## Euler 79\n",
        "## GroupBy\n",
        "## Collections\n",
        "## Co-Routines :: yield\n",
        "## Pandas $\\ldots$\n",
        "## Matplotlib, bokeh, seaborn $\\ldots$\n",
        "## graphviz\n",
        "## Flyby: numpy, scipy, scikitlearn"
      ],
      "metadata": {
        "id": "U9BqIWbvAifw"
      }
    },
    {
      "cell_type": "code",
      "source": [
        "cat 0079_keylog.txt"
      ],
      "metadata": {
        "id": "fMR67tEkBRW5"
      },
      "execution_count": null,
      "outputs": []
    },
    {
      "cell_type": "markdown",
      "source": [
        "# Answer lies in the 10! permutations of \"0123456789\""
      ],
      "metadata": {
        "id": "BdIyvnAtDMcz"
      }
    },
    {
      "cell_type": "code",
      "source": [
        "keylog = [line.strip() for line in open(\"0079_keylog.txt\")]"
      ],
      "metadata": {
        "id": "ukJi3n5KDfLb"
      },
      "execution_count": null,
      "outputs": []
    },
    {
      "cell_type": "code",
      "source": [
        "print(keylog)"
      ],
      "metadata": {
        "id": "SDjsIzM0DoSU"
      },
      "execution_count": null,
      "outputs": []
    },
    {
      "cell_type": "code",
      "source": [
        "firsts = set([key[0] for key in keylog])"
      ],
      "metadata": {
        "id": "-5XEfFLUDpyu"
      },
      "execution_count": null,
      "outputs": []
    },
    {
      "cell_type": "code",
      "source": [
        "print(firsts)"
      ],
      "metadata": {
        "id": "fxSv-0sQD0bN"
      },
      "execution_count": null,
      "outputs": []
    },
    {
      "cell_type": "code",
      "source": [
        "seconds = set([key[1] for key in keylog])"
      ],
      "metadata": {
        "id": "pgnh0N8vD3ku"
      },
      "execution_count": null,
      "outputs": []
    },
    {
      "cell_type": "code",
      "source": [
        "print(seconds)"
      ],
      "metadata": {
        "id": "qJVIoPqDD_gP"
      },
      "execution_count": null,
      "outputs": []
    },
    {
      "cell_type": "code",
      "source": [
        "thirds = set([key[2] for key in keylog])"
      ],
      "metadata": {
        "id": "W3xFsrYqEBts"
      },
      "execution_count": null,
      "outputs": []
    },
    {
      "cell_type": "code",
      "source": [
        "print(thirds)"
      ],
      "metadata": {
        "id": "1NeXih1lEETw"
      },
      "execution_count": null,
      "outputs": []
    },
    {
      "cell_type": "code",
      "source": [
        "firsts - seconds - thirds"
      ],
      "metadata": {
        "id": "L4zlNZ-MEFnK"
      },
      "execution_count": null,
      "outputs": []
    },
    {
      "cell_type": "code",
      "source": [
        "uniques = firsts | seconds | thirds"
      ],
      "metadata": {
        "id": "Qind0R6GEZAz"
      },
      "execution_count": null,
      "outputs": []
    },
    {
      "cell_type": "code",
      "source": [
        "print(sorted(uniques))"
      ],
      "metadata": {
        "id": "0vfzvgXlFiMA"
      },
      "execution_count": null,
      "outputs": []
    },
    {
      "cell_type": "markdown",
      "source": [
        "# Answer lies in the 7! permutations of \"7\" + \"0123689\""
      ],
      "metadata": {
        "id": "B7A6Tm1NFlMj"
      }
    },
    {
      "cell_type": "code",
      "source": [
        "only_thirds = thirds - firsts - seconds"
      ],
      "metadata": {
        "id": "CCjAqb5dF7h8"
      },
      "execution_count": null,
      "outputs": []
    },
    {
      "cell_type": "code",
      "source": [
        "print(only_thirds)"
      ],
      "metadata": {
        "id": "SaWDXgUWGISf"
      },
      "execution_count": null,
      "outputs": []
    },
    {
      "cell_type": "markdown",
      "source": [
        "# Answer lies in the 6! permutations of \"7\" + \"123689\"  + \"0\""
      ],
      "metadata": {
        "id": "Aw_LPuYTGMap"
      }
    },
    {
      "cell_type": "code",
      "source": [
        "seconds - firsts"
      ],
      "metadata": {
        "id": "EQD8MIgFGaZQ"
      },
      "execution_count": null,
      "outputs": []
    },
    {
      "cell_type": "code",
      "source": [
        "seconds - firsts - thirds"
      ],
      "metadata": {
        "id": "8W9JH7_sHTVo"
      },
      "execution_count": null,
      "outputs": []
    },
    {
      "cell_type": "markdown",
      "source": [
        "## Go through each of the 6! possibilities validating against the keylogs"
      ],
      "metadata": {
        "id": "TxKk2xDgHbTA"
      }
    },
    {
      "cell_type": "code",
      "source": [
        "# '319' => 3 must occur before 1 which must be before 9 in the answer\n",
        "def occurs_in_order(needles: str, haystack: str) -> bool:\n",
        "    a = haystack.index(needles[0])\n",
        "    b = haystack.index(needles[1])\n",
        "    c = haystack.index(needles[2])\n",
        "    return a < b < c"
      ],
      "metadata": {
        "id": "Efcgyz2gID62"
      },
      "execution_count": null,
      "outputs": []
    },
    {
      "cell_type": "code",
      "source": [
        "haystack = \"71236890\"\n",
        "needle = \"319\"\n",
        "print(haystack.index(\"3\"), haystack.index(\"1\"), haystack.index(\"9\"))\n",
        "print(3 < 1 < 6)"
      ],
      "metadata": {
        "id": "NkSruU62Nmxs"
      },
      "execution_count": null,
      "outputs": []
    },
    {
      "cell_type": "code",
      "source": [
        "from itertools import permutations as nPr\n",
        "possible_passcodes = ['7' + ''.join(_) + '0' for _ in nPr(\"123689\", 6)]"
      ],
      "metadata": {
        "id": "4aJGgZZFIsXW"
      },
      "execution_count": null,
      "outputs": []
    },
    {
      "cell_type": "markdown",
      "source": [
        "# GroupBy"
      ],
      "metadata": {
        "id": "AR7Gv539aR7S"
      }
    },
    {
      "cell_type": "code",
      "source": [
        "words = [\"past\", \"post\", \"stop\", \"junk\", \"cast\", \"plod\", \"opts\", \"cats\", \"caats\"]"
      ],
      "metadata": {
        "id": "Oeu4UtmzJf4G"
      },
      "execution_count": null,
      "outputs": []
    },
    {
      "cell_type": "code",
      "source": [
        "''.join(sorted(\"past\"))"
      ],
      "metadata": {
        "id": "scbM-vSINMl6"
      },
      "execution_count": null,
      "outputs": []
    },
    {
      "cell_type": "code",
      "source": [
        "sorted(words, key=sorted)"
      ],
      "metadata": {
        "id": "FEJDcutsOPh0"
      },
      "execution_count": null,
      "outputs": []
    },
    {
      "cell_type": "code",
      "source": [
        "import itertools"
      ],
      "metadata": {
        "id": "1Tc0XjYkOfHj"
      },
      "execution_count": null,
      "outputs": []
    },
    {
      "cell_type": "code",
      "source": [
        "for x in itertools.groupby(sorted(words, key=sorted), key=sorted):\n",
        "    print(x)"
      ],
      "metadata": {
        "id": "nhjA3P6VO4hI"
      },
      "execution_count": null,
      "outputs": []
    },
    {
      "cell_type": "code",
      "source": [
        "for x in itertools.groupby(sorted(words, key=sorted), key=sorted):\n",
        "    print(''.join(x[0]), x[1])"
      ],
      "metadata": {
        "id": "ErVzDzukPDrT"
      },
      "execution_count": null,
      "outputs": []
    },
    {
      "cell_type": "code",
      "source": [
        "for x in itertools.groupby(sorted(words, key=sorted), key=sorted):\n",
        "    print(''.join(x[0]), list(x[1]))"
      ],
      "metadata": {
        "id": "oks7gM4PPMxr"
      },
      "execution_count": null,
      "outputs": []
    },
    {
      "cell_type": "code",
      "source": [
        "for x in itertools.groupby(words, key=sorted):\n",
        "    print(''.join(x[0]), list(x[1]))"
      ],
      "metadata": {
        "id": "Mg-b4clZXYRZ"
      },
      "execution_count": null,
      "outputs": []
    },
    {
      "cell_type": "code",
      "source": [
        "for x in itertools.groupby(sorted(words), key=sorted):\n",
        "    print(''.join(x[0]), list(x[1]))"
      ],
      "metadata": {
        "id": "unAwqSZ-Xza3"
      },
      "execution_count": null,
      "outputs": []
    },
    {
      "cell_type": "markdown",
      "source": [
        "# container classes"
      ],
      "metadata": {
        "id": "N3BRXdo_PUlE"
      }
    },
    {
      "cell_type": "code",
      "source": [
        "s = '''In a galaxy far far away, long long ago the empire ruled with an iron hand\n",
        "But there was a rebellion supported by well-meaning people. The resulting war\n",
        "was long and arduos.'''"
      ],
      "metadata": {
        "id": "4SKSyFMITPsp"
      },
      "execution_count": null,
      "outputs": []
    },
    {
      "cell_type": "code",
      "source": [
        "freq = dict()\n",
        "for ch in s:\n",
        "    if ch not in freq:\n",
        "        freq[ch] = 1\n",
        "    else:\n",
        "        freq[ch] += 1\n",
        "print(freq)"
      ],
      "metadata": {
        "id": "id92fkBMT4WW"
      },
      "execution_count": null,
      "outputs": []
    },
    {
      "cell_type": "code",
      "source": [
        "from collections import defaultdict as ddict"
      ],
      "metadata": {
        "id": "RdxTVJ_cUJ-i"
      },
      "execution_count": null,
      "outputs": []
    },
    {
      "cell_type": "code",
      "source": [
        "freq = ddict(int)\n",
        "for ch in s:\n",
        "    freq[ch] += 1\n",
        "print(freq)"
      ],
      "metadata": {
        "id": "FeypJk4xUdph"
      },
      "execution_count": null,
      "outputs": []
    },
    {
      "cell_type": "code",
      "source": [
        "from collections import Counter"
      ],
      "metadata": {
        "id": "od1l82kUUj_g"
      },
      "execution_count": null,
      "outputs": []
    },
    {
      "cell_type": "code",
      "source": [
        "freq = Counter(s)"
      ],
      "metadata": {
        "id": "2whOlIAdVGBx"
      },
      "execution_count": null,
      "outputs": []
    },
    {
      "cell_type": "code",
      "source": [
        "freq.most_common(5)"
      ],
      "metadata": {
        "id": "IemIG-SNVK6A"
      },
      "execution_count": null,
      "outputs": []
    },
    {
      "cell_type": "code",
      "source": [
        "type(freq)"
      ],
      "metadata": {
        "id": "sEhb6ysiVS3v"
      },
      "execution_count": null,
      "outputs": []
    },
    {
      "cell_type": "code",
      "source": [
        "\"rebel\" in s"
      ],
      "metadata": {
        "id": "UzapW_fJVc0F"
      },
      "execution_count": null,
      "outputs": []
    },
    {
      "cell_type": "code",
      "source": [
        "ss = s.split()"
      ],
      "metadata": {
        "id": "tMp-ggq4Vx-Y"
      },
      "execution_count": null,
      "outputs": []
    },
    {
      "cell_type": "code",
      "source": [
        "wfreq = Counter(ss)"
      ],
      "metadata": {
        "id": "Rsy51Z7DWs-3"
      },
      "execution_count": null,
      "outputs": []
    },
    {
      "cell_type": "code",
      "source": [
        "wfreq.most_common(10)"
      ],
      "metadata": {
        "id": "HAG0fW5FWvtL"
      },
      "execution_count": null,
      "outputs": []
    },
    {
      "cell_type": "code",
      "source": [
        "!wc 0079_keylog.txt"
      ],
      "metadata": {
        "id": "reKbwL03WzVt"
      },
      "execution_count": null,
      "outputs": []
    },
    {
      "cell_type": "markdown",
      "source": [
        "# Coroutines"
      ],
      "metadata": {
        "id": "Kphk3V9zbFP2"
      }
    },
    {
      "cell_type": "code",
      "source": [
        "def make_fibs(limit: int) -> list[int]:\n",
        "    a, b = 0, 1\n",
        "    fibs = []\n",
        "    while a < limit:\n",
        "        fibs.append(a)\n",
        "        # return a\n",
        "        a, b = b, a + b\n",
        "    return fibs"
      ],
      "metadata": {
        "id": "u_lz5e7gbQmF"
      },
      "execution_count": null,
      "outputs": []
    },
    {
      "cell_type": "code",
      "source": [
        "make_fibs(100)"
      ],
      "metadata": {
        "id": "0YwIF1nVdWJh"
      },
      "execution_count": null,
      "outputs": []
    },
    {
      "cell_type": "code",
      "source": [
        "def gen_fibs(limit: int):\n",
        "    a, b = 0, 1\n",
        "    while a < limit:\n",
        "        yield a\n",
        "        a, b = b, a + b"
      ],
      "metadata": {
        "id": "HqnWHJVHdYKb"
      },
      "execution_count": null,
      "outputs": []
    },
    {
      "cell_type": "code",
      "source": [
        "for n in gen_fibs(100):\n",
        "    print(n, end=\" \")"
      ],
      "metadata": {
        "id": "8vYhzpiGd7dU"
      },
      "execution_count": null,
      "outputs": []
    },
    {
      "cell_type": "code",
      "source": [
        "a = gen_fibs(200)"
      ],
      "metadata": {
        "id": "KKc6v-EMfskF"
      },
      "execution_count": null,
      "outputs": []
    },
    {
      "cell_type": "code",
      "source": [
        "print(a)"
      ],
      "metadata": {
        "id": "GiMzCeaDf2S6"
      },
      "execution_count": null,
      "outputs": []
    },
    {
      "cell_type": "code",
      "source": [
        "count = 0\n",
        "for n in a:\n",
        "    count += 1\n",
        "    print(n)\n",
        "    if count > 5:\n",
        "       break"
      ],
      "metadata": {
        "id": "dLVB-Wb2gjIu"
      },
      "execution_count": null,
      "outputs": []
    },
    {
      "cell_type": "code",
      "source": [
        "print(a)"
      ],
      "metadata": {
        "id": "o67tmYOMinPN"
      },
      "execution_count": null,
      "outputs": []
    },
    {
      "cell_type": "code",
      "source": [
        "for x in a:\n",
        "    print(x)"
      ],
      "metadata": {
        "id": "dOs6MAusixbV"
      },
      "execution_count": null,
      "outputs": []
    },
    {
      "cell_type": "code",
      "source": [
        "for p in a:\n",
        "    print(p)"
      ],
      "metadata": {
        "id": "yhU0DFAii0gd"
      },
      "execution_count": null,
      "outputs": []
    },
    {
      "cell_type": "code",
      "source": [
        "def square(x):\n",
        "    return x * x"
      ],
      "metadata": {
        "id": "JbFj_CoKjpCC"
      },
      "execution_count": null,
      "outputs": []
    },
    {
      "cell_type": "code",
      "source": [
        "xs = [1, 1, 2, 3, 5, 8, 13]"
      ],
      "metadata": {
        "id": "a27EYFKBk2Nd"
      },
      "execution_count": null,
      "outputs": []
    },
    {
      "cell_type": "code",
      "source": [
        "map(square, xs)"
      ],
      "metadata": {
        "id": "TDPoU61ak6Fj"
      },
      "execution_count": null,
      "outputs": []
    },
    {
      "cell_type": "code",
      "source": [
        "a = map(square, xs)"
      ],
      "metadata": {
        "id": "7vT-lvMzk8mx"
      },
      "execution_count": null,
      "outputs": []
    },
    {
      "cell_type": "code",
      "source": [
        "for n in a:\n",
        "    print(n)"
      ],
      "metadata": {
        "id": "Wr-KN9HulAnc"
      },
      "execution_count": null,
      "outputs": []
    },
    {
      "cell_type": "code",
      "source": [
        "for n in a:\n",
        "    print(n)"
      ],
      "metadata": {
        "id": "FYcgRdEElD8v"
      },
      "execution_count": null,
      "outputs": []
    },
    {
      "cell_type": "code",
      "source": [
        "lc = [square(x) for x in xs]"
      ],
      "metadata": {
        "id": "Asv1hYTalSOk"
      },
      "execution_count": null,
      "outputs": []
    },
    {
      "cell_type": "code",
      "source": [
        "gg = (square(x) for x in xs)"
      ],
      "metadata": {
        "id": "RqTPBWG1ly8B"
      },
      "execution_count": null,
      "outputs": []
    },
    {
      "cell_type": "code",
      "source": [
        "print(lc)"
      ],
      "metadata": {
        "id": "6GSfTxENmQxI"
      },
      "execution_count": null,
      "outputs": []
    },
    {
      "cell_type": "code",
      "source": [
        "print(gg)"
      ],
      "metadata": {
        "id": "VMCeFXkJmSdu"
      },
      "execution_count": null,
      "outputs": []
    },
    {
      "cell_type": "code",
      "source": [
        "for g in gg:\n",
        "    print(g, end=\" \")\n",
        "print(\"Fini!\")\n",
        "for g in gg:\n",
        "    print(g, end= \" \")"
      ],
      "metadata": {
        "id": "t3951dmymT5z"
      },
      "execution_count": null,
      "outputs": []
    },
    {
      "cell_type": "code",
      "source": [
        "for p in lc:\n",
        "    print(p, end=\" \")\n",
        "print(\"One Round over\")\n",
        "for p in lc:\n",
        "    print(p, end=\" \")"
      ],
      "metadata": {
        "id": "2WGr4iJxmcuw"
      },
      "execution_count": null,
      "outputs": []
    },
    {
      "cell_type": "markdown",
      "source": [
        "# Data Munging"
      ],
      "metadata": {
        "id": "SEFOQfHImm5m"
      }
    },
    {
      "cell_type": "code",
      "source": [
        "!head weight-height_10000.csv"
      ],
      "metadata": {
        "id": "6xcPT5vAtOTN"
      },
      "execution_count": null,
      "outputs": []
    },
    {
      "cell_type": "code",
      "source": [
        "!tail weight-height_10000.csv"
      ],
      "metadata": {
        "id": "XspJinv1tV2l"
      },
      "execution_count": null,
      "outputs": []
    },
    {
      "cell_type": "code",
      "source": [
        "!wc -l weight-height_10000.csv"
      ],
      "metadata": {
        "id": "lTp3JH-YtbeP"
      },
      "execution_count": null,
      "outputs": []
    },
    {
      "cell_type": "code",
      "source": [
        "COMMA = \",\"\n",
        "FIRST_LINE = True\n",
        "data = []\n",
        "for line in open(\"weight-height_10000.csv\"):\n",
        "    data.append(line.strip())"
      ],
      "metadata": {
        "id": "fW8d_Xzgtfyt"
      },
      "execution_count": null,
      "outputs": []
    },
    {
      "cell_type": "code",
      "source": [
        "print(data[:10])"
      ],
      "metadata": {
        "id": "kdbdhqTBuKcU"
      },
      "execution_count": null,
      "outputs": []
    },
    {
      "cell_type": "code",
      "source": [
        "COMMA = \",\"\n",
        "FIRST_LINE = True\n",
        "data = []\n",
        "for line in open(\"weight-height_10000.csv\"):\n",
        "    if FIRST_LINE:\n",
        "        FIRST_LINE = False\n",
        "    else:\n",
        "        data.append(line.strip())"
      ],
      "metadata": {
        "id": "9QrlYYmDuMCG"
      },
      "execution_count": null,
      "outputs": []
    },
    {
      "cell_type": "code",
      "source": [
        "print(data[:10])"
      ],
      "metadata": {
        "id": "JfVqY7DnuZlk"
      },
      "execution_count": null,
      "outputs": []
    },
    {
      "cell_type": "code",
      "source": [
        "COMMA = \",\"\n",
        "FIRST_LINE = True\n",
        "data = []\n",
        "for line in open(\"weight-height_10000.csv\"):\n",
        "    if FIRST_LINE:\n",
        "        FIRST_LINE = False\n",
        "    else:\n",
        "        g, h, w = line.strip().split(COMMA)\n",
        "        data.append((g, h, w))"
      ],
      "metadata": {
        "id": "Q67o_9-Wucal"
      },
      "execution_count": null,
      "outputs": []
    },
    {
      "cell_type": "code",
      "source": [
        "print(data[:10])"
      ],
      "metadata": {
        "id": "Xm6grjF3uqqQ"
      },
      "execution_count": null,
      "outputs": []
    },
    {
      "cell_type": "code",
      "source": [
        "COMMA = \",\"\n",
        "FIRST_LINE = True\n",
        "data = []\n",
        "for line in open(\"weight-height_10000.csv\"):\n",
        "    if FIRST_LINE:\n",
        "        FIRST_LINE = False\n",
        "    else:\n",
        "        g, raw_h, raw_w = line.strip().split(COMMA)\n",
        "        h = float(raw_h)\n",
        "        w = float(raw_w)\n",
        "        data.append((g, h, w))"
      ],
      "metadata": {
        "id": "0oaSnSyzuuJJ"
      },
      "execution_count": null,
      "outputs": []
    },
    {
      "cell_type": "code",
      "source": [
        "print(data[:10])"
      ],
      "metadata": {
        "id": "M7uCmnIKu9CM"
      },
      "execution_count": null,
      "outputs": []
    },
    {
      "cell_type": "code",
      "source": [
        "COMMA = \",\"\n",
        "FIRST_LINE = True\n",
        "IN2CM, LB2KG = 2.54, 0.454\n",
        "data = []\n",
        "for line in open(\"weight-height_10000.csv\"):\n",
        "    if FIRST_LINE:\n",
        "        FIRST_LINE = False\n",
        "    else:\n",
        "        g, raw_h, raw_w = line.strip().split(COMMA)\n",
        "        h = int(float(raw_h) * IN2CM + 0.5)\n",
        "        w = int(float(raw_w) * LB2KG + 0.5)\n",
        "        data.append((g, h, w))"
      ],
      "metadata": {
        "id": "JrlSbv6Bu-Yn"
      },
      "execution_count": null,
      "outputs": []
    },
    {
      "cell_type": "code",
      "source": [
        "print(data[:10])"
      ],
      "metadata": {
        "id": "rCDlEAQ3vQiH"
      },
      "execution_count": null,
      "outputs": []
    },
    {
      "cell_type": "code",
      "source": [
        "import pandas as pd"
      ],
      "metadata": {
        "id": "lysdEaK8vSIM"
      },
      "execution_count": null,
      "outputs": []
    },
    {
      "cell_type": "code",
      "source": [
        "data = pd.read_csv(\"weight-height_10000.csv\")"
      ],
      "metadata": {
        "id": "YiD7Gvv8v3SQ"
      },
      "execution_count": null,
      "outputs": []
    },
    {
      "cell_type": "code",
      "source": [
        "data"
      ],
      "metadata": {
        "id": "b4KmbO70wB_X"
      },
      "execution_count": null,
      "outputs": []
    },
    {
      "cell_type": "code",
      "source": [
        "data.describe()"
      ],
      "metadata": {
        "id": "UssPlEq1wJwO"
      },
      "execution_count": null,
      "outputs": []
    },
    {
      "cell_type": "code",
      "source": [
        "data[\"Height\"]"
      ],
      "metadata": {
        "id": "_XWgt8m4wjr-"
      },
      "execution_count": null,
      "outputs": []
    },
    {
      "cell_type": "code",
      "source": [
        "data.Weight"
      ],
      "metadata": {
        "id": "q0RakJv8w9La"
      },
      "execution_count": null,
      "outputs": []
    },
    {
      "cell_type": "code",
      "source": [
        "def in2cm(s: str) -> int:\n",
        "    return int(2.54 * float(s) + 0.5)\n",
        "\n",
        "def lb2kg(s: str) -> int:\n",
        "    return int(0.454 * float(s) + 0.5)"
      ],
      "metadata": {
        "id": "FJiHS-mAxH1Y"
      },
      "execution_count": null,
      "outputs": []
    },
    {
      "cell_type": "code",
      "source": [
        "data = pd.read_csv(\"weight-height_10000.csv\", converters={\"Height\": in2cm, \"Weight\": lb2kg})"
      ],
      "metadata": {
        "id": "1jRKMJIvyIE2"
      },
      "execution_count": null,
      "outputs": []
    },
    {
      "cell_type": "code",
      "source": [
        "data"
      ],
      "metadata": {
        "id": "819c1WOxyZqf"
      },
      "execution_count": null,
      "outputs": []
    },
    {
      "cell_type": "code",
      "source": [
        "cat sample.txt"
      ],
      "metadata": {
        "id": "Ec8zOojoyagO"
      },
      "execution_count": null,
      "outputs": []
    },
    {
      "cell_type": "code",
      "source": [
        "cat sample2.txt"
      ],
      "metadata": {
        "id": "HArAlCDgJWUF"
      },
      "execution_count": null,
      "outputs": []
    },
    {
      "cell_type": "code",
      "source": [
        "data = pd.read_csv(\"sample.txt\")"
      ],
      "metadata": {
        "id": "X95-h1BzJYI8"
      },
      "execution_count": null,
      "outputs": []
    },
    {
      "cell_type": "code",
      "source": [
        "data"
      ],
      "metadata": {
        "id": "KgrD3uAuJhrv"
      },
      "execution_count": null,
      "outputs": []
    },
    {
      "cell_type": "code",
      "source": [
        "data = pd.read_csv(\"sample.txt\", header=None)"
      ],
      "metadata": {
        "id": "SBFPuxmZJiuf"
      },
      "execution_count": null,
      "outputs": []
    },
    {
      "cell_type": "code",
      "source": [
        "data"
      ],
      "metadata": {
        "id": "M0L_gelWJp5P"
      },
      "execution_count": null,
      "outputs": []
    },
    {
      "cell_type": "code",
      "source": [
        "data = pd.read_csv(\"sample.txt\", header=None, names=[\"Name\", \"Score\"])"
      ],
      "metadata": {
        "id": "vbPruAPhJq8c"
      },
      "execution_count": null,
      "outputs": []
    },
    {
      "cell_type": "code",
      "source": [
        "data"
      ],
      "metadata": {
        "id": "_MasRiYAJzws"
      },
      "execution_count": null,
      "outputs": []
    },
    {
      "cell_type": "code",
      "source": [
        "data = pd.read_csv(\"sample2.txt\")"
      ],
      "metadata": {
        "id": "vPLMnr-tJ0r6"
      },
      "execution_count": null,
      "outputs": []
    },
    {
      "cell_type": "code",
      "source": [
        "data"
      ],
      "metadata": {
        "id": "KNrYtP24J-ty"
      },
      "execution_count": null,
      "outputs": []
    },
    {
      "cell_type": "code",
      "source": [
        "data.Name"
      ],
      "metadata": {
        "id": "EHx7-tqlJ_kJ"
      },
      "execution_count": null,
      "outputs": []
    },
    {
      "cell_type": "code",
      "source": [
        "data.Score"
      ],
      "metadata": {
        "id": "8lQ9JUBMKBWe"
      },
      "execution_count": null,
      "outputs": []
    },
    {
      "cell_type": "code",
      "source": [
        "data[\" Score\"]"
      ],
      "metadata": {
        "id": "9nK4x55ZKDL_"
      },
      "execution_count": null,
      "outputs": []
    },
    {
      "cell_type": "code",
      "source": [
        "data = pd.read_csv(\"sample2.txt\", header=0, names=[\"Moniker\", \"Mark\"])"
      ],
      "metadata": {
        "id": "wsSh4uj9KQFu"
      },
      "execution_count": null,
      "outputs": []
    },
    {
      "cell_type": "code",
      "source": [
        "data"
      ],
      "metadata": {
        "id": "UL8v1uUZKa5M"
      },
      "execution_count": null,
      "outputs": []
    },
    {
      "cell_type": "code",
      "source": [
        "pd.read_csv?"
      ],
      "metadata": {
        "id": "tQriCHyxKbdE"
      },
      "execution_count": null,
      "outputs": []
    },
    {
      "cell_type": "code",
      "source": [
        "pd.read_excel?"
      ],
      "metadata": {
        "id": "tsRjtbetLzUn"
      },
      "execution_count": null,
      "outputs": []
    },
    {
      "cell_type": "code",
      "source": [
        "data = pd.read_csv(\"weight-height_10000.csv\", converters={\"Height\": in2cm, \"Weight\": lb2kg})"
      ],
      "metadata": {
        "id": "UT5qp6blM8Wp"
      },
      "execution_count": null,
      "outputs": []
    },
    {
      "cell_type": "code",
      "source": [
        "data"
      ],
      "metadata": {
        "id": "yDfJhLs_NiQ9"
      },
      "execution_count": null,
      "outputs": []
    },
    {
      "cell_type": "code",
      "source": [
        "data.to_excel(\"ghw_processed.xlsx\")"
      ],
      "metadata": {
        "id": "1r9o26cVNi-I"
      },
      "execution_count": null,
      "outputs": []
    },
    {
      "cell_type": "code",
      "source": [],
      "metadata": {
        "id": "uT_y9IHANv4M"
      },
      "execution_count": null,
      "outputs": []
    },
    {
      "cell_type": "code",
      "source": [
        "men.describe()"
      ],
      "metadata": {
        "id": "b0HQjjHqPbB1"
      },
      "execution_count": null,
      "outputs": []
    },
    {
      "cell_type": "code",
      "source": [
        "tall.describe()"
      ],
      "metadata": {
        "id": "z2V9ebg9PiBW"
      },
      "execution_count": null,
      "outputs": []
    },
    {
      "cell_type": "code",
      "source": [
        "tallmen = data[(data.Gender == \"Male\") & (data.Height >= 180)]"
      ],
      "metadata": {
        "id": "sR8YCdWhPjbp"
      },
      "execution_count": null,
      "outputs": []
    },
    {
      "cell_type": "markdown",
      "source": [
        "# Matplotlib"
      ],
      "metadata": {
        "id": "DwzT6imQReRJ"
      }
    },
    {
      "cell_type": "code",
      "source": [
        "import matplotlib.pyplot as plt"
      ],
      "metadata": {
        "id": "A7coS0mhUXgf"
      },
      "execution_count": null,
      "outputs": []
    },
    {
      "cell_type": "code",
      "source": [
        "plt.plot(data.Height, data.Weight, \"r+\")\n",
        "plt.show()"
      ],
      "metadata": {
        "id": "-o2ESxIuUdhY"
      },
      "execution_count": null,
      "outputs": []
    },
    {
      "cell_type": "code",
      "source": [
        "plt.plot(data.Height, data.Weight, \"r+\")\n",
        "plt.xlabel(\"Height (cms)\")\n",
        "plt.ylabel(\"Weight (kgs)\")\n",
        "plt.show()"
      ],
      "metadata": {
        "id": "1s6RonWvUkFH"
      },
      "execution_count": null,
      "outputs": []
    },
    {
      "cell_type": "code",
      "source": [
        "men = data[data.Gender == \"Male\"]\n",
        "women = data[data.Gender == \"Female\"]\n",
        "tall = data[data.Height >= 180]"
      ],
      "metadata": {
        "id": "w6wTLzG-VbzF"
      },
      "execution_count": null,
      "outputs": []
    },
    {
      "cell_type": "code",
      "source": [
        "plt.plot(men.Height, men.Weight, \"r+\")\n",
        "plt.plot(women.Height, women.Weight, \"b.\")\n",
        "plt.xlabel(\"Height (cms)\")\n",
        "plt.ylabel(\"Weight (kgs)\")\n",
        "plt.savefig(\"mw.png\")\n",
        "plt.show()"
      ],
      "metadata": {
        "id": "dLvknAsQU77I"
      },
      "execution_count": null,
      "outputs": []
    },
    {
      "cell_type": "code",
      "source": [
        "plt.savefig(\"mw.png\")"
      ],
      "metadata": {
        "id": "LmpbyG6WVIyd"
      },
      "execution_count": null,
      "outputs": []
    },
    {
      "cell_type": "markdown",
      "source": [
        "# Graphviz"
      ],
      "metadata": {
        "id": "U25BBkaAadFP"
      }
    },
    {
      "cell_type": "code",
      "source": [
        "import pygraphviz as pgv"
      ],
      "metadata": {
        "id": "khEm9orOeqZl"
      },
      "execution_count": null,
      "outputs": []
    },
    {
      "cell_type": "code",
      "source": [
        "!apt install pygraphviz"
      ],
      "metadata": {
        "id": "URZZmg7ri8oQ"
      },
      "execution_count": null,
      "outputs": []
    },
    {
      "cell_type": "code",
      "source": [
        "!apt search pygraphviz"
      ],
      "metadata": {
        "id": "YoWgE4dSjBfW"
      },
      "execution_count": null,
      "outputs": []
    },
    {
      "cell_type": "code",
      "source": [
        "!apt install python3-pygraphviz"
      ],
      "metadata": {
        "id": "BOrw_7GljFFr"
      },
      "execution_count": null,
      "outputs": []
    },
    {
      "cell_type": "code",
      "source": [
        "import pygraphviz as pgv"
      ],
      "metadata": {
        "id": "6HqRq1TPjKpX"
      },
      "execution_count": null,
      "outputs": []
    },
    {
      "cell_type": "code",
      "source": [
        "g = pgv.AGraph(directed=True)\n",
        "g.add_node(\"a\")\n",
        "g.add_node(\"b\")\n",
        "g.add_nodes_from([\"c\", \"d\", \"e\", \"f\", \"dd\"])\n",
        "g.add_edge(\"a\", \"b\")\n",
        "g.add_edge(\"b\", \"c\")\n",
        "g.add_edge(\"b\", \"d\")\n",
        "g.add_edge(\"c\", \"f\")\n",
        "g.add_edge(\"d\", \"dd\")\n",
        "g.add_edge(\"dd\", \"f\")"
      ],
      "metadata": {
        "id": "VrxaZF12jXjl"
      },
      "execution_count": null,
      "outputs": []
    },
    {
      "cell_type": "code",
      "source": [
        "g.layout()\n",
        "g.draw(\"pgv.png\")"
      ],
      "metadata": {
        "id": "W0_QFaLjkvdI"
      },
      "execution_count": null,
      "outputs": []
    },
    {
      "cell_type": "code",
      "source": [],
      "metadata": {
        "id": "aikx00SKlCZS"
      },
      "execution_count": null,
      "outputs": []
    }
  ]
}