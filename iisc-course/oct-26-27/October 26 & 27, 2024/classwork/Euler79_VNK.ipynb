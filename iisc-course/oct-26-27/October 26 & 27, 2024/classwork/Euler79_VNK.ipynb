{
  "nbformat": 4,
  "nbformat_minor": 0,
  "metadata": {
    "colab": {
      "private_outputs": true,
      "provenance": []
    },
    "kernelspec": {
      "name": "python3",
      "display_name": "Python 3"
    },
    "language_info": {
      "name": "python"
    }
  },
  "cells": [
    {
      "cell_type": "code",
      "source": [
        "def euler79_vnk(logins: se[str]) -> str:\n",
        "    unique_digits = set(''.join(logins))\n",
        "    successors = {digit: set() for digit in unique_digits}\n",
        "    for t in logins:\n",
        "        successors[t[0]].add(t[1])\n",
        "        successors[t[0]].add(t[2])\n",
        "        successors[t[1]].add(t[2])\n",
        "    successor_counts = sorted([(len(v), k) for k, v in successors.items()], reverse=True)\n",
        "    pass_key = ''.join([b for a, b in successor_counts])\n",
        "    return successor_counts, pass_key"
      ],
      "metadata": {
        "id": "UKv2DP-G6cQ0"
      },
      "execution_count": null,
      "outputs": []
    },
    {
      "cell_type": "code",
      "source": [
        "triples = set(line.strip() for line in open(\"0079_keylog.txt\"))\n",
        "print(euler79_vnk(triples))"
      ],
      "metadata": {
        "id": "uORUbNCH-Ofh"
      },
      "execution_count": null,
      "outputs": []
    },
    {
      "cell_type": "code",
      "execution_count": null,
      "metadata": {
        "id": "G2Qq8hJz4Ao4"
      },
      "outputs": [],
      "source": [
        "triples = set(line.strip() for line in open(\"0079_keylog.txt\"))"
      ]
    },
    {
      "cell_type": "code",
      "source": [
        "print(triples)"
      ],
      "metadata": {
        "id": "1V9a6IL04Www"
      },
      "execution_count": null,
      "outputs": []
    },
    {
      "cell_type": "code",
      "source": [
        "list(chain(*triples))"
      ],
      "metadata": {
        "id": "yYJPmGBpDYY-"
      },
      "execution_count": null,
      "outputs": []
    },
    {
      "cell_type": "code",
      "source": [
        "set(''.join(triples))"
      ],
      "metadata": {
        "id": "mD378j5FEGHZ"
      },
      "execution_count": null,
      "outputs": []
    },
    {
      "cell_type": "code",
      "source": [
        "unique_digits = set(chain(*triples))"
      ],
      "metadata": {
        "id": "cGNHkc814Y4f"
      },
      "execution_count": null,
      "outputs": []
    },
    {
      "cell_type": "code",
      "source": [
        "print(unique_digits)"
      ],
      "metadata": {
        "id": "2Xwgbexy4j6l"
      },
      "execution_count": null,
      "outputs": []
    },
    {
      "cell_type": "code",
      "source": [
        "successors = {digit: set() for digit in unique_digits}"
      ],
      "metadata": {
        "id": "KcQCO9Ft6oc8"
      },
      "execution_count": null,
      "outputs": []
    },
    {
      "cell_type": "code",
      "source": [
        "for t in triples:\n",
        "    successors[t[0]].add(t[1])\n",
        "    successors[t[0]].add(t[2])\n",
        "    successors[t[1]].add(t[2])"
      ],
      "metadata": {
        "id": "77E-QINH64An"
      },
      "execution_count": null,
      "outputs": []
    },
    {
      "cell_type": "code",
      "source": [
        "for digit in sorted(successors.keys()):\n",
        "    print(digit, successors[digit])"
      ],
      "metadata": {
        "id": "4_1-cbut7qJW"
      },
      "execution_count": null,
      "outputs": []
    },
    {
      "cell_type": "code",
      "source": [
        "sorted(successors.values(), key=len, reverse=True)"
      ],
      "metadata": {
        "id": "SiE97gRt72mP"
      },
      "execution_count": null,
      "outputs": []
    },
    {
      "cell_type": "code",
      "source": [],
      "metadata": {
        "id": "jJmsskqa8O3D"
      },
      "execution_count": null,
      "outputs": []
    }
  ]
}