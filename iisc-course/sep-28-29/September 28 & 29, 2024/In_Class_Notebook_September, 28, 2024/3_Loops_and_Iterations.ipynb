{
 "cells": [
  {
   "cell_type": "markdown",
   "metadata": {
    "id": "gcJPT55wmOwv"
   },
   "source": [
    "**LOOPs IN PYTHON**\n",
    "\n",
    "- Loops are used to repeat the same code multiple times​\n",
    "\n",
    "**There are two types of loop in Python​:**\n",
    "- For loop​\n",
    "- While loop​\n"
   ]
  },
  {
   "cell_type": "markdown",
   "metadata": {
    "id": "PHr-fMqN7JkQ"
   },
   "source": [
    "**for loop in Python​**\n",
    "\n",
    "- for loop in Python, is used to iterate over a sequence such as a string and other collections​\n",
    "- We can also iterate other iterable objects such as range​\n",
    "- Using for loop, we can iterate over each item/element present in the sequence​\n",
    "- Also, we can execute the same set of operations for each item​\n",
    "- Using for loop we can repeat the block of statements a fixed number of times​\n",
    "\n",
    "**Syntax:**\n",
    "\n",
    "      for i in range/sequence:​\n",
    "\n",
    "          statement 1​\n",
    "\n",
    "          statement 2​\n",
    "\n",
    "          statement n​\n"
   ]
  },
  {
   "cell_type": "code",
   "execution_count": 4,
   "metadata": {
    "id": "5M6nrDQAmPCV"
   },
   "outputs": [
    {
     "name": "stdout",
     "output_type": "stream",
     "text": [
      "C Z E C H O S L O V A K I A "
     ]
    }
   ],
   "source": [
    "# display each letter of the country on the new line\n",
    "\n",
    "country = 'CZECHOSLOVAKIA'\n",
    "\n",
    "for i in country:\n",
    "    print(i, end=' ')\n"
   ]
  },
  {
   "cell_type": "code",
   "execution_count": 5,
   "metadata": {
    "id": "dkvIGVJ43Un3"
   },
   "outputs": [
    {
     "name": "stdout",
     "output_type": "stream",
     "text": [
      "4\n"
     ]
    }
   ],
   "source": [
    "country = 'CZECHOSLOVAKIA'\n",
    "count = 0\n",
    "\n",
    "# count the occurance of A,B,C\n",
    "for i in country:\n",
    "    if i in ['A','B','C']:\n",
    "        count += 1            # count = count + 1\n",
    "        \n",
    "print(count)"
   ]
  },
  {
   "cell_type": "code",
   "execution_count": 6,
   "metadata": {
    "id": "ESIKylZ9Aj0_"
   },
   "outputs": [
    {
     "name": "stdout",
     "output_type": "stream",
     "text": [
      "red\n",
      "green\n",
      "blue\n",
      "yellow\n",
      "purple\n",
      "gold\n"
     ]
    }
   ],
   "source": [
    "# display list elements\n",
    "\n",
    "colorList = ['red', 'green', 'blue', 'yellow', 'purple', 'gold']\n",
    "\n",
    "for c in colorList:\n",
    "    print(c)\n"
   ]
  },
  {
   "cell_type": "markdown",
   "metadata": {
    "id": "w1f63NaGmPSL"
   },
   "source": [
    "**range() function**\n",
    "\n",
    "- We can generate a sequence of numbers using range() function\n",
    "- range(10) will generate numbers from 0 to 9 (10 numbers)\n",
    "\n",
    "\n",
    "**Syntax:**\n",
    "\n",
    "- range(start, stop, step)\n",
    "- start: the sequence of integers starts with this integer\n",
    "\n",
    "- stop: the sequence of integers stops with this integer. The range of integers end at stop–1\n",
    "- step: integer value which determines the increment between each integer in the sequence\n",
    "\n",
    "\n",
    "**There are three ways you can call range():**\n",
    "- range(stop) takes one argument\n",
    "- range(start, stop) takes two arguments\n",
    "- range(start, stop, step) takes three arguments"
   ]
  },
  {
   "cell_type": "code",
   "execution_count": 7,
   "metadata": {},
   "outputs": [
    {
     "name": "stdout",
     "output_type": "stream",
     "text": [
      "range(0, 10)\n"
     ]
    }
   ],
   "source": [
    "print(range(10))"
   ]
  },
  {
   "cell_type": "code",
   "execution_count": 9,
   "metadata": {},
   "outputs": [
    {
     "name": "stdout",
     "output_type": "stream",
     "text": [
      "[0, 1, 2, 3, 4, 5, 6, 7, 8, 9]\n"
     ]
    }
   ],
   "source": [
    "print(list(range(10)))"
   ]
  },
  {
   "cell_type": "code",
   "execution_count": 11,
   "metadata": {},
   "outputs": [
    {
     "name": "stdout",
     "output_type": "stream",
     "text": [
      "[1, 2, 3, 4, 5, 6, 7, 8, 9]\n"
     ]
    }
   ],
   "source": [
    "print(list(range(1,10,1)))"
   ]
  },
  {
   "cell_type": "code",
   "execution_count": 12,
   "metadata": {},
   "outputs": [
    {
     "name": "stdout",
     "output_type": "stream",
     "text": [
      "[1, 2, 3, 4, 5, 6, 7, 8, 9, 10]\n"
     ]
    }
   ],
   "source": [
    "print(list(range(1,11)))"
   ]
  },
  {
   "cell_type": "code",
   "execution_count": 13,
   "metadata": {},
   "outputs": [
    {
     "name": "stdout",
     "output_type": "stream",
     "text": [
      "[1, 2, 3, 4, 5, 6, 7, 8, 9, 10]\n"
     ]
    }
   ],
   "source": [
    "print(list(range(1,11,1)))"
   ]
  },
  {
   "cell_type": "code",
   "execution_count": 14,
   "metadata": {},
   "outputs": [
    {
     "name": "stdout",
     "output_type": "stream",
     "text": [
      "[1, 3, 5, 7, 9]\n"
     ]
    }
   ],
   "source": [
    "print(list(range(1,11,2)))"
   ]
  },
  {
   "cell_type": "code",
   "execution_count": null,
   "metadata": {},
   "outputs": [],
   "source": []
  },
  {
   "cell_type": "code",
   "execution_count": 15,
   "metadata": {
    "id": "avH30NkQmPiq"
   },
   "outputs": [
    {
     "name": "stdout",
     "output_type": "stream",
     "text": [
      "0\n",
      "1\n",
      "2\n",
      "3\n",
      "4\n",
      "5\n",
      "6\n",
      "7\n",
      "8\n",
      "9\n"
     ]
    }
   ],
   "source": [
    "# Print numbers from 0 to 9\n",
    "\n",
    "for i in range(10):    # range(0,10,1)\n",
    "    print(i)\n"
   ]
  },
  {
   "cell_type": "markdown",
   "metadata": {
    "id": "0UvORwtJmPy1"
   },
   "source": [
    "**range() function with multiple arguments​**"
   ]
  },
  {
   "cell_type": "code",
   "execution_count": null,
   "metadata": {
    "id": "70OhFOGbmQEA"
   },
   "outputs": [],
   "source": [
    "# range(start, stop, step)"
   ]
  },
  {
   "cell_type": "code",
   "execution_count": 16,
   "metadata": {
    "id": "GLfPZ-QLQfXG"
   },
   "outputs": [
    {
     "name": "stdout",
     "output_type": "stream",
     "text": [
      "50\n",
      "52\n",
      "54\n",
      "56\n",
      "58\n",
      "60\n"
     ]
    }
   ],
   "source": [
    "# 50 52 54 56 58 60\n",
    "\n",
    "for i in range(50, 61, 2): \n",
    "    print(i)"
   ]
  },
  {
   "cell_type": "code",
   "execution_count": 17,
   "metadata": {
    "id": "8jvag7lG3Un5"
   },
   "outputs": [
    {
     "name": "stdout",
     "output_type": "stream",
     "text": [
      "10\n",
      "20\n",
      "30\n",
      "40\n",
      "50\n",
      "60\n",
      "70\n",
      "80\n",
      "90\n",
      "100\n"
     ]
    }
   ],
   "source": [
    "# 10, 20, 30, ...., 100\n",
    "\n",
    "for i in range(10, 101, 10): \n",
    "    print(i)"
   ]
  },
  {
   "cell_type": "code",
   "execution_count": 18,
   "metadata": {
    "id": "1lvKPJscQfg9"
   },
   "outputs": [
    {
     "name": "stdout",
     "output_type": "stream",
     "text": [
      "10\n",
      "9\n",
      "8\n",
      "7\n",
      "6\n",
      "5\n",
      "4\n",
      "3\n",
      "2\n",
      "1\n"
     ]
    }
   ],
   "source": [
    "# range(start, stop, -step)\n",
    "\n",
    "for i in range(10, 0,-1):\n",
    "    print(i)\n"
   ]
  },
  {
   "cell_type": "code",
   "execution_count": 19,
   "metadata": {},
   "outputs": [
    {
     "name": "stdout",
     "output_type": "stream",
     "text": [
      "[53, 12, 45, 660, 80, 18, 91, 70, 25]\n"
     ]
    }
   ],
   "source": [
    "#         0   1  2  3  .....        index numbers\n",
    "mylist = [53,12,45,660,80,18,91,70,25]\n",
    "\n",
    "print(mylist)"
   ]
  },
  {
   "cell_type": "code",
   "execution_count": 20,
   "metadata": {},
   "outputs": [
    {
     "data": {
      "text/plain": [
       "53"
      ]
     },
     "execution_count": 20,
     "metadata": {},
     "output_type": "execute_result"
    }
   ],
   "source": [
    "mylist[0]"
   ]
  },
  {
   "cell_type": "code",
   "execution_count": 21,
   "metadata": {},
   "outputs": [
    {
     "data": {
      "text/plain": [
       "660"
      ]
     },
     "execution_count": 21,
     "metadata": {},
     "output_type": "execute_result"
    }
   ],
   "source": [
    "mylist[3]"
   ]
  },
  {
   "cell_type": "code",
   "execution_count": 24,
   "metadata": {},
   "outputs": [
    {
     "name": "stdout",
     "output_type": "stream",
     "text": [
      "53\n",
      "12\n",
      "45\n",
      "660\n",
      "80\n",
      "18\n",
      "91\n",
      "70\n",
      "25\n"
     ]
    }
   ],
   "source": [
    "mylist = [53,12,45,660,80,18,91,70,25]\n",
    "\n",
    "for i in range(len(mylist)):\n",
    "    print(mylist[i])\n"
   ]
  },
  {
   "cell_type": "code",
   "execution_count": 26,
   "metadata": {},
   "outputs": [
    {
     "name": "stdout",
     "output_type": "stream",
     "text": [
      "Largest number: 910\n"
     ]
    }
   ],
   "source": [
    "# find largest number from the list\n",
    "\n",
    "#         0   1  2  3  .....        index numbers\n",
    "mylist = [53,12,45,660,80,18,910,70,25]\n",
    "\n",
    "big = mylist[0]\n",
    "\n",
    "for i in mylist:\n",
    "    if big < i:\n",
    "        big = i \n",
    "\n",
    "print(f\"Largest number: {big}\")"
   ]
  },
  {
   "cell_type": "code",
   "execution_count": 44,
   "metadata": {},
   "outputs": [
    {
     "name": "stdout",
     "output_type": "stream",
     "text": [
      "Enter a number: 153\n",
      "153 is an armstrong number!\n"
     ]
    }
   ],
   "source": [
    "# find if the entered number is armstrong\n",
    "# Sample output:\n",
    "# Enter a number: 153\n",
    "# 153 is an armstrong number!\n",
    "\n",
    "# digits = 3\n",
    "# 153 = 1^3 + 5^3 + 3^3 = 153\n",
    "\n",
    "import math\n",
    "\n",
    "num = int(input(\"Enter a number: \"))\n",
    "length = len(str(num))\n",
    "sums = 0\n",
    "\n",
    "for digit in str(num):\n",
    "    digit = int(digit)\n",
    "    # sums += (digit**length)\n",
    "    sums += pow(digit,length)\n",
    "\n",
    "if sums == int(num):\n",
    "    print(f\"{num} is an armstrong number!\")\n",
    "else:\n",
    "    print(f\"{num} is not an armstrong number!\")"
   ]
  },
  {
   "cell_type": "code",
   "execution_count": null,
   "metadata": {},
   "outputs": [],
   "source": []
  },
  {
   "cell_type": "markdown",
   "metadata": {
    "id": "ChkLdNM15H7A"
   },
   "source": [
    "**break statement**\n",
    "\n",
    "\n",
    "- The break statement is used to terminate or end the current loop ​\n",
    "\n",
    "- Once the break statement occurs, ​\n",
    "\n",
    "  - the current execution of loop stops, and ​\n",
    "\n",
    "  - the flow of control is transferred to the following line of code immediately after the loop​\n",
    "- **Note: break statement executes, means the loop gets terminated abruptly**"
   ]
  },
  {
   "cell_type": "code",
   "execution_count": 27,
   "metadata": {},
   "outputs": [
    {
     "name": "stdout",
     "output_type": "stream",
     "text": [
      "Enter a number: 5\n",
      "Number = 5  |  Square = 25\n",
      "Enter a number: 2\n",
      "Number = 2  |  Square = 4\n",
      "Enter a number: 9\n",
      "Number = 9  |  Square = 81\n",
      "Enter a number: 100\n"
     ]
    }
   ],
   "source": [
    "# Enter ten numbers, display its square\n",
    "# STOP the loop if the entered number is 100\n",
    "\n",
    "for i in range(10):\n",
    "    num = int(input('Enter a number: '))\n",
    "    if num == 100:\n",
    "        break                                       # terminate the loop\n",
    "    print(f\"Number = {num}  |  Square = {num*num}\")\n"
   ]
  },
  {
   "cell_type": "code",
   "execution_count": null,
   "metadata": {
    "id": "I70ydmeP3Un-"
   },
   "outputs": [],
   "source": []
  },
  {
   "cell_type": "markdown",
   "metadata": {
    "id": "KdFeQr-O7WU5"
   },
   "source": [
    "**continue statement**\n",
    "\n",
    "- The continue statement skips the current iteration of a loop​\n",
    "\n",
    "- It then immediately jumps to the next iteration skipping the remaining code​\n",
    "\n",
    "- You can use continue statement if you want to jump to the next iteration of the loop immediately​\n",
    "\n",
    "- The continue statement doesn’t terminate the loop\n",
    "but continues the next iteration ignoring the specified block of code​\n"
   ]
  },
  {
   "cell_type": "code",
   "execution_count": 28,
   "metadata": {},
   "outputs": [
    {
     "name": "stdout",
     "output_type": "stream",
     "text": [
      "Enter a number: 4\n",
      "Number = 4  |  Square = 16\n",
      "Enter a number: 2\n",
      "Number = 2  |  Square = 4\n",
      "Enter a number: 3\n",
      "Number = 3  |  Square = 9\n",
      "Enter a number: 100\n",
      "Enter a number: 6\n",
      "Number = 6  |  Square = 36\n",
      "Enter a number: 77\n",
      "Number = 77  |  Square = 5929\n",
      "Enter a number: 100\n",
      "Enter a number: 44\n",
      "Number = 44  |  Square = 1936\n",
      "Enter a number: 100\n",
      "Enter a number: 3\n",
      "Number = 3  |  Square = 9\n"
     ]
    }
   ],
   "source": [
    "# Enter ten numbers, display its square\n",
    "# Don't show the square if the entered number is 100\n",
    "\n",
    "for i in range(10):\n",
    "    num = int(input('Enter a number: '))\n",
    "    if num == 100:\n",
    "        continue\n",
    "    print(f\"Number = {num}  |  Square = {num*num}\")\n"
   ]
  },
  {
   "cell_type": "code",
   "execution_count": null,
   "metadata": {},
   "outputs": [],
   "source": []
  },
  {
   "cell_type": "code",
   "execution_count": null,
   "metadata": {},
   "outputs": [],
   "source": [
    "# Enter name & display\n",
    "# count of occurrence of letter 'a' in a given string\n"
   ]
  },
  {
   "cell_type": "code",
   "execution_count": null,
   "metadata": {
    "id": "mn1dthRE8isg"
   },
   "outputs": [],
   "source": []
  },
  {
   "cell_type": "markdown",
   "metadata": {
    "id": "wytXJakg8joG"
   },
   "source": [
    "**Pass Statement in for loop**\n",
    "\n",
    "- The pass statement is a null statement, i.e., nothing happens when the statement is executed.\n",
    "\n",
    "- Primarily it is used in empty functions or classes. When the interpreter finds a pass statement in the program, it returns no operation.\n",
    "\n",
    "- Sometimes there is a situation in programming where we need to define a syntactically empty block. We can define that block with the pass keyword.\n"
   ]
  },
  {
   "cell_type": "code",
   "execution_count": 29,
   "metadata": {
    "id": "aarC68a-8j4A"
   },
   "outputs": [],
   "source": [
    "# Observe the given code\n",
    "\n",
    "num = [1, 4, 5, 3, 7, 8]\n",
    "\n",
    "for i in num:\n",
    "    # calculate multiplication in future if required\n",
    "    pass\n"
   ]
  },
  {
   "cell_type": "code",
   "execution_count": null,
   "metadata": {
    "id": "yC1sMyVmcdTt"
   },
   "outputs": [],
   "source": []
  },
  {
   "cell_type": "markdown",
   "metadata": {
    "id": "tBqTJC755-Js"
   },
   "source": [
    "**While Loop**\n",
    "\n",
    "- The while loop in Python is used to iterate over a block of code as long as the test expression (condition) is true.\n",
    "\n",
    "- We generally use this loop when we don't know the number of times to iterate beforehand.\n",
    "\n",
    "- It checks the condition first the body of the loop is executed only if the condition evaluates to True.\n",
    "The loop executes until the condition evaluates to False\n",
    "Use while loop for indefinite Iteration or unknown number of iterations.\n",
    "\n",
    "- When you know definite Iteration or know number of iterations, you can use for loop\n",
    "\n",
    "**How while works:**\n",
    "\n",
    "- Loop variable initialization\n",
    "\n",
    "- Condition for termination\n",
    "\n",
    "- Updation of Loop variable"
   ]
  },
  {
   "cell_type": "code",
   "execution_count": null,
   "metadata": {
    "id": "QOhMb8V4v5-V"
   },
   "outputs": [],
   "source": [
    "'''\n",
    "while condition:\n",
    "  statement\n",
    "  statement\n",
    "  ....\n",
    "else:\n",
    "  statement\n",
    "  statement\n",
    "  ....\n",
    "'''\n",
    "# loop control variable\n",
    "# increment or decrement the loop control variable\n"
   ]
  },
  {
   "cell_type": "code",
   "execution_count": 32,
   "metadata": {},
   "outputs": [
    {
     "name": "stdout",
     "output_type": "stream",
     "text": [
      "1\n",
      "2\n",
      "3\n",
      "4\n",
      "5\n",
      "6\n",
      "7\n",
      "8\n",
      "9\n",
      "10\n"
     ]
    }
   ],
   "source": [
    "# print numbers from 1 to 10\n",
    "\n",
    "i = 1\n",
    "\n",
    "while i<11:\n",
    "    print(i)\n",
    "    i += 1\n"
   ]
  },
  {
   "cell_type": "code",
   "execution_count": 33,
   "metadata": {},
   "outputs": [
    {
     "name": "stdout",
     "output_type": "stream",
     "text": [
      "10\n",
      "9\n",
      "8\n",
      "7\n",
      "6\n",
      "5\n",
      "4\n",
      "3\n",
      "2\n",
      "1\n"
     ]
    }
   ],
   "source": [
    "# print numbers 10 9 8 7 .... 1\n",
    "\n",
    "i = 10\n",
    "\n",
    "while i>=1:\n",
    "    print(i)\n",
    "    i -= 1\n"
   ]
  },
  {
   "cell_type": "code",
   "execution_count": 35,
   "metadata": {},
   "outputs": [
    {
     "name": "stdout",
     "output_type": "stream",
     "text": [
      "1 \t 5\n",
      "5 \t 4\n",
      "20 \t 3\n",
      "60 \t 2\n",
      "120 \t 1\n",
      "120\n"
     ]
    }
   ],
   "source": [
    "# Find Factorial of a number using while loop\n",
    "# 5! = 5*4*3*2*1 = 120\n",
    "\n",
    "num = 5\n",
    "fact = 1\n",
    "\n",
    "while num >= 1:\n",
    "    print(fact,'\\t',num)\n",
    "    fact *= num\n",
    "    num -= 1\n",
    "\n",
    "print(fact)"
   ]
  },
  {
   "cell_type": "code",
   "execution_count": 40,
   "metadata": {},
   "outputs": [
    {
     "name": "stdout",
     "output_type": "stream",
     "text": [
      "Enter a number [enter 0 to stop]: 44\n",
      "It's a palindrome\n",
      "Enter a number [enter 0 to stop]: 1234\n",
      "It's not a palindrome\n",
      "Enter a number [enter 0 to stop]: 12321\n",
      "It's a palindrome\n",
      "Enter a number [enter 0 to stop]: 0\n"
     ]
    }
   ],
   "source": [
    "# Accept a number till the user wants\n",
    "# Find if it's palindrome or not:  12321, 4554, 101, NITIN\n",
    "\n",
    "while True:\n",
    "    num = int(input('Enter a number [enter 0 to stop]: '))\n",
    "    s1 = str(num)\n",
    "    if num == 0:\n",
    "        break\n",
    "    elif s1[::-1] == s1:\n",
    "        print(\"It's a palindrome\")\n",
    "    else:\n",
    "        print(\"It's not a palindrome\")\n"
   ]
  },
  {
   "cell_type": "code",
   "execution_count": 38,
   "metadata": {
    "id": "jgefP2hgdJqY"
   },
   "outputs": [
    {
     "name": "stdout",
     "output_type": "stream",
     "text": [
      "1234\n"
     ]
    }
   ],
   "source": [
    "num = 1234\n",
    "\n",
    "s1 = str(num)\n",
    "print(s1)"
   ]
  },
  {
   "cell_type": "code",
   "execution_count": 39,
   "metadata": {},
   "outputs": [
    {
     "data": {
      "text/plain": [
       "'4321'"
      ]
     },
     "execution_count": 39,
     "metadata": {},
     "output_type": "execute_result"
    }
   ],
   "source": [
    "s1[::-1]   # to reverse the string"
   ]
  },
  {
   "cell_type": "code",
   "execution_count": null,
   "metadata": {},
   "outputs": [],
   "source": []
  },
  {
   "cell_type": "code",
   "execution_count": 43,
   "metadata": {},
   "outputs": [
    {
     "name": "stdout",
     "output_type": "stream",
     "text": [
      "Enter age: -8\n",
      "Age as is invalid\n",
      "Enter age: -42\n",
      "Age as is invalid\n",
      "Enter age: 0\n",
      "Age as is invalid\n",
      "Enter age: 23\n"
     ]
    }
   ],
   "source": [
    "# Enter age of a person. \n",
    "# Raise an exception if the entered age is negative.\n",
    "\n",
    "while True:\n",
    "    try:\n",
    "        age = int(input(\"Enter age: \"))\n",
    "        if age<=0 or type(age)!=int:\n",
    "            raise ValueError\n",
    "        break\n",
    "    except ValueError:\n",
    "        print(f\"Age as is invalid\")\n"
   ]
  },
  {
   "cell_type": "code",
   "execution_count": null,
   "metadata": {},
   "outputs": [],
   "source": []
  }
 ],
 "metadata": {
  "colab": {
   "provenance": []
  },
  "kernelspec": {
   "display_name": "Python 3 (ipykernel)",
   "language": "python",
   "name": "python3"
  },
  "language_info": {
   "codemirror_mode": {
    "name": "ipython",
    "version": 3
   },
   "file_extension": ".py",
   "mimetype": "text/x-python",
   "name": "python",
   "nbconvert_exporter": "python",
   "pygments_lexer": "ipython3",
   "version": "3.11.5"
  }
 },
 "nbformat": 4,
 "nbformat_minor": 1
}
