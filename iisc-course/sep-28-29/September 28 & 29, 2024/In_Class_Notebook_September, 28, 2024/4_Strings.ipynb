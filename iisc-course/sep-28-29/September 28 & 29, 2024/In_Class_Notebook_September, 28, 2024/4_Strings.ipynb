{
 "cells": [
  {
   "cell_type": "markdown",
   "metadata": {
    "id": "CcdFkG36iXnb"
   },
   "source": [
    "### String in Python is Ordered and Immutable\n",
    "### String slicing\n",
    "\n",
    "- String Slicing is used to create a substring from a string\n",
    "- String in Python is immutable => we cannot modify a string after it's creation\n",
    "- Slicing creates a new substring from the source string\n",
    "- The original string remains unchanged\n",
    "- Syntax:\n",
    "    - str_object [start_pos : end_pos : step]\n"
   ]
  },
  {
   "cell_type": "code",
   "execution_count": 1,
   "metadata": {},
   "outputs": [
    {
     "data": {
      "text/plain": [
       "'HelloWorld'"
      ]
     },
     "execution_count": 1,
     "metadata": {},
     "output_type": "execute_result"
    }
   ],
   "source": [
    "# Slicing string using : operator\n",
    "\n",
    "mystring = 'HelloWorld'\n",
    "\n",
    "mystring"
   ]
  },
  {
   "cell_type": "code",
   "execution_count": 5,
   "metadata": {},
   "outputs": [
    {
     "data": {
      "text/plain": [
       "'l'"
      ]
     },
     "execution_count": 5,
     "metadata": {},
     "output_type": "execute_result"
    }
   ],
   "source": [
    "mystring[-2]"
   ]
  },
  {
   "cell_type": "code",
   "execution_count": 6,
   "metadata": {},
   "outputs": [
    {
     "data": {
      "text/plain": [
       "'H'"
      ]
     },
     "execution_count": 6,
     "metadata": {},
     "output_type": "execute_result"
    }
   ],
   "source": [
    "mystring[0]"
   ]
  },
  {
   "cell_type": "code",
   "execution_count": 7,
   "metadata": {},
   "outputs": [
    {
     "data": {
      "text/plain": [
       "'HelloWorld'"
      ]
     },
     "execution_count": 7,
     "metadata": {},
     "output_type": "execute_result"
    }
   ],
   "source": [
    "#             0 1 2 3 4 5 6 7 8 9     Positive index numbers\n",
    "# mystring = 'H e l l o W o r l d'\n",
    "#           -10-9-8-7-6-5-4-3-2-1     Negative index numbers\n",
    "\n",
    "# Display \"World\"\n",
    "\n",
    "mystring"
   ]
  },
  {
   "cell_type": "code",
   "execution_count": 8,
   "metadata": {},
   "outputs": [
    {
     "data": {
      "text/plain": [
       "'World'"
      ]
     },
     "execution_count": 8,
     "metadata": {},
     "output_type": "execute_result"
    }
   ],
   "source": [
    "mystring[5:]"
   ]
  },
  {
   "cell_type": "code",
   "execution_count": 12,
   "metadata": {},
   "outputs": [
    {
     "data": {
      "text/plain": [
       "'Hello'"
      ]
     },
     "execution_count": 12,
     "metadata": {},
     "output_type": "execute_result"
    }
   ],
   "source": [
    "mystring[0:5:1]"
   ]
  },
  {
   "cell_type": "code",
   "execution_count": 13,
   "metadata": {},
   "outputs": [
    {
     "data": {
      "text/plain": [
       "'Hlo'"
      ]
     },
     "execution_count": 13,
     "metadata": {},
     "output_type": "execute_result"
    }
   ],
   "source": [
    "mystring[0:5:2]"
   ]
  },
  {
   "cell_type": "code",
   "execution_count": 14,
   "metadata": {},
   "outputs": [
    {
     "data": {
      "text/plain": [
       "'HelloWorld'"
      ]
     },
     "execution_count": 14,
     "metadata": {},
     "output_type": "execute_result"
    }
   ],
   "source": [
    "#             0 1 2 3 4 5 6 7 8 9     Positive index numbers\n",
    "# mystring = 'H e l l o W o r l d'\n",
    "#           -10-9-8-7-6-5-4-3-2-1     Negative index numbers\n",
    "\n",
    "mystring"
   ]
  },
  {
   "cell_type": "code",
   "execution_count": 15,
   "metadata": {},
   "outputs": [
    {
     "data": {
      "text/plain": [
       "'Hello'"
      ]
     },
     "execution_count": 15,
     "metadata": {},
     "output_type": "execute_result"
    }
   ],
   "source": [
    "mystring[-10:-5]"
   ]
  },
  {
   "cell_type": "code",
   "execution_count": 16,
   "metadata": {},
   "outputs": [
    {
     "data": {
      "text/plain": [
       "'World'"
      ]
     },
     "execution_count": 16,
     "metadata": {},
     "output_type": "execute_result"
    }
   ],
   "source": [
    "mystring[-5:]"
   ]
  },
  {
   "cell_type": "code",
   "execution_count": 17,
   "metadata": {},
   "outputs": [
    {
     "data": {
      "text/plain": [
       "'INDIA'"
      ]
     },
     "execution_count": 17,
     "metadata": {},
     "output_type": "execute_result"
    }
   ],
   "source": [
    "# Reverse a string\n",
    "\n",
    "mystring = 'INDIA'\n",
    "\n",
    "mystring[::]"
   ]
  },
  {
   "cell_type": "code",
   "execution_count": 18,
   "metadata": {},
   "outputs": [
    {
     "data": {
      "text/plain": [
       "'AIDNI'"
      ]
     },
     "execution_count": 18,
     "metadata": {},
     "output_type": "execute_result"
    }
   ],
   "source": [
    "mystring[::-1]"
   ]
  },
  {
   "cell_type": "code",
   "execution_count": null,
   "metadata": {},
   "outputs": [],
   "source": []
  },
  {
   "cell_type": "markdown",
   "metadata": {
    "id": "KZDHVroCiYi5"
   },
   "source": [
    "**String Slicing - Out of range index**"
   ]
  },
  {
   "cell_type": "code",
   "execution_count": 19,
   "metadata": {
    "colab": {
     "base_uri": "https://localhost:8080/"
    },
    "id": "7eD8qxopiYwz",
    "outputId": "59396dff-c4bd-4791-d6cc-d1b0aa04459e"
   },
   "outputs": [
    {
     "name": "stdout",
     "output_type": "stream",
     "text": [
      "Python\n"
     ]
    }
   ],
   "source": [
    "# Observe the code\n",
    "\n",
    "mystring = 'Python'\n",
    "\n",
    "print(mystring[:100])      # out of range index will not show error\n"
   ]
  },
  {
   "cell_type": "code",
   "execution_count": null,
   "metadata": {},
   "outputs": [],
   "source": []
  },
  {
   "cell_type": "markdown",
   "metadata": {
    "id": "13xuatgOiY-i"
   },
   "source": [
    "**Working with List of Strings**"
   ]
  },
  {
   "cell_type": "code",
   "execution_count": 20,
   "metadata": {},
   "outputs": [
    {
     "data": {
      "text/plain": [
       "['india', 'canada', 'japan', 'newzeland']"
      ]
     },
     "execution_count": 20,
     "metadata": {},
     "output_type": "execute_result"
    }
   ],
   "source": [
    "# List of strings\n",
    "\n",
    "words = ['india',\n",
    "         'canada',\n",
    "         'japan',\n",
    "         'newzeland']\n",
    "\n",
    "words"
   ]
  },
  {
   "cell_type": "code",
   "execution_count": 21,
   "metadata": {},
   "outputs": [
    {
     "data": {
      "text/plain": [
       "'newzeland'"
      ]
     },
     "execution_count": 21,
     "metadata": {},
     "output_type": "execute_result"
    }
   ],
   "source": [
    "words[-1]"
   ]
  },
  {
   "cell_type": "code",
   "execution_count": 22,
   "metadata": {},
   "outputs": [
    {
     "data": {
      "text/plain": [
       "'dnalezwen'"
      ]
     },
     "execution_count": 22,
     "metadata": {},
     "output_type": "execute_result"
    }
   ],
   "source": [
    "words[-1][::-1]"
   ]
  },
  {
   "cell_type": "code",
   "execution_count": null,
   "metadata": {},
   "outputs": [],
   "source": []
  },
  {
   "cell_type": "markdown",
   "metadata": {
    "id": "GaT0PKfeujiC"
   },
   "source": [
    "**join() function**\n",
    "\n",
    "- Converts the elements of an iterable into a string\n",
    "\n",
    "- example:\n",
    "\n",
    "  - ' '.join(listOfString)  # space as seperator\n",
    "\n",
    "  - '-'.join(listOfString)  # hyphen as seperator\n",
    "\n",
    "  - Here listOfString is an iterable\n"
   ]
  },
  {
   "cell_type": "code",
   "execution_count": 23,
   "metadata": {},
   "outputs": [
    {
     "data": {
      "text/plain": [
       "['india', 'japan', 'canada']"
      ]
     },
     "execution_count": 23,
     "metadata": {},
     "output_type": "execute_result"
    }
   ],
   "source": [
    "words = ['india', 'japan', 'canada']\n",
    "words"
   ]
  },
  {
   "cell_type": "code",
   "execution_count": 24,
   "metadata": {},
   "outputs": [
    {
     "data": {
      "text/plain": [
       "'india-japan-canada'"
      ]
     },
     "execution_count": 24,
     "metadata": {},
     "output_type": "execute_result"
    }
   ],
   "source": [
    "mystr = '-'\n",
    "\n",
    "mystr.join(words)"
   ]
  },
  {
   "cell_type": "code",
   "execution_count": 25,
   "metadata": {},
   "outputs": [
    {
     "data": {
      "text/plain": [
       "'india***japan***canada'"
      ]
     },
     "execution_count": 25,
     "metadata": {},
     "output_type": "execute_result"
    }
   ],
   "source": [
    "'***'.join(words)"
   ]
  },
  {
   "cell_type": "code",
   "execution_count": null,
   "metadata": {},
   "outputs": [],
   "source": []
  },
  {
   "cell_type": "code",
   "execution_count": 26,
   "metadata": {},
   "outputs": [
    {
     "data": {
      "text/plain": [
       "'12/20/2023'"
      ]
     },
     "execution_count": 26,
     "metadata": {},
     "output_type": "execute_result"
    }
   ],
   "source": [
    "dateList = ['12','20','2023']\n",
    "\n",
    "'/'.join(dateList)"
   ]
  },
  {
   "cell_type": "code",
   "execution_count": null,
   "metadata": {},
   "outputs": [],
   "source": []
  },
  {
   "cell_type": "markdown",
   "metadata": {
    "id": "5VBy2llL5vyR"
   },
   "source": [
    "**Copy a string using string slicing**\n",
    "\n",
    "- Another way of copying a string is by using a string slicing method\n",
    "\n",
    "- for example\n",
    "\n",
    "  - stringObject2 = stringObject1[::]"
   ]
  },
  {
   "cell_type": "code",
   "execution_count": 27,
   "metadata": {},
   "outputs": [
    {
     "data": {
      "text/plain": [
       "'i love my india'"
      ]
     },
     "execution_count": 27,
     "metadata": {},
     "output_type": "execute_result"
    }
   ],
   "source": [
    "sentence = 'i love my india'\n",
    "sentence"
   ]
  },
  {
   "cell_type": "code",
   "execution_count": 28,
   "metadata": {},
   "outputs": [
    {
     "data": {
      "text/plain": [
       "'my india'"
      ]
     },
     "execution_count": 28,
     "metadata": {},
     "output_type": "execute_result"
    }
   ],
   "source": [
    "sentence2 = sentence[7:]\n",
    "sentence2"
   ]
  },
  {
   "cell_type": "code",
   "execution_count": null,
   "metadata": {},
   "outputs": [],
   "source": []
  },
  {
   "cell_type": "markdown",
   "metadata": {
    "id": "wTKKdb0Oulcl"
   },
   "source": [
    "- upper() Converts a string into upper case\n",
    "    - strObject.upper()\n",
    "- lower()\tConverts a string into lower case\n",
    "    - strObject.lower()\n",
    "- title() Converts a string into title case\n",
    "    - strObject.title()\n",
    "- capitalize()\tConverts the first character to upper case\n",
    "    - strObject.capitalize()"
   ]
  },
  {
   "cell_type": "code",
   "execution_count": 29,
   "metadata": {},
   "outputs": [
    {
     "data": {
      "text/plain": [
       "'JOhn SMith'"
      ]
     },
     "execution_count": 29,
     "metadata": {},
     "output_type": "execute_result"
    }
   ],
   "source": [
    "name = 'JOhn SMith'\n",
    "name"
   ]
  },
  {
   "cell_type": "code",
   "execution_count": 30,
   "metadata": {},
   "outputs": [
    {
     "data": {
      "text/plain": [
       "'JOHN SMITH'"
      ]
     },
     "execution_count": 30,
     "metadata": {},
     "output_type": "execute_result"
    }
   ],
   "source": [
    "name.upper()"
   ]
  },
  {
   "cell_type": "code",
   "execution_count": 31,
   "metadata": {},
   "outputs": [
    {
     "data": {
      "text/plain": [
       "'JOhn SMith'"
      ]
     },
     "execution_count": 31,
     "metadata": {},
     "output_type": "execute_result"
    }
   ],
   "source": [
    "name"
   ]
  },
  {
   "cell_type": "code",
   "execution_count": 32,
   "metadata": {},
   "outputs": [
    {
     "data": {
      "text/plain": [
       "'john smith'"
      ]
     },
     "execution_count": 32,
     "metadata": {},
     "output_type": "execute_result"
    }
   ],
   "source": [
    "name.lower()"
   ]
  },
  {
   "cell_type": "code",
   "execution_count": 33,
   "metadata": {},
   "outputs": [
    {
     "data": {
      "text/plain": [
       "'John Smith'"
      ]
     },
     "execution_count": 33,
     "metadata": {},
     "output_type": "execute_result"
    }
   ],
   "source": [
    "name.title()"
   ]
  },
  {
   "cell_type": "code",
   "execution_count": 34,
   "metadata": {},
   "outputs": [
    {
     "data": {
      "text/plain": [
       "'John smith'"
      ]
     },
     "execution_count": 34,
     "metadata": {},
     "output_type": "execute_result"
    }
   ],
   "source": [
    "name.capitalize()"
   ]
  },
  {
   "cell_type": "code",
   "execution_count": null,
   "metadata": {},
   "outputs": [],
   "source": []
  },
  {
   "cell_type": "markdown",
   "metadata": {
    "id": "RuzHMhhHBtDG"
   },
   "source": [
    "**Repeat a string**\n",
    "\n",
    "- example\n",
    "\n",
    "  - strObject * 5  # this will repeat the string object 5 times"
   ]
  },
  {
   "cell_type": "code",
   "execution_count": 35,
   "metadata": {},
   "outputs": [
    {
     "data": {
      "text/plain": [
       "'Amazing'"
      ]
     },
     "execution_count": 35,
     "metadata": {},
     "output_type": "execute_result"
    }
   ],
   "source": [
    "word = 'Amazing'\n",
    "word"
   ]
  },
  {
   "cell_type": "code",
   "execution_count": 36,
   "metadata": {},
   "outputs": [
    {
     "data": {
      "text/plain": [
       "'AmazingAmazingAmazing'"
      ]
     },
     "execution_count": 36,
     "metadata": {},
     "output_type": "execute_result"
    }
   ],
   "source": [
    "word * 3"
   ]
  },
  {
   "cell_type": "code",
   "execution_count": null,
   "metadata": {},
   "outputs": [],
   "source": []
  },
  {
   "cell_type": "markdown",
   "metadata": {
    "id": "xXVeUhjQCoO8"
   },
   "source": [
    "**replace() function**\n",
    "\n",
    "- Replace Part of a String\n",
    "\n",
    "- syntax\n",
    "\n",
    "  - stringObject.replace(oldSubstring, newSubstring)\n",
    "\n"
   ]
  },
  {
   "cell_type": "code",
   "execution_count": null,
   "metadata": {},
   "outputs": [],
   "source": [
    "# Replace comma with nothing\n",
    "\n",
    "Number = '12,500'\n"
   ]
  },
  {
   "cell_type": "code",
   "execution_count": null,
   "metadata": {},
   "outputs": [],
   "source": []
  },
  {
   "cell_type": "markdown",
   "metadata": {
    "id": "wn1v6YWBD2ck"
   },
   "source": [
    "**count() function**\n",
    "\n",
    "- Counting any character/substring from a string\n",
    "\n",
    "\n",
    "- syntax\n",
    "\n",
    "  - stringObject.count(Substring)"
   ]
  },
  {
   "cell_type": "code",
   "execution_count": 37,
   "metadata": {},
   "outputs": [
    {
     "data": {
      "text/plain": [
       "4"
      ]
     },
     "execution_count": 37,
     "metadata": {},
     "output_type": "execute_result"
    }
   ],
   "source": [
    "course101 = \"Today is, your second week, of data science course.\"\n",
    "\n",
    "# find occurance of the letter  's'\n",
    "course101.count('s')"
   ]
  },
  {
   "cell_type": "code",
   "execution_count": 39,
   "metadata": {},
   "outputs": [
    {
     "data": {
      "text/plain": [
       "2"
      ]
     },
     "execution_count": 39,
     "metadata": {},
     "output_type": "execute_result"
    }
   ],
   "source": [
    "course101 = \"data Today is, your second week, of data science course.\"\n",
    "\n",
    "# find occurance of 'data'\n",
    "course101.count('data')"
   ]
  },
  {
   "cell_type": "code",
   "execution_count": null,
   "metadata": {},
   "outputs": [],
   "source": []
  },
  {
   "cell_type": "markdown",
   "metadata": {
    "id": "1v1-eQtdD3ZN"
   },
   "source": [
    "**Remove spaces / characters of the string**\n",
    "\n",
    "- lstrip() - Returns a left trim version of the string\n",
    "\n",
    "  - removes any leading characters (space is the default leading character to remove)\n",
    "\n",
    "- rstrip() - Returns a right trim version of the string\n",
    "\n",
    "  - removes any trailing characters (characters at the end a string)\n",
    "  \n",
    "  - space is the default trailing character to remove\n",
    "\n",
    "- strip() - Returns a trimmed version of the string\n",
    "\n",
    "  - removes any leading (spaces at the beginning) and trailing (spaces at the end) characters\n"
   ]
  },
  {
   "cell_type": "code",
   "execution_count": null,
   "metadata": {},
   "outputs": [],
   "source": [
    "# Remove space from the string\n",
    "\n",
    "mystring = \"   Name is enough   \"\n",
    "mystring"
   ]
  },
  {
   "cell_type": "code",
   "execution_count": null,
   "metadata": {},
   "outputs": [],
   "source": [
    "mystring.strip()"
   ]
  },
  {
   "cell_type": "code",
   "execution_count": null,
   "metadata": {},
   "outputs": [],
   "source": [
    "mystring.lstrip()"
   ]
  },
  {
   "cell_type": "code",
   "execution_count": null,
   "metadata": {},
   "outputs": [],
   "source": [
    "mystring.rstrip()"
   ]
  },
  {
   "cell_type": "code",
   "execution_count": null,
   "metadata": {},
   "outputs": [],
   "source": [
    "# Remove the character '@' from the string\n",
    "\n",
    "mystring = \"AGCTCGATGGTTCCAACGCGCGC@@@@@@@\"\n",
    "mystring"
   ]
  },
  {
   "cell_type": "code",
   "execution_count": null,
   "metadata": {},
   "outputs": [],
   "source": [
    "mystring.rstrip('@')"
   ]
  },
  {
   "cell_type": "code",
   "execution_count": null,
   "metadata": {},
   "outputs": [],
   "source": []
  },
  {
   "cell_type": "markdown",
   "metadata": {
    "id": "dLo60_gjZ8lr"
   },
   "source": [
    "**String Character Checking**\n",
    "\n",
    "- endswith() method returns True if the string ends with the specified value, otherwise False.\n",
    "\n",
    "  - syntax\n",
    "\n",
    "    - stringObject.endswith(subString)\n",
    "\n",
    "- startswith() method returns True if the string starts with the specified value, otherwise False.\n",
    "\n",
    "  - syntax\n",
    "\n",
    "    - stringObject.startswith(subString)\n"
   ]
  },
  {
   "cell_type": "code",
   "execution_count": null,
   "metadata": {},
   "outputs": [],
   "source": [
    "myString = \"Good data is better than Big data.\"\n",
    "\n",
    "# Check if the string ends with a dot .\n",
    "myString.endswith('.')"
   ]
  },
  {
   "cell_type": "code",
   "execution_count": null,
   "metadata": {},
   "outputs": [],
   "source": [
    "myString.startswith('the')"
   ]
  },
  {
   "cell_type": "code",
   "execution_count": null,
   "metadata": {},
   "outputs": [],
   "source": []
  },
  {
   "cell_type": "markdown",
   "metadata": {
    "id": "o_mU95sSbJLT"
   },
   "source": [
    "**String Searching**\n",
    "\n",
    "- find() - Searches the string for a specified value and returns the first position of where it was found\n",
    "\n",
    "  - syntax\n",
    "\n",
    "    - stringObject.find(subString)\n"
   ]
  },
  {
   "cell_type": "code",
   "execution_count": null,
   "metadata": {},
   "outputs": [],
   "source": [
    "# Seach the position of the string \"data\"\n",
    "\n",
    "myString = \"Good data is better than Big data.\"\n",
    "myString"
   ]
  },
  {
   "cell_type": "code",
   "execution_count": null,
   "metadata": {},
   "outputs": [],
   "source": [
    "myString.find('data')"
   ]
  },
  {
   "cell_type": "code",
   "execution_count": null,
   "metadata": {},
   "outputs": [],
   "source": []
  },
  {
   "cell_type": "markdown",
   "metadata": {
    "id": "N6NCL3jwd6uG"
   },
   "source": [
    "#### Alphanumeric characters\n",
    "\n",
    "- isalnum() method is use to check if a string only contains alphanumeric characters (alphabets and numbers)\n",
    "\n",
    "- The method returns True if the string contains alphanumeric characters, otherwise returns False\n",
    "\n",
    "- The method doesn't have any parameters\n",
    "\n",
    "  - syntax\n",
    "\n",
    "    - stringObject.isalnum()\n"
   ]
  },
  {
   "cell_type": "code",
   "execution_count": null,
   "metadata": {
    "id": "T2BqiReYsdME"
   },
   "outputs": [],
   "source": [
    "# Check if the string has only alphanumeric (alphabets and numbers) characters\n",
    "myString = 'ID23#'\n",
    "\n",
    "myString.isalnum()"
   ]
  },
  {
   "cell_type": "markdown",
   "metadata": {},
   "source": [
    "#### Observe the code"
   ]
  },
  {
   "cell_type": "code",
   "execution_count": 40,
   "metadata": {},
   "outputs": [
    {
     "name": "stdout",
     "output_type": "stream",
     "text": [
      "Helloworld!\n"
     ]
    }
   ],
   "source": [
    "# Simple string operations\n",
    "\n",
    "h = \"Hello\"\n",
    "w = \"world!\"\n",
    "hw = h + w\n",
    "\n",
    "print(hw)"
   ]
  },
  {
   "cell_type": "code",
   "execution_count": 41,
   "metadata": {},
   "outputs": [
    {
     "name": "stdout",
     "output_type": "stream",
     "text": [
      "Hello world!\n"
     ]
    }
   ],
   "source": [
    "hsw = h + ' ' + w\n",
    "\n",
    "print(hsw)\n"
   ]
  },
  {
   "cell_type": "code",
   "execution_count": 42,
   "metadata": {},
   "outputs": [
    {
     "name": "stdout",
     "output_type": "stream",
     "text": [
      "HelloHelloHelloHello   world!world!\n"
     ]
    }
   ],
   "source": [
    "# 4 times hello, 3 times space, 2 times world\n",
    "h4s3w2 = 4 * h + \" \" * 3 + w * 2\n",
    "print(h4s3w2)\n"
   ]
  },
  {
   "cell_type": "code",
   "execution_count": 43,
   "metadata": {},
   "outputs": [
    {
     "name": "stdout",
     "output_type": "stream",
     "text": [
      "True\n"
     ]
    }
   ],
   "source": [
    "# find if 'hello' is present in the string\n",
    "print(h in hsw)\n"
   ]
  },
  {
   "cell_type": "code",
   "execution_count": null,
   "metadata": {},
   "outputs": [],
   "source": [
    "# find if a space is present in the string\n",
    "print(' ' in hw)\n"
   ]
  },
  {
   "cell_type": "code",
   "execution_count": null,
   "metadata": {},
   "outputs": [],
   "source": [
    "# length of a string\n",
    "print(len(h4s3w2))\n"
   ]
  },
  {
   "cell_type": "markdown",
   "metadata": {
    "id": "B_tKcpk-eyy-"
   },
   "source": [
    "**Check If The String Is Empty**\n",
    "\n",
    "- Use **not** operator"
   ]
  },
  {
   "cell_type": "code",
   "execution_count": 44,
   "metadata": {
    "id": "meubAgo5tZk1"
   },
   "outputs": [
    {
     "name": "stdout",
     "output_type": "stream",
     "text": [
      "Try again\n"
     ]
    }
   ],
   "source": [
    "# What will be the output of the code\n",
    "\n",
    "my_string = ''    # empty string is always False\n",
    "\n",
    "if my_string:\n",
    "    print(\"Good work\")\n",
    "else:\n",
    "    print(\"Try again\")\n"
   ]
  },
  {
   "cell_type": "code",
   "execution_count": 48,
   "metadata": {},
   "outputs": [
    {
     "name": "stdout",
     "output_type": "stream",
     "text": [
      "input a number:1\n",
      "\n"
     ]
    },
    {
     "ename": "KeyboardInterrupt",
     "evalue": "Interrupted by user",
     "output_type": "error",
     "traceback": [
      "\u001b[1;31m---------------------------------------------------------------------------\u001b[0m",
      "\u001b[1;31mKeyboardInterrupt\u001b[0m                         Traceback (most recent call last)",
      "Cell \u001b[1;32mIn[48], line 10\u001b[0m\n\u001b[0;32m      8\u001b[0m \u001b[38;5;28;01mwhile\u001b[39;00m \u001b[38;5;28;01mTrue\u001b[39;00m:\n\u001b[0;32m      9\u001b[0m     \u001b[38;5;28;01mtry\u001b[39;00m:\n\u001b[1;32m---> 10\u001b[0m         function1()\n\u001b[0;32m     11\u001b[0m     \u001b[38;5;28;01mexcept\u001b[39;00m \u001b[38;5;167;01mException\u001b[39;00m \u001b[38;5;28;01mas\u001b[39;00m e:\n\u001b[0;32m     12\u001b[0m         \u001b[38;5;28mprint\u001b[39m(e)\n",
      "Cell \u001b[1;32mIn[48], line 2\u001b[0m, in \u001b[0;36mfunction1\u001b[1;34m()\u001b[0m\n\u001b[0;32m      1\u001b[0m \u001b[38;5;28;01mdef\u001b[39;00m \u001b[38;5;21mfunction1\u001b[39m():\n\u001b[1;32m----> 2\u001b[0m         in1 \u001b[38;5;241m=\u001b[39m \u001b[38;5;28mint\u001b[39m(\u001b[38;5;28minput\u001b[39m(\u001b[38;5;124m\"\u001b[39m\u001b[38;5;124minput a number:\u001b[39m\u001b[38;5;124m\"\u001b[39m))\n\u001b[0;32m      3\u001b[0m         \u001b[38;5;28;01mif\u001b[39;00m in1 \u001b[38;5;241m==\u001b[39m \u001b[38;5;241m1\u001b[39m:\n\u001b[0;32m      4\u001b[0m             \u001b[38;5;28;01mraise\u001b[39;00m \u001b[38;5;167;01mException\u001b[39;00m\n",
      "File \u001b[1;32mC:\\ProgramData\\anaconda3\\Lib\\site-packages\\ipykernel\\kernelbase.py:1202\u001b[0m, in \u001b[0;36mKernel.raw_input\u001b[1;34m(self, prompt)\u001b[0m\n\u001b[0;32m   1200\u001b[0m     msg \u001b[38;5;241m=\u001b[39m \u001b[38;5;124m\"\u001b[39m\u001b[38;5;124mraw_input was called, but this frontend does not support input requests.\u001b[39m\u001b[38;5;124m\"\u001b[39m\n\u001b[0;32m   1201\u001b[0m     \u001b[38;5;28;01mraise\u001b[39;00m StdinNotImplementedError(msg)\n\u001b[1;32m-> 1202\u001b[0m \u001b[38;5;28;01mreturn\u001b[39;00m \u001b[38;5;28mself\u001b[39m\u001b[38;5;241m.\u001b[39m_input_request(\n\u001b[0;32m   1203\u001b[0m     \u001b[38;5;28mstr\u001b[39m(prompt),\n\u001b[0;32m   1204\u001b[0m     \u001b[38;5;28mself\u001b[39m\u001b[38;5;241m.\u001b[39m_parent_ident[\u001b[38;5;124m\"\u001b[39m\u001b[38;5;124mshell\u001b[39m\u001b[38;5;124m\"\u001b[39m],\n\u001b[0;32m   1205\u001b[0m     \u001b[38;5;28mself\u001b[39m\u001b[38;5;241m.\u001b[39mget_parent(\u001b[38;5;124m\"\u001b[39m\u001b[38;5;124mshell\u001b[39m\u001b[38;5;124m\"\u001b[39m),\n\u001b[0;32m   1206\u001b[0m     password\u001b[38;5;241m=\u001b[39m\u001b[38;5;28;01mFalse\u001b[39;00m,\n\u001b[0;32m   1207\u001b[0m )\n",
      "File \u001b[1;32mC:\\ProgramData\\anaconda3\\Lib\\site-packages\\ipykernel\\kernelbase.py:1245\u001b[0m, in \u001b[0;36mKernel._input_request\u001b[1;34m(self, prompt, ident, parent, password)\u001b[0m\n\u001b[0;32m   1242\u001b[0m \u001b[38;5;28;01mexcept\u001b[39;00m \u001b[38;5;167;01mKeyboardInterrupt\u001b[39;00m:\n\u001b[0;32m   1243\u001b[0m     \u001b[38;5;66;03m# re-raise KeyboardInterrupt, to truncate traceback\u001b[39;00m\n\u001b[0;32m   1244\u001b[0m     msg \u001b[38;5;241m=\u001b[39m \u001b[38;5;124m\"\u001b[39m\u001b[38;5;124mInterrupted by user\u001b[39m\u001b[38;5;124m\"\u001b[39m\n\u001b[1;32m-> 1245\u001b[0m     \u001b[38;5;28;01mraise\u001b[39;00m \u001b[38;5;167;01mKeyboardInterrupt\u001b[39;00m(msg) \u001b[38;5;28;01mfrom\u001b[39;00m \u001b[38;5;28;01mNone\u001b[39;00m\n\u001b[0;32m   1246\u001b[0m \u001b[38;5;28;01mexcept\u001b[39;00m \u001b[38;5;167;01mException\u001b[39;00m:\n\u001b[0;32m   1247\u001b[0m     \u001b[38;5;28mself\u001b[39m\u001b[38;5;241m.\u001b[39mlog\u001b[38;5;241m.\u001b[39mwarning(\u001b[38;5;124m\"\u001b[39m\u001b[38;5;124mInvalid Message:\u001b[39m\u001b[38;5;124m\"\u001b[39m, exc_info\u001b[38;5;241m=\u001b[39m\u001b[38;5;28;01mTrue\u001b[39;00m)\n",
      "\u001b[1;31mKeyboardInterrupt\u001b[0m: Interrupted by user"
     ]
    }
   ],
   "source": [
    "# Here, the while loop goes into infinite loop\n",
    "\n",
    "def function1():\n",
    "        in1 = int(input(\"input a number:\"))\n",
    "        if in1 == 1:\n",
    "            raise Exception\n",
    "        print(\"good choice\")\n",
    "\n",
    "# main code\n",
    "while True:\n",
    "    try:\n",
    "        function1()\n",
    "    except Exception as e:\n",
    "        print(e)"
   ]
  },
  {
   "cell_type": "raw",
   "metadata": {},
   "source": [
    "Hi my question is How to copy my python notebook code from Sagemaker to GitHub or bitBucket. \n",
    "This is a production scenario"
   ]
  },
  {
   "cell_type": "markdown",
   "metadata": {},
   "source": [
    "To copy your Python notebook code from Amazon SageMaker to GitHub or BitBucket, you can follow these steps:\n",
    "\n",
    "**Option 1: Directly from SageMaker Notebook**\n",
    "\n",
    "1. **Open the Jupyter notebook in SageMaker:**\n",
    "   - Navigate to your notebook instance in the SageMaker console.\n",
    "   - Open the notebook you want to upload.\n",
    "\n",
    "2. **Download the notebook as a file:**\n",
    "   - In the notebook, click on `File` -> `Download as` -> `Notebook (.ipynb)` to download the Jupyter notebook file.\n",
    "\n",
    "3. **Upload to GitHub or Bitbucket:**\n",
    "\n",
    "   **For GitHub:**\n",
    "   - Go to your GitHub repository.\n",
    "   - Click `Add file` -> `Upload files`.\n",
    "   - Drag and drop the `.ipynb` file or select it from your local directory.\n",
    "   - Commit the changes by adding a commit message and clicking `Commit changes`.\n",
    "\n",
    "   **For Bitbucket:**\n",
    "   - Navigate to your Bitbucket repository.\n",
    "   - Click on the `+` button for creating a new file or uploading an existing file.\n",
    "   - Upload the `.ipynb` file and commit the changes.\n",
    "\n",
    "**Option 2: Using Git Commands from the SageMaker Terminal**\n",
    "\n",
    "1. **Open a terminal in SageMaker:**\n",
    "   - In the SageMaker console, open your notebook instance.\n",
    "   - From the SageMaker Jupyter environment, click on `File` -> `New` -> `Terminal` to open a terminal session.\n",
    "\n",
    "2. **Install Git (if not installed):**\n",
    "   - Run this command to install Git if it’s not available:\n",
    "     ```bash\n",
    "     sudo yum install git\n",
    "     ```\n",
    "\n",
    "3. **Configure Git:**\n",
    "   - Set up your Git username and email:\n",
    "     ```bash\n",
    "     git config --global user.name \"Your Name\"\n",
    "     git config --global user.email \"your.email@example.com\"\n",
    "     ```\n",
    "\n",
    "4. **Initialize a Git repository (if not already done):**\n",
    "   - Navigate to the folder where your notebook is located.\n",
    "     ```bash\n",
    "     cd ~/SageMaker\n",
    "     ```\n",
    "   - Initialize the repository (if not initialized):\n",
    "     ```bash\n",
    "     git init\n",
    "     ```\n",
    "\n",
    "5. **Add your remote repository:**\n",
    "   - For GitHub:\n",
    "     ```bash\n",
    "     git remote add origin https://github.com/your-username/your-repo.git\n",
    "     ```\n",
    "   - For Bitbucket:\n",
    "     ```bash\n",
    "     git remote add origin https://bitbucket.org/your-username/your-repo.git\n",
    "     ```\n",
    "\n",
    "6. **Add your files:**\n",
    "   ```bash\n",
    "   git add .\n",
    "   ```\n",
    "\n",
    "7. **Commit your changes:**\n",
    "   ```bash\n",
    "   git commit -m \"Add SageMaker notebook\"\n",
    "   ```\n",
    "\n",
    "8. **Push the changes:**\n",
    "   - For GitHub:\n",
    "     ```bash\n",
    "     git push -u origin master\n",
    "     ```\n",
    "   - For Bitbucket:\n",
    "     ```bash\n",
    "     git push -u origin master\n",
    "     ```\n",
    "\n",
    "**Option 3: Sync SageMaker to GitHub or BitBucket Automatically**\n",
    "\n",
    "You can also clone a GitHub or Bitbucket repository into SageMaker and save your notebook directly into the repo. When you make changes, commit and push from SageMaker directly using Git commands.\n"
   ]
  }
 ],
 "metadata": {
  "colab": {
   "provenance": []
  },
  "kernelspec": {
   "display_name": "Python 3 (ipykernel)",
   "language": "python",
   "name": "python3"
  },
  "language_info": {
   "codemirror_mode": {
    "name": "ipython",
    "version": 3
   },
   "file_extension": ".py",
   "mimetype": "text/x-python",
   "name": "python",
   "nbconvert_exporter": "python",
   "pygments_lexer": "ipython3",
   "version": "3.11.5"
  }
 },
 "nbformat": 4,
 "nbformat_minor": 1
}
