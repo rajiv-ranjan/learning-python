{
 "cells": [
  {
   "cell_type": "markdown",
   "metadata": {
    "id": "cUj4nqlegdUZ"
   },
   "source": [
    "### if - else\n",
    "\n",
    "- keywords - if & else\n",
    "- The if-else statement checks the condition first\n",
    "- If the condition is True, it executes the statements in if block\n",
    "- If the condition is False, it will execute the statements in else block\n",
    "- In Python, blocks are indicated by indent"
   ]
  },
  {
   "cell_type": "code",
   "execution_count": null,
   "metadata": {},
   "outputs": [],
   "source": [
    "# conditional operators - >,<,>=,<=, ==, !=\n",
    "\n",
    "# condition will be True or False\n",
    "\n",
    "# False is zero\n",
    "# True is a non-zero"
   ]
  },
  {
   "cell_type": "raw",
   "metadata": {},
   "source": [
    "Syntax:\n",
    "    \n",
    "if condition:\n",
    "    statement 1\n",
    "    statement 2...\n"
   ]
  },
  {
   "cell_type": "raw",
   "metadata": {},
   "source": [
    "Syntax:\n",
    "    \n",
    "if condition:\n",
    "    statement 1\n",
    "    statement 2...\n",
    "else:\n",
    "    statement 1\n",
    "    statement 2...\n",
    "    "
   ]
  },
  {
   "cell_type": "markdown",
   "metadata": {},
   "source": [
    "#### Blocks are indicated by indent"
   ]
  },
  {
   "cell_type": "code",
   "execution_count": 2,
   "metadata": {
    "colab": {
     "base_uri": "https://localhost:8080/"
    },
    "executionInfo": {
     "elapsed": 10,
     "status": "ok",
     "timestamp": 1692526148131,
     "user": {
      "displayName": "Jayasurya Thirumaran",
      "userId": "13318290182123921947"
     },
     "user_tz": -330
    },
    "id": "2Po3VFy5h5a2",
    "outputId": "57bc3125-98fe-4d41-8198-f32d99da2248"
   },
   "outputs": [
    {
     "name": "stdout",
     "output_type": "stream",
     "text": [
      "Enter a number: -87\n",
      "End of code\n"
     ]
    }
   ],
   "source": [
    "# Enter a number. Find if it's a positive.\n",
    "\n",
    "num = int(input('Enter a number: '))\n",
    "\n",
    "if num>0:\n",
    "    print(f'{num} is positive')\n",
    "    \n",
    "print('End of code')"
   ]
  },
  {
   "cell_type": "code",
   "execution_count": 3,
   "metadata": {},
   "outputs": [
    {
     "name": "stdout",
     "output_type": "stream",
     "text": [
      "Enter a number: -33\n",
      "-33 is negative\n",
      "End of code\n"
     ]
    }
   ],
   "source": [
    "# Enter a number. Find if it's a positive or negative number\n",
    "\n",
    "num = int(input('Enter a number: '))\n",
    "\n",
    "if num>0:\n",
    "    print(f'{num} is positive')\n",
    "else:\n",
    "    print(f'{num} is negative')\n",
    "    \n",
    "print('End of code')"
   ]
  },
  {
   "cell_type": "markdown",
   "metadata": {},
   "source": [
    "#### Blocks are indicated by indent"
   ]
  },
  {
   "cell_type": "code",
   "execution_count": 4,
   "metadata": {},
   "outputs": [
    {
     "ename": "IndentationError",
     "evalue": "unexpected indent (2886405531.py, line 4)",
     "output_type": "error",
     "traceback": [
      "\u001b[1;36m  Cell \u001b[1;32mIn[4], line 4\u001b[1;36m\u001b[0m\n\u001b[1;33m    print('aaa')\u001b[0m\n\u001b[1;37m    ^\u001b[0m\n\u001b[1;31mIndentationError\u001b[0m\u001b[1;31m:\u001b[0m unexpected indent\n"
     ]
    }
   ],
   "source": [
    "# Observe the code\n",
    "# What will be the output of the given code\n",
    "    \n",
    "    print('aaa')\n",
    "print('ddd')\n",
    "  a,b,c=4,2,3\n",
    "    print(a,b,c)\n",
    "    "
   ]
  },
  {
   "cell_type": "markdown",
   "metadata": {},
   "source": [
    "#### Let's Understand Conditions"
   ]
  },
  {
   "cell_type": "code",
   "execution_count": 5,
   "metadata": {},
   "outputs": [
    {
     "name": "stdout",
     "output_type": "stream",
     "text": [
      "Hello\n"
     ]
    }
   ],
   "source": [
    "# Observe the code - what will be the output\n",
    "\n",
    "# True(all non zero values are True) / False (zero)\n",
    "\n",
    "num = 5\n",
    "\n",
    "if num:\n",
    "    print('Hello')\n",
    "else:\n",
    "    print('...I am not yet done...')\n"
   ]
  },
  {
   "cell_type": "code",
   "execution_count": 6,
   "metadata": {},
   "outputs": [
    {
     "name": "stdout",
     "output_type": "stream",
     "text": [
      "...I am not yet done...\n"
     ]
    }
   ],
   "source": [
    "# Observe the code - what will be the output\n",
    "\n",
    "num = 0\n",
    "\n",
    "if num:\n",
    "    print('Hello')\n",
    "else:\n",
    "    print('...I am not yet done...')\n"
   ]
  },
  {
   "cell_type": "code",
   "execution_count": 9,
   "metadata": {},
   "outputs": [
    {
     "name": "stdout",
     "output_type": "stream",
     "text": [
      "Amazing\n"
     ]
    }
   ],
   "source": [
    "# Observe the code - what will be the output\n",
    "\n",
    "if 10 == '10':\n",
    "    print('Superb')\n",
    "else:\n",
    "    print('Amazing')\n",
    "    "
   ]
  },
  {
   "cell_type": "code",
   "execution_count": 11,
   "metadata": {},
   "outputs": [
    {
     "name": "stdout",
     "output_type": "stream",
     "text": [
      "10.21 is not an integer\n"
     ]
    }
   ],
   "source": [
    "# Check if the number is integer or not (check isinstance())\n",
    "\n",
    "num = 10.21\n",
    "\n",
    "# Method 1:\n",
    "\n",
    "if type(num) == int:\n",
    "    print(f\"{num} is an integer\")\n",
    "else:\n",
    "    print(f\"{num} is not an integer\")\n"
   ]
  },
  {
   "cell_type": "code",
   "execution_count": 15,
   "metadata": {},
   "outputs": [
    {
     "name": "stdout",
     "output_type": "stream",
     "text": [
      "1021 is an integer\n"
     ]
    }
   ],
   "source": [
    "# Check if the number is integer or not (check isinstance())\n",
    "\n",
    "num = 1021\n",
    "\n",
    "# Method 2:\n",
    "\n",
    "if isinstance(num, int):\n",
    "    print(f\"{num} is an integer\")\n",
    "else:\n",
    "    print(f\"{num} is not an integer\")\n"
   ]
  },
  {
   "cell_type": "code",
   "execution_count": null,
   "metadata": {},
   "outputs": [],
   "source": []
  },
  {
   "cell_type": "markdown",
   "metadata": {},
   "source": [
    "**One line if else statement**\n",
    "- A one-line if-else statement in Python performs an action based on the evaluation of a condition, all on a single line.\n",
    "\n",
    "**syntax:** some_expression if condition else other_expression"
   ]
  },
  {
   "cell_type": "code",
   "execution_count": null,
   "metadata": {},
   "outputs": [],
   "source": [
    "# true part  if cond   else false part"
   ]
  },
  {
   "cell_type": "code",
   "execution_count": 17,
   "metadata": {},
   "outputs": [
    {
     "name": "stdout",
     "output_type": "stream",
     "text": [
      "3000>650\n"
     ]
    }
   ],
   "source": [
    "# find maximum between 2 numbers\n",
    "\n",
    "x, y = 3000, 650\n",
    "\n",
    "# True part   if cond    False part\n",
    "\n",
    "print(f\"{x}>{y}\")    if (x>y)  else print(f\"{x}<{y}\")\n"
   ]
  },
  {
   "cell_type": "code",
   "execution_count": 20,
   "metadata": {},
   "outputs": [
    {
     "name": "stdout",
     "output_type": "stream",
     "text": [
      "net_salary = 5000.0\n"
     ]
    }
   ],
   "source": [
    "# Write the above program Using--------One line if else statement\n",
    "'''\n",
    "Employee's Salary is given. \n",
    "WAP to calculate bonus and display net salary.\n",
    "\n",
    "Salary Bonus\n",
    ">5000  50% of salary\n",
    "Others 25% of salary\n",
    "'''\n",
    "salary = 4000\n",
    "\n",
    "bonus =  (salary*(50/100))  if (salary>5000)  else  (salary*(25/100))\n",
    "\n",
    "net_salary = salary + bonus\n",
    "\n",
    "print(f\"net_salary = {net_salary}\")\n"
   ]
  },
  {
   "cell_type": "code",
   "execution_count": 21,
   "metadata": {},
   "outputs": [
    {
     "name": "stdout",
     "output_type": "stream",
     "text": [
      "140728367354952\n",
      "140728367355272\n",
      "140728367354952\n"
     ]
    }
   ],
   "source": [
    "a= 10\n",
    "print(id(a))\n",
    "a=20\n",
    "print(id(a))\n",
    "a=10\n",
    "print(id(a))\n",
    "\n",
    "9603453706"
   ]
  },
  {
   "cell_type": "markdown",
   "metadata": {},
   "source": [
    "### Nested if - else\n",
    "\n",
    "- Two keywords are use here - if & else\n",
    "- Multiple Blocks of code -> indented\n",
    "- if block = True block\n",
    "- else block = False block\n",
    "- It is used when multiple dependent conditions are present\n",
    "\n",
    "**Syntax:**   \n",
    "\n",
    "           if (condition 1):\n",
    "                # True Block\n",
    "                if (condition 2):\n",
    "                   # Inner True block\n",
    "                   Statement 1\n",
    "                   Statement 2\n",
    "                else:\n",
    "                   # Inner False block\n",
    "                   Statement 1\n",
    "                   Statement 2\n",
    "            else:\n",
    "                # False block\n",
    "                if (condition 3):\n",
    "                   # Inner True block\n",
    "                   Statement 1\n",
    "                   Statement 2\n",
    "                else:\n",
    "                   # Inner False block\n",
    "                   Statement 1\n",
    "                   Statement 2"
   ]
  },
  {
   "cell_type": "code",
   "execution_count": 24,
   "metadata": {},
   "outputs": [
    {
     "name": "stdout",
     "output_type": "stream",
     "text": [
      "430 is big\n"
     ]
    }
   ],
   "source": [
    "# Find the largest of three numbers - Using Nested If Statement\n",
    "# Sample Output:\n",
    "# Enter three numbers: 11 43 5\n",
    "# 43 is big\n",
    "\n",
    "a,b,c = 430,240,90\n",
    "\n",
    "if a>b:                # outer if\n",
    "    if a>c:                       # inner if\n",
    "        print(f'{a} is big')\n",
    "    else:\n",
    "        print(f'{c} is big')\n",
    "else:\n",
    "    if b>c:\n",
    "        print(f'{b} is big')\n",
    "    else:\n",
    "        print(f'{c} is big')\n"
   ]
  },
  {
   "cell_type": "code",
   "execution_count": 25,
   "metadata": {},
   "outputs": [
    {
     "data": {
      "text/plain": [
       "430"
      ]
     },
     "execution_count": 25,
     "metadata": {},
     "output_type": "execute_result"
    }
   ],
   "source": [
    "a,b,c = 430,240,90\n",
    "\n",
    "max(a,b,c)"
   ]
  },
  {
   "cell_type": "code",
   "execution_count": 26,
   "metadata": {},
   "outputs": [
    {
     "data": {
      "text/plain": [
       "90"
      ]
     },
     "execution_count": 26,
     "metadata": {},
     "output_type": "execute_result"
    }
   ],
   "source": [
    "min(a,b,c)"
   ]
  },
  {
   "cell_type": "code",
   "execution_count": null,
   "metadata": {},
   "outputs": [],
   "source": [
    "# Let's Observe a Bad Program\n",
    "\n",
    "# Find the largest of three numbers\n",
    "\n",
    "a = int(input(\"Enter the first number: \"))\n",
    "b = int(input(\"Enter the second number: \"))\n",
    "c = int(input(\"Enter the third number: \"))\n",
    "\n",
    "maxNum = max(a,b,c)\n",
    "\n",
    "if a == maxNum:\n",
    "    print(f\"{a} is big\")\n",
    "    \n",
    "if b == maxNum:\n",
    "    print(f\"{b} is big\")\n",
    "\n",
    "if c == maxNum:\n",
    "    print(f\"{c} is big\")\n",
    "\n",
    "    \n",
    "################################################################\n",
    "# WHY THIS IS A BAD PROGRAM?\n",
    "################################################################\n"
   ]
  },
  {
   "cell_type": "code",
   "execution_count": null,
   "metadata": {},
   "outputs": [],
   "source": [
    "# logical operators - and, or, not"
   ]
  },
  {
   "cell_type": "markdown",
   "metadata": {},
   "source": [
    "#### Combining conditions\n",
    "We can combine conditions using **and**, **or** and **not** operators"
   ]
  },
  {
   "cell_type": "code",
   "execution_count": 27,
   "metadata": {},
   "outputs": [
    {
     "name": "stdout",
     "output_type": "stream",
     "text": [
      "511 is big\n"
     ]
    }
   ],
   "source": [
    "# Find the largest of three numbers - using if..elif and logical operators\n",
    "\n",
    "a,b,c = 511,411,82\n",
    "\n",
    "if (a>b) and (a>c):\n",
    "    print(f\"{a} is big\")\n",
    "elif b>c:\n",
    "    print(f\"{b} is big\")\n",
    "else:\n",
    "    print(f\"{c} is big\")\n"
   ]
  },
  {
   "cell_type": "code",
   "execution_count": 31,
   "metadata": {},
   "outputs": [
    {
     "name": "stdout",
     "output_type": "stream",
     "text": [
      "All r same\n"
     ]
    }
   ],
   "source": [
    "# Find the largest of three numbers - using if..elif and logical operators\n",
    "\n",
    "a,b,c = 5,5,5\n",
    "\n",
    "#if a==b==c:\n",
    "    \n",
    "if (a==b) and (b==c):\n",
    "    print('All r same')\n",
    "elif (a>b) and (a>c):\n",
    "    print(f\"{a} is big\")\n",
    "elif b>c:\n",
    "    print(f\"{b} is big\")\n",
    "else:\n",
    "    print(f\"{c} is big\")\n"
   ]
  },
  {
   "cell_type": "code",
   "execution_count": 36,
   "metadata": {},
   "outputs": [
    {
     "name": "stdout",
     "output_type": "stream",
     "text": [
      "Enter ms[m/u],gender[m/f],age of the driver: u f 24\n",
      "Driver is not insured\n"
     ]
    }
   ],
   "source": [
    "# Program using if and logical operators\n",
    "'''\n",
    "# A company gives insurance to its drivers in the following conditions,\n",
    "\n",
    "- Driver is married.\n",
    "- Driver is an unmarried male above 30 years of age.\n",
    "- Driver is an unmarried female above 25 years of age.\n",
    "\n",
    "In all the above cases display s message ‘Driver is insured’.\n",
    "In all other conditions display ‘Driver is not insured’.\n",
    "\n",
    "Sample Output:\n",
    "\n",
    "Driver is married/unmarried [m/u]? u\n",
    "Male/Female [m/f]? m\n",
    "Age: 24\n",
    "Driver is not insured\n",
    "'''\n",
    "\n",
    "ms,gender,age = input('Enter ms[m/u],gender[m/f],age of the driver: ').split()\n",
    "age = int(age)\n",
    "\n",
    "if (ms=='m') or (gender=='m' and age>30) or (gender=='f' and age>25):\n",
    "    print('Driver is insured')\n",
    "else:\n",
    "    print('Driver is not insured')"
   ]
  },
  {
   "cell_type": "markdown",
   "metadata": {},
   "source": [
    "### pass statement\n",
    "\n",
    "- The pass statement is used as a placeholder for future code.\n",
    "- When the pass statement is executed, \n",
    "    - nothing happens\n",
    "    - but you avoid getting an error when empty code is not allowed\n",
    "- Empty code is not allowed in loops, function definitions, class definitions, or in if statements."
   ]
  },
  {
   "cell_type": "code",
   "execution_count": 40,
   "metadata": {},
   "outputs": [
    {
     "name": "stdout",
     "output_type": "stream",
     "text": [
      "End of code\n"
     ]
    }
   ],
   "source": [
    "# pass statement example\n",
    "# Observe the code\n",
    "\n",
    "num = 45\n",
    "\n",
    "if num>10:\n",
    "    pass\n",
    "    \n",
    "print('End of code')\n"
   ]
  },
  {
   "cell_type": "code",
   "execution_count": null,
   "metadata": {},
   "outputs": [],
   "source": []
  },
  {
   "cell_type": "markdown",
   "metadata": {
    "id": "l9zidz_PvvCt"
   },
   "source": [
    "### Exception Handling in Python\n",
    "#### What are Exceptions?\n",
    "\n",
    "- An exception is a type of event, which occurs during the execution of a program\n",
    "\n",
    "- An **exception disrupts the normal flow of the program's instructions**\n",
    "\n",
    "- In general, when a Python script encounters a situation which cannot be handled or cope with, it raises an exception.\n",
    "\n",
    "- In Python, an exception is an object which represents an error.\n",
    "\n",
    "- In Python, the **BaseException is the base class** of all other exceptions.\n",
    "- Also an exception object or instance derives from the BaseException class.\n",
    "\n",
    "- The class named **BaseException contains information about an error** event which occurred within a method.\n",
    "\n",
    "- Note that an **exception in a program is useful to indicate various types of failure conditions**\n",
    "\n",
    "#### Try Except Block\n",
    "\n",
    "- Whenever an exceptional situation or error occurs in the program,\n",
    "    - it's execution stops and generates an exception message.\n",
    "\n",
    "- There can be the doubtful code in ur program which may raise an exception or error.\n",
    "    - This is often called as a risky code.\n",
    "\n",
    "- In these situations, we need to use  try & except block to handle these exceptions\n"
   ]
  },
  {
   "cell_type": "code",
   "execution_count": 41,
   "metadata": {
    "id": "NuLC5zWAyMUE"
   },
   "outputs": [
    {
     "ename": "ZeroDivisionError",
     "evalue": "division by zero",
     "output_type": "error",
     "traceback": [
      "\u001b[1;31m---------------------------------------------------------------------------\u001b[0m",
      "\u001b[1;31mZeroDivisionError\u001b[0m                         Traceback (most recent call last)",
      "Cell \u001b[1;32mIn[41], line 5\u001b[0m\n\u001b[0;32m      3\u001b[0m a \u001b[38;5;241m=\u001b[39m \u001b[38;5;241m2\u001b[39m\n\u001b[0;32m      4\u001b[0m b \u001b[38;5;241m=\u001b[39m \u001b[38;5;241m0\u001b[39m\n\u001b[1;32m----> 5\u001b[0m c \u001b[38;5;241m=\u001b[39m a\u001b[38;5;241m/\u001b[39mb\n\u001b[0;32m      7\u001b[0m \u001b[38;5;28mprint\u001b[39m(c)\n",
      "\u001b[1;31mZeroDivisionError\u001b[0m: division by zero"
     ]
    }
   ],
   "source": [
    "# This code will give error\n",
    "\n",
    "a = 2\n",
    "b = 0\n",
    "c = a/b\n",
    "\n",
    "print(c)\n"
   ]
  },
  {
   "cell_type": "code",
   "execution_count": 43,
   "metadata": {},
   "outputs": [
    {
     "name": "stdout",
     "output_type": "stream",
     "text": [
      "0.3333333333333333\n"
     ]
    }
   ],
   "source": [
    "# Catching an exception\n",
    "\n",
    "try:\n",
    "    a = 2\n",
    "    b = 6\n",
    "    c = a/b\n",
    "    print(c)\n",
    "except:\n",
    "    print('Something went wrong')\n"
   ]
  },
  {
   "cell_type": "code",
   "execution_count": 45,
   "metadata": {},
   "outputs": [
    {
     "name": "stdout",
     "output_type": "stream",
     "text": [
      "Enter 1st number: 45\n",
      "Enter 2nd number: 5\n",
      "9.0\n",
      "-----------\n",
      "Error:  name 'd' is not defined\n"
     ]
    }
   ],
   "source": [
    "# Catching an exception\n",
    "\n",
    "a = int(input('Enter 1st number: '))\n",
    "b = int(input('Enter 2nd number: '))\n",
    "\n",
    "try:\n",
    "    print(a/b)\n",
    "    print('-----------')\n",
    "    print(d)\n",
    "except Exception as e:\n",
    "    print('Error: ', e)\n"
   ]
  },
  {
   "cell_type": "code",
   "execution_count": 53,
   "metadata": {},
   "outputs": [
    {
     "name": "stdout",
     "output_type": "stream",
     "text": [
      "Error: invalid literal for int() with base 10: '34 aa'\n",
      "Could not convert data to an integer.\n"
     ]
    }
   ],
   "source": [
    "import sys\n",
    "\n",
    "try:\n",
    "    f = open('myfile.txt')\n",
    "    s = f.readline()\n",
    "    i = int(s.strip())\n",
    "    print('No error so far')\n",
    "except OSError as err:\n",
    "    print(\"OS error:\", err)\n",
    "except ValueError as ve:\n",
    "    print('Error:', ve)\n",
    "    print(\"Could not convert data to an integer.\")\n",
    "except Exception as err:\n",
    "    print(f\"Unexpected {err=}, {type(err)=}\")\n",
    "    raise"
   ]
  },
  {
   "cell_type": "code",
   "execution_count": 55,
   "metadata": {},
   "outputs": [
    {
     "name": "stdout",
     "output_type": "stream",
     "text": [
      "Error: [Errno 2] No such file or directory: 'myfile1.txt'\n"
     ]
    }
   ],
   "source": [
    "import sys\n",
    "\n",
    "try:\n",
    "    f = open('myfile1.txt')\n",
    "    s = f.readline()\n",
    "    i = int(s.strip())\n",
    "    try:\n",
    "        print('......')\n",
    "    except:\n",
    "        print('inner try')\n",
    "    print('No error so far')\n",
    "except Exception as err:\n",
    "    print(f\"Error:\", err)"
   ]
  },
  {
   "cell_type": "code",
   "execution_count": 58,
   "metadata": {},
   "outputs": [
    {
     "name": "stdout",
     "output_type": "stream",
     "text": [
      "Variable is not defined\n"
     ]
    }
   ],
   "source": [
    "# Catching Multiple Exceptions\n",
    "\n",
    "try:\n",
    "    a = 2\n",
    "    b = 6\n",
    "    c = a/b\n",
    "    print(d)\n",
    "    print('---------')\n",
    "except ZeroDivisionError:\n",
    "    print(\"can't divide by zero\")\n",
    "except NameError:\n",
    "    print(\"Variable is not defined\")\n",
    "    "
   ]
  },
  {
   "cell_type": "code",
   "execution_count": 59,
   "metadata": {},
   "outputs": [
    {
     "ename": "NameError",
     "evalue": "name 'd' is not defined",
     "output_type": "error",
     "traceback": [
      "\u001b[1;31m---------------------------------------------------------------------------\u001b[0m",
      "\u001b[1;31mNameError\u001b[0m                                 Traceback (most recent call last)",
      "Cell \u001b[1;32mIn[59], line 5\u001b[0m\n\u001b[0;32m      3\u001b[0m     b \u001b[38;5;241m=\u001b[39m \u001b[38;5;241m6\u001b[39m\n\u001b[0;32m      4\u001b[0m     c \u001b[38;5;241m=\u001b[39m a\u001b[38;5;241m/\u001b[39mb\n\u001b[1;32m----> 5\u001b[0m     \u001b[38;5;28mprint\u001b[39m(d)\n\u001b[0;32m      6\u001b[0m     \u001b[38;5;28mprint\u001b[39m(\u001b[38;5;124m'\u001b[39m\u001b[38;5;124m---------\u001b[39m\u001b[38;5;124m'\u001b[39m)\n\u001b[0;32m      7\u001b[0m \u001b[38;5;28;01mexcept\u001b[39;00m \u001b[38;5;167;01mZeroDivisionError\u001b[39;00m:\n",
      "\u001b[1;31mNameError\u001b[0m: name 'd' is not defined"
     ]
    }
   ],
   "source": [
    "try:\n",
    "    a = 2\n",
    "    b = 6\n",
    "    c = a/b\n",
    "    print(d)\n",
    "    print('---------')\n",
    "except ZeroDivisionError:\n",
    "    print(\"can't divide by zero\")\n",
    "    "
   ]
  },
  {
   "cell_type": "code",
   "execution_count": 61,
   "metadata": {},
   "outputs": [
    {
     "name": "stdout",
     "output_type": "stream",
     "text": [
      "Something went wrong\n"
     ]
    }
   ],
   "source": [
    "# single except block to catch multiple errors\n",
    "\n",
    "# Catching Multiple Exceptions\n",
    "\n",
    "try:\n",
    "    a = 2\n",
    "    b = 6\n",
    "    c = a/b\n",
    "    print(d)\n",
    "    print('---------')\n",
    "except (ZeroDivisionError,NameError):\n",
    "    print(\"Something went wrong\")\n",
    "    "
   ]
  },
  {
   "cell_type": "markdown",
   "metadata": {},
   "source": [
    "### finally block:\n",
    "\n",
    "#### Using try with finally:\n",
    "- The finally block in Python is used with the try block statement\n",
    "\n",
    "- The **finally block in Python always execute**\n",
    "\n",
    "- When u want to write a block of code that must execute irrespective of weather u have error or not in the try block, u can write the finally block\n",
    "\n",
    "- As the finally block will be executed no matter if the try block raises an error or not.\n",
    "- This can be **useful to close objects and clean up resources**."
   ]
  },
  {
   "cell_type": "code",
   "execution_count": 62,
   "metadata": {},
   "outputs": [
    {
     "name": "stdout",
     "output_type": "stream",
     "text": [
      "Error:  division by zero\n",
      "Databse is closed\n"
     ]
    }
   ],
   "source": [
    "# try with finally block\n",
    "\n",
    "try:\n",
    "    a = 2\n",
    "    b = 0\n",
    "    print(a/b)\n",
    "    print('Db opened')\n",
    "except Exception as e:\n",
    "    print('Error: ',e)\n",
    "finally:\n",
    "    print('Databse is closed')"
   ]
  },
  {
   "cell_type": "code",
   "execution_count": 64,
   "metadata": {},
   "outputs": [
    {
     "name": "stdout",
     "output_type": "stream",
     "text": [
      "ERROR\n"
     ]
    },
    {
     "ename": "RuntimeError",
     "evalue": "unable to handle error",
     "output_type": "error",
     "traceback": [
      "\u001b[1;31m---------------------------------------------------------------------------\u001b[0m",
      "\u001b[1;31mFileNotFoundError\u001b[0m                         Traceback (most recent call last)",
      "Cell \u001b[1;32mIn[64], line 4\u001b[0m\n\u001b[0;32m      3\u001b[0m \u001b[38;5;28;01mtry\u001b[39;00m:\n\u001b[1;32m----> 4\u001b[0m     \u001b[38;5;28mopen\u001b[39m(\u001b[38;5;124m\"\u001b[39m\u001b[38;5;124mdatabase.sqlite\u001b[39m\u001b[38;5;124m\"\u001b[39m)\n\u001b[0;32m      5\u001b[0m \u001b[38;5;28;01mexcept\u001b[39;00m \u001b[38;5;167;01mOSError\u001b[39;00m:\n",
      "File \u001b[1;32mC:\\ProgramData\\anaconda3\\Lib\\site-packages\\IPython\\core\\interactiveshell.py:286\u001b[0m, in \u001b[0;36m_modified_open\u001b[1;34m(file, *args, **kwargs)\u001b[0m\n\u001b[0;32m    280\u001b[0m     \u001b[38;5;28;01mraise\u001b[39;00m \u001b[38;5;167;01mValueError\u001b[39;00m(\n\u001b[0;32m    281\u001b[0m         \u001b[38;5;124mf\u001b[39m\u001b[38;5;124m\"\u001b[39m\u001b[38;5;124mIPython won\u001b[39m\u001b[38;5;124m'\u001b[39m\u001b[38;5;124mt let you open fd=\u001b[39m\u001b[38;5;132;01m{\u001b[39;00mfile\u001b[38;5;132;01m}\u001b[39;00m\u001b[38;5;124m by default \u001b[39m\u001b[38;5;124m\"\u001b[39m\n\u001b[0;32m    282\u001b[0m         \u001b[38;5;124m\"\u001b[39m\u001b[38;5;124mas it is likely to crash IPython. If you know what you are doing, \u001b[39m\u001b[38;5;124m\"\u001b[39m\n\u001b[0;32m    283\u001b[0m         \u001b[38;5;124m\"\u001b[39m\u001b[38;5;124myou can use builtins\u001b[39m\u001b[38;5;124m'\u001b[39m\u001b[38;5;124m open.\u001b[39m\u001b[38;5;124m\"\u001b[39m\n\u001b[0;32m    284\u001b[0m     )\n\u001b[1;32m--> 286\u001b[0m \u001b[38;5;28;01mreturn\u001b[39;00m io_open(file, \u001b[38;5;241m*\u001b[39margs, \u001b[38;5;241m*\u001b[39m\u001b[38;5;241m*\u001b[39mkwargs)\n",
      "\u001b[1;31mFileNotFoundError\u001b[0m: [Errno 2] No such file or directory: 'database.sqlite'",
      "\nDuring handling of the above exception, another exception occurred:\n",
      "\u001b[1;31mRuntimeError\u001b[0m                              Traceback (most recent call last)",
      "Cell \u001b[1;32mIn[64], line 7\u001b[0m\n\u001b[0;32m      5\u001b[0m \u001b[38;5;28;01mexcept\u001b[39;00m \u001b[38;5;167;01mOSError\u001b[39;00m:\n\u001b[0;32m      6\u001b[0m     \u001b[38;5;28mprint\u001b[39m(\u001b[38;5;124m'\u001b[39m\u001b[38;5;124mERROR\u001b[39m\u001b[38;5;124m'\u001b[39m)\n\u001b[1;32m----> 7\u001b[0m     \u001b[38;5;28;01mraise\u001b[39;00m \u001b[38;5;167;01mRuntimeError\u001b[39;00m(\u001b[38;5;124m\"\u001b[39m\u001b[38;5;124munable to handle error\u001b[39m\u001b[38;5;124m\"\u001b[39m)\n",
      "\u001b[1;31mRuntimeError\u001b[0m: unable to handle error"
     ]
    }
   ],
   "source": [
    "import os\n",
    "\n",
    "try:\n",
    "    open(\"database.sqlite\")\n",
    "except OSError:\n",
    "    print('ERROR')\n",
    "    raise RuntimeError(\"unable to handle error\")"
   ]
  },
  {
   "cell_type": "code",
   "execution_count": null,
   "metadata": {},
   "outputs": [],
   "source": []
  }
 ],
 "metadata": {
  "colab": {
   "provenance": []
  },
  "kernelspec": {
   "display_name": "Python 3 (ipykernel)",
   "language": "python",
   "name": "python3"
  },
  "language_info": {
   "codemirror_mode": {
    "name": "ipython",
    "version": 3
   },
   "file_extension": ".py",
   "mimetype": "text/x-python",
   "name": "python",
   "nbconvert_exporter": "python",
   "pygments_lexer": "ipython3",
   "version": "3.11.5"
  }
 },
 "nbformat": 4,
 "nbformat_minor": 1
}
