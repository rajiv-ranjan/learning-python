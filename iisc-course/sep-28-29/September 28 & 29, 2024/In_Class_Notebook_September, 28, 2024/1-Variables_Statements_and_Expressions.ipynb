{
 "cells": [
  {
   "cell_type": "markdown",
   "metadata": {},
   "source": [
    "# Python basics\n",
    "\n",
    "## Working with print() function\n",
    "\n",
    "- single quotes\n",
    "- double quotes\n",
    "- triple quotes"
   ]
  },
  {
   "cell_type": "code",
   "execution_count": 1,
   "metadata": {},
   "outputs": [
    {
     "name": "stdout",
     "output_type": "stream",
     "text": [
      "Hello world\n"
     ]
    }
   ],
   "source": [
    "print('Hello world')"
   ]
  },
  {
   "cell_type": "code",
   "execution_count": 2,
   "metadata": {},
   "outputs": [
    {
     "name": "stdout",
     "output_type": "stream",
     "text": [
      "Good morning\n",
      "Have a nice day\n"
     ]
    }
   ],
   "source": [
    "print(\"Good morning\")\n",
    "print('Have a nice day')"
   ]
  },
  {
   "cell_type": "code",
   "execution_count": 3,
   "metadata": {},
   "outputs": [
    {
     "name": "stdout",
     "output_type": "stream",
     "text": [
      "Hello\n",
      "have a nice day\n",
      "Thanks!\n"
     ]
    }
   ],
   "source": [
    "print(\"\"\"Hello\n",
    "have a nice day\n",
    "Thanks!\"\"\")\n"
   ]
  },
  {
   "cell_type": "code",
   "execution_count": 5,
   "metadata": {},
   "outputs": [
    {
     "name": "stdout",
     "output_type": "stream",
     "text": [
      "It's a beautiful day\n"
     ]
    }
   ],
   "source": [
    "# It's a beautiful day\n",
    "\n",
    "print(\"It's a beautiful day\")"
   ]
  },
  {
   "cell_type": "code",
   "execution_count": 6,
   "metadata": {},
   "outputs": [
    {
     "ename": "SyntaxError",
     "evalue": "unterminated string literal (detected at line 1) (552700544.py, line 1)",
     "output_type": "error",
     "traceback": [
      "\u001b[1;36m  Cell \u001b[1;32mIn[6], line 1\u001b[1;36m\u001b[0m\n\u001b[1;33m    print('It's a beautiful day')\u001b[0m\n\u001b[1;37m                               ^\u001b[0m\n\u001b[1;31mSyntaxError\u001b[0m\u001b[1;31m:\u001b[0m unterminated string literal (detected at line 1)\n"
     ]
    }
   ],
   "source": [
    "print('It's a beautiful day')"
   ]
  },
  {
   "cell_type": "code",
   "execution_count": 7,
   "metadata": {},
   "outputs": [
    {
     "name": "stdout",
     "output_type": "stream",
     "text": [
      "Happy \"Diwali\" to all of you\n"
     ]
    }
   ],
   "source": [
    "# Happy \"Diwali\" to all of you\n",
    "\n",
    "print('Happy \"Diwali\" to all of you')"
   ]
  },
  {
   "cell_type": "code",
   "execution_count": 8,
   "metadata": {},
   "outputs": [
    {
     "name": "stdout",
     "output_type": "stream",
     "text": [
      "Happy \"Diwali\" to all of you\n"
     ]
    }
   ],
   "source": [
    "# Using escape sequence with print()\n",
    "\n",
    "print(\"Happy \\\"Diwali\\\" to all of you\")"
   ]
  },
  {
   "cell_type": "code",
   "execution_count": 10,
   "metadata": {},
   "outputs": [
    {
     "name": "stdout",
     "output_type": "stream",
     "text": [
      "India\n",
      "Japan\n",
      "Canada\n"
     ]
    }
   ],
   "source": [
    "print('India\\nJapan\\nCanada')"
   ]
  },
  {
   "cell_type": "code",
   "execution_count": 12,
   "metadata": {},
   "outputs": [
    {
     "name": "stdout",
     "output_type": "stream",
     "text": [
      "India\n",
      "Japan\tCanada\n"
     ]
    }
   ],
   "source": [
    "print('India\\nJapan\\tCanada')"
   ]
  },
  {
   "cell_type": "code",
   "execution_count": 15,
   "metadata": {},
   "outputs": [
    {
     "name": "stdout",
     "output_type": "stream",
     "text": [
      "Happy \"Diwali\" everyone\n"
     ]
    }
   ],
   "source": [
    "print(\"Happy \\\"Diwali\\\" everyone\")"
   ]
  },
  {
   "cell_type": "code",
   "execution_count": 17,
   "metadata": {},
   "outputs": [
    {
     "name": "stdout",
     "output_type": "stream",
     "text": [
      "India\\nJapan\tCanada\n"
     ]
    }
   ],
   "source": [
    "print('India\\\\nJapan\\tCanada')"
   ]
  },
  {
   "cell_type": "code",
   "execution_count": null,
   "metadata": {},
   "outputs": [],
   "source": []
  },
  {
   "cell_type": "markdown",
   "metadata": {},
   "source": [
    "#### RAW STRING\n",
    "- Python Raw Strings are string literals prefixed with a \"r\" or \"R\"\n",
    "- Raw Strings do not treat backslashes as part of an escape sequence\n",
    "- It will be printed normally as a result"
   ]
  },
  {
   "cell_type": "code",
   "execution_count": 18,
   "metadata": {},
   "outputs": [
    {
     "name": "stdout",
     "output_type": "stream",
     "text": [
      "c:\n",
      "ewOffice\n",
      "ewdept\tempData.doc\n"
     ]
    }
   ],
   "source": [
    "print(\"c:\\newOffice\\newdept\\tempData.doc\")"
   ]
  },
  {
   "cell_type": "code",
   "execution_count": 19,
   "metadata": {},
   "outputs": [
    {
     "name": "stdout",
     "output_type": "stream",
     "text": [
      "c:\\newOffice\\newdept\\tempData.doc\n"
     ]
    }
   ],
   "source": [
    "print(\"c:\\\\newOffice\\\\newdept\\\\tempData.doc\")"
   ]
  },
  {
   "cell_type": "code",
   "execution_count": 20,
   "metadata": {},
   "outputs": [
    {
     "name": "stdout",
     "output_type": "stream",
     "text": [
      "c:\\newOffice\\newdept\\tempData.doc\n"
     ]
    }
   ],
   "source": [
    "print(r\"c:\\newOffice\\newdept\\tempData.doc\")"
   ]
  },
  {
   "cell_type": "code",
   "execution_count": 21,
   "metadata": {},
   "outputs": [
    {
     "name": "stdout",
     "output_type": "stream",
     "text": [
      "c:\\newOffice\\newdept\\tempData.doc\n"
     ]
    }
   ],
   "source": [
    "print(R\"c:\\newOffice\\newdept\\tempData.doc\")"
   ]
  },
  {
   "cell_type": "code",
   "execution_count": 24,
   "metadata": {},
   "outputs": [
    {
     "name": "stdout",
     "output_type": "stream",
     "text": [
      "c:\\newOffice\\newdept\\tempData.doc\n"
     ]
    }
   ],
   "source": [
    "print(r\"\"\"c:\\newOffice\\newdept\\tempData.doc\"\"\")"
   ]
  },
  {
   "cell_type": "code",
   "execution_count": null,
   "metadata": {},
   "outputs": [],
   "source": []
  },
  {
   "cell_type": "markdown",
   "metadata": {
    "id": "TOsMovfvEGRc"
   },
   "source": [
    "# **Datatypes and Variables**\n",
    "\n",
    "**Variable Data Types**\n",
    "Based on the data type of the variable, python allocates memory and decides what can be stored\n",
    " 1. NUMERIC:\n",
    "      - Int     X = 10\n",
    "      - float   X = 10.5\n",
    "      - complex X = 10+0j\n",
    " 2. SEQUENCE:\n",
    "      - strings x = \"hi my name is\" or x = 'hi my name is'\n",
    "      - List, Tuple\n",
    " 3. Others:\n",
    "      - Boolean, Set, Dictionaries\n",
    "\n",
    "- A value can be anything such as number, character, string, float..etc\n",
    "\n",
    "**Rules for naming a variable:** called as an identifier\n",
    "\n",
    "- A variable can only begin with (A-Z/a-z) or with an _(underscore)\n",
    "- The rest of the identifier may contain (a-z/A-Z) or with an _ or with the numbers(0-9)\n",
    "- These are case sensitive\n",
    "\n",
    "**eg:**\n",
    "- accepted: spam, eggs, spam23, _speed X, X1, X33, AB_, _S1\n",
    "- unacceptable: 23spam, #sign, var1.2\n",
    "\n",
    "#### type() function - check the datatype of a variable"
   ]
  },
  {
   "cell_type": "code",
   "execution_count": null,
   "metadata": {},
   "outputs": [],
   "source": [
    "# Basic datatypes in Python - int, float, bool, complex"
   ]
  },
  {
   "cell_type": "code",
   "execution_count": 25,
   "metadata": {},
   "outputs": [
    {
     "data": {
      "text/plain": [
       "10"
      ]
     },
     "execution_count": 25,
     "metadata": {},
     "output_type": "execute_result"
    }
   ],
   "source": [
    "num1 = 10   \n",
    "\n",
    "num1"
   ]
  },
  {
   "cell_type": "code",
   "execution_count": 26,
   "metadata": {},
   "outputs": [
    {
     "name": "stdout",
     "output_type": "stream",
     "text": [
      "10\n"
     ]
    }
   ],
   "source": [
    "print(num1)"
   ]
  },
  {
   "cell_type": "code",
   "execution_count": 27,
   "metadata": {},
   "outputs": [
    {
     "data": {
      "text/plain": [
       "int"
      ]
     },
     "execution_count": 27,
     "metadata": {},
     "output_type": "execute_result"
    }
   ],
   "source": [
    "type(num1)"
   ]
  },
  {
   "cell_type": "code",
   "execution_count": 28,
   "metadata": {},
   "outputs": [
    {
     "name": "stdout",
     "output_type": "stream",
     "text": [
      "<class 'int'>\n"
     ]
    }
   ],
   "source": [
    "print(type(num1))"
   ]
  },
  {
   "cell_type": "code",
   "execution_count": 29,
   "metadata": {},
   "outputs": [
    {
     "data": {
      "text/plain": [
       "34"
      ]
     },
     "execution_count": 29,
     "metadata": {},
     "output_type": "execute_result"
    }
   ],
   "source": [
    "num2 = 34\n",
    "\n",
    "num2"
   ]
  },
  {
   "cell_type": "code",
   "execution_count": 30,
   "metadata": {},
   "outputs": [
    {
     "data": {
      "text/plain": [
       "34"
      ]
     },
     "execution_count": 30,
     "metadata": {},
     "output_type": "execute_result"
    }
   ],
   "source": [
    "num1\n",
    "num2"
   ]
  },
  {
   "cell_type": "code",
   "execution_count": 31,
   "metadata": {},
   "outputs": [
    {
     "name": "stdout",
     "output_type": "stream",
     "text": [
      "10 34\n"
     ]
    }
   ],
   "source": [
    "print(num1, num2)"
   ]
  },
  {
   "cell_type": "code",
   "execution_count": 32,
   "metadata": {},
   "outputs": [
    {
     "data": {
      "text/plain": [
       "(10, 34)"
      ]
     },
     "execution_count": 32,
     "metadata": {},
     "output_type": "execute_result"
    }
   ],
   "source": [
    "num1, num2"
   ]
  },
  {
   "cell_type": "code",
   "execution_count": null,
   "metadata": {},
   "outputs": [],
   "source": [
    "num1 = 100     # int\n",
    "num1 = 10.89   # float"
   ]
  },
  {
   "cell_type": "code",
   "execution_count": null,
   "metadata": {},
   "outputs": [],
   "source": []
  },
  {
   "cell_type": "code",
   "execution_count": 33,
   "metadata": {},
   "outputs": [
    {
     "data": {
      "text/plain": [
       "9847598275923400000000000000000000000000000000000000000000000"
      ]
     },
     "execution_count": 33,
     "metadata": {},
     "output_type": "execute_result"
    }
   ],
   "source": [
    "# How long an integer can be\n",
    "\n",
    "num1 = 9847598275923400000000000000000000000000000000000000000000000\n",
    "num1"
   ]
  },
  {
   "cell_type": "code",
   "execution_count": 34,
   "metadata": {},
   "outputs": [
    {
     "data": {
      "text/plain": [
       "45.97765"
      ]
     },
     "execution_count": 34,
     "metadata": {},
     "output_type": "execute_result"
    }
   ],
   "source": [
    "num2 = 45.97765    # float\n",
    "\n",
    "num2"
   ]
  },
  {
   "cell_type": "code",
   "execution_count": 35,
   "metadata": {},
   "outputs": [
    {
     "data": {
      "text/plain": [
       "4545435435.876783"
      ]
     },
     "execution_count": 35,
     "metadata": {},
     "output_type": "execute_result"
    }
   ],
   "source": [
    "# How long a float can be\n",
    "\n",
    "num2 = 4545435435.8767833333333333386000000000000000\n",
    "num2"
   ]
  },
  {
   "cell_type": "code",
   "execution_count": 36,
   "metadata": {},
   "outputs": [
    {
     "name": "stdout",
     "output_type": "stream",
     "text": [
      "<class 'float'>\n"
     ]
    }
   ],
   "source": [
    "print(type(num2))"
   ]
  },
  {
   "cell_type": "code",
   "execution_count": 37,
   "metadata": {},
   "outputs": [
    {
     "data": {
      "text/plain": [
       "False"
      ]
     },
     "execution_count": 37,
     "metadata": {},
     "output_type": "execute_result"
    }
   ],
   "source": [
    "result = False    # boolean\n",
    "result"
   ]
  },
  {
   "cell_type": "code",
   "execution_count": 38,
   "metadata": {},
   "outputs": [
    {
     "data": {
      "text/plain": [
       "bool"
      ]
     },
     "execution_count": 38,
     "metadata": {},
     "output_type": "execute_result"
    }
   ],
   "source": [
    "type(result)"
   ]
  },
  {
   "cell_type": "code",
   "execution_count": 39,
   "metadata": {},
   "outputs": [
    {
     "data": {
      "text/plain": [
       "True"
      ]
     },
     "execution_count": 39,
     "metadata": {},
     "output_type": "execute_result"
    }
   ],
   "source": [
    "result = True\n",
    "result"
   ]
  },
  {
   "cell_type": "code",
   "execution_count": null,
   "metadata": {},
   "outputs": [],
   "source": [
    "# PYTHON IS USED FOR BIGDATA"
   ]
  },
  {
   "cell_type": "code",
   "execution_count": 40,
   "metadata": {},
   "outputs": [
    {
     "name": "stdout",
     "output_type": "stream",
     "text": [
      "(10+5j) (60+10j)\n"
     ]
    }
   ],
   "source": [
    "# complex datatype\n",
    "\n",
    "c1 = 10+5j\n",
    "c2 = 60+10J\n",
    "\n",
    "print(c1, c2)"
   ]
  },
  {
   "cell_type": "code",
   "execution_count": 41,
   "metadata": {},
   "outputs": [
    {
     "data": {
      "text/plain": [
       "(70+15j)"
      ]
     },
     "execution_count": 41,
     "metadata": {},
     "output_type": "execute_result"
    }
   ],
   "source": [
    "c3 = c1+c2\n",
    "c3"
   ]
  },
  {
   "cell_type": "code",
   "execution_count": null,
   "metadata": {},
   "outputs": [],
   "source": []
  },
  {
   "cell_type": "code",
   "execution_count": 42,
   "metadata": {},
   "outputs": [
    {
     "data": {
      "text/plain": [
       "'Amit Sharma'"
      ]
     },
     "execution_count": 42,
     "metadata": {},
     "output_type": "execute_result"
    }
   ],
   "source": [
    "# string datatype\n",
    "\n",
    "name = \"Amit Sharma\"   # Immutable\n",
    "name"
   ]
  },
  {
   "cell_type": "code",
   "execution_count": 43,
   "metadata": {},
   "outputs": [
    {
     "data": {
      "text/plain": [
       "'Amit S Sharma'"
      ]
     },
     "execution_count": 43,
     "metadata": {},
     "output_type": "execute_result"
    }
   ],
   "source": [
    "name = 'Amit S Sharma'   # string is a collection\n",
    "name"
   ]
  },
  {
   "cell_type": "code",
   "execution_count": null,
   "metadata": {},
   "outputs": [],
   "source": []
  },
  {
   "cell_type": "code",
   "execution_count": 44,
   "metadata": {},
   "outputs": [
    {
     "name": "stdout",
     "output_type": "stream",
     "text": [
      "194\n"
     ]
    }
   ],
   "source": [
    "# Multiple values in multiple variables\n",
    "\n",
    "a = 45\n",
    "b = 51\n",
    "c = 98\n",
    "print(a+b+c)"
   ]
  },
  {
   "cell_type": "code",
   "execution_count": 45,
   "metadata": {},
   "outputs": [
    {
     "name": "stdout",
     "output_type": "stream",
     "text": [
      "45 51 98\n"
     ]
    }
   ],
   "source": [
    "a,b,c = 45,51,98\n",
    "print(a,b,c)"
   ]
  },
  {
   "cell_type": "code",
   "execution_count": null,
   "metadata": {},
   "outputs": [],
   "source": []
  },
  {
   "cell_type": "code",
   "execution_count": 49,
   "metadata": {},
   "outputs": [
    {
     "name": "stdout",
     "output_type": "stream",
     "text": [
      "1000000\n",
      "1000000\n"
     ]
    }
   ],
   "source": [
    "# Same value in multiple variables\n",
    "\n",
    "#a,b,c = 100,100,100      # correct\n",
    "\n",
    "#a,b,c = 100               # syntax error\n",
    "\n",
    "a = b = c = 100      # pythonic way\n",
    "\n",
    "print(a*b*c)\n",
    "\n",
    "d = a*b*c\n",
    "\n",
    "print(d)"
   ]
  },
  {
   "cell_type": "code",
   "execution_count": 48,
   "metadata": {},
   "outputs": [
    {
     "data": {
      "text/plain": [
       "100"
      ]
     },
     "execution_count": 48,
     "metadata": {},
     "output_type": "execute_result"
    }
   ],
   "source": [
    "b"
   ]
  },
  {
   "cell_type": "code",
   "execution_count": null,
   "metadata": {},
   "outputs": [],
   "source": []
  },
  {
   "cell_type": "code",
   "execution_count": 51,
   "metadata": {},
   "outputs": [
    {
     "name": "stdout",
     "output_type": "stream",
     "text": [
      "100 200\n",
      "200 100\n"
     ]
    }
   ],
   "source": [
    "# Swap the numbers program\n",
    "\n",
    "a, b = 100, 200\n",
    "\n",
    "print(a,b)\n",
    "\n",
    "a, b = b, a    \n",
    "\n",
    "# a, b = 200, 100\n",
    "\n",
    "print(a,b)"
   ]
  },
  {
   "cell_type": "code",
   "execution_count": 52,
   "metadata": {},
   "outputs": [
    {
     "name": "stdout",
     "output_type": "stream",
     "text": [
      "100 200\n",
      "200 100\n"
     ]
    }
   ],
   "source": [
    "# Swap the numbers program\n",
    "\n",
    "a, b = 100, '200'\n",
    "\n",
    "print(a,b)\n",
    "\n",
    "a, b = b, a\n",
    "\n",
    "# a, b = 200, 100\n",
    "\n",
    "# a = 200\n",
    "# b = 100\n",
    "\n",
    "print(a,b)"
   ]
  },
  {
   "cell_type": "code",
   "execution_count": 54,
   "metadata": {},
   "outputs": [
    {
     "name": "stdout",
     "output_type": "stream",
     "text": [
      "100 200\n"
     ]
    }
   ],
   "source": [
    "a, b = 100, 200; print(a,b); a, b = b, a\n"
   ]
  },
  {
   "cell_type": "code",
   "execution_count": 55,
   "metadata": {},
   "outputs": [],
   "source": [
    "a = 100    # a is int\n",
    "\n",
    "a = 'ram'   # a is string\n",
    "\n",
    "a = True    # a is bool"
   ]
  },
  {
   "cell_type": "code",
   "execution_count": null,
   "metadata": {},
   "outputs": [],
   "source": []
  },
  {
   "cell_type": "code",
   "execution_count": 57,
   "metadata": {},
   "outputs": [
    {
     "name": "stdout",
     "output_type": "stream",
     "text": [
      "50 50 100\n",
      "140728367356232\n",
      "140728367356232\n",
      "140728367357832\n"
     ]
    }
   ],
   "source": [
    "# id() function is used to display memory address of a variable\n",
    "\n",
    "a,b,c = 50, 50, 100\n",
    "\n",
    "print(a,b,c)\n",
    "print(id(a))\n",
    "print(id(b))\n",
    "print(id(c))"
   ]
  },
  {
   "cell_type": "code",
   "execution_count": 58,
   "metadata": {},
   "outputs": [
    {
     "name": "stdout",
     "output_type": "stream",
     "text": [
      "140728367356232\n",
      "2549066423632\n",
      "140728367357832\n"
     ]
    }
   ],
   "source": [
    "b = 500\n",
    "\n",
    "print(id(a))\n",
    "print(id(b))\n",
    "print(id(c))"
   ]
  },
  {
   "cell_type": "code",
   "execution_count": 59,
   "metadata": {},
   "outputs": [
    {
     "data": {
      "text/plain": [
       "(50, 500, 100)"
      ]
     },
     "execution_count": 59,
     "metadata": {},
     "output_type": "execute_result"
    }
   ],
   "source": [
    "a,b,c"
   ]
  },
  {
   "cell_type": "code",
   "execution_count": null,
   "metadata": {},
   "outputs": [],
   "source": []
  },
  {
   "cell_type": "code",
   "execution_count": null,
   "metadata": {},
   "outputs": [],
   "source": []
  },
  {
   "cell_type": "code",
   "execution_count": 60,
   "metadata": {},
   "outputs": [
    {
     "name": "stdout",
     "output_type": "stream",
     "text": [
      "140728367356232\n",
      "2549066423632\n",
      "2549066423120\n"
     ]
    }
   ],
   "source": [
    "c = 500\n",
    "\n",
    "print(id(a))\n",
    "print(id(b))\n",
    "print(id(c))\n"
   ]
  },
  {
   "cell_type": "code",
   "execution_count": 61,
   "metadata": {},
   "outputs": [
    {
     "data": {
      "text/plain": [
       "(50, 500, 500)"
      ]
     },
     "execution_count": 61,
     "metadata": {},
     "output_type": "execute_result"
    }
   ],
   "source": [
    "a,b,c"
   ]
  },
  {
   "cell_type": "code",
   "execution_count": 62,
   "metadata": {},
   "outputs": [
    {
     "name": "stdout",
     "output_type": "stream",
     "text": [
      "140728367356232\n",
      "140728367356232\n",
      "140728367357832\n",
      "50 50 100\n",
      "140728367356232\n",
      "140728367356232\n",
      "140728367356072\n",
      "50 50 45\n",
      "140728367356072\n",
      "140728367356232\n",
      "140728367356072\n",
      "45 50 45\n"
     ]
    }
   ],
   "source": [
    "a,b,c = 50, 50, 100\n",
    "\n",
    "print(id(a))\n",
    "print(id(b))\n",
    "print(id(c))\n",
    "\n",
    "print(a,b,c)\n",
    "\n",
    "c = 45\n",
    "print(id(a))\n",
    "print(id(b))\n",
    "print(id(c))\n",
    "\n",
    "print(a,b,c)\n",
    "\n",
    "a = 45\n",
    "print(id(a))\n",
    "print(id(b))\n",
    "print(id(c))\n",
    "\n",
    "print(a,b,c)\n"
   ]
  },
  {
   "cell_type": "code",
   "execution_count": 63,
   "metadata": {},
   "outputs": [
    {
     "name": "stdout",
     "output_type": "stream",
     "text": [
      "2549066422064\n",
      "2549066422064\n",
      "2549066421744\n",
      "50.1 50.1 100.5\n",
      "2549066422064\n",
      "2549066422064\n",
      "2549066423600\n",
      "50.1 50.1 45.1\n",
      "2549066420656\n",
      "2549066422064\n",
      "2549066423600\n",
      "45.1 50.1 45.1\n"
     ]
    }
   ],
   "source": [
    "a,b,c = 50.1, 50.1, 100.5\n",
    "\n",
    "print(id(a))\n",
    "print(id(b))\n",
    "print(id(c))\n",
    "\n",
    "print(a,b,c)\n",
    "\n",
    "c = 45.1\n",
    "print(id(a))\n",
    "print(id(b))\n",
    "print(id(c))\n",
    "\n",
    "print(a,b,c)\n",
    "\n",
    "a = 45.1\n",
    "print(id(a))\n",
    "print(id(b))\n",
    "print(id(c))\n",
    "\n",
    "print(a,b,c)\n"
   ]
  },
  {
   "cell_type": "code",
   "execution_count": 64,
   "metadata": {},
   "outputs": [
    {
     "data": {
      "text/plain": [
       "45.1"
      ]
     },
     "execution_count": 64,
     "metadata": {},
     "output_type": "execute_result"
    }
   ],
   "source": [
    "a"
   ]
  },
  {
   "cell_type": "code",
   "execution_count": 65,
   "metadata": {},
   "outputs": [],
   "source": [
    "# delete the variable from the memory\n",
    "\n",
    "del a"
   ]
  },
  {
   "cell_type": "code",
   "execution_count": 66,
   "metadata": {},
   "outputs": [
    {
     "ename": "NameError",
     "evalue": "name 'a' is not defined",
     "output_type": "error",
     "traceback": [
      "\u001b[1;31m---------------------------------------------------------------------------\u001b[0m",
      "\u001b[1;31mNameError\u001b[0m                                 Traceback (most recent call last)",
      "Cell \u001b[1;32mIn[66], line 1\u001b[0m\n\u001b[1;32m----> 1\u001b[0m a\n",
      "\u001b[1;31mNameError\u001b[0m: name 'a' is not defined"
     ]
    }
   ],
   "source": [
    "a"
   ]
  },
  {
   "cell_type": "code",
   "execution_count": null,
   "metadata": {},
   "outputs": [],
   "source": [
    "# module - is a python file with .py extension\n",
    "# functions,class,variables\n",
    "\n",
    "# builtin module/user defined "
   ]
  },
  {
   "cell_type": "markdown",
   "metadata": {},
   "source": [
    "### Keywords in Python\n",
    "\n",
    "- You can display all keywords using **kwlist** attribute from **keyword** module"
   ]
  },
  {
   "cell_type": "code",
   "execution_count": 67,
   "metadata": {
    "id": "EC5G2ke_N214"
   },
   "outputs": [
    {
     "name": "stdout",
     "output_type": "stream",
     "text": [
      "['__all__', '__builtins__', '__cached__', '__doc__', '__file__', '__loader__', '__name__', '__package__', '__spec__', 'iskeyword', 'issoftkeyword', 'kwlist', 'softkwlist']\n"
     ]
    }
   ],
   "source": [
    "# display Keywords in Python\n",
    "\n",
    "import keyword\n",
    "\n",
    "print(dir(keyword))"
   ]
  },
  {
   "cell_type": "code",
   "execution_count": 68,
   "metadata": {},
   "outputs": [
    {
     "name": "stdout",
     "output_type": "stream",
     "text": [
      "['False', 'None', 'True', 'and', 'as', 'assert', 'async', 'await', 'break', 'class', 'continue', 'def', 'del', 'elif', 'else', 'except', 'finally', 'for', 'from', 'global', 'if', 'import', 'in', 'is', 'lambda', 'nonlocal', 'not', 'or', 'pass', 'raise', 'return', 'try', 'while', 'with', 'yield']\n"
     ]
    }
   ],
   "source": [
    "print(keyword.kwlist)"
   ]
  },
  {
   "cell_type": "code",
   "execution_count": 69,
   "metadata": {},
   "outputs": [
    {
     "data": {
      "text/plain": [
       "35"
      ]
     },
     "execution_count": 69,
     "metadata": {},
     "output_type": "execute_result"
    }
   ],
   "source": [
    "len(keyword.kwlist)"
   ]
  },
  {
   "cell_type": "code",
   "execution_count": null,
   "metadata": {},
   "outputs": [],
   "source": [
    "# magic methods / dunder methods / \n",
    "\n",
    "# oop - constructor - __init__()"
   ]
  },
  {
   "cell_type": "markdown",
   "metadata": {
    "id": "A2i9DzI7OTn4"
   },
   "source": [
    "**Constant**\n",
    "\n",
    "Constant is a types of variable whose value cannot be changed\n",
    "- python doesn't have built in constant types\n",
    "- but **by convention**, the variable name with all capital letters used to define a constant\n",
    "\n",
    "eg: FILE_SIZE_LIMIT = 2000,\n",
    "    PI = 3.14"
   ]
  },
  {
   "cell_type": "code",
   "execution_count": 70,
   "metadata": {},
   "outputs": [
    {
     "data": {
      "text/plain": [
       "3.1415"
      ]
     },
     "execution_count": 70,
     "metadata": {},
     "output_type": "execute_result"
    }
   ],
   "source": [
    "num1 = 90\n",
    "\n",
    "pi = 3.1415\n",
    "\n",
    "PI =3.1415\n",
    "\n",
    "PI"
   ]
  },
  {
   "cell_type": "code",
   "execution_count": 72,
   "metadata": {},
   "outputs": [
    {
     "name": "stdout",
     "output_type": "stream",
     "text": [
      "100\n",
      "110\n"
     ]
    }
   ],
   "source": [
    "SIZE = 100\n",
    "\n",
    "print(SIZE)\n",
    "SIZE += 10    # SIZE = SIZE + 10    # changing value of SIZE is not a good idea\n",
    "print(SIZE)"
   ]
  },
  {
   "cell_type": "code",
   "execution_count": null,
   "metadata": {},
   "outputs": [],
   "source": []
  },
  {
   "cell_type": "markdown",
   "metadata": {},
   "source": [
    "### Type Conversion in Python\n",
    "- Type conversion is an act of changing an object’s data type\n",
    "- Python defines type conversion functions to directly convert one data type to another\n",
    "    - which is useful in day-to-day and competitive programming\n",
    "- The Python interpreter automatically performs Implicit Type Conversion\n",
    "- At the same time, Python prevents Implicit Type Conversion from losing data\n",
    "\n",
    "#### There are two types of Type Conversion in Python:\n",
    "- Implicit Type Conversion\n",
    "- Explicit Type Conversion\n",
    "\n",
    "#### Type Casting\n",
    "- Type casting is a process of explicit type conversion\n",
    "- Here the user converts the data types of objects using specified functions\n",
    "- There is a posobility of data loss, if the object is forced to convert to a particular data type\n",
    "\n",
    "#### Implicit Type Conversion in Python\n",
    "- Here, the Python interpreter automatically converts one data type to another without any user involvement\n"
   ]
  },
  {
   "cell_type": "code",
   "execution_count": 73,
   "metadata": {},
   "outputs": [
    {
     "name": "stdout",
     "output_type": "stream",
     "text": [
      "x is of type: <class 'int'>\n",
      "y is of type: <class 'float'>\n",
      "20.6\n",
      "z is of type: <class 'float'>\n"
     ]
    }
   ],
   "source": [
    "# Observe the following code\n",
    "\n",
    "# Implicit Type Conversion in Python\n",
    "\n",
    "x = 10\n",
    "\n",
    "print(\"x is of type:\",type(x))\n",
    "\n",
    "y = 10.6\n",
    "print(\"y is of type:\",type(y))\n",
    "\n",
    "z = x + y\n",
    "\n",
    "print(z)\n",
    "print(\"z is of type:\",type(z))\n"
   ]
  },
  {
   "cell_type": "markdown",
   "metadata": {},
   "source": [
    "### Explicit Type Conversion in Python\n",
    "- Here, the data type is manually changed by the user as per their requirement\n",
    "- Also, there is a risk of data loss since we are forcing an expression to be changed in some specific data type\n",
    "\n",
    "#### Various forms of explicit type conversion:\n",
    "- Converting integer to float\n",
    "    - int(a): This function converts any data type to an integer.\n",
    "    - float(): This function is used to convert any data type to a floating-point number."
   ]
  },
  {
   "cell_type": "code",
   "execution_count": 78,
   "metadata": {},
   "outputs": [
    {
     "name": "stdout",
     "output_type": "stream",
     "text": [
      "10010\n",
      "<class 'str'>\n",
      "10010 <class 'int'>\n",
      "10010.0 <class 'float'>\n"
     ]
    }
   ],
   "source": [
    "# initializing string\n",
    "str1 = \"10010\"\n",
    "\n",
    "# converting string to integer\n",
    "print(int(str1))\n",
    "print(type(str1))\n",
    "\n",
    "num1 = int(str1)          # type casting\n",
    "print(num1, type(num1))\n",
    "\n",
    "# converting string to float\n",
    "num2 = float(str1)\n",
    "print(num2, type(num2))"
   ]
  },
  {
   "cell_type": "code",
   "execution_count": 79,
   "metadata": {},
   "outputs": [
    {
     "ename": "ValueError",
     "evalue": "invalid literal for int() with base 10: 'John'",
     "output_type": "error",
     "traceback": [
      "\u001b[1;31m---------------------------------------------------------------------------\u001b[0m",
      "\u001b[1;31mValueError\u001b[0m                                Traceback (most recent call last)",
      "Cell \u001b[1;32mIn[79], line 3\u001b[0m\n\u001b[0;32m      1\u001b[0m str1 \u001b[38;5;241m=\u001b[39m \u001b[38;5;124m'\u001b[39m\u001b[38;5;124mJohn\u001b[39m\u001b[38;5;124m'\u001b[39m\n\u001b[1;32m----> 3\u001b[0m num1 \u001b[38;5;241m=\u001b[39m \u001b[38;5;28mint\u001b[39m(str1)          \u001b[38;5;66;03m# type casting\u001b[39;00m\n\u001b[0;32m      4\u001b[0m \u001b[38;5;28mprint\u001b[39m(num1, \u001b[38;5;28mtype\u001b[39m(num1))\n",
      "\u001b[1;31mValueError\u001b[0m: invalid literal for int() with base 10: 'John'"
     ]
    }
   ],
   "source": [
    "str1 = 'John'\n",
    "\n",
    "num1 = int(str1)          # type casting\n",
    "print(num1, type(num1))\n"
   ]
  },
  {
   "cell_type": "code",
   "execution_count": 80,
   "metadata": {},
   "outputs": [
    {
     "data": {
      "text/plain": [
       "'True'"
      ]
     },
     "execution_count": 80,
     "metadata": {},
     "output_type": "execute_result"
    }
   ],
   "source": [
    "result = True\n",
    "\n",
    "str2 = str(result)\n",
    "str2"
   ]
  },
  {
   "cell_type": "code",
   "execution_count": 82,
   "metadata": {},
   "outputs": [
    {
     "data": {
      "text/plain": [
       "'1001'"
      ]
     },
     "execution_count": 82,
     "metadata": {},
     "output_type": "execute_result"
    }
   ],
   "source": [
    "num = 1001\n",
    "\n",
    "str2 = str(num)\n",
    "str2"
   ]
  },
  {
   "cell_type": "code",
   "execution_count": 83,
   "metadata": {},
   "outputs": [
    {
     "ename": "ValueError",
     "evalue": "invalid literal for int() with base 10: '78,700'",
     "output_type": "error",
     "traceback": [
      "\u001b[1;31m---------------------------------------------------------------------------\u001b[0m",
      "\u001b[1;31mValueError\u001b[0m                                Traceback (most recent call last)",
      "Cell \u001b[1;32mIn[83], line 3\u001b[0m\n\u001b[0;32m      1\u001b[0m s1 \u001b[38;5;241m=\u001b[39m \u001b[38;5;124m'\u001b[39m\u001b[38;5;124m78,700\u001b[39m\u001b[38;5;124m'\u001b[39m\n\u001b[1;32m----> 3\u001b[0m num5 \u001b[38;5;241m=\u001b[39m \u001b[38;5;28mint\u001b[39m(s1)\n\u001b[0;32m      4\u001b[0m num5\n",
      "\u001b[1;31mValueError\u001b[0m: invalid literal for int() with base 10: '78,700'"
     ]
    }
   ],
   "source": [
    "s1 = '78,700'\n",
    "\n",
    "num5 = int(s1)\n",
    "num5"
   ]
  },
  {
   "cell_type": "code",
   "execution_count": 84,
   "metadata": {},
   "outputs": [
    {
     "data": {
      "text/plain": [
       "'78700'"
      ]
     },
     "execution_count": 84,
     "metadata": {},
     "output_type": "execute_result"
    }
   ],
   "source": [
    "s1 = '78,700'\n",
    "\n",
    "s1.replace(',','')"
   ]
  },
  {
   "cell_type": "code",
   "execution_count": 85,
   "metadata": {},
   "outputs": [
    {
     "data": {
      "text/plain": [
       "'78700'"
      ]
     },
     "execution_count": 85,
     "metadata": {},
     "output_type": "execute_result"
    }
   ],
   "source": [
    "s1 = s1.replace(',','')\n",
    "s1"
   ]
  },
  {
   "cell_type": "code",
   "execution_count": 86,
   "metadata": {},
   "outputs": [
    {
     "data": {
      "text/plain": [
       "78700"
      ]
     },
     "execution_count": 86,
     "metadata": {},
     "output_type": "execute_result"
    }
   ],
   "source": [
    "num5 = int(s1)\n",
    "num5"
   ]
  },
  {
   "cell_type": "code",
   "execution_count": null,
   "metadata": {},
   "outputs": [],
   "source": [
    "# Advance datatypes / collections\n",
    "# list, tuple, set, dictionary"
   ]
  },
  {
   "cell_type": "code",
   "execution_count": 87,
   "metadata": {},
   "outputs": [
    {
     "data": {
      "text/plain": [
       "[23, 54, 77, 89, 65, 101]"
      ]
     },
     "execution_count": 87,
     "metadata": {},
     "output_type": "execute_result"
    }
   ],
   "source": [
    "nums = [23,54,77,89,65,101]   # nums is a list\n",
    "\n",
    "nums"
   ]
  },
  {
   "cell_type": "code",
   "execution_count": 88,
   "metadata": {},
   "outputs": [
    {
     "data": {
      "text/plain": [
       "'Amit Rakesh Sharma'"
      ]
     },
     "execution_count": 88,
     "metadata": {},
     "output_type": "execute_result"
    }
   ],
   "source": [
    "# working of split()\n",
    "\n",
    "name = \"Amit Rakesh Sharma\"\n",
    "\n",
    "name"
   ]
  },
  {
   "cell_type": "code",
   "execution_count": 89,
   "metadata": {},
   "outputs": [
    {
     "data": {
      "text/plain": [
       "['Amit', 'Rakesh', 'Sharma']"
      ]
     },
     "execution_count": 89,
     "metadata": {},
     "output_type": "execute_result"
    }
   ],
   "source": [
    "name.split()"
   ]
  },
  {
   "cell_type": "code",
   "execution_count": 91,
   "metadata": {},
   "outputs": [
    {
     "data": {
      "text/plain": [
       "['Amit', 'Rakesh', 'Sharma']"
      ]
     },
     "execution_count": 91,
     "metadata": {},
     "output_type": "execute_result"
    }
   ],
   "source": [
    "name = \"Amit,Rakesh,Sharma\"    # string is immutable/unchangable\n",
    "\n",
    "name.split(',')   # returns a list\n"
   ]
  },
  {
   "cell_type": "code",
   "execution_count": 92,
   "metadata": {},
   "outputs": [
    {
     "data": {
      "text/plain": [
       "'Amit,Rakesh,Sharma'"
      ]
     },
     "execution_count": 92,
     "metadata": {},
     "output_type": "execute_result"
    }
   ],
   "source": [
    "name"
   ]
  },
  {
   "cell_type": "code",
   "execution_count": null,
   "metadata": {},
   "outputs": [],
   "source": []
  },
  {
   "cell_type": "code",
   "execution_count": 93,
   "metadata": {},
   "outputs": [
    {
     "name": "stdout",
     "output_type": "stream",
     "text": [
      "Amit Rakesh Sharma\n"
     ]
    }
   ],
   "source": [
    "# store all names in a list - using split()\n",
    "\n",
    "name = \"Amit Rakesh Sharma\"\n",
    "\n",
    "fname,mname,lname = name.split()\n",
    "\n",
    "print(fname,mname,lname)"
   ]
  },
  {
   "cell_type": "code",
   "execution_count": null,
   "metadata": {},
   "outputs": [],
   "source": []
  },
  {
   "cell_type": "code",
   "execution_count": 95,
   "metadata": {},
   "outputs": [
    {
     "data": {
      "text/plain": [
       "['12', '05', '2023']"
      ]
     },
     "execution_count": 95,
     "metadata": {},
     "output_type": "execute_result"
    }
   ],
   "source": [
    "# split the date\n",
    "\n",
    "dateOfJoining = \"12-05-2023\"\n",
    "\n",
    "dateOfJoining.split('-')"
   ]
  },
  {
   "cell_type": "code",
   "execution_count": 96,
   "metadata": {},
   "outputs": [
    {
     "name": "stdout",
     "output_type": "stream",
     "text": [
      "Enter your name: Trupti\n",
      "Hello Trupti\n"
     ]
    }
   ],
   "source": [
    "# input()\n",
    "\n",
    "name = input('Enter your name: ')\n",
    "print('Hello', name)"
   ]
  },
  {
   "cell_type": "code",
   "execution_count": 97,
   "metadata": {},
   "outputs": [
    {
     "name": "stdout",
     "output_type": "stream",
     "text": [
      "Enter your name: Trupti\n",
      "Enter your hobby: hiking\n",
      "Trupti likes hiking\n"
     ]
    }
   ],
   "source": [
    "name = input('Enter your name: ')\n",
    "hobby = input('Enter your hobby: ')\n",
    "\n",
    "print(name, 'likes', hobby)"
   ]
  },
  {
   "cell_type": "code",
   "execution_count": 98,
   "metadata": {},
   "outputs": [
    {
     "name": "stdout",
     "output_type": "stream",
     "text": [
      "Enter ur name and hobby: John Trekking\n",
      "John likes Trekking\n"
     ]
    }
   ],
   "source": [
    "name, hobby = input('Enter ur name and hobby: ').split()\n",
    "\n",
    "print(name, 'likes', hobby)"
   ]
  },
  {
   "cell_type": "code",
   "execution_count": null,
   "metadata": {},
   "outputs": [],
   "source": []
  },
  {
   "cell_type": "code",
   "execution_count": 99,
   "metadata": {},
   "outputs": [
    {
     "name": "stdout",
     "output_type": "stream",
     "text": [
      "Enter a number: 55\n"
     ]
    },
    {
     "data": {
      "text/plain": [
       "155"
      ]
     },
     "execution_count": 99,
     "metadata": {},
     "output_type": "execute_result"
    }
   ],
   "source": [
    "# input() int,float values\n",
    "\n",
    "n1 = int(input('Enter a number: '))\n",
    "\n",
    "n1+100"
   ]
  },
  {
   "cell_type": "code",
   "execution_count": 100,
   "metadata": {},
   "outputs": [
    {
     "name": "stdout",
     "output_type": "stream",
     "text": [
      "Enter a number: 12.5\n"
     ]
    },
    {
     "data": {
      "text/plain": [
       "112.5"
      ]
     },
     "execution_count": 100,
     "metadata": {},
     "output_type": "execute_result"
    }
   ],
   "source": [
    "# input() int,float values\n",
    "\n",
    "n1 = float(input('Enter a number: '))\n",
    "\n",
    "n1+100"
   ]
  },
  {
   "cell_type": "code",
   "execution_count": 101,
   "metadata": {},
   "outputs": [
    {
     "name": "stdout",
     "output_type": "stream",
     "text": [
      "Enter name and age: Mira 17\n",
      "Mira is 17 years old\n",
      "27\n"
     ]
    }
   ],
   "source": [
    "name, age = input('Enter name and age: ').split()\n",
    "age = int(age)\n",
    "\n",
    "print(name, 'is', age, 'years old')\n",
    "\n",
    "print(age+10)"
   ]
  },
  {
   "cell_type": "code",
   "execution_count": null,
   "metadata": {},
   "outputs": [],
   "source": [
    "# input() with split(), map()\n",
    "\n",
    "# syntax:  map(function, sequence)\n"
   ]
  },
  {
   "cell_type": "code",
   "execution_count": 102,
   "metadata": {},
   "outputs": [
    {
     "name": "stdout",
     "output_type": "stream",
     "text": [
      "Enter 3 numbers: 10 5 20\n"
     ]
    },
    {
     "data": {
      "text/plain": [
       "35"
      ]
     },
     "execution_count": 102,
     "metadata": {},
     "output_type": "execute_result"
    }
   ],
   "source": [
    "# enter 3 numbers and display the addition\n",
    "\n",
    "n1, n2, n3 = map( int , input('Enter 3 numbers: ').split())\n",
    "\n",
    "n1+n2+n3"
   ]
  },
  {
   "cell_type": "code",
   "execution_count": null,
   "metadata": {},
   "outputs": [],
   "source": [
    "n = 10   # int()  constructor\n"
   ]
  },
  {
   "cell_type": "code",
   "execution_count": null,
   "metadata": {},
   "outputs": [],
   "source": [
    "n1, n2, n3 = map( float , input('Enter 3 numbers: ').split())\n",
    "\n",
    "n1+n2+n3"
   ]
  },
  {
   "cell_type": "code",
   "execution_count": null,
   "metadata": {},
   "outputs": [],
   "source": [
    "# Do this\n",
    "# Enter itemno,rate,qty of an item as integers\n",
    "# Calculate amount to be paid\n",
    "\n"
   ]
  },
  {
   "cell_type": "code",
   "execution_count": null,
   "metadata": {},
   "outputs": [],
   "source": []
  },
  {
   "cell_type": "code",
   "execution_count": null,
   "metadata": {},
   "outputs": [],
   "source": [
    "# print() with format() - placeholder"
   ]
  },
  {
   "cell_type": "code",
   "execution_count": 104,
   "metadata": {},
   "outputs": [
    {
     "name": "stdout",
     "output_type": "stream",
     "text": [
      "My name is John. My code is A505. I have 10-9-2022 yrs of exp. I am John\n"
     ]
    }
   ],
   "source": [
    "name = 'John'\n",
    "code = 'A505'\n",
    "doj = '10-9-2022'\n",
    "exp = 5\n",
    "\n",
    "message = 'My name is {}. My code is {}. I have {} yrs of exp. I am {}'\n",
    "\n",
    "print(message.format(name,code,doj,name))\n"
   ]
  },
  {
   "cell_type": "code",
   "execution_count": null,
   "metadata": {},
   "outputs": [],
   "source": []
  },
  {
   "cell_type": "code",
   "execution_count": null,
   "metadata": {},
   "outputs": [],
   "source": [
    "# print() with short format"
   ]
  },
  {
   "cell_type": "code",
   "execution_count": 105,
   "metadata": {},
   "outputs": [
    {
     "name": "stdout",
     "output_type": "stream",
     "text": [
      "My name is John. My code is A505.\n"
     ]
    }
   ],
   "source": [
    "name = 'John'\n",
    "doj = '10-9-2022'\n",
    "exp = 5\n",
    "code = 'A505'\n",
    "\n",
    "print(f'My name is {name}. My code is {code}.')"
   ]
  },
  {
   "cell_type": "code",
   "execution_count": null,
   "metadata": {},
   "outputs": [],
   "source": []
  },
  {
   "cell_type": "markdown",
   "metadata": {},
   "source": [
    "#### Operators in Python\n",
    "- Assignment operator: =\n",
    "- Comparision operator:   ==\n",
    "- Arithmetic: +, -, *, /, **, //, %\n",
    "- Relational: >, <, >=, <=, !=\n",
    "- Logical: and, or, not\n",
    "- Unary:\n",
    "    - If the operator acts on a single operand then it's called the unary operator\n",
    "    - For example: in '-5' the operator '-' is unary operator\n",
    "- Ternary:\n",
    "    - The ternary operator in Python is a concise way of writing simple if/else statements in a single line\n",
    "- Membership: in, not in\n",
    "- Operator precedence\n",
    "\n",
    "\n",
    "**THE EXECUTION OF EXPRESSION WILL BE FROM LEFT TO RIGHT**\n",
    "\n",
    "- Operator precedence - **PEMDAS which means**\n",
    "- Parenthesis ()\n",
    "- Exponential **\n",
    "- Multiplication *\n",
    "- Division /\n",
    "- Addition +\n",
    "- Subtraction -"
   ]
  },
  {
   "cell_type": "code",
   "execution_count": null,
   "metadata": {},
   "outputs": [],
   "source": [
    "# Arithmetic operators: +, -, *, /\n",
    "# Exponentiation(**)\n",
    "# Floor division(//)\n",
    "# Modulus(%)\n"
   ]
  },
  {
   "cell_type": "code",
   "execution_count": 106,
   "metadata": {},
   "outputs": [
    {
     "data": {
      "text/plain": [
       "9"
      ]
     },
     "execution_count": 106,
     "metadata": {},
     "output_type": "execute_result"
    }
   ],
   "source": [
    "4 * 2 + 1"
   ]
  },
  {
   "cell_type": "code",
   "execution_count": 107,
   "metadata": {},
   "outputs": [
    {
     "data": {
      "text/plain": [
       "12"
      ]
     },
     "execution_count": 107,
     "metadata": {},
     "output_type": "execute_result"
    }
   ],
   "source": [
    "4 * (2 + 1)"
   ]
  },
  {
   "cell_type": "code",
   "execution_count": 108,
   "metadata": {},
   "outputs": [
    {
     "data": {
      "text/plain": [
       "25"
      ]
     },
     "execution_count": 108,
     "metadata": {},
     "output_type": "execute_result"
    }
   ],
   "source": [
    "4 * 2 + 1 + 4 ** 2"
   ]
  },
  {
   "cell_type": "code",
   "execution_count": 109,
   "metadata": {},
   "outputs": [
    {
     "data": {
      "text/plain": [
       "22"
      ]
     },
     "execution_count": 109,
     "metadata": {},
     "output_type": "execute_result"
    }
   ],
   "source": [
    "4 ** 2 + 3 * 2"
   ]
  },
  {
   "cell_type": "code",
   "execution_count": 110,
   "metadata": {},
   "outputs": [
    {
     "data": {
      "text/plain": [
       "6"
      ]
     },
     "execution_count": 110,
     "metadata": {},
     "output_type": "execute_result"
    }
   ],
   "source": [
    "4 ** 1 + 1 * 2"
   ]
  },
  {
   "cell_type": "code",
   "execution_count": 111,
   "metadata": {},
   "outputs": [
    {
     "data": {
      "text/plain": [
       "32"
      ]
     },
     "execution_count": 111,
     "metadata": {},
     "output_type": "execute_result"
    }
   ],
   "source": [
    "4 ** (1 + 1) * 2"
   ]
  },
  {
   "cell_type": "code",
   "execution_count": null,
   "metadata": {},
   "outputs": [],
   "source": [
    "# There are *two* division operators: \n",
    "# / for everyday (float) division and // for truncating (integer) division, Floor division(//)"
   ]
  },
  {
   "cell_type": "code",
   "execution_count": 112,
   "metadata": {},
   "outputs": [
    {
     "name": "stdout",
     "output_type": "stream",
     "text": [
      "4.25\n",
      "4\n"
     ]
    }
   ],
   "source": [
    "print(17 / 4)\n",
    "print(17 // 4)"
   ]
  },
  {
   "cell_type": "code",
   "execution_count": null,
   "metadata": {},
   "outputs": [],
   "source": []
  },
  {
   "cell_type": "markdown",
   "metadata": {},
   "source": [
    "**Membership operators (in, not in)**\n",
    "\n",
    "- The **in** operator returns result as True if it finds a value or variable in the sequence \n",
    "    - Otherwise, it returns False.\n",
    "- The **not in** operator returns result as True if it doesn't find a value or variable in the sequence\n",
    "    - Otherwise, it returns False"
   ]
  },
  {
   "cell_type": "code",
   "execution_count": 113,
   "metadata": {},
   "outputs": [
    {
     "data": {
      "text/plain": [
       "True"
      ]
     },
     "execution_count": 113,
     "metadata": {},
     "output_type": "execute_result"
    }
   ],
   "source": [
    "# string\n",
    "\n",
    "\"I\" in \"India\""
   ]
  },
  {
   "cell_type": "code",
   "execution_count": 114,
   "metadata": {},
   "outputs": [
    {
     "data": {
      "text/plain": [
       "True"
      ]
     },
     "execution_count": 114,
     "metadata": {},
     "output_type": "execute_result"
    }
   ],
   "source": [
    "\"Jap\" in \"Japan\""
   ]
  },
  {
   "cell_type": "code",
   "execution_count": 115,
   "metadata": {},
   "outputs": [
    {
     "data": {
      "text/plain": [
       "False"
      ]
     },
     "execution_count": 115,
     "metadata": {},
     "output_type": "execute_result"
    }
   ],
   "source": [
    "\"J\" in \"japan\""
   ]
  },
  {
   "cell_type": "code",
   "execution_count": 119,
   "metadata": {},
   "outputs": [
    {
     "data": {
      "text/plain": [
       "False"
      ]
     },
     "execution_count": 119,
     "metadata": {},
     "output_type": "execute_result"
    }
   ],
   "source": [
    "'orange' in ['mango', 'cherry','banana', 'Oorange']"
   ]
  },
  {
   "cell_type": "code",
   "execution_count": null,
   "metadata": {},
   "outputs": [],
   "source": []
  },
  {
   "cell_type": "code",
   "execution_count": 120,
   "metadata": {},
   "outputs": [
    {
     "data": {
      "text/plain": [
       "False"
      ]
     },
     "execution_count": 120,
     "metadata": {},
     "output_type": "execute_result"
    }
   ],
   "source": [
    "# list collection / advance datatype in python\n",
    "marks = [78,65,45,90,88]\n",
    "\n",
    "95 in marks"
   ]
  },
  {
   "cell_type": "code",
   "execution_count": 121,
   "metadata": {},
   "outputs": [
    {
     "data": {
      "text/plain": [
       "True"
      ]
     },
     "execution_count": 121,
     "metadata": {},
     "output_type": "execute_result"
    }
   ],
   "source": [
    "45 in marks"
   ]
  },
  {
   "cell_type": "code",
   "execution_count": 122,
   "metadata": {},
   "outputs": [
    {
     "data": {
      "text/plain": [
       "False"
      ]
     },
     "execution_count": 122,
     "metadata": {},
     "output_type": "execute_result"
    }
   ],
   "source": [
    "45 not in marks"
   ]
  },
  {
   "cell_type": "code",
   "execution_count": null,
   "metadata": {},
   "outputs": [],
   "source": []
  },
  {
   "cell_type": "markdown",
   "metadata": {},
   "source": [
    "**Identity operators**\n",
    "\n",
    "- There are two Identity operators: \"is\" and \"is not\"\n",
    "- **is** - Returns true if both variables are the same object.\n",
    "- **is not**- Returns true if both variables are not the same object.\n",
    "\n",
    "**Note:** You should only use is operator if you want to check if two objects are really the same object (not just the same \"value\")."
   ]
  },
  {
   "cell_type": "code",
   "execution_count": 125,
   "metadata": {},
   "outputs": [
    {
     "name": "stdout",
     "output_type": "stream",
     "text": [
      "140728367356232\n",
      "140728367356072\n",
      "140728367356232\n"
     ]
    }
   ],
   "source": [
    "a = 50\n",
    "b = 45\n",
    "c = 50\n",
    "\n",
    "# display memory address of the variables\n",
    "\n",
    "print(id(a))\n",
    "print(id(b))\n",
    "print(id(c))"
   ]
  },
  {
   "cell_type": "code",
   "execution_count": 126,
   "metadata": {},
   "outputs": [
    {
     "data": {
      "text/plain": [
       "False"
      ]
     },
     "execution_count": 126,
     "metadata": {},
     "output_type": "execute_result"
    }
   ],
   "source": [
    "# check if the memory address of a and b are same\n",
    "\n",
    "a is b"
   ]
  },
  {
   "cell_type": "code",
   "execution_count": 124,
   "metadata": {},
   "outputs": [
    {
     "data": {
      "text/plain": [
       "True"
      ]
     },
     "execution_count": 124,
     "metadata": {},
     "output_type": "execute_result"
    }
   ],
   "source": [
    "# check if the memory address of a and c are same\n",
    "\n",
    "a is c"
   ]
  },
  {
   "cell_type": "code",
   "execution_count": 127,
   "metadata": {},
   "outputs": [
    {
     "name": "stdout",
     "output_type": "stream",
     "text": [
      "140728367354952\n",
      "140728367355272\n"
     ]
    }
   ],
   "source": [
    "a = 10\n",
    "print(id(a))\n",
    "a = 20             # value change, address also changes\n",
    "print(id(a))"
   ]
  },
  {
   "cell_type": "code",
   "execution_count": 133,
   "metadata": {},
   "outputs": [
    {
     "name": "stdout",
     "output_type": "stream",
     "text": [
      "140728365968112\n",
      "<class 'NoneType'>\n",
      "140728365968112\n"
     ]
    },
    {
     "data": {
      "text/plain": [
       "True"
      ]
     },
     "execution_count": 133,
     "metadata": {},
     "output_type": "execute_result"
    }
   ],
   "source": [
    "a = None\n",
    "b = None\n",
    "print(id(a))\n",
    "\n",
    "print(type(a))\n",
    "\n",
    "print(id(None))\n",
    "a is b"
   ]
  },
  {
   "cell_type": "code",
   "execution_count": 130,
   "metadata": {},
   "outputs": [
    {
     "data": {
      "text/plain": [
       "True"
      ]
     },
     "execution_count": 130,
     "metadata": {},
     "output_type": "execute_result"
    }
   ],
   "source": [
    "a is None"
   ]
  },
  {
   "cell_type": "markdown",
   "metadata": {},
   "source": [
    "#### print() parameters - sep, end"
   ]
  },
  {
   "cell_type": "code",
   "execution_count": 137,
   "metadata": {},
   "outputs": [
    {
     "name": "stdout",
     "output_type": "stream",
     "text": [
      "Hello\n",
      "John\n"
     ]
    }
   ],
   "source": [
    "print('Hello')\n",
    "print('John')"
   ]
  },
  {
   "cell_type": "code",
   "execution_count": 139,
   "metadata": {},
   "outputs": [
    {
     "name": "stdout",
     "output_type": "stream",
     "text": [
      "11***22\n"
     ]
    }
   ],
   "source": [
    "print('11', end='***')\n",
    "print('22')"
   ]
  },
  {
   "cell_type": "code",
   "execution_count": 142,
   "metadata": {},
   "outputs": [
    {
     "name": "stdout",
     "output_type": "stream",
     "text": [
      "1122\n"
     ]
    }
   ],
   "source": [
    "print('11', end='')\n",
    "print('22')"
   ]
  },
  {
   "cell_type": "code",
   "execution_count": 143,
   "metadata": {},
   "outputs": [
    {
     "name": "stdout",
     "output_type": "stream",
     "text": [
      "4 2 3 7\n"
     ]
    }
   ],
   "source": [
    "a,b,c,d = 4,2,3,7\n",
    "\n",
    "print(a,b,c,d)"
   ]
  },
  {
   "cell_type": "code",
   "execution_count": 144,
   "metadata": {},
   "outputs": [
    {
     "name": "stdout",
     "output_type": "stream",
     "text": [
      "4, 2, 3, 7\n"
     ]
    }
   ],
   "source": [
    "a,b,c,d = 4,2,3,7\n",
    "\n",
    "print(a,b,c,d, sep=', ')"
   ]
  },
  {
   "cell_type": "code",
   "execution_count": 145,
   "metadata": {},
   "outputs": [
    {
     "name": "stdout",
     "output_type": "stream",
     "text": [
      "4, 2, 3, 7\n",
      "Thanks\n"
     ]
    }
   ],
   "source": [
    "print(a,b,c,d, sep=', ')\n",
    "\n",
    "print('Thanks')"
   ]
  },
  {
   "cell_type": "code",
   "execution_count": 146,
   "metadata": {},
   "outputs": [
    {
     "name": "stdout",
     "output_type": "stream",
     "text": [
      "4, 2, 3, 7\n",
      "\n",
      "Thanks\n"
     ]
    }
   ],
   "source": [
    "print(a,b,c,d, sep=', ')\n",
    "\n",
    "print('\\nThanks')"
   ]
  },
  {
   "cell_type": "code",
   "execution_count": 147,
   "metadata": {},
   "outputs": [
    {
     "name": "stdout",
     "output_type": "stream",
     "text": [
      "4, 2, 3, 7\n",
      "\n",
      "Thanks\n"
     ]
    }
   ],
   "source": [
    "print(a,b,c,d, sep=', ')\n",
    "print()\n",
    "print('Thanks')"
   ]
  },
  {
   "cell_type": "code",
   "execution_count": 151,
   "metadata": {},
   "outputs": [
    {
     "name": "stdout",
     "output_type": "stream",
     "text": [
      "John 1001 Mumbai\n",
      "John, 1001, Mumbai\n"
     ]
    }
   ],
   "source": [
    "name,code,city = 'John',1001, 'Mumbai'\n",
    "\n",
    "print(name,code,city)\n",
    "print(name,code,city, sep=', ')"
   ]
  },
  {
   "cell_type": "code",
   "execution_count": null,
   "metadata": {},
   "outputs": [],
   "source": []
  },
  {
   "cell_type": "markdown",
   "metadata": {},
   "source": [
    "### Observe the given examples"
   ]
  },
  {
   "cell_type": "code",
   "execution_count": 134,
   "metadata": {},
   "outputs": [
    {
     "name": "stdout",
     "output_type": "stream",
     "text": [
      "enter divident: 45\n",
      "enter divisor: 5\n",
      "9.0\n"
     ]
    }
   ],
   "source": [
    "# Example: It works\n",
    "\n",
    "divident = int(input(\"enter divident: \"))\n",
    "\n",
    "divisor = int(input(\"enter divisor: \"))\n",
    "\n",
    "Quoteint = divident/divisor\n",
    "\n",
    "print(Quoteint)\n"
   ]
  },
  {
   "cell_type": "code",
   "execution_count": 135,
   "metadata": {
    "id": "0-R5OG5r0Ovk"
   },
   "outputs": [
    {
     "name": "stdout",
     "output_type": "stream",
     "text": [
      "enter divident: 5345\n",
      "enter divisor: 3\n",
      "1781.6666666666667\n"
     ]
    }
   ],
   "source": [
    "# Example: It works\n",
    "\n",
    "divident = input(\"enter divident: \")\n",
    "\n",
    "divisor = input(\"enter divisor: \")\n",
    "\n",
    "Quoteint = int(divident)/int(divisor)\n",
    "\n",
    "print(Quoteint)\n"
   ]
  },
  {
   "cell_type": "code",
   "execution_count": 136,
   "metadata": {
    "scrolled": true
   },
   "outputs": [
    {
     "name": "stdout",
     "output_type": "stream",
     "text": [
      "enter divident: 345345\n",
      "enter divisor: 12\n"
     ]
    },
    {
     "ename": "TypeError",
     "evalue": "unsupported operand type(s) for /: 'str' and 'str'",
     "output_type": "error",
     "traceback": [
      "\u001b[1;31m---------------------------------------------------------------------------\u001b[0m",
      "\u001b[1;31mTypeError\u001b[0m                                 Traceback (most recent call last)",
      "Cell \u001b[1;32mIn[136], line 7\u001b[0m\n\u001b[0;32m      3\u001b[0m divident \u001b[38;5;241m=\u001b[39m \u001b[38;5;28minput\u001b[39m(\u001b[38;5;124m\"\u001b[39m\u001b[38;5;124menter divident: \u001b[39m\u001b[38;5;124m\"\u001b[39m)   \n\u001b[0;32m      5\u001b[0m divisor \u001b[38;5;241m=\u001b[39m \u001b[38;5;28minput\u001b[39m(\u001b[38;5;124m\"\u001b[39m\u001b[38;5;124menter divisor: \u001b[39m\u001b[38;5;124m\"\u001b[39m)     \n\u001b[1;32m----> 7\u001b[0m Quoteint \u001b[38;5;241m=\u001b[39m \u001b[38;5;28mint\u001b[39m(divident\u001b[38;5;241m/\u001b[39mdivisor) \n\u001b[0;32m      9\u001b[0m \u001b[38;5;28mprint\u001b[39m(Quoteint)\n",
      "\u001b[1;31mTypeError\u001b[0m: unsupported operand type(s) for /: 'str' and 'str'"
     ]
    }
   ],
   "source": [
    "# Example: Why this won't work\n",
    "\n",
    "divident = input(\"enter divident: \")   \n",
    "\n",
    "divisor = input(\"enter divisor: \")     \n",
    "\n",
    "Quoteint = int(divident/divisor) \n",
    "\n",
    "print(Quoteint)\n"
   ]
  },
  {
   "cell_type": "code",
   "execution_count": null,
   "metadata": {},
   "outputs": [],
   "source": [
    "# How to deal with errors\n",
    "\n",
    "# copy paste the error on google\n",
    "# and open stackoverflow link"
   ]
  }
 ],
 "metadata": {
  "colab": {
   "provenance": []
  },
  "kernelspec": {
   "display_name": "Python 3 (ipykernel)",
   "language": "python",
   "name": "python3"
  },
  "language_info": {
   "codemirror_mode": {
    "name": "ipython",
    "version": 3
   },
   "file_extension": ".py",
   "mimetype": "text/x-python",
   "name": "python",
   "nbconvert_exporter": "python",
   "pygments_lexer": "ipython3",
   "version": "3.11.5"
  }
 },
 "nbformat": 4,
 "nbformat_minor": 1
}
