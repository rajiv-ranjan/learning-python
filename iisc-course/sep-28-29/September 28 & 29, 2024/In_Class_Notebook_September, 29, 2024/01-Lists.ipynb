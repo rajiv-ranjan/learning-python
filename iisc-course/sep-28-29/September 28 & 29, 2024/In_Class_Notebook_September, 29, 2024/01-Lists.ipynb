{
 "cells": [
  {
   "cell_type": "markdown",
   "metadata": {
    "id": "CQkoh9Qd7gNx"
   },
   "source": [
    "### **Collections**\n",
    "- In python collections are **containers** that are used to **store collection of data**.\n",
    "- For example: **List, Dict, Set, Tuple etc,.**"
   ]
  },
  {
   "cell_type": "markdown",
   "metadata": {
    "id": "j_d2kWT98FgD"
   },
   "source": [
    "#### List - ordered, mutable, hetrogeneous data, duplicates\n",
    "- Lists are used to store multiple items in a single variable. \n",
    "- It is a sequence of datatype which is used to store the collections of data. \n",
    "- It contains multiple values in an ordered sequence.\n",
    "    - which is enclosed in **[ ]**'s\n",
    "- The elements of the list don't have to be same type"
   ]
  },
  {
   "cell_type": "code",
   "execution_count": 1,
   "metadata": {
    "executionInfo": {
     "elapsed": 32,
     "status": "ok",
     "timestamp": 1692601777017,
     "user": {
      "displayName": "Jayasurya Thirumaran",
      "userId": "13318290182123921947"
     },
     "user_tz": -330
    },
    "id": "JnhIjkrT7P5A"
   },
   "outputs": [
    {
     "data": {
      "text/plain": [
       "['John', 'Kelly', 'Mack', 'Sally']"
      ]
     },
     "execution_count": 1,
     "metadata": {},
     "output_type": "execute_result"
    }
   ],
   "source": [
    "# List of elements seperated by comma\n",
    "\n",
    "friends = ['John','Kelly','Mack','Sally']\n",
    "friends"
   ]
  },
  {
   "cell_type": "code",
   "execution_count": 2,
   "metadata": {
    "executionInfo": {
     "elapsed": 32,
     "status": "ok",
     "timestamp": 1692601777017,
     "user": {
      "displayName": "Jayasurya Thirumaran",
      "userId": "13318290182123921947"
     },
     "user_tz": -330
    },
    "id": "kPJdEntK-Lez"
   },
   "outputs": [
    {
     "data": {
      "text/plain": [
       "[4, 3, 2, 7, 9, 8]"
      ]
     },
     "execution_count": 2,
     "metadata": {},
     "output_type": "execute_result"
    }
   ],
   "source": [
    "# List of Integers\n",
    "\n",
    "list1 = [4,3,2,7,9,8]\n",
    "list1"
   ]
  },
  {
   "cell_type": "code",
   "execution_count": 3,
   "metadata": {},
   "outputs": [
    {
     "data": {
      "text/plain": [
       "['Ram', 34, 12.98, True, [4, 2, 3, 6]]"
      ]
     },
     "execution_count": 3,
     "metadata": {},
     "output_type": "execute_result"
    }
   ],
   "source": [
    "# List of Mixed Types\n",
    "\n",
    "mylist = ['Ram', 34, 12.98, True, [4,2,3,6]]\n",
    "mylist"
   ]
  },
  {
   "cell_type": "code",
   "execution_count": 4,
   "metadata": {},
   "outputs": [
    {
     "data": {
      "text/plain": [
       "[4, 2, 3, 6]"
      ]
     },
     "execution_count": 4,
     "metadata": {},
     "output_type": "execute_result"
    }
   ],
   "source": [
    "mylist[-1]"
   ]
  },
  {
   "cell_type": "markdown",
   "metadata": {},
   "source": [
    "#### Positive and Negative Indexing"
   ]
  },
  {
   "cell_type": "code",
   "execution_count": 5,
   "metadata": {},
   "outputs": [],
   "source": [
    "# Positive Indexing\n",
    "#        0    1   2   3   4   5   6\n",
    "list1 = [10, 45, 67, 92, 84, 16, 27]\n",
    "#        -7  -6  -5  -4  -3  -2  -1\n",
    "# Negative Indexing"
   ]
  },
  {
   "cell_type": "code",
   "execution_count": 6,
   "metadata": {},
   "outputs": [
    {
     "data": {
      "text/plain": [
       "[10, 45, 67, 92, 84, 16, 27]"
      ]
     },
     "execution_count": 6,
     "metadata": {},
     "output_type": "execute_result"
    }
   ],
   "source": [
    "list1"
   ]
  },
  {
   "cell_type": "code",
   "execution_count": 7,
   "metadata": {},
   "outputs": [
    {
     "data": {
      "text/plain": [
       "92"
      ]
     },
     "execution_count": 7,
     "metadata": {},
     "output_type": "execute_result"
    }
   ],
   "source": [
    "list1[3]"
   ]
  },
  {
   "cell_type": "code",
   "execution_count": 8,
   "metadata": {},
   "outputs": [
    {
     "data": {
      "text/plain": [
       "92"
      ]
     },
     "execution_count": 8,
     "metadata": {},
     "output_type": "execute_result"
    }
   ],
   "source": [
    "list1[-4]"
   ]
  },
  {
   "cell_type": "code",
   "execution_count": 9,
   "metadata": {},
   "outputs": [
    {
     "data": {
      "text/plain": [
       "[10, 45, 67, 92, 84, 16, 27]"
      ]
     },
     "execution_count": 9,
     "metadata": {},
     "output_type": "execute_result"
    }
   ],
   "source": [
    "list1[::]"
   ]
  },
  {
   "cell_type": "code",
   "execution_count": 10,
   "metadata": {},
   "outputs": [
    {
     "data": {
      "text/plain": [
       "[27, 16, 84, 92, 67, 45, 10]"
      ]
     },
     "execution_count": 10,
     "metadata": {},
     "output_type": "execute_result"
    }
   ],
   "source": [
    "list1[::-1]"
   ]
  },
  {
   "cell_type": "markdown",
   "metadata": {
    "id": "ttEN7urMOZV4"
   },
   "source": [
    "Access the elements insides a **List**"
   ]
  },
  {
   "cell_type": "code",
   "execution_count": 11,
   "metadata": {
    "colab": {
     "base_uri": "https://localhost:8080/"
    },
    "executionInfo": {
     "elapsed": 26,
     "status": "ok",
     "timestamp": 1692601777019,
     "user": {
      "displayName": "Jayasurya Thirumaran",
      "userId": "13318290182123921947"
     },
     "user_tz": -330
    },
    "id": "rldUDTIDOcZC",
    "outputId": "75639753-12ad-4e25-c8f9-831cd973aff2"
   },
   "outputs": [
    {
     "data": {
      "text/plain": [
       "['John', 'Kelly', 'Joseph', 'Henry', 'Glenn', 'Sally']"
      ]
     },
     "execution_count": 11,
     "metadata": {},
     "output_type": "execute_result"
    }
   ],
   "source": [
    "# Positive Indexing\n",
    "#           0       1        2         3        4        5\n",
    "friends = ['John', 'Kelly', 'Joseph', 'Henry', 'Glenn', 'Sally']\n",
    "#           -6      -5       -4        -3       -2       -1\n",
    "# Negative Indexing\n",
    "\n",
    "friends"
   ]
  },
  {
   "cell_type": "code",
   "execution_count": 12,
   "metadata": {},
   "outputs": [
    {
     "data": {
      "text/plain": [
       "'Joseph'"
      ]
     },
     "execution_count": 12,
     "metadata": {},
     "output_type": "execute_result"
    }
   ],
   "source": [
    "friends[-4]"
   ]
  },
  {
   "cell_type": "code",
   "execution_count": null,
   "metadata": {},
   "outputs": [],
   "source": []
  },
  {
   "cell_type": "markdown",
   "metadata": {},
   "source": [
    "#### Nested List"
   ]
  },
  {
   "cell_type": "code",
   "execution_count": 13,
   "metadata": {},
   "outputs": [
    {
     "data": {
      "text/plain": [
       "[4, 22, 89, [5, 7, 6, 8], 21, 90]"
      ]
     },
     "execution_count": 13,
     "metadata": {},
     "output_type": "execute_result"
    }
   ],
   "source": [
    "list1 = [4,22,89,[5,7,6,8],21,90]\n",
    "list1"
   ]
  },
  {
   "cell_type": "code",
   "execution_count": 14,
   "metadata": {},
   "outputs": [
    {
     "data": {
      "text/plain": [
       "[5, 7, 6, 8]"
      ]
     },
     "execution_count": 14,
     "metadata": {},
     "output_type": "execute_result"
    }
   ],
   "source": [
    "list1[3]"
   ]
  },
  {
   "cell_type": "code",
   "execution_count": 15,
   "metadata": {},
   "outputs": [
    {
     "data": {
      "text/plain": [
       "[5, 7, 6, 8]"
      ]
     },
     "execution_count": 15,
     "metadata": {},
     "output_type": "execute_result"
    }
   ],
   "source": [
    "list1[-3]"
   ]
  },
  {
   "cell_type": "markdown",
   "metadata": {},
   "source": [
    "#### Access elements in the nested list"
   ]
  },
  {
   "cell_type": "code",
   "execution_count": 17,
   "metadata": {},
   "outputs": [],
   "source": [
    "mylist = [['Henry', 'John', 'Molly'],[20, 22, 24, 25]]\n"
   ]
  },
  {
   "cell_type": "code",
   "execution_count": 18,
   "metadata": {},
   "outputs": [
    {
     "data": {
      "text/plain": [
       "[['Henry', 'John', 'Molly'], [20, 22, 24, 25]]"
      ]
     },
     "execution_count": 18,
     "metadata": {},
     "output_type": "execute_result"
    }
   ],
   "source": [
    "mylist"
   ]
  },
  {
   "cell_type": "code",
   "execution_count": 19,
   "metadata": {},
   "outputs": [
    {
     "data": {
      "text/plain": [
       "['Henry', 'John', 'Molly']"
      ]
     },
     "execution_count": 19,
     "metadata": {},
     "output_type": "execute_result"
    }
   ],
   "source": [
    "mylist[0]"
   ]
  },
  {
   "cell_type": "code",
   "execution_count": 20,
   "metadata": {},
   "outputs": [
    {
     "data": {
      "text/plain": [
       "'John'"
      ]
     },
     "execution_count": 20,
     "metadata": {},
     "output_type": "execute_result"
    }
   ],
   "source": [
    "mylist[0][1]"
   ]
  },
  {
   "cell_type": "code",
   "execution_count": 21,
   "metadata": {},
   "outputs": [
    {
     "data": {
      "text/plain": [
       "'John'"
      ]
     },
     "execution_count": 21,
     "metadata": {},
     "output_type": "execute_result"
    }
   ],
   "source": [
    "mylist[0][-2]"
   ]
  },
  {
   "cell_type": "code",
   "execution_count": 22,
   "metadata": {},
   "outputs": [
    {
     "data": {
      "text/plain": [
       "[['Henry', 'John', 'Molly'], [20, 22, 24, 25]]"
      ]
     },
     "execution_count": 22,
     "metadata": {},
     "output_type": "execute_result"
    }
   ],
   "source": [
    "mylist"
   ]
  },
  {
   "cell_type": "code",
   "execution_count": 23,
   "metadata": {},
   "outputs": [
    {
     "data": {
      "text/plain": [
       "[20, 22, 24, 25]"
      ]
     },
     "execution_count": 23,
     "metadata": {},
     "output_type": "execute_result"
    }
   ],
   "source": [
    "mylist[-1]"
   ]
  },
  {
   "cell_type": "code",
   "execution_count": 24,
   "metadata": {},
   "outputs": [
    {
     "data": {
      "text/plain": [
       "22"
      ]
     },
     "execution_count": 24,
     "metadata": {},
     "output_type": "execute_result"
    }
   ],
   "source": [
    "mylist[-1][1]"
   ]
  },
  {
   "cell_type": "code",
   "execution_count": 25,
   "metadata": {},
   "outputs": [
    {
     "data": {
      "text/plain": [
       "[5, 3, 4, [6, 3, 4, 9], [6, 4, 3, [2, 1, 3]]]"
      ]
     },
     "execution_count": 25,
     "metadata": {},
     "output_type": "execute_result"
    }
   ],
   "source": [
    "mylist = [5,3,4,[6,3,4,9],[6,4,3,[2,1,3]]]\n",
    "\n",
    "mylist"
   ]
  },
  {
   "cell_type": "code",
   "execution_count": 26,
   "metadata": {},
   "outputs": [
    {
     "data": {
      "text/plain": [
       "[6, 4, 3, [2, 1, 3]]"
      ]
     },
     "execution_count": 26,
     "metadata": {},
     "output_type": "execute_result"
    }
   ],
   "source": [
    "mylist[-1]"
   ]
  },
  {
   "cell_type": "code",
   "execution_count": 27,
   "metadata": {},
   "outputs": [
    {
     "data": {
      "text/plain": [
       "[2, 1, 3]"
      ]
     },
     "execution_count": 27,
     "metadata": {},
     "output_type": "execute_result"
    }
   ],
   "source": [
    "mylist[-1][-1]"
   ]
  },
  {
   "cell_type": "code",
   "execution_count": 28,
   "metadata": {},
   "outputs": [
    {
     "data": {
      "text/plain": [
       "2"
      ]
     },
     "execution_count": 28,
     "metadata": {},
     "output_type": "execute_result"
    }
   ],
   "source": [
    "mylist[-1][-1][0]"
   ]
  },
  {
   "cell_type": "markdown",
   "metadata": {
    "id": "Ka51StJSUya5"
   },
   "source": [
    "**List Slicing**\n",
    "\n",
    "- As index can get single values from a list, slice can get several values from a list in the form of new list(sublists)\n",
    "- It is similar like an index, but it has two integers seperated by a colon\n",
    "- Syntax:\n",
    "    - listObject[start:stop:step]"
   ]
  },
  {
   "cell_type": "code",
   "execution_count": 30,
   "metadata": {
    "colab": {
     "base_uri": "https://localhost:8080/"
    },
    "executionInfo": {
     "elapsed": 19,
     "status": "ok",
     "timestamp": 1692601777019,
     "user": {
      "displayName": "Jayasurya Thirumaran",
      "userId": "13318290182123921947"
     },
     "user_tz": -330
    },
    "id": "426Ms7wHTeNd",
    "outputId": "2f176afe-4590-4ea0-ad10-e23aecdfc9b6"
   },
   "outputs": [
    {
     "name": "stdout",
     "output_type": "stream",
     "text": [
      "['John', 'Alen', 'Kelly', 'Mohan', 'Joseph', 'Henry', 'Glenn', 'Sally', 'Zen', 'Ram']\n"
     ]
    }
   ],
   "source": [
    "friends = ['John', 'Alen', 'Kelly', 'Mohan', 'Joseph', 'Henry', 'Glenn', 'Sally', 'Zen', 'Ram']\n",
    "print(friends)"
   ]
  },
  {
   "cell_type": "code",
   "execution_count": 31,
   "metadata": {},
   "outputs": [
    {
     "data": {
      "text/plain": [
       "['John', 'Alen', 'Kelly']"
      ]
     },
     "execution_count": 31,
     "metadata": {},
     "output_type": "execute_result"
    }
   ],
   "source": [
    "friends[0:3]"
   ]
  },
  {
   "cell_type": "code",
   "execution_count": 32,
   "metadata": {},
   "outputs": [
    {
     "data": {
      "text/plain": [
       "['Alen', 'Kelly', 'Mohan', 'Joseph', 'Henry']"
      ]
     },
     "execution_count": 32,
     "metadata": {},
     "output_type": "execute_result"
    }
   ],
   "source": [
    "friends[1:6]"
   ]
  },
  {
   "cell_type": "code",
   "execution_count": null,
   "metadata": {},
   "outputs": [],
   "source": []
  },
  {
   "cell_type": "code",
   "execution_count": 33,
   "metadata": {
    "colab": {
     "base_uri": "https://localhost:8080/"
    },
    "executionInfo": {
     "elapsed": 14,
     "status": "ok",
     "timestamp": 1692601777020,
     "user": {
      "displayName": "Jayasurya Thirumaran",
      "userId": "13318290182123921947"
     },
     "user_tz": -330
    },
    "id": "70xDNbJlWVm0",
    "outputId": "54c674ef-fe73-450c-aafa-97de13dd93f5"
   },
   "outputs": [
    {
     "data": {
      "text/plain": [
       "['Ram',\n",
       " 'Zen',\n",
       " 'Sally',\n",
       " 'Glenn',\n",
       " 'Henry',\n",
       " 'Joseph',\n",
       " 'Mohan',\n",
       " 'Kelly',\n",
       " 'Alen',\n",
       " 'John']"
      ]
     },
     "execution_count": 33,
     "metadata": {},
     "output_type": "execute_result"
    }
   ],
   "source": [
    "# prints list in reverse order\n",
    "\n",
    "friends = ['John', 'Alen', 'Kelly', 'Mohan', 'Joseph', 'Henry', 'Glenn', 'Sally', 'Zen', 'Ram']\n",
    "friends[::-1]"
   ]
  },
  {
   "cell_type": "code",
   "execution_count": 34,
   "metadata": {},
   "outputs": [
    {
     "data": {
      "text/plain": [
       "10"
      ]
     },
     "execution_count": 34,
     "metadata": {},
     "output_type": "execute_result"
    }
   ],
   "source": [
    "len(friends)"
   ]
  },
  {
   "cell_type": "markdown",
   "metadata": {
    "id": "SlecIeyjoG1u"
   },
   "source": [
    "List values have an **index()** method that can be passed a value, and if that value exits in the list, the index of the value is returned"
   ]
  },
  {
   "cell_type": "code",
   "execution_count": 35,
   "metadata": {
    "colab": {
     "base_uri": "https://localhost:8080/"
    },
    "executionInfo": {
     "elapsed": 40,
     "status": "ok",
     "timestamp": 1692601777513,
     "user": {
      "displayName": "Jayasurya Thirumaran",
      "userId": "13318290182123921947"
     },
     "user_tz": -330
    },
    "id": "N1_kC1Qun7rc",
    "outputId": "e7e816e8-a450-45bb-a145-5f8caaaa5338"
   },
   "outputs": [
    {
     "data": {
      "text/plain": [
       "['Joseph', 'Glenn', 'Sally']"
      ]
     },
     "execution_count": 35,
     "metadata": {},
     "output_type": "execute_result"
    }
   ],
   "source": [
    "# Finding a value in list with index() method\n",
    "\n",
    "friends = ['Joseph', 'Glenn', 'Sally']\n",
    "friends"
   ]
  },
  {
   "cell_type": "code",
   "execution_count": 36,
   "metadata": {},
   "outputs": [
    {
     "data": {
      "text/plain": [
       "2"
      ]
     },
     "execution_count": 36,
     "metadata": {},
     "output_type": "execute_result"
    }
   ],
   "source": [
    "friends.index('Sally')"
   ]
  },
  {
   "cell_type": "code",
   "execution_count": 37,
   "metadata": {},
   "outputs": [
    {
     "ename": "ValueError",
     "evalue": "'aaa' is not in list",
     "output_type": "error",
     "traceback": [
      "\u001b[1;31m---------------------------------------------------------------------------\u001b[0m",
      "\u001b[1;31mValueError\u001b[0m                                Traceback (most recent call last)",
      "Cell \u001b[1;32mIn[37], line 1\u001b[0m\n\u001b[1;32m----> 1\u001b[0m friends\u001b[38;5;241m.\u001b[39mindex(\u001b[38;5;124m'\u001b[39m\u001b[38;5;124maaa\u001b[39m\u001b[38;5;124m'\u001b[39m)\n",
      "\u001b[1;31mValueError\u001b[0m: 'aaa' is not in list"
     ]
    }
   ],
   "source": [
    "friends.index('aaa')"
   ]
  },
  {
   "cell_type": "code",
   "execution_count": null,
   "metadata": {},
   "outputs": [],
   "source": []
  },
  {
   "cell_type": "markdown",
   "metadata": {
    "id": "M-OjZ8qppCXw"
   },
   "source": [
    "**Creating List**"
   ]
  },
  {
   "cell_type": "code",
   "execution_count": 38,
   "metadata": {},
   "outputs": [
    {
     "data": {
      "text/plain": [
       "[4, 2, 3, 5, 7]"
      ]
     },
     "execution_count": 38,
     "metadata": {},
     "output_type": "execute_result"
    }
   ],
   "source": [
    "# Creating a list using list() method\n",
    "\n",
    "mylist = list([4,2,3,5,7])\n",
    "mylist"
   ]
  },
  {
   "cell_type": "code",
   "execution_count": 39,
   "metadata": {},
   "outputs": [
    {
     "data": {
      "text/plain": [
       "[6, 5, 4, 8]"
      ]
     },
     "execution_count": 39,
     "metadata": {},
     "output_type": "execute_result"
    }
   ],
   "source": [
    "mylist = list((6,5,4,8))\n",
    "mylist"
   ]
  },
  {
   "cell_type": "code",
   "execution_count": 40,
   "metadata": {},
   "outputs": [
    {
     "data": {
      "text/plain": [
       "[]"
      ]
     },
     "execution_count": 40,
     "metadata": {},
     "output_type": "execute_result"
    }
   ],
   "source": [
    "# Creating an empty list\n",
    "\n",
    "mylist = list()\n",
    "mylist"
   ]
  },
  {
   "cell_type": "code",
   "execution_count": 41,
   "metadata": {},
   "outputs": [
    {
     "data": {
      "text/plain": [
       "[]"
      ]
     },
     "execution_count": 41,
     "metadata": {},
     "output_type": "execute_result"
    }
   ],
   "source": [
    "mylist = []\n",
    "mylist"
   ]
  },
  {
   "cell_type": "code",
   "execution_count": 42,
   "metadata": {},
   "outputs": [
    {
     "name": "stdout",
     "output_type": "stream",
     "text": [
      "<class 'list'>\n"
     ]
    }
   ],
   "source": [
    "print(type(mylist))"
   ]
  },
  {
   "cell_type": "code",
   "execution_count": 43,
   "metadata": {},
   "outputs": [
    {
     "data": {
      "text/plain": [
       "[1, 2, 3, 4, 5, 6, 7, 8, 9, 10]"
      ]
     },
     "execution_count": 43,
     "metadata": {},
     "output_type": "execute_result"
    }
   ],
   "source": [
    "# Creating a list having sequence of numbers\n",
    "\n",
    "mylist = list(range(1,11))\n",
    "mylist"
   ]
  },
  {
   "cell_type": "code",
   "execution_count": 44,
   "metadata": {},
   "outputs": [
    {
     "data": {
      "text/plain": [
       "[1, 2, 3, 4, 5, 6, 7, 8, 9, 10, 100]"
      ]
     },
     "execution_count": 44,
     "metadata": {},
     "output_type": "execute_result"
    }
   ],
   "source": [
    "# add an element in the list\n",
    "\n",
    "mylist.append(100)\n",
    "mylist"
   ]
  },
  {
   "cell_type": "code",
   "execution_count": 45,
   "metadata": {},
   "outputs": [
    {
     "data": {
      "text/plain": [
       "[1, 2, 3, 4, 5, 6, 7, 8, 9, 10, 100, [3, 1, 2, 4]]"
      ]
     },
     "execution_count": 45,
     "metadata": {},
     "output_type": "execute_result"
    }
   ],
   "source": [
    "mylist.append([3,1,2,4])\n",
    "mylist"
   ]
  },
  {
   "cell_type": "code",
   "execution_count": 47,
   "metadata": {},
   "outputs": [
    {
     "data": {
      "text/plain": [
       "[1, 2, 3, 4, 5, 6, 7, 8, 9, 10, 100, [3, 1, 2, 4], 12]"
      ]
     },
     "execution_count": 47,
     "metadata": {},
     "output_type": "execute_result"
    }
   ],
   "source": [
    "# add multiple elements in the list\n",
    "\n",
    "mylist.extend([12])\n",
    "mylist"
   ]
  },
  {
   "cell_type": "code",
   "execution_count": 48,
   "metadata": {},
   "outputs": [
    {
     "data": {
      "text/plain": [
       "[1, 2, 3, 4, 5, 6, 7, 8, 9, 10, 100, [3, 1, 2, 4], 12, 1, 2, 3, 4]"
      ]
     },
     "execution_count": 48,
     "metadata": {},
     "output_type": "execute_result"
    }
   ],
   "source": [
    "mylist.extend([1,2,3,4])\n",
    "mylist"
   ]
  },
  {
   "cell_type": "code",
   "execution_count": 49,
   "metadata": {},
   "outputs": [
    {
     "data": {
      "text/plain": [
       "3"
      ]
     },
     "execution_count": 49,
     "metadata": {},
     "output_type": "execute_result"
    }
   ],
   "source": [
    "mylist.index(4)"
   ]
  },
  {
   "cell_type": "markdown",
   "metadata": {
    "id": "4E53iDlmp1_F"
   },
   "source": [
    "The **insert()** method is used to insert a value at any index in the list"
   ]
  },
  {
   "cell_type": "code",
   "execution_count": 50,
   "metadata": {
    "colab": {
     "base_uri": "https://localhost:8080/"
    },
    "executionInfo": {
     "elapsed": 33,
     "status": "ok",
     "timestamp": 1692601777514,
     "user": {
      "displayName": "Jayasurya Thirumaran",
      "userId": "13318290182123921947"
     },
     "user_tz": -330
    },
    "id": "iPR6XBjzp8rl",
    "outputId": "12949070-1327-4463-8508-885cfcae2181"
   },
   "outputs": [
    {
     "data": {
      "text/plain": [
       "[12, 78, 93, 45]"
      ]
     },
     "execution_count": 50,
     "metadata": {},
     "output_type": "execute_result"
    }
   ],
   "source": [
    "# Insert an element at a particular location\n",
    "\n",
    "mylist = [12,78,93,45]\n",
    "mylist"
   ]
  },
  {
   "cell_type": "code",
   "execution_count": 51,
   "metadata": {},
   "outputs": [
    {
     "data": {
      "text/plain": [
       "[12, 55, 78, 93, 45]"
      ]
     },
     "execution_count": 51,
     "metadata": {},
     "output_type": "execute_result"
    }
   ],
   "source": [
    "mylist.insert(1, 55)\n",
    "mylist"
   ]
  },
  {
   "cell_type": "code",
   "execution_count": 52,
   "metadata": {},
   "outputs": [
    {
     "data": {
      "text/plain": [
       "[12, 55, 78, 93, 56, 45]"
      ]
     },
     "execution_count": 52,
     "metadata": {},
     "output_type": "execute_result"
    }
   ],
   "source": [
    "mylist.insert(-1, 56)\n",
    "mylist"
   ]
  },
  {
   "cell_type": "code",
   "execution_count": 53,
   "metadata": {},
   "outputs": [
    {
     "data": {
      "text/plain": [
       "[12, 55, 78, 93, 56, 56, 45]"
      ]
     },
     "execution_count": 53,
     "metadata": {},
     "output_type": "execute_result"
    }
   ],
   "source": [
    "mylist.insert(-1, 56)\n",
    "mylist"
   ]
  },
  {
   "cell_type": "code",
   "execution_count": 54,
   "metadata": {},
   "outputs": [
    {
     "data": {
      "text/plain": [
       "7"
      ]
     },
     "execution_count": 54,
     "metadata": {},
     "output_type": "execute_result"
    }
   ],
   "source": [
    "len(mylist)"
   ]
  },
  {
   "cell_type": "code",
   "execution_count": 55,
   "metadata": {},
   "outputs": [
    {
     "data": {
      "text/plain": [
       "[12, 55, 78, 93, 56, 56, 45, 56]"
      ]
     },
     "execution_count": 55,
     "metadata": {},
     "output_type": "execute_result"
    }
   ],
   "source": [
    "mylist.insert(7, 56)\n",
    "mylist"
   ]
  },
  {
   "cell_type": "code",
   "execution_count": null,
   "metadata": {},
   "outputs": [],
   "source": [
    "# sort- list, sorted- all collections"
   ]
  },
  {
   "cell_type": "markdown",
   "metadata": {
    "id": "2wMUWEqqrxAp"
   },
   "source": [
    "**Sorting the List: sort() method**\n",
    "\n",
    "- Lists of numbers values or lists of strings can be sorted with the **sort()** method\n",
    "- **We can't sort a list having mixed datatypes**"
   ]
  },
  {
   "cell_type": "code",
   "execution_count": 56,
   "metadata": {
    "colab": {
     "base_uri": "https://localhost:8080/"
    },
    "executionInfo": {
     "elapsed": 26,
     "status": "ok",
     "timestamp": 1692601777515,
     "user": {
      "displayName": "Jayasurya Thirumaran",
      "userId": "13318290182123921947"
     },
     "user_tz": -330
    },
    "id": "ZWG15xQWr9zn",
    "outputId": "972ddc59-ff51-4289-97fd-1aa39bc779c3"
   },
   "outputs": [
    {
     "data": {
      "text/plain": [
       "['John', 'Zen', 'Kelly', 'Alen', 'Joseph', 'Henry', 'Glenn', 'Sally']"
      ]
     },
     "execution_count": 56,
     "metadata": {},
     "output_type": "execute_result"
    }
   ],
   "source": [
    "friends = ['John','Zen', 'Kelly', 'Alen','Joseph', 'Henry', 'Glenn', 'Sally']\n",
    "friends"
   ]
  },
  {
   "cell_type": "code",
   "execution_count": 57,
   "metadata": {},
   "outputs": [],
   "source": [
    "friends.sort()   # permanent changes in the list"
   ]
  },
  {
   "cell_type": "code",
   "execution_count": 58,
   "metadata": {},
   "outputs": [
    {
     "data": {
      "text/plain": [
       "['Alen', 'Glenn', 'Henry', 'John', 'Joseph', 'Kelly', 'Sally', 'Zen']"
      ]
     },
     "execution_count": 58,
     "metadata": {},
     "output_type": "execute_result"
    }
   ],
   "source": [
    "friends   # reverse parameter was False"
   ]
  },
  {
   "cell_type": "code",
   "execution_count": 60,
   "metadata": {},
   "outputs": [
    {
     "name": "stdout",
     "output_type": "stream",
     "text": [
      "['Zen', 'Sally', 'Kelly', 'Joseph', 'John', 'Henry', 'Glenn', 'Alen']\n"
     ]
    }
   ],
   "source": [
    "friends.sort(reverse=True)\n",
    "print(friends)"
   ]
  },
  {
   "cell_type": "code",
   "execution_count": null,
   "metadata": {},
   "outputs": [],
   "source": []
  },
  {
   "cell_type": "markdown",
   "metadata": {},
   "source": [
    "**sorted() method**\n",
    "- The sorted() method returns a sorted list. \n",
    "- It accepts any iterable (list, tuple, string, dict, etc.)."
   ]
  },
  {
   "cell_type": "code",
   "execution_count": 61,
   "metadata": {},
   "outputs": [
    {
     "data": {
      "text/plain": [
       "['John', 'Zen', 'Kelly', 'Alen', 'Joseph', 'Henry', 'Glenn', 'Sally']"
      ]
     },
     "execution_count": 61,
     "metadata": {},
     "output_type": "execute_result"
    }
   ],
   "source": [
    "friends = ['John','Zen', 'Kelly', 'Alen','Joseph', 'Henry', 'Glenn', 'Sally']\n",
    "friends"
   ]
  },
  {
   "cell_type": "code",
   "execution_count": 62,
   "metadata": {},
   "outputs": [
    {
     "data": {
      "text/plain": [
       "['Alen', 'Glenn', 'Henry', 'John', 'Joseph', 'Kelly', 'Sally', 'Zen']"
      ]
     },
     "execution_count": 62,
     "metadata": {},
     "output_type": "execute_result"
    }
   ],
   "source": [
    "sorted(friends)  # won't do permanent changes in the iterator"
   ]
  },
  {
   "cell_type": "code",
   "execution_count": 63,
   "metadata": {},
   "outputs": [
    {
     "data": {
      "text/plain": [
       "['John', 'Zen', 'Kelly', 'Alen', 'Joseph', 'Henry', 'Glenn', 'Sally']"
      ]
     },
     "execution_count": 63,
     "metadata": {},
     "output_type": "execute_result"
    }
   ],
   "source": [
    "friends"
   ]
  },
  {
   "cell_type": "code",
   "execution_count": 64,
   "metadata": {},
   "outputs": [
    {
     "data": {
      "text/plain": [
       "['Zen', 'Sally', 'Kelly', 'Joseph', 'John', 'Henry', 'Glenn', 'Alen']"
      ]
     },
     "execution_count": 64,
     "metadata": {},
     "output_type": "execute_result"
    }
   ],
   "source": [
    "sorted(friends, reverse=True)"
   ]
  },
  {
   "cell_type": "code",
   "execution_count": null,
   "metadata": {},
   "outputs": [],
   "source": []
  },
  {
   "cell_type": "code",
   "execution_count": 66,
   "metadata": {},
   "outputs": [
    {
     "data": {
      "text/plain": [
       "['John', 'Joseph', 'John', 'Glenn', 'Sally', 'John3']"
      ]
     },
     "execution_count": 66,
     "metadata": {},
     "output_type": "execute_result"
    }
   ],
   "source": [
    "# Remove the last element from the list\n",
    "\n",
    "friends = ['John', 'Joseph', 'John', 'Glenn', 'Sally', 'John3']\n",
    "friends"
   ]
  },
  {
   "cell_type": "code",
   "execution_count": 67,
   "metadata": {},
   "outputs": [
    {
     "data": {
      "text/plain": [
       "'John3'"
      ]
     },
     "execution_count": 67,
     "metadata": {},
     "output_type": "execute_result"
    }
   ],
   "source": [
    "friends.pop()"
   ]
  },
  {
   "cell_type": "code",
   "execution_count": 68,
   "metadata": {},
   "outputs": [
    {
     "data": {
      "text/plain": [
       "['John', 'Joseph', 'John', 'Glenn', 'Sally']"
      ]
     },
     "execution_count": 68,
     "metadata": {},
     "output_type": "execute_result"
    }
   ],
   "source": [
    "friends"
   ]
  },
  {
   "cell_type": "code",
   "execution_count": null,
   "metadata": {},
   "outputs": [],
   "source": []
  },
  {
   "cell_type": "code",
   "execution_count": 69,
   "metadata": {},
   "outputs": [
    {
     "data": {
      "text/plain": [
       "[23, 18, 7, 9, 21, 46, 81, 25]"
      ]
     },
     "execution_count": 69,
     "metadata": {},
     "output_type": "execute_result"
    }
   ],
   "source": [
    "# Use del keyword with list slicing\n",
    "\n",
    "myList = list([23, 18, 7, 9, 21, 46, 81, 25])\n",
    "myList"
   ]
  },
  {
   "cell_type": "code",
   "execution_count": 70,
   "metadata": {},
   "outputs": [],
   "source": [
    "del myList[1]"
   ]
  },
  {
   "cell_type": "code",
   "execution_count": 71,
   "metadata": {},
   "outputs": [
    {
     "data": {
      "text/plain": [
       "[23, 7, 9, 21, 46, 81, 25]"
      ]
     },
     "execution_count": 71,
     "metadata": {},
     "output_type": "execute_result"
    }
   ],
   "source": [
    "myList"
   ]
  },
  {
   "cell_type": "code",
   "execution_count": 72,
   "metadata": {},
   "outputs": [],
   "source": [
    "# remove items from index 2 to 6\n",
    "\n",
    "del myList[2:7]"
   ]
  },
  {
   "cell_type": "code",
   "execution_count": 73,
   "metadata": {},
   "outputs": [
    {
     "data": {
      "text/plain": [
       "[23, 7]"
      ]
     },
     "execution_count": 73,
     "metadata": {},
     "output_type": "execute_result"
    }
   ],
   "source": [
    "myList"
   ]
  },
  {
   "cell_type": "code",
   "execution_count": 74,
   "metadata": {},
   "outputs": [
    {
     "data": {
      "text/plain": [
       "[23, 7, 9, 21, 46, 81, 25]"
      ]
     },
     "execution_count": 74,
     "metadata": {},
     "output_type": "execute_result"
    }
   ],
   "source": [
    "mylist = [23, 7, 9, 21, 46, 81, 25]\n",
    "mylist"
   ]
  },
  {
   "cell_type": "code",
   "execution_count": 75,
   "metadata": {},
   "outputs": [
    {
     "data": {
      "text/plain": [
       "[7, 9, 21]"
      ]
     },
     "execution_count": 75,
     "metadata": {},
     "output_type": "execute_result"
    }
   ],
   "source": [
    "mylist[1:4]"
   ]
  },
  {
   "cell_type": "code",
   "execution_count": 76,
   "metadata": {},
   "outputs": [],
   "source": [
    "del mylist[1:4]"
   ]
  },
  {
   "cell_type": "code",
   "execution_count": 77,
   "metadata": {},
   "outputs": [
    {
     "data": {
      "text/plain": [
       "[23, 46, 81, 25]"
      ]
     },
     "execution_count": 77,
     "metadata": {},
     "output_type": "execute_result"
    }
   ],
   "source": [
    "mylist"
   ]
  },
  {
   "cell_type": "code",
   "execution_count": null,
   "metadata": {},
   "outputs": [],
   "source": []
  },
  {
   "cell_type": "markdown",
   "metadata": {},
   "source": [
    "- The remove() method removes the first occurance of the element with the specified value"
   ]
  },
  {
   "cell_type": "code",
   "execution_count": 78,
   "metadata": {
    "colab": {
     "base_uri": "https://localhost:8080/"
    },
    "executionInfo": {
     "elapsed": 24,
     "status": "ok",
     "timestamp": 1692601777516,
     "user": {
      "displayName": "Jayasurya Thirumaran",
      "userId": "13318290182123921947"
     },
     "user_tz": -330
    },
    "id": "cMR98w_fs5iG",
    "outputId": "9b36ae67-4878-4968-fb9b-40c25ab15cd3"
   },
   "outputs": [
    {
     "data": {
      "text/plain": [
       "['John', 'Joseph', 'John', 'Glenn', 'Sally', 'John']"
      ]
     },
     "execution_count": 78,
     "metadata": {},
     "output_type": "execute_result"
    }
   ],
   "source": [
    "# Remove an element from the list\n",
    "friends = ['John', 'Joseph', 'John', 'Glenn', 'Sally', 'John']\n",
    "friends"
   ]
  },
  {
   "cell_type": "code",
   "execution_count": 79,
   "metadata": {},
   "outputs": [],
   "source": [
    "friends.remove('John')"
   ]
  },
  {
   "cell_type": "code",
   "execution_count": 80,
   "metadata": {},
   "outputs": [
    {
     "data": {
      "text/plain": [
       "['Joseph', 'John', 'Glenn', 'Sally', 'John']"
      ]
     },
     "execution_count": 80,
     "metadata": {},
     "output_type": "execute_result"
    }
   ],
   "source": [
    "friends"
   ]
  },
  {
   "cell_type": "code",
   "execution_count": null,
   "metadata": {},
   "outputs": [],
   "source": []
  },
  {
   "cell_type": "code",
   "execution_count": 81,
   "metadata": {},
   "outputs": [
    {
     "data": {
      "text/plain": [
       "['John', 'Joseph', 'John', 'Glenn', 'Sally', 'John']"
      ]
     },
     "execution_count": 81,
     "metadata": {},
     "output_type": "execute_result"
    }
   ],
   "source": [
    "# How many times \"John\" appears in the list\n",
    "\n",
    "friends = ['John', 'Joseph', 'John', 'Glenn', 'Sally', 'John']\n",
    "friends"
   ]
  },
  {
   "cell_type": "code",
   "execution_count": 82,
   "metadata": {},
   "outputs": [
    {
     "data": {
      "text/plain": [
       "3"
      ]
     },
     "execution_count": 82,
     "metadata": {},
     "output_type": "execute_result"
    }
   ],
   "source": [
    "friends.count('John')"
   ]
  },
  {
   "cell_type": "code",
   "execution_count": 89,
   "metadata": {},
   "outputs": [
    {
     "data": {
      "text/plain": [
       "['Joseph', 'John', 'Glenn', 'Sally', 'John']"
      ]
     },
     "execution_count": 89,
     "metadata": {},
     "output_type": "execute_result"
    }
   ],
   "source": [
    "# remove all the occurances of 'John'\n",
    "\n",
    "friends = ['John', 'John', 'Joseph', 'John', 'John', 'Glenn', 'Sally', 'John']\n",
    "\n",
    "remName = 'John'\n",
    "\n",
    "for name in friends:\n",
    "    if name == 'John':\n",
    "        friends.remove('John')\n",
    "\n",
    "friends"
   ]
  },
  {
   "cell_type": "code",
   "execution_count": 86,
   "metadata": {},
   "outputs": [
    {
     "data": {
      "text/plain": [
       "['Joseph', 'Glenn', 'Sally']"
      ]
     },
     "execution_count": 86,
     "metadata": {},
     "output_type": "execute_result"
    }
   ],
   "source": [
    "friends = ['John', 'Joseph', 'John', 'Glenn', 'Sally', 'John']\n",
    "\n",
    "remName = 'John'\n",
    "friends2 = []\n",
    "\n",
    "for name in friends:\n",
    "    if name == remName:\n",
    "        pass\n",
    "    else:\n",
    "        friends2.append(name)\n",
    "        \n",
    "friends = friends2    # friends is a reference variable\n",
    "friends"
   ]
  },
  {
   "cell_type": "markdown",
   "metadata": {},
   "source": [
    "#### Create a copy of list"
   ]
  },
  {
   "cell_type": "code",
   "execution_count": null,
   "metadata": {},
   "outputs": [],
   "source": [
    "# shallow copy | deep copy"
   ]
  },
  {
   "cell_type": "code",
   "execution_count": 92,
   "metadata": {},
   "outputs": [
    {
     "name": "stdout",
     "output_type": "stream",
     "text": [
      "[1, 2, 3, 4]\n",
      "[1, 2, 3, 4]\n",
      "[1, 2, 3, 4, 100]\n",
      "[1, 2, 3, 4, 100]\n"
     ]
    }
   ],
   "source": [
    "list1 = [1,2,3,4]\n",
    "\n",
    "# create a (shallow) copy of a list object\n",
    "\n",
    "list2 = list1   # list2 is a reference variable\n",
    "\n",
    "print(list1)\n",
    "print(list2)\n",
    "\n",
    "list1.append(100)\n",
    "print(list1)\n",
    "print(list2)"
   ]
  },
  {
   "cell_type": "code",
   "execution_count": 93,
   "metadata": {},
   "outputs": [
    {
     "name": "stdout",
     "output_type": "stream",
     "text": [
      "[1, 2, 3, 4]\n",
      "[1, 2, 3, 4]\n",
      "[1, 2, 3, 4, 100]\n",
      "[1, 2, 3, 4]\n"
     ]
    }
   ],
   "source": [
    "list1 = [1,2,3,4]\n",
    "\n",
    "# create a deep copy\n",
    "\n",
    "list2 = list1.copy()\n",
    "\n",
    "print(list1)\n",
    "print(list2)\n",
    "\n",
    "list1.append(100)\n",
    "print(list1)\n",
    "print(list2)"
   ]
  },
  {
   "cell_type": "code",
   "execution_count": null,
   "metadata": {},
   "outputs": [],
   "source": [
    "# append, extend, insert(indNum, eleValue)"
   ]
  },
  {
   "cell_type": "code",
   "execution_count": 94,
   "metadata": {},
   "outputs": [
    {
     "data": {
      "text/plain": [
       "[4, 2, 3, [1, 2, 3], [4, 2, 3]]"
      ]
     },
     "execution_count": 94,
     "metadata": {},
     "output_type": "execute_result"
    }
   ],
   "source": [
    "list1 = [4,2,3,[4,2,3]]\n",
    "\n",
    "list1.insert(3, [1,2,3])\n",
    "list1"
   ]
  },
  {
   "cell_type": "code",
   "execution_count": 95,
   "metadata": {},
   "outputs": [
    {
     "data": {
      "text/plain": [
       "[4, 2, 3, [1, 2, 3], [4, 2, 3]]"
      ]
     },
     "execution_count": 95,
     "metadata": {},
     "output_type": "execute_result"
    }
   ],
   "source": [
    "list1 = [4,2,3,[4,2,3]]\n",
    "\n",
    "list1.insert([3][0], [1,2,3])\n",
    "list1"
   ]
  },
  {
   "cell_type": "code",
   "execution_count": 96,
   "metadata": {},
   "outputs": [
    {
     "ename": "IndexError",
     "evalue": "list index out of range",
     "output_type": "error",
     "traceback": [
      "\u001b[1;31m---------------------------------------------------------------------------\u001b[0m",
      "\u001b[1;31mIndexError\u001b[0m                                Traceback (most recent call last)",
      "Cell \u001b[1;32mIn[96], line 3\u001b[0m\n\u001b[0;32m      1\u001b[0m list1 \u001b[38;5;241m=\u001b[39m [\u001b[38;5;241m4\u001b[39m,\u001b[38;5;241m2\u001b[39m,\u001b[38;5;241m3\u001b[39m,[\u001b[38;5;241m4\u001b[39m,\u001b[38;5;241m2\u001b[39m,\u001b[38;5;241m3\u001b[39m]]\n\u001b[1;32m----> 3\u001b[0m list1\u001b[38;5;241m.\u001b[39minsert([\u001b[38;5;241m3\u001b[39m][\u001b[38;5;241m1\u001b[39m], [\u001b[38;5;241m1\u001b[39m,\u001b[38;5;241m2\u001b[39m,\u001b[38;5;241m3\u001b[39m])\n\u001b[0;32m      4\u001b[0m list1\n",
      "\u001b[1;31mIndexError\u001b[0m: list index out of range"
     ]
    }
   ],
   "source": [
    "list1 = [4,2,3,[4,2,3]]\n",
    "\n",
    "list1.insert([3][1], [1,2,3])\n",
    "list1"
   ]
  },
  {
   "cell_type": "code",
   "execution_count": null,
   "metadata": {},
   "outputs": [],
   "source": []
  },
  {
   "cell_type": "markdown",
   "metadata": {},
   "source": [
    "**strftime()**\n",
    "- The Strftime() function is used to convert date and time objects to their string representation. \n",
    "- It takes one or more inputs of formatted code and returns the string representation in Python.\n",
    "- For more info, follow the given link\n",
    "    - https://docs.python.org/3/library/datetime.html#strftime-and-strptime-format-codes"
   ]
  },
  {
   "cell_type": "code",
   "execution_count": 99,
   "metadata": {},
   "outputs": [
    {
     "name": "stdout",
     "output_type": "stream",
     "text": [
      "['MAXYEAR', 'MINYEAR', 'UTC', '__all__', '__builtins__', '__cached__', '__doc__', '__file__', '__loader__', '__name__', '__package__', '__spec__', 'date', 'datetime', 'datetime_CAPI', 'sys', 'time', 'timedelta', 'timezone', 'tzinfo']\n",
      "20\n"
     ]
    }
   ],
   "source": [
    "# change the format of date\n",
    "\n",
    "import datetime\n",
    "\n",
    "print(dir(datetime))\n",
    "\n",
    "print(len(dir(datetime)))\n"
   ]
  },
  {
   "cell_type": "code",
   "execution_count": 100,
   "metadata": {},
   "outputs": [],
   "source": [
    "import datetime as dt "
   ]
  },
  {
   "cell_type": "code",
   "execution_count": null,
   "metadata": {},
   "outputs": [],
   "source": [
    "# python package - folder having file __init__"
   ]
  },
  {
   "cell_type": "code",
   "execution_count": 102,
   "metadata": {},
   "outputs": [
    {
     "name": "stdout",
     "output_type": "stream",
     "text": [
      "2024-10-05\n"
     ]
    },
    {
     "data": {
      "text/plain": [
       "'2024 - 10 - 05'"
      ]
     },
     "execution_count": 102,
     "metadata": {},
     "output_type": "execute_result"
    }
   ],
   "source": [
    "from datetime import date\n",
    "\n",
    "sdate = date(2024, 10, 5)\n",
    "\n",
    "print(sdate)\n",
    "\n",
    "sdate = sdate.strftime(\"%Y - %m - %d\")\n",
    "\n",
    "sdate"
   ]
  },
  {
   "cell_type": "code",
   "execution_count": 103,
   "metadata": {},
   "outputs": [
    {
     "name": "stdout",
     "output_type": "stream",
     "text": [
      "2024-10-05\n"
     ]
    },
    {
     "data": {
      "text/plain": [
       "'2024 October 05'"
      ]
     },
     "execution_count": 103,
     "metadata": {},
     "output_type": "execute_result"
    }
   ],
   "source": [
    "sdate = date(2024, 10, 5)\n",
    "\n",
    "print(sdate)\n",
    "\n",
    "sdate = sdate.strftime(\"%Y %B %d\")\n",
    "\n",
    "sdate"
   ]
  },
  {
   "cell_type": "code",
   "execution_count": null,
   "metadata": {},
   "outputs": [],
   "source": []
  },
  {
   "cell_type": "markdown",
   "metadata": {},
   "source": [
    "#### zip()\n",
    "\n",
    "- The zip() function is use to map the similar index of multiple containers so that they can be used as a single entity. \n",
    "- Syntax:\n",
    "    - zip(*iterators)\n",
    "\n",
    "- Parameters : Python iterables or containers ( list, string etc ) \n",
    "- It returns a single iterator object, having mapped values from all the containers."
   ]
  },
  {
   "cell_type": "code",
   "execution_count": 104,
   "metadata": {},
   "outputs": [
    {
     "data": {
      "text/plain": [
       "<zip at 0x14a8b583900>"
      ]
     },
     "execution_count": 104,
     "metadata": {},
     "output_type": "execute_result"
    }
   ],
   "source": [
    "# Let's see working of zip()\n",
    "  \n",
    "# initializing lists\n",
    "name = [ \"Manjeet\", \"Nikhil\", \"Shambhavi\", \"Astha\" ]\n",
    "roll_no = [ 4, 1, 3, 2 ]\n",
    "marks = [ 40, 50, 60, 70 ]\n",
    "  \n",
    "# using zip() to map values\n",
    "\n",
    "myObject = zip(name, roll_no, marks) # zip() creates a zipObject\n",
    "myObject"
   ]
  },
  {
   "cell_type": "code",
   "execution_count": 105,
   "metadata": {},
   "outputs": [
    {
     "name": "stdout",
     "output_type": "stream",
     "text": [
      "('Manjeet', 4, 40)\n",
      "('Nikhil', 1, 50)\n",
      "('Shambhavi', 3, 60)\n",
      "('Astha', 2, 70)\n"
     ]
    }
   ],
   "source": [
    "for tup in myObject:\n",
    "    print(tup)"
   ]
  },
  {
   "cell_type": "code",
   "execution_count": 111,
   "metadata": {},
   "outputs": [
    {
     "data": {
      "text/plain": [
       "[(4, 'Manjeet', 40), (1, 'Nikhil', 50), (3, 'Shambhavi', 60), (2, 'Astha', 70)]"
      ]
     },
     "execution_count": 111,
     "metadata": {},
     "output_type": "execute_result"
    }
   ],
   "source": [
    "# syntax : zip(*iterator)\n",
    "\n",
    "# Let's see working of zip()\n",
    "  \n",
    "# initializing lists\n",
    "name = [ \"Manjeet\", \"Nikhil\", \"Shambhavi\", \"Astha\" ]\n",
    "roll_no = [ 4, 1, 3, 2, 67, 43]\n",
    "marks = [ 40, 50, 60, 70, 99 ]\n",
    "  \n",
    "# using zip() to map values\n",
    "\n",
    "myObject = list(zip(roll_no, name, marks))\n",
    "myObject"
   ]
  },
  {
   "cell_type": "code",
   "execution_count": null,
   "metadata": {},
   "outputs": [],
   "source": []
  },
  {
   "cell_type": "code",
   "execution_count": 112,
   "metadata": {},
   "outputs": [
    {
     "name": "stdout",
     "output_type": "stream",
     "text": [
      "(4, 'Manjeet', 40)\n",
      "(1, 'Nikhil', 50)\n",
      "(3, 'Shambhavi', 60)\n",
      "(2, 'Astha', 70)\n"
     ]
    }
   ],
   "source": [
    "for tup in myObject:\n",
    "    print(tup)"
   ]
  },
  {
   "cell_type": "code",
   "execution_count": 115,
   "metadata": {},
   "outputs": [
    {
     "data": {
      "text/plain": [
       "<zip at 0x14a8a8231c0>"
      ]
     },
     "execution_count": 115,
     "metadata": {},
     "output_type": "execute_result"
    }
   ],
   "source": [
    "myObject = zip(roll_no, name)\n",
    "myObject"
   ]
  },
  {
   "cell_type": "code",
   "execution_count": 117,
   "metadata": {
    "scrolled": true
   },
   "outputs": [
    {
     "name": "stdout",
     "output_type": "stream",
     "text": [
      "<class 'zip'>\n"
     ]
    }
   ],
   "source": [
    "print(type(myObject))"
   ]
  },
  {
   "cell_type": "code",
   "execution_count": 118,
   "metadata": {},
   "outputs": [
    {
     "name": "stdout",
     "output_type": "stream",
     "text": [
      "(4, 'Manjeet')\n",
      "(1, 'Nikhil')\n",
      "(3, 'Shambhavi')\n",
      "(2, 'Astha')\n"
     ]
    }
   ],
   "source": [
    "for i in myObject:\n",
    "    print(i)"
   ]
  },
  {
   "cell_type": "code",
   "execution_count": 124,
   "metadata": {},
   "outputs": [
    {
     "data": {
      "text/plain": [
       "<zip at 0x14a8b51d2c0>"
      ]
     },
     "execution_count": 124,
     "metadata": {},
     "output_type": "execute_result"
    }
   ],
   "source": [
    "# Let's see working of zip()\n",
    "  \n",
    "# initializing lists\n",
    "name = [ \"Manjeet\", \"Nikhil\", \"Shambhavi\", \"Astha\" ]\n",
    "roll_no = [ 4, 1, 3, 2 ]\n",
    "marks = [ 40, 50, 60, 70 ]\n",
    "  \n",
    "# using zip() to map values\n",
    "\n",
    "zipObject = zip(name, roll_no, marks) # zip() creates a zipObject\n",
    "\n",
    "zipObject"
   ]
  },
  {
   "cell_type": "code",
   "execution_count": 125,
   "metadata": {},
   "outputs": [
    {
     "name": "stdout",
     "output_type": "stream",
     "text": [
      "('Manjeet', 4, 40)\n",
      "('Nikhil', 1, 50)\n",
      "('Shambhavi', 3, 60)\n",
      "('Astha', 2, 70)\n"
     ]
    }
   ],
   "source": [
    "for i in zipObject:\n",
    "    print(i)"
   ]
  },
  {
   "cell_type": "code",
   "execution_count": 128,
   "metadata": {},
   "outputs": [
    {
     "name": "stdout",
     "output_type": "stream",
     "text": [
      "('Manjeet', 4, 40)\n",
      "('Nikhil', 1, 50)\n",
      "('Shambhavi', 3, 60)\n",
      "('Astha', 2, 70)\n"
     ]
    }
   ],
   "source": [
    "zipObject = list(zip(name, roll_no, marks)) # zip() creates a zipObject\n",
    "\n",
    "for tup in zipObject:\n",
    "    print(tup)"
   ]
  },
  {
   "cell_type": "code",
   "execution_count": null,
   "metadata": {},
   "outputs": [],
   "source": []
  },
  {
   "cell_type": "markdown",
   "metadata": {},
   "source": [
    "**List Comprehension**"
   ]
  },
  {
   "cell_type": "code",
   "execution_count": 129,
   "metadata": {},
   "outputs": [
    {
     "data": {
      "text/plain": [
       "[1, 4, 9, 16, 25, 36, 49]"
      ]
     },
     "execution_count": 129,
     "metadata": {},
     "output_type": "execute_result"
    }
   ],
   "source": [
    "# Convert every item of a list into its square\n",
    "\n",
    "list1 = [1, 2, 3, 4, 5, 6, 7]\n",
    "\n",
    "list2 = [x*x  for x in list1]\n",
    "list2"
   ]
  },
  {
   "cell_type": "code",
   "execution_count": 131,
   "metadata": {},
   "outputs": [
    {
     "name": "stdout",
     "output_type": "stream",
     "text": [
      "[1, 2, 3, 4, 5]\n",
      "[6, 7, 8, 9, 10]\n"
     ]
    },
    {
     "data": {
      "text/plain": [
       "[7, 9, 11, 13, 15]"
      ]
     },
     "execution_count": 131,
     "metadata": {},
     "output_type": "execute_result"
    }
   ],
   "source": [
    "# Add elements of 2 lists and store into 3rd list\n",
    "\n",
    "list1 = list(range(1,6))\n",
    "list2 = list(range(6,11))\n",
    "\n",
    "print(list1)\n",
    "print(list2)\n",
    "\n",
    "list3 = [list1[i]+list2[i]   for i in range(5)]\n",
    "\n",
    "list3"
   ]
  },
  {
   "cell_type": "code",
   "execution_count": 132,
   "metadata": {},
   "outputs": [
    {
     "data": {
      "text/plain": [
       "[75, 90, 76, 32]"
      ]
     },
     "execution_count": 132,
     "metadata": {},
     "output_type": "execute_result"
    }
   ],
   "source": [
    "# Create a new list having elements more than 20\n",
    "\n",
    "list1 = [3, 15, 75, 4, 2, 90, 76, 32, 19]\n",
    "\n",
    "# listObj = [expression   for loop   if condition]\n",
    "\n",
    "list2 = [i  for i in list1  if i>20]\n",
    "\n",
    "list2\n"
   ]
  },
  {
   "cell_type": "code",
   "execution_count": 133,
   "metadata": {},
   "outputs": [
    {
     "data": {
      "text/plain": [
       "['CROW', 'PARROT', 'PEACOCK', 'SPARROW']"
      ]
     },
     "execution_count": 133,
     "metadata": {},
     "output_type": "execute_result"
    }
   ],
   "source": [
    "# Convert all the birds in the given list into uppercase\n",
    "\n",
    "birds = ['crow','parrot','peacock','sparrow']\n",
    "\n",
    "birds = [bird.upper()  for bird in birds]\n",
    "\n",
    "birds"
   ]
  },
  {
   "cell_type": "code",
   "execution_count": 137,
   "metadata": {},
   "outputs": [
    {
     "name": "stdout",
     "output_type": "stream",
     "text": [
      "[10, 67, 87, 34, 60, 18]\n"
     ]
    }
   ],
   "source": [
    "# Given a list of numbers, \n",
    "# remove floats from the list\n",
    "\n",
    "list1 = [12.9,10,34.0,67,87,10.8,34,77.0,60,45.87,18]\n",
    "\n",
    "list2 = [i for i in list1 if not isinstance(i,float)]\n",
    "\n",
    "print(list2)"
   ]
  },
  {
   "cell_type": "code",
   "execution_count": null,
   "metadata": {},
   "outputs": [],
   "source": []
  }
 ],
 "metadata": {
  "colab": {
   "provenance": []
  },
  "kernelspec": {
   "display_name": "Python 3 (ipykernel)",
   "language": "python",
   "name": "python3"
  },
  "language_info": {
   "codemirror_mode": {
    "name": "ipython",
    "version": 3
   },
   "file_extension": ".py",
   "mimetype": "text/x-python",
   "name": "python",
   "nbconvert_exporter": "python",
   "pygments_lexer": "ipython3",
   "version": "3.11.5"
  }
 },
 "nbformat": 4,
 "nbformat_minor": 1
}
