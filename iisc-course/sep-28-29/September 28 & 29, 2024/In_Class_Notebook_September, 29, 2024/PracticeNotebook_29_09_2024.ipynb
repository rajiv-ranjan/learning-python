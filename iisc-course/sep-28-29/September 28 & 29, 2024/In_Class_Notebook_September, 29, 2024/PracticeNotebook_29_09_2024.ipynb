{
 "cells": [
  {
   "cell_type": "raw",
   "id": "8419bec4",
   "metadata": {},
   "source": [
    "Write a program to calculate the electricity bill according to the following criteria:\n",
    "(accept number of unit from user)\n",
    "\n",
    "Unit\t\t    | Price\n",
    "First 100 units\t| no charge\n",
    "Next 100 units\t| 5Rs per unit\n",
    "After 200 units\t| 10Rs per unit\n",
    "\n",
    "[For example: if input is 350 than total bill amount is 2000)\n",
    "210 units | 100*5 | 10*10 | 500+100=600"
   ]
  },
  {
   "cell_type": "code",
   "execution_count": null,
   "id": "54f9c5a9",
   "metadata": {},
   "outputs": [],
   "source": [
    "\n"
   ]
  },
  {
   "cell_type": "raw",
   "id": "a851d734",
   "metadata": {},
   "source": [
    "# WAP to print the first n elements of fibbonacci series\n",
    "'''\n",
    "Sample Output:\n",
    "How many elements u want in the series: 10\n",
    "[0, 1, 1, 2, 3, 5, 8, 13, 21, 34]\n",
    "'''\n"
   ]
  },
  {
   "cell_type": "code",
   "execution_count": null,
   "id": "a1901d61",
   "metadata": {},
   "outputs": [],
   "source": [
    "\n"
   ]
  },
  {
   "cell_type": "raw",
   "id": "fc8b4f50",
   "metadata": {},
   "source": [
    "Count the number of digits in a given number ( hint: use len(), str() functions )"
   ]
  },
  {
   "cell_type": "code",
   "execution_count": null,
   "id": "080db072",
   "metadata": {},
   "outputs": [],
   "source": []
  },
  {
   "cell_type": "raw",
   "id": "7c2a4d47",
   "metadata": {},
   "source": [
    "Write a program to  print all the numbers between 5 and 15 except 10."
   ]
  },
  {
   "cell_type": "code",
   "execution_count": null,
   "id": "e6e4b0f9",
   "metadata": {},
   "outputs": [],
   "source": []
  },
  {
   "cell_type": "raw",
   "id": "3bfee35e",
   "metadata": {},
   "source": [
    "# Guess a number game\n",
    "# User and computer will guess a number between 1 to 10\n",
    "# Find if both guess the same number\n",
    "# If they do, user wins\n",
    "# Else give another chance to the user\n",
    "# Only 4 chances are given\n",
    "# Finally if user couldn't guess, \n",
    "# display the correct guess and guesses taken\n"
   ]
  },
  {
   "cell_type": "code",
   "execution_count": null,
   "id": "819bcafb",
   "metadata": {},
   "outputs": [],
   "source": [
    "\n"
   ]
  },
  {
   "cell_type": "raw",
   "id": "e765f0e3",
   "metadata": {},
   "source": [
    "Display common elements from both the list objects\n",
    "\n",
    "l1 = [4,2,3,6]\n",
    "l2 = [8,2,6,9,1,5]\n"
   ]
  },
  {
   "cell_type": "code",
   "execution_count": null,
   "id": "3e094d07",
   "metadata": {},
   "outputs": [],
   "source": [
    "\n"
   ]
  },
  {
   "cell_type": "raw",
   "id": "c9eebc3a",
   "metadata": {},
   "source": [
    "WAP to print all the integers and their squares. User should provide\n",
    "\n",
    "The number to start the series from\n",
    "What should be the max value to stop (Squared value should not be more than the max value).\n",
    "\n",
    "Sample Output:\n",
    "\n",
    "Enter a number to start the square series:21\n",
    "Enter the number after/on which the squared values are not required: 899\n",
    "21 : 441\n",
    "22 : 484\n",
    "23 : 529\n",
    "24 : 576\n",
    "25 : 625\n",
    "26 : 676\n",
    "27 : 729\n",
    "28 : 784\n",
    "29 : 841\n",
    "Have a nice day!\n"
   ]
  },
  {
   "cell_type": "code",
   "execution_count": null,
   "id": "cdb483f6",
   "metadata": {},
   "outputs": [],
   "source": [
    "\n"
   ]
  },
  {
   "cell_type": "raw",
   "id": "d630b979",
   "metadata": {},
   "source": [
    "Write a Python function that combines multiple dictionaries, with the values from latter dictionaries overwriting the previous ones in case of key collisions."
   ]
  },
  {
   "cell_type": "code",
   "execution_count": null,
   "id": "28c28474",
   "metadata": {},
   "outputs": [],
   "source": [
    "\n"
   ]
  },
  {
   "cell_type": "raw",
   "id": "f65e59d6",
   "metadata": {},
   "source": [
    "Count the number and its occurrences of a list and store in a dictionary as a key-value pair.\n",
    "\n",
    "Sample output:\n",
    "mylist = [1, 2, 3, 2, 4, 2, 1, 5, 3, 2]\n",
    "\n",
    "{1: 2, 2: 4, 3: 2, 4: 1, 5: 1}\n"
   ]
  },
  {
   "cell_type": "code",
   "execution_count": null,
   "id": "cf77fea9",
   "metadata": {},
   "outputs": [],
   "source": [
    "\n"
   ]
  },
  {
   "cell_type": "code",
   "execution_count": null,
   "id": "18e25058",
   "metadata": {},
   "outputs": [],
   "source": []
  }
 ],
 "metadata": {
  "kernelspec": {
   "display_name": "Python 3 (ipykernel)",
   "language": "python",
   "name": "python3"
  },
  "language_info": {
   "codemirror_mode": {
    "name": "ipython",
    "version": 3
   },
   "file_extension": ".py",
   "mimetype": "text/x-python",
   "name": "python",
   "nbconvert_exporter": "python",
   "pygments_lexer": "ipython3",
   "version": "3.11.5"
  }
 },
 "nbformat": 4,
 "nbformat_minor": 5
}
