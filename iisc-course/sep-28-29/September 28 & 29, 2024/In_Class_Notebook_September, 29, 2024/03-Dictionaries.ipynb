{
 "cells": [
  {
   "cell_type": "markdown",
   "metadata": {
    "id": "llSmwG3bPTPa"
   },
   "source": [
    "#### Dictionary - Ordered, Unique, Mutable\n",
    "\n",
    "- As python version 3.7 dictionaries are ordered. \n",
    "- In python 3.6 earlier versions dictionaries were unordered.\n",
    "- Dictionaries are used to store data values in Key:Value pairs. \n",
    "- A dictionary is a collection which is **ordered*, changeable, and doesn't allow duplicates**. \n",
    "- It allows us to do fast database like operations in python.\n",
    "- In Dictionaries we **index** the entries with a \"**Lookup tag**\",  \n",
    "    - whereas in Lists **index** their entries based on the position in the list\n"
   ]
  },
  {
   "cell_type": "code",
   "execution_count": 5,
   "metadata": {},
   "outputs": [],
   "source": [
    "#word = meaning\n",
    "#key  : value ---> item"
   ]
  },
  {
   "cell_type": "code",
   "execution_count": 3,
   "metadata": {},
   "outputs": [
    {
     "data": {
      "text/plain": [
       "{'John': 'Music',\n",
       " 'Henry': 'hiking',\n",
       " 101: 'A232',\n",
       " 'code': 102,\n",
       " 'Kelly': 'Reading'}"
      ]
     },
     "execution_count": 3,
     "metadata": {},
     "output_type": "execute_result"
    }
   ],
   "source": [
    "# Create a dictionary\n",
    "# Add items into the dictionary\n",
    "\n",
    "mydict = {'John': 'Reading',\n",
    "          'Henry': 'hiking',\n",
    "          101 : 'A232',\n",
    "          'code': 102,\n",
    "          'Kelly': 'Reading',\n",
    "          'John': 'Music',\n",
    "         }\n",
    "mydict"
   ]
  },
  {
   "cell_type": "code",
   "execution_count": 4,
   "metadata": {},
   "outputs": [
    {
     "data": {
      "text/plain": [
       "{'John': 'Music',\n",
       " 'Henry': ['hiking', 'music'],\n",
       " 101: 'A232',\n",
       " 'code': 102,\n",
       " 'Kelly': 'Reading'}"
      ]
     },
     "execution_count": 4,
     "metadata": {},
     "output_type": "execute_result"
    }
   ],
   "source": [
    "# Create a dictionary\n",
    "# Add items into the dictionary\n",
    "\n",
    "mydict = {'John': 'Reading',\n",
    "          'Henry': ['hiking','music'],\n",
    "          101 : 'A232',\n",
    "          'code': 102,\n",
    "          'Kelly': 'Reading',\n",
    "          'John': 'Music',\n",
    "         }\n",
    "mydict"
   ]
  },
  {
   "cell_type": "code",
   "execution_count": 5,
   "metadata": {},
   "outputs": [
    {
     "data": {
      "text/plain": [
       "['hiking', 'music']"
      ]
     },
     "execution_count": 5,
     "metadata": {},
     "output_type": "execute_result"
    }
   ],
   "source": [
    "mydict['Henry']"
   ]
  },
  {
   "cell_type": "code",
   "execution_count": 6,
   "metadata": {},
   "outputs": [
    {
     "data": {
      "text/plain": [
       "['hiking', 'music']"
      ]
     },
     "execution_count": 6,
     "metadata": {},
     "output_type": "execute_result"
    }
   ],
   "source": [
    "mydict.get('Henry')"
   ]
  },
  {
   "cell_type": "code",
   "execution_count": 7,
   "metadata": {},
   "outputs": [
    {
     "data": {
      "text/plain": [
       "102"
      ]
     },
     "execution_count": 7,
     "metadata": {},
     "output_type": "execute_result"
    }
   ],
   "source": [
    "mydict['code']"
   ]
  },
  {
   "cell_type": "code",
   "execution_count": 8,
   "metadata": {},
   "outputs": [],
   "source": [
    "mydict['code'] = mydict['code'] + 10"
   ]
  },
  {
   "cell_type": "code",
   "execution_count": 9,
   "metadata": {},
   "outputs": [
    {
     "data": {
      "text/plain": [
       "112"
      ]
     },
     "execution_count": 9,
     "metadata": {},
     "output_type": "execute_result"
    }
   ],
   "source": [
    "mydict['code']"
   ]
  },
  {
   "cell_type": "code",
   "execution_count": 10,
   "metadata": {},
   "outputs": [],
   "source": [
    "mydict['code'] += 10"
   ]
  },
  {
   "cell_type": "code",
   "execution_count": 11,
   "metadata": {},
   "outputs": [
    {
     "data": {
      "text/plain": [
       "122"
      ]
     },
     "execution_count": 11,
     "metadata": {},
     "output_type": "execute_result"
    }
   ],
   "source": [
    "mydict['code']"
   ]
  },
  {
   "cell_type": "markdown",
   "metadata": {},
   "source": [
    "#### Deleting dictionary items"
   ]
  },
  {
   "cell_type": "code",
   "execution_count": 13,
   "metadata": {},
   "outputs": [
    {
     "data": {
      "text/plain": [
       "{'name': 'John', 'code': 4001, 'city': 'delhi', 'dept': 'IT'}"
      ]
     },
     "execution_count": 13,
     "metadata": {},
     "output_type": "execute_result"
    }
   ],
   "source": [
    "# Create a dictionary\n",
    "\n",
    "my_dict = {'name': 'John', \n",
    "         'code': 4001, \n",
    "         'city': 'delhi', \n",
    "         'dept': 'IT'}\n",
    "my_dict"
   ]
  },
  {
   "cell_type": "code",
   "execution_count": 14,
   "metadata": {},
   "outputs": [
    {
     "data": {
      "text/plain": [
       "'IT'"
      ]
     },
     "execution_count": 14,
     "metadata": {},
     "output_type": "execute_result"
    }
   ],
   "source": [
    "# Delete particular key and returns its value using pop()\n",
    "\n",
    "my_dict.pop('dept')"
   ]
  },
  {
   "cell_type": "code",
   "execution_count": 16,
   "metadata": {},
   "outputs": [
    {
     "data": {
      "text/plain": [
       "4001"
      ]
     },
     "execution_count": 16,
     "metadata": {},
     "output_type": "execute_result"
    }
   ],
   "source": [
    "my_dict.pop('code')"
   ]
  },
  {
   "cell_type": "code",
   "execution_count": 17,
   "metadata": {},
   "outputs": [
    {
     "data": {
      "text/plain": [
       "{'name': 'John', 'city': 'delhi'}"
      ]
     },
     "execution_count": 17,
     "metadata": {},
     "output_type": "execute_result"
    }
   ],
   "source": [
    "my_dict"
   ]
  },
  {
   "cell_type": "code",
   "execution_count": 18,
   "metadata": {},
   "outputs": [
    {
     "data": {
      "text/plain": [
       "{'name': 'John', 'code': 4001, 'city': 'delhi', 'dept': 'IT'}"
      ]
     },
     "execution_count": 18,
     "metadata": {},
     "output_type": "execute_result"
    }
   ],
   "source": [
    "# Delete the last element - using popitem(), return (key, value)\n",
    "\n",
    "my_dict={'name': 'John', \n",
    "         'code': 4001, \n",
    "         'city': 'delhi', \n",
    "         'dept': 'IT'}\n",
    "my_dict"
   ]
  },
  {
   "cell_type": "code",
   "execution_count": 19,
   "metadata": {},
   "outputs": [
    {
     "data": {
      "text/plain": [
       "('dept', 'IT')"
      ]
     },
     "execution_count": 19,
     "metadata": {},
     "output_type": "execute_result"
    }
   ],
   "source": [
    "my_dict.popitem()"
   ]
  },
  {
   "cell_type": "code",
   "execution_count": 20,
   "metadata": {},
   "outputs": [
    {
     "data": {
      "text/plain": [
       "('city', 'delhi')"
      ]
     },
     "execution_count": 20,
     "metadata": {},
     "output_type": "execute_result"
    }
   ],
   "source": [
    "my_dict.popitem()"
   ]
  },
  {
   "cell_type": "code",
   "execution_count": 21,
   "metadata": {},
   "outputs": [
    {
     "data": {
      "text/plain": [
       "{'name': 'John', 'code': 4001}"
      ]
     },
     "execution_count": 21,
     "metadata": {},
     "output_type": "execute_result"
    }
   ],
   "source": [
    "my_dict"
   ]
  },
  {
   "cell_type": "code",
   "execution_count": 22,
   "metadata": {},
   "outputs": [
    {
     "data": {
      "text/plain": [
       "{'name': 'John', 'code': 4001, 'city': 'delhi', 'dept': 'IT'}"
      ]
     },
     "execution_count": 22,
     "metadata": {},
     "output_type": "execute_result"
    }
   ],
   "source": [
    "my_dict={'name': 'John', \n",
    "         'code': 4001, \n",
    "         'city': 'delhi', \n",
    "         'dept': 'IT'}\n",
    "my_dict"
   ]
  },
  {
   "cell_type": "code",
   "execution_count": 23,
   "metadata": {},
   "outputs": [],
   "source": [
    "# Delete an element using del keyword\n",
    "\n",
    "del my_dict['code']\n"
   ]
  },
  {
   "cell_type": "code",
   "execution_count": 24,
   "metadata": {},
   "outputs": [
    {
     "data": {
      "text/plain": [
       "{'name': 'John', 'city': 'delhi', 'dept': 'IT'}"
      ]
     },
     "execution_count": 24,
     "metadata": {},
     "output_type": "execute_result"
    }
   ],
   "source": [
    "my_dict"
   ]
  },
  {
   "cell_type": "code",
   "execution_count": 25,
   "metadata": {},
   "outputs": [],
   "source": [
    "# Delete all elements\n",
    "\n",
    "my_dict.clear()"
   ]
  },
  {
   "cell_type": "code",
   "execution_count": 26,
   "metadata": {},
   "outputs": [
    {
     "data": {
      "text/plain": [
       "{}"
      ]
     },
     "execution_count": 26,
     "metadata": {},
     "output_type": "execute_result"
    }
   ],
   "source": [
    "my_dict"
   ]
  },
  {
   "cell_type": "code",
   "execution_count": 27,
   "metadata": {},
   "outputs": [],
   "source": [
    "# Delete whole dictionary\n",
    "\n",
    "del my_dict"
   ]
  },
  {
   "cell_type": "code",
   "execution_count": 28,
   "metadata": {},
   "outputs": [
    {
     "ename": "NameError",
     "evalue": "name 'my_dict' is not defined",
     "output_type": "error",
     "traceback": [
      "\u001b[1;31m---------------------------------------------------------------------------\u001b[0m",
      "\u001b[1;31mNameError\u001b[0m                                 Traceback (most recent call last)",
      "Cell \u001b[1;32mIn[28], line 1\u001b[0m\n\u001b[1;32m----> 1\u001b[0m my_dict\n",
      "\u001b[1;31mNameError\u001b[0m: name 'my_dict' is not defined"
     ]
    }
   ],
   "source": [
    "my_dict"
   ]
  },
  {
   "cell_type": "markdown",
   "metadata": {},
   "source": [
    "#### dictionary methods: keys(), values(), items()"
   ]
  },
  {
   "cell_type": "code",
   "execution_count": 29,
   "metadata": {},
   "outputs": [
    {
     "data": {
      "text/plain": [
       "{'name': 'John', 'code': 4001, 'city': 'delhi', 'dept': 'IT'}"
      ]
     },
     "execution_count": 29,
     "metadata": {},
     "output_type": "execute_result"
    }
   ],
   "source": [
    "my_dict={'name': 'John', \n",
    "         'code': 4001, \n",
    "         'city': 'delhi', \n",
    "         'dept': 'IT'}\n",
    "my_dict"
   ]
  },
  {
   "cell_type": "code",
   "execution_count": 30,
   "metadata": {},
   "outputs": [
    {
     "data": {
      "text/plain": [
       "dict_keys(['name', 'code', 'city', 'dept'])"
      ]
     },
     "execution_count": 30,
     "metadata": {},
     "output_type": "execute_result"
    }
   ],
   "source": [
    "my_dict.keys()"
   ]
  },
  {
   "cell_type": "code",
   "execution_count": 31,
   "metadata": {},
   "outputs": [
    {
     "data": {
      "text/plain": [
       "dict_values(['John', 4001, 'delhi', 'IT'])"
      ]
     },
     "execution_count": 31,
     "metadata": {},
     "output_type": "execute_result"
    }
   ],
   "source": [
    "my_dict.values()"
   ]
  },
  {
   "cell_type": "code",
   "execution_count": 32,
   "metadata": {},
   "outputs": [
    {
     "data": {
      "text/plain": [
       "dict_items([('name', 'John'), ('code', 4001), ('city', 'delhi'), ('dept', 'IT')])"
      ]
     },
     "execution_count": 32,
     "metadata": {},
     "output_type": "execute_result"
    }
   ],
   "source": [
    "my_dict.items()"
   ]
  },
  {
   "cell_type": "code",
   "execution_count": 34,
   "metadata": {},
   "outputs": [
    {
     "data": {
      "text/plain": [
       "{'name': 'John', 'code': 4001, 'city': 'delhi', 'dept': 4001}"
      ]
     },
     "execution_count": 34,
     "metadata": {},
     "output_type": "execute_result"
    }
   ],
   "source": [
    "my_dict={'name': 'John', \n",
    "         'code': 4001, \n",
    "         'city': 'delhi', \n",
    "         'dept': 4001}\n",
    "my_dict"
   ]
  },
  {
   "cell_type": "code",
   "execution_count": 35,
   "metadata": {},
   "outputs": [
    {
     "data": {
      "text/plain": [
       "dict_values(['John', 4001, 'delhi', 4001])"
      ]
     },
     "execution_count": 35,
     "metadata": {},
     "output_type": "execute_result"
    }
   ],
   "source": [
    "my_dict.values()"
   ]
  },
  {
   "cell_type": "markdown",
   "metadata": {},
   "source": [
    "#### Loop through the dictionary"
   ]
  },
  {
   "cell_type": "code",
   "execution_count": 37,
   "metadata": {},
   "outputs": [
    {
     "data": {
      "text/plain": [
       "{'name': 'John', 'code': 4001, 'city': 'delhi', 'dept': 'sales'}"
      ]
     },
     "execution_count": 37,
     "metadata": {},
     "output_type": "execute_result"
    }
   ],
   "source": [
    "my_dict={'name': 'John', \n",
    "         'code': 4001, \n",
    "         'city': 'delhi', \n",
    "         'dept': 'sales'}\n",
    "my_dict"
   ]
  },
  {
   "cell_type": "code",
   "execution_count": 38,
   "metadata": {},
   "outputs": [
    {
     "name": "stdout",
     "output_type": "stream",
     "text": [
      "name\n",
      "code\n",
      "city\n",
      "dept\n"
     ]
    }
   ],
   "source": [
    "for k in my_dict.keys():\n",
    "    print(k)"
   ]
  },
  {
   "cell_type": "code",
   "execution_count": 40,
   "metadata": {},
   "outputs": [
    {
     "name": "stdout",
     "output_type": "stream",
     "text": [
      "John\n",
      "4001\n",
      "delhi\n",
      "sales\n"
     ]
    }
   ],
   "source": [
    "for v in my_dict.values():\n",
    "    print(v)"
   ]
  },
  {
   "cell_type": "code",
   "execution_count": 41,
   "metadata": {},
   "outputs": [
    {
     "name": "stdout",
     "output_type": "stream",
     "text": [
      "('name', 'John')\n",
      "('code', 4001)\n",
      "('city', 'delhi')\n",
      "('dept', 'sales')\n"
     ]
    }
   ],
   "source": [
    "for item in my_dict.items():\n",
    "    print(item)"
   ]
  },
  {
   "cell_type": "code",
   "execution_count": 43,
   "metadata": {},
   "outputs": [
    {
     "name": "stdout",
     "output_type": "stream",
     "text": [
      "name - John\n",
      "code - 4001\n",
      "city - delhi\n",
      "dept - sales\n"
     ]
    }
   ],
   "source": [
    "for k,v in my_dict.items():\n",
    "    print(k,'-',v)"
   ]
  },
  {
   "cell_type": "code",
   "execution_count": 45,
   "metadata": {},
   "outputs": [
    {
     "data": {
      "text/plain": [
       "{'name': 'John', 'code': 'sales', 'city': 'delhi'}"
      ]
     },
     "execution_count": 45,
     "metadata": {},
     "output_type": "execute_result"
    }
   ],
   "source": [
    "my_dict={'name': 'John', \n",
    "         'code': 4001, \n",
    "         'city': 'delhi', \n",
    "         'code': 'sales'}\n",
    "my_dict"
   ]
  },
  {
   "cell_type": "code",
   "execution_count": null,
   "metadata": {},
   "outputs": [],
   "source": []
  },
  {
   "cell_type": "markdown",
   "metadata": {},
   "source": [
    "#### sorted() method\n",
    "\n",
    "- Python sorted() function returns a sorted list. \n",
    "- It accepts any iterable (list, tuple, string, dictionary, etc.)."
   ]
  },
  {
   "cell_type": "code",
   "execution_count": 47,
   "metadata": {},
   "outputs": [
    {
     "data": {
      "text/plain": [
       "{'d': 45, 'a': 10, 'z': 23, 'b': 1, 'c': 22}"
      ]
     },
     "execution_count": 47,
     "metadata": {},
     "output_type": "execute_result"
    }
   ],
   "source": [
    "# Create a dictionary having multiple items\n",
    "\n",
    "mydict = {'d' : 45, 'a' : 10, 'z' : 23, 'b' : 1, 'c' : 22}\n",
    "mydict"
   ]
  },
  {
   "cell_type": "code",
   "execution_count": 48,
   "metadata": {},
   "outputs": [
    {
     "data": {
      "text/plain": [
       "dict_items([('d', 45), ('a', 10), ('z', 23), ('b', 1), ('c', 22)])"
      ]
     },
     "execution_count": 48,
     "metadata": {},
     "output_type": "execute_result"
    }
   ],
   "source": [
    "mydict.items()"
   ]
  },
  {
   "cell_type": "code",
   "execution_count": 49,
   "metadata": {},
   "outputs": [
    {
     "data": {
      "text/plain": [
       "['a', 'b', 'c', 'd', 'z']"
      ]
     },
     "execution_count": 49,
     "metadata": {},
     "output_type": "execute_result"
    }
   ],
   "source": [
    "# Sort the above dictionary\n",
    "\n",
    "sorted(mydict)"
   ]
  },
  {
   "cell_type": "code",
   "execution_count": 50,
   "metadata": {},
   "outputs": [
    {
     "data": {
      "text/plain": [
       "[('a', 10), ('b', 1), ('c', 22), ('d', 45), ('z', 23)]"
      ]
     },
     "execution_count": 50,
     "metadata": {},
     "output_type": "execute_result"
    }
   ],
   "source": [
    "sorted(mydict.items())"
   ]
  },
  {
   "cell_type": "code",
   "execution_count": 51,
   "metadata": {},
   "outputs": [
    {
     "data": {
      "text/plain": [
       "[('z', 23), ('d', 45), ('c', 22), ('b', 1), ('a', 10)]"
      ]
     },
     "execution_count": 51,
     "metadata": {},
     "output_type": "execute_result"
    }
   ],
   "source": [
    "# Sort the above dictionary (descending order)\n",
    "\n",
    "sorted(mydict.items(), reverse=True)"
   ]
  },
  {
   "cell_type": "code",
   "execution_count": 52,
   "metadata": {},
   "outputs": [
    {
     "data": {
      "text/plain": [
       "dict_items([('d', 45), ('a', 10), ('z', 23), ('b', 1), ('c', 22)])"
      ]
     },
     "execution_count": 52,
     "metadata": {},
     "output_type": "execute_result"
    }
   ],
   "source": [
    "mydict.items()"
   ]
  },
  {
   "cell_type": "code",
   "execution_count": 58,
   "metadata": {},
   "outputs": [
    {
     "data": {
      "text/plain": [
       "{'a': 101, 'f': 342}"
      ]
     },
     "execution_count": 58,
     "metadata": {},
     "output_type": "execute_result"
    }
   ],
   "source": [
    "mydict5 = {'a':101, 'f':342}\n",
    "mydict5"
   ]
  },
  {
   "cell_type": "code",
   "execution_count": 59,
   "metadata": {},
   "outputs": [
    {
     "data": {
      "text/plain": [
       "{'a': 101, 'f': 342, 'r': 768}"
      ]
     },
     "execution_count": 59,
     "metadata": {},
     "output_type": "execute_result"
    }
   ],
   "source": [
    "mydict5['r'] = 768\n",
    "\n",
    "mydict5"
   ]
  },
  {
   "cell_type": "code",
   "execution_count": 60,
   "metadata": {},
   "outputs": [
    {
     "data": {
      "text/plain": [
       "{'a': 10, 'b': 1, 'c': 22, 'd': 45, 'z': 23}"
      ]
     },
     "execution_count": 60,
     "metadata": {},
     "output_type": "execute_result"
    }
   ],
   "source": [
    "mydict = {'d' : 45, 'a' : 10, 'z' : 23, 'b' : 1, 'c' : 22}\n",
    "\n",
    "mylist = sorted(mydict.items())\n",
    "\n",
    "mydict2 = {}\n",
    "\n",
    "for mytuple in mylist:\n",
    "    #print(mytuple)\n",
    "    mykey = mytuple[0]\n",
    "    myval = mytuple[1]\n",
    "    mydict2[mykey] = myval\n",
    "\n",
    "mydict2"
   ]
  },
  {
   "cell_type": "code",
   "execution_count": 61,
   "metadata": {},
   "outputs": [
    {
     "data": {
      "text/plain": [
       "{10: 'a', 1: 'b', 22: 'c', 45: 'd', 23: 'z'}"
      ]
     },
     "execution_count": 61,
     "metadata": {},
     "output_type": "execute_result"
    }
   ],
   "source": [
    "mydict = {'d' : 45, 'a' : 10, 'z' : 23, 'b' : 1, 'c' : 22}\n",
    "\n",
    "mylist = sorted(mydict.items())\n",
    "print(mylist)\n",
    "mydict2 = {}\n",
    "\n",
    "for mytuple in mylist:    #[(k,v),(k,v),(k,v),...]\n",
    "    #print(mytuple)       #  0 1   0 1   0 1 ,....\n",
    "    mykey = mytuple[0]\n",
    "    myval = mytuple[1]\n",
    "    mydict2[myval] = mykey\n",
    "\n",
    "mydict2"
   ]
  },
  {
   "cell_type": "code",
   "execution_count": null,
   "metadata": {},
   "outputs": [],
   "source": []
  },
  {
   "cell_type": "markdown",
   "metadata": {},
   "source": [
    "**Sort by values instead of key**\n",
    "\n",
    "- If we could construct a list of tuples of the form(values, keys) we could sort by value\n",
    "- We do this with a *for* loop that creates a list of tuples"
   ]
  },
  {
   "cell_type": "code",
   "execution_count": null,
   "metadata": {},
   "outputs": [],
   "source": [
    "# Sort by values instead of key\n",
    "\n",
    "mydict = {'d' : 45, 'a' : 10, 'z' : 23, 'b' : 1, 'c' : 22}\n"
   ]
  },
  {
   "cell_type": "code",
   "execution_count": null,
   "metadata": {},
   "outputs": [],
   "source": []
  },
  {
   "cell_type": "code",
   "execution_count": 62,
   "metadata": {},
   "outputs": [
    {
     "data": {
      "text/plain": [
       "{'CA': 'California', 'NY': 'New York', 'DC': 'Washigton DC'}"
      ]
     },
     "execution_count": 62,
     "metadata": {},
     "output_type": "execute_result"
    }
   ],
   "source": [
    "# Create two dictionaries\n",
    "\n",
    "area1 = {'CA': 'California', 'NY': 'New York'}\n",
    "area2 = {'CA': 'California', 'DC': 'Washigton DC'}\n",
    "\n",
    "# Use update() method to merge dictionaries\n",
    "\n",
    "area1.update(area2)\n",
    "area1"
   ]
  },
  {
   "cell_type": "code",
   "execution_count": 63,
   "metadata": {},
   "outputs": [
    {
     "data": {
      "text/plain": [
       "{'CA': 'California2', 'NY': 'New York', 'DC': 'Washigton DC'}"
      ]
     },
     "execution_count": 63,
     "metadata": {},
     "output_type": "execute_result"
    }
   ],
   "source": [
    "# Create two dictionaries\n",
    "\n",
    "area1 = {'CA': 'California', 'NY': 'New York'}\n",
    "area2 = {'CA': 'California2', 'DC': 'Washigton DC'}\n",
    "\n",
    "# Use update() method to merge dictionaries\n",
    "\n",
    "area1.update(area2)\n",
    "area1"
   ]
  },
  {
   "cell_type": "markdown",
   "metadata": {},
   "source": [
    "#### Nested dictionary"
   ]
  },
  {
   "cell_type": "code",
   "execution_count": 64,
   "metadata": {},
   "outputs": [
    {
     "data": {
      "text/plain": [
       "{'Py': {'year': 1991, 'creator': 'G. van Rossum'},\n",
       " 'Java': {'year': 1995, 'creator': 'J. Gosling'},\n",
       " 'C#': {'year': 2000, 'creator': 'Microsoft'}}"
      ]
     },
     "execution_count": 64,
     "metadata": {},
     "output_type": "execute_result"
    }
   ],
   "source": [
    "# Create nested dictionary\n",
    "\n",
    "progLang = {\n",
    "    \"Py\": {\n",
    "        \"year\": 1991,\n",
    "        \"creator\": \"G. van Rossum\",\n",
    "    },\n",
    "    \"Java\": {\n",
    "        \"year\": 1995,\n",
    "        \"creator\": \"J. Gosling\",\n",
    "    },\n",
    "    \"C#\": {\n",
    "        \"year\": 2000,\n",
    "        \"creator\": \"Microsoft\",\n",
    "    }\n",
    "}\n",
    "progLang\n"
   ]
  },
  {
   "cell_type": "code",
   "execution_count": 65,
   "metadata": {},
   "outputs": [
    {
     "name": "stdout",
     "output_type": "stream",
     "text": [
      "Py {'year': 1991, 'creator': 'G. van Rossum'}\n",
      "Java {'year': 1995, 'creator': 'J. Gosling'}\n",
      "C# {'year': 2000, 'creator': 'Microsoft'}\n"
     ]
    }
   ],
   "source": [
    "for k,v in progLang.items():\n",
    "    print(k,v)"
   ]
  },
  {
   "cell_type": "code",
   "execution_count": 68,
   "metadata": {},
   "outputs": [
    {
     "name": "stdout",
     "output_type": "stream",
     "text": [
      "----------------------\n",
      "Py\n",
      "year - 1991\n",
      "creator - G. van Rossum\n",
      "----------------------\n",
      "Java\n",
      "year - 1995\n",
      "creator - J. Gosling\n",
      "----------------------\n",
      "C#\n",
      "year - 2000\n",
      "creator - Microsoft\n"
     ]
    }
   ],
   "source": [
    "for k,v in progLang.items():\n",
    "    print('----------------------')\n",
    "    print(k)\n",
    "    for kk,vv in v.items():\n",
    "        print(kk,'-',vv)"
   ]
  },
  {
   "cell_type": "code",
   "execution_count": null,
   "metadata": {},
   "outputs": [],
   "source": []
  },
  {
   "cell_type": "code",
   "execution_count": null,
   "metadata": {},
   "outputs": [],
   "source": [
    "#from google.colab import files\n",
    "#uploaded = files.upload()"
   ]
  },
  {
   "cell_type": "code",
   "execution_count": 78,
   "metadata": {},
   "outputs": [
    {
     "data": {
      "text/plain": [
       "{'orange': 3, 'mango': 3, 'cherry': 4, 'watermelon': 2, 'banana': 2}"
      ]
     },
     "execution_count": 78,
     "metadata": {},
     "output_type": "execute_result"
    }
   ],
   "source": [
    "# Accept a text file\n",
    "# Count the words and it's occurance \n",
    "# And store it in a dictionary\n",
    "\n",
    "filepointer = open(r'D:\\datasets\\fruits.txt','r') \n",
    "\n",
    "#filepointer = open('fruits.txt') \n",
    "countdict = {}\n",
    "\n",
    "for line in filepointer:\n",
    "    #print(line, end='')\n",
    "    words = line.split()\n",
    "    #print(words)\n",
    "    for word in words:\n",
    "        #print(word)\n",
    "        if word not in countdict:\n",
    "            countdict[word] = 1    # add new item in the dictionary\n",
    "        else:\n",
    "            countdict[word] += 1  # add 1 to the existing item\n",
    "\n",
    "filepointer.close()\n",
    "countdict"
   ]
  },
  {
   "cell_type": "code",
   "execution_count": 79,
   "metadata": {},
   "outputs": [
    {
     "name": "stdout",
     "output_type": "stream",
     "text": [
      "<class '_io.TextIOWrapper'>\n"
     ]
    }
   ],
   "source": [
    "print(type(filepointer))"
   ]
  },
  {
   "cell_type": "code",
   "execution_count": 81,
   "metadata": {},
   "outputs": [
    {
     "name": "stdout",
     "output_type": "stream",
     "text": [
      "orange mango cherry\n",
      "cherry watermelon banana\n",
      "mango orange\n",
      "cherry\n",
      "cherry watermelon banana\n",
      "mango orange"
     ]
    }
   ],
   "source": [
    "filepointer = open(r'fruits.txt')\n",
    "couontdict={}\n",
    "\n",
    "for line in filepointer:\n",
    "    print(line,end='')"
   ]
  },
  {
   "cell_type": "code",
   "execution_count": null,
   "metadata": {},
   "outputs": [],
   "source": [
    "with open('files.txt', 'r') as fp:\n",
    "    pass\n"
   ]
  },
  {
   "cell_type": "code",
   "execution_count": null,
   "metadata": {},
   "outputs": [],
   "source": []
  },
  {
   "cell_type": "markdown",
   "metadata": {},
   "source": [
    "### Dictionary Comprehension"
   ]
  },
  {
   "cell_type": "code",
   "execution_count": 82,
   "metadata": {},
   "outputs": [
    {
     "data": {
      "text/plain": [
       "{'Book': 15, 'Pen': 42, 'Ruler': 20, 'Box': 23, 'Bag': 19}"
      ]
     },
     "execution_count": 82,
     "metadata": {},
     "output_type": "execute_result"
    }
   ],
   "source": [
    "product = ['Book','Pen','Ruler','Box','Bag']\n",
    "stock = [15,42,20,23,19]\n",
    "\n",
    "# Create a dictionary using the product and stock list\n",
    "\n",
    "mydict = {k:v  for k,v in zip(product,stock)}\n",
    "mydict"
   ]
  },
  {
   "cell_type": "code",
   "execution_count": 83,
   "metadata": {},
   "outputs": [
    {
     "data": {
      "text/plain": [
       "{1: 1, 2: 8, 3: 27, 4: 64, 5: 125, 6: 216, 7: 343, 8: 512, 9: 729, 10: 1000}"
      ]
     },
     "execution_count": 83,
     "metadata": {},
     "output_type": "execute_result"
    }
   ],
   "source": [
    "# Create a list having numbers from 1 to 10\n",
    "# store the number and it's cube in a dictionary \n",
    "# as key and value pair\n",
    "\n",
    "mydict = {i:(i**3)   for i in range(1,11)}\n",
    "mydict"
   ]
  },
  {
   "cell_type": "code",
   "execution_count": 85,
   "metadata": {},
   "outputs": [
    {
     "data": {
      "text/plain": [
       "{1: 1, 2: 8, 3: 27, 4: 64, 5: 125, 6: 216, 7: 343, 8: 512, 9: 729, 10: 1000}"
      ]
     },
     "execution_count": 85,
     "metadata": {},
     "output_type": "execute_result"
    }
   ],
   "source": [
    "from math import pow\n",
    "\n",
    "mydict = {i:int(pow(i,3))   for i in range(1,11)}\n",
    "mydict"
   ]
  },
  {
   "cell_type": "code",
   "execution_count": 87,
   "metadata": {},
   "outputs": [
    {
     "data": {
      "text/plain": [
       "{'name': 'John', 'city': 'delhi', 'dept': 'IT'}"
      ]
     },
     "execution_count": 87,
     "metadata": {},
     "output_type": "execute_result"
    }
   ],
   "source": [
    "my_dict={'name': 'John', \n",
    "         'code': 4001, \n",
    "         'city': 'delhi', \n",
    "         'dept': 'IT',\n",
    "         'exp': 5,\n",
    "         'area': 'West',\n",
    "        }\n",
    "\n",
    "keyList = ['code','exp', 'area']\n",
    "\n",
    "# Delete all the dictionary items which are in the keyList\n",
    "\n",
    "mydict2 = {k:v   for k,v in my_dict.items()  if k not in keyList}\n",
    "mydict2"
   ]
  },
  {
   "cell_type": "code",
   "execution_count": null,
   "metadata": {},
   "outputs": [],
   "source": []
  }
 ],
 "metadata": {
  "colab": {
   "provenance": []
  },
  "kernelspec": {
   "display_name": "Python 3 (ipykernel)",
   "language": "python",
   "name": "python3"
  },
  "language_info": {
   "codemirror_mode": {
    "name": "ipython",
    "version": 3
   },
   "file_extension": ".py",
   "mimetype": "text/x-python",
   "name": "python",
   "nbconvert_exporter": "python",
   "pygments_lexer": "ipython3",
   "version": "3.11.5"
  }
 },
 "nbformat": 4,
 "nbformat_minor": 1
}
