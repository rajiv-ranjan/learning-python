{
 "cells": [
  {
   "cell_type": "markdown",
   "id": "58d53235",
   "metadata": {},
   "source": [
    "### User Defined Functions\n",
    "\n",
    "- A block of code that performs a specific task and is reusable\n",
    "- Makes the code easy to read and debug\n",
    "- There are 2 types of functions in python\n",
    "    - Builtin functions : ready to use \n",
    "    - User-define functions: user needs to define it\n",
    "- For more details on built-in function, refer the links below:\n",
    "    - https://docs.python.org/3/library/functions.html\n"
   ]
  },
  {
   "cell_type": "markdown",
   "id": "a76adc3e",
   "metadata": {},
   "source": [
    "#### Creating a Function:\n",
    "\n",
    "- The def keyword is used to define the function.\n",
    "- The def keyword, along with the function name is used to define the function.\n",
    "- The identifier rule must follow the function name.\n",
    "- A function accepts the parameter (argument), and they can be optional.\n",
    "- The function block is starts with the colon (:), and block statements must be at the same indentation.\n",
    "- The return statement is used to return the value. A function can have only one return"
   ]
  },
  {
   "cell_type": "raw",
   "id": "0684adce",
   "metadata": {},
   "source": [
    "Syntax:\n",
    "\n",
    "def function_name(arguments):\n",
    "    statement1\n",
    "    statement2\n",
    "    ....\n"
   ]
  },
  {
   "cell_type": "code",
   "execution_count": 3,
   "id": "e7618b7e",
   "metadata": {},
   "outputs": [
    {
     "name": "stdout",
     "output_type": "stream",
     "text": [
      "Have a nice day\n",
      "All good\n"
     ]
    }
   ],
   "source": [
    "# greet is a user defined function\n",
    "\n",
    "def greet():\n",
    "    print('Have a nice day')\n",
    "    return\n",
    "\n",
    "# main code\n",
    "greet()\n",
    "print('All good')"
   ]
  },
  {
   "cell_type": "code",
   "execution_count": 4,
   "id": "662f3340",
   "metadata": {},
   "outputs": [
    {
     "name": "stdout",
     "output_type": "stream",
     "text": [
      "Have a nice day\n",
      "All good\n"
     ]
    }
   ],
   "source": [
    "# greet is a user defined function\n",
    "\n",
    "\n",
    "# main code\n",
    "greet()\n",
    "print('All good')\n",
    "\n",
    "def greet():\n",
    "    print('Have a nice day')\n",
    "    return\n"
   ]
  },
  {
   "cell_type": "code",
   "execution_count": 6,
   "id": "4d143f09",
   "metadata": {},
   "outputs": [
    {
     "name": "stdout",
     "output_type": "stream",
     "text": [
      "--> 33 54\n",
      "SUMS:  87\n",
      "\n",
      "--> 10 22\n",
      "SUMS:  32\n"
     ]
    }
   ],
   "source": [
    "# accept 2 numbers and display sum -  without parameters\n",
    "\n",
    "def sums():\n",
    "    n1,n2 = map(int,(input('--> ').split()))\n",
    "    sums = n1+n2\n",
    "    print('SUMS: ', sums)\n",
    "    return\n",
    "\n",
    "# main code\n",
    "sums()\n",
    "print()\n",
    "sums()"
   ]
  },
  {
   "cell_type": "code",
   "execution_count": null,
   "id": "ff95b4e9",
   "metadata": {},
   "outputs": [],
   "source": []
  },
  {
   "cell_type": "markdown",
   "id": "6480136b",
   "metadata": {},
   "source": [
    "## Docstring\n",
    "\n",
    "- Docstrings is a shortform for documentation strings\n",
    "- They are vital in conveying the purpose and functionality of Python functions, modules, and classes\n",
    "- The Docstring must be given using triple quotes immediatly after the definition of the functions, modules or classes"
   ]
  },
  {
   "cell_type": "code",
   "execution_count": 7,
   "id": "a2c46a77",
   "metadata": {},
   "outputs": [
    {
     "name": "stdout",
     "output_type": "stream",
     "text": [
      "--> 3 4\n",
      "SUMS:  7\n",
      "\n",
      "--> 2 5\n",
      "SUMS:  7\n"
     ]
    }
   ],
   "source": [
    "# Function with Docstring\n",
    "\n",
    "def sums():\n",
    "    '''This function has no parameters and \n",
    "    doesn \\'t return a value'''\n",
    "    n1,n2 = map(int,(input('--> ').split()))\n",
    "    sums = n1+n2\n",
    "    print('SUMS: ', sums)\n",
    "    return\n",
    "\n",
    "# main code\n",
    "sums()\n",
    "print()\n",
    "sums()"
   ]
  },
  {
   "cell_type": "markdown",
   "id": "5c70fcf6",
   "metadata": {},
   "source": [
    "### Display Docstring"
   ]
  },
  {
   "cell_type": "markdown",
   "id": "d8e6d72b",
   "metadata": {},
   "source": [
    "- We can display Docstring using __doc__\n",
    "- Syntax:  \n",
    "    - functionObject.__doc__"
   ]
  },
  {
   "cell_type": "code",
   "execution_count": 8,
   "id": "347e0fb3",
   "metadata": {},
   "outputs": [
    {
     "data": {
      "text/plain": [
       "\"This function has no parameters and \\n    doesn 't return a value\""
      ]
     },
     "execution_count": 8,
     "metadata": {},
     "output_type": "execute_result"
    }
   ],
   "source": [
    "# Display Docstring of the above defined function\n",
    "\n",
    "sums.__doc__"
   ]
  },
  {
   "cell_type": "code",
   "execution_count": 9,
   "id": "16d0ec04",
   "metadata": {},
   "outputs": [
    {
     "data": {
      "text/plain": [
       "'ksjdf ksjf ksjd fkjs kfjhskjhf ksd'"
      ]
     },
     "execution_count": 9,
     "metadata": {},
     "output_type": "execute_result"
    }
   ],
   "source": [
    "# comments\n",
    "\n",
    "'''ksjdf ksjf ksjd fkjs kfjhskjhf ksd'''\n"
   ]
  },
  {
   "cell_type": "code",
   "execution_count": 12,
   "id": "6f217a9a",
   "metadata": {},
   "outputs": [
    {
     "name": "stdout",
     "output_type": "stream",
     "text": [
      "Addition:  55\n",
      "64000\n"
     ]
    }
   ],
   "source": [
    "# accept 2 numbers and display sum - with parameters and return value\n",
    "\n",
    "def add(a,b):\n",
    "    '''This function has 2 parameters & return a value'''\n",
    "    c = a+b\n",
    "    return c\n",
    "\n",
    "# main code\n",
    "print('Addition: ', add(45, 10))\n",
    "\n",
    "val = add(10,30)\n",
    "\n",
    "print(val**3)"
   ]
  },
  {
   "cell_type": "code",
   "execution_count": null,
   "id": "0159cd3b",
   "metadata": {},
   "outputs": [],
   "source": [
    "# accept 2 numbers and display sum - with parameters and return value\n",
    "\n"
   ]
  },
  {
   "cell_type": "code",
   "execution_count": 17,
   "id": "0f9603d0",
   "metadata": {},
   "outputs": [
    {
     "name": "stdout",
     "output_type": "stream",
     "text": [
      "(9, -3, 18, 0)\n",
      "this function returns 4 values\n",
      "(9, 5, 14, 3)\n",
      "<class 'tuple'>\n"
     ]
    }
   ],
   "source": [
    "# calculator function - return multiple values\n",
    "\n",
    "def calc(x,y):\n",
    "    '''this function returns 4 values'''\n",
    "    a=x+y\n",
    "    b=x-y\n",
    "    c=x*y\n",
    "    d=x//y\n",
    "    return a,b,c,d\n",
    "\n",
    "# main code\n",
    "print(calc(3,6))\n",
    "print(calc.__doc__)   # display the docstring\n",
    "\n",
    "val = calc(7,2)\n",
    "print(val)\n",
    "print(type(val))"
   ]
  },
  {
   "cell_type": "code",
   "execution_count": 15,
   "id": "f83f5145",
   "metadata": {},
   "outputs": [
    {
     "data": {
      "text/plain": [
       "(4, 3, 5, 6)"
      ]
     },
     "execution_count": 15,
     "metadata": {},
     "output_type": "execute_result"
    }
   ],
   "source": [
    "# tuple packing\n",
    "a = 4,3,5,6\n",
    "a"
   ]
  },
  {
   "cell_type": "code",
   "execution_count": 21,
   "id": "3c7189f2",
   "metadata": {},
   "outputs": [
    {
     "name": "stdout",
     "output_type": "stream",
     "text": [
      "<class 'list'>\n",
      "27\n",
      "<class 'tuple'>\n",
      "16\n"
     ]
    }
   ],
   "source": [
    "# function to add elements of the list\n",
    "\n",
    "def addListElements(list1):\n",
    "    print(type(list1))\n",
    "    add = 0\n",
    "    for i in list1:\n",
    "        add += i\n",
    "    return add\n",
    "\n",
    "# main code\n",
    "print(addListElements([5,2,3,7,9,1]))\n",
    "l2 = (4,2,3,7)\n",
    "val = addListElements(l2)\n",
    "print(val)"
   ]
  },
  {
   "cell_type": "code",
   "execution_count": 23,
   "id": "c556f3b9",
   "metadata": {},
   "outputs": [
    {
     "name": "stdout",
     "output_type": "stream",
     "text": [
      "{5: 125, 2: 8, 3: 27, 7: 343, 9: 729, 1: 1}\n",
      "{4: 64, 2: 8, 3: 27, 7: 343}\n"
     ]
    }
   ],
   "source": [
    "# function having list as an argument and return a dictionary\n",
    "\n",
    "# function to add elements of the list\n",
    "\n",
    "def addListElements(list1):\n",
    "    #list2 = list1.copy()\n",
    "    d1 = {i:(i**3)  for i in list1}\n",
    "    return d1\n",
    "\n",
    "# main code\n",
    "l1 = [5,2,3,7,9,1]\n",
    "print(addListElements(l1))\n",
    "l2 = [4,2,3,7]\n",
    "val = addListElements(l2)\n",
    "print(val)"
   ]
  },
  {
   "cell_type": "markdown",
   "id": "c02ebed7",
   "metadata": {},
   "source": [
    "### Multiple ways of passing arguments in Python:\n",
    "\n",
    "- Positional arguments\n",
    "- Keyword arguments\n",
    "- Default arguments \n",
    "- Variable length arguments - *args, **kwargs"
   ]
  },
  {
   "cell_type": "code",
   "execution_count": 24,
   "id": "8dab2f9d",
   "metadata": {},
   "outputs": [
    {
     "name": "stdout",
     "output_type": "stream",
     "text": [
      "SUM=  123\n",
      "\n",
      "199\n"
     ]
    }
   ],
   "source": [
    "# Observe the code\n",
    "# Positional arguments\n",
    "\n",
    "def sums(n1, n2):                # n1, n2 are parameters\n",
    "    sums = n1 + n2\n",
    "    #print('SUM = ', sums)\n",
    "    return sums\n",
    "\n",
    "# main code\n",
    "value = sums(45, 78)   # 45,78 are arguments\n",
    "print('SUM= ', value)\n",
    "print()\n",
    "print(sums(100, 99))\n"
   ]
  },
  {
   "cell_type": "code",
   "execution_count": 27,
   "id": "bff56afd",
   "metadata": {},
   "outputs": [
    {
     "name": "stdout",
     "output_type": "stream",
     "text": [
      "Name: John SMith | Age: 21\n",
      "Name: Henry | Age: 25\n",
      "Name: Shilpa | Age: 30\n"
     ]
    }
   ],
   "source": [
    "# Keyword arguments\n",
    "\n",
    "def printInfo(name, age):\n",
    "    print(f'Name: {name} | Age: {age}')\n",
    "    return\n",
    "\n",
    "# main code\n",
    "printInfo('John SMith', 21)   # positional argument\n",
    "\n",
    "printInfo(name = 'Henry', age=25)  # keyword agrument\n",
    "\n",
    "printInfo(age = 30, name='Shilpa')"
   ]
  },
  {
   "cell_type": "code",
   "execution_count": 28,
   "id": "6a78543c",
   "metadata": {},
   "outputs": [
    {
     "name": "stdout",
     "output_type": "stream",
     "text": [
      "Hello John!\n",
      "Hello Guest!\n"
     ]
    }
   ],
   "source": [
    "# Default arguments \n",
    "# Default arguments are used to specify a default value for a parameter \n",
    "\n",
    "def greet(name='Guest'):\n",
    "    print(f'Hello {name}!')\n",
    "    return\n",
    "\n",
    "greet('John')\n",
    "greet()\n"
   ]
  },
  {
   "cell_type": "markdown",
   "id": "086c50f5",
   "metadata": {},
   "source": [
    "#### Variable length arguments : *args, **kwargs"
   ]
  },
  {
   "cell_type": "code",
   "execution_count": 31,
   "id": "116065c3",
   "metadata": {},
   "outputs": [
    {
     "name": "stdout",
     "output_type": "stream",
     "text": [
      "16\n",
      "10\n"
     ]
    }
   ],
   "source": [
    "# write a function to make sum of numbers\n",
    "# we r not sure how many numbers we gonna pass while calling the function\n",
    "\n",
    "def sumNumbers(*args):\n",
    "    #print(type(args))\n",
    "    s = 0\n",
    "    for i in args:\n",
    "        s+=i\n",
    "    return s\n",
    "\n",
    "print(sumNumbers(4,2,3,7))  # 4 argu\n",
    "print(sumNumbers(1,9))     # 2 argu"
   ]
  },
  {
   "cell_type": "code",
   "execution_count": 35,
   "id": "82755cc4",
   "metadata": {},
   "outputs": [
    {
     "name": "stdout",
     "output_type": "stream",
     "text": [
      "14.3\n",
      "10\n"
     ]
    }
   ],
   "source": [
    "# write a function to make sum of numbers\n",
    "# we r not sure how many numbers we gonna pass while calling the function\n",
    "\n",
    "def sumNumbers(*val):\n",
    "    #print(type(val))\n",
    "    s = 0\n",
    "    for i in val:\n",
    "        s+=i\n",
    "    return s\n",
    "\n",
    "print(sumNumbers(4,2,1.3,7))  # 4 argu\n",
    "print(sumNumbers(1,9))     # 2 argu"
   ]
  },
  {
   "cell_type": "code",
   "execution_count": 38,
   "id": "f555e635",
   "metadata": {},
   "outputs": [
    {
     "name": "stdout",
     "output_type": "stream",
     "text": [
      "name Henry\n",
      "age 25\n",
      "age 30\n",
      "name Shilpa\n",
      "city Pune\n"
     ]
    }
   ],
   "source": [
    "# write a function to display values of the passed keyword arguments\n",
    "# we r not sure how many keyword arguments we gonna pass \n",
    "# while calling the function\n",
    "\n",
    "# keyward arguments\n",
    "\n",
    "# Keyword arguments\n",
    "\n",
    "def printInfo(**kwargs):\n",
    "    #print(type(kwargs))\n",
    "    for k,v in kwargs.items():\n",
    "        print(k,v)\n",
    "    return\n",
    "\n",
    "# main code\n",
    "printInfo(name = 'Henry', age=25)  # keyword agrument\n",
    "\n",
    "printInfo(age = 30, name='Shilpa', city='Pune')\n"
   ]
  },
  {
   "cell_type": "code",
   "execution_count": 39,
   "id": "5715717e",
   "metadata": {},
   "outputs": [
    {
     "name": "stdout",
     "output_type": "stream",
     "text": [
      "name Henry\n",
      "age 25\n",
      "age 30\n",
      "name Shilpa\n",
      "city Pune\n"
     ]
    }
   ],
   "source": [
    "# Keyword arguments\n",
    "\n",
    "def printInfo(**val):\n",
    "    #print(type(val))\n",
    "    for k,v in val.items():\n",
    "        print(k,v)\n",
    "    return\n",
    "\n",
    "# main code\n",
    "printInfo(name = 'Henry', age=25)  # keyword agrument\n",
    "\n",
    "printInfo(age = 30, name='Shilpa', city='Pune')\n"
   ]
  },
  {
   "cell_type": "code",
   "execution_count": 41,
   "id": "03b27d9a",
   "metadata": {},
   "outputs": [
    {
     "name": "stdout",
     "output_type": "stream",
     "text": [
      "age 30\n",
      "name Shilpa\n",
      "city Pune\n"
     ]
    }
   ],
   "source": [
    "# Keyword arguments\n",
    "\n",
    "def printInfo(**val):\n",
    "    #print(type(val))\n",
    "    for k,v in val.items():\n",
    "        print(k,v)\n",
    "    return\n",
    "\n",
    "# main code\n",
    "printInfo(age = 30, name='Shilpa', city='Pune')\n"
   ]
  },
  {
   "cell_type": "code",
   "execution_count": null,
   "id": "89879df1",
   "metadata": {},
   "outputs": [],
   "source": [
    "# Void(non-fruitful) functions\n",
    "\n",
    "# Observe the given code\n",
    "\n",
    "def greet(lang):\n",
    "    if lang == 'es':\n",
    "        return\n",
    "    elif lang == 'fr':\n",
    "        return\n",
    "    else:\n",
    "        return\n",
    "        \n",
    "print(greet('en'), 'gleen')\n",
    "print(greet(\"es\"), 'sally')\n",
    "print(greet('fr'), 'michael')\n"
   ]
  },
  {
   "cell_type": "markdown",
   "id": "e9df1cab",
   "metadata": {},
   "source": [
    "#### lamba"
   ]
  },
  {
   "cell_type": "code",
   "execution_count": 43,
   "id": "3f2c04a1",
   "metadata": {},
   "outputs": [
    {
     "name": "stdout",
     "output_type": "stream",
     "text": [
      "27\n",
      "<class 'function'>\n"
     ]
    }
   ],
   "source": [
    "# cal cube of a number\n",
    "\n",
    "cube = lambda x: x**3     # lambda expression\n",
    "\n",
    "print(cube(3))   # cube is a function object\n",
    "\n",
    "print(type(cube))"
   ]
  },
  {
   "cell_type": "code",
   "execution_count": 44,
   "id": "5388f30e",
   "metadata": {},
   "outputs": [
    {
     "data": {
      "text/plain": [
       "340"
      ]
     },
     "execution_count": 44,
     "metadata": {},
     "output_type": "execute_result"
    }
   ],
   "source": [
    "product = lambda x,y: x*y\n",
    "\n",
    "product(10,34)"
   ]
  },
  {
   "cell_type": "code",
   "execution_count": 45,
   "id": "f5040857",
   "metadata": {},
   "outputs": [
    {
     "data": {
      "text/plain": [
       "[4, 2, 3, 8]"
      ]
     },
     "execution_count": 45,
     "metadata": {},
     "output_type": "execute_result"
    }
   ],
   "source": [
    "# filter-->    filter(function, sequence)\n",
    "\n",
    "list1 = [4,2,3,-6,8,-9]\n",
    "\n",
    "list2 = list(filter(lambda x: x>0  , list1))\n",
    "list2"
   ]
  },
  {
   "cell_type": "code",
   "execution_count": 46,
   "id": "2394216e",
   "metadata": {},
   "outputs": [
    {
     "data": {
      "text/plain": [
       "[64, 8, 27, -216, 512, -729]"
      ]
     },
     "execution_count": 46,
     "metadata": {},
     "output_type": "execute_result"
    }
   ],
   "source": [
    "list1 = [4,2,3,-6,8,-9]\n",
    "\n",
    "list2 = list(map(lambda x: x**3 , list1))\n",
    "list2"
   ]
  },
  {
   "cell_type": "code",
   "execution_count": 49,
   "id": "55148bc3",
   "metadata": {},
   "outputs": [
    {
     "name": "stdout",
     "output_type": "stream",
     "text": [
      "24\n"
     ]
    }
   ],
   "source": [
    "# reduce()-->    reduce(function, sequence)\n",
    "\n",
    "from functools import reduce\n",
    "\n",
    "nums = [3,1,2,4]\n",
    "\n",
    "result = reduce( lambda x,y: x*y , nums)\n",
    "\n",
    "'''\n",
    "3*1=3\n",
    "3*2=6\n",
    "6*4=24\n",
    "'''\n",
    "print(result)"
   ]
  },
  {
   "cell_type": "code",
   "execution_count": null,
   "id": "328f328c",
   "metadata": {},
   "outputs": [],
   "source": []
  },
  {
   "cell_type": "code",
   "execution_count": null,
   "id": "8e8f559a",
   "metadata": {},
   "outputs": [],
   "source": [
    "#def myFunction(n: int| float|complex) -> int|float|complex:\n",
    "#    return n * n\n",
    "\n",
    "# Note that this in way stops us from calling square(4.7)\n",
    "# From version 3.10 we can do better\n"
   ]
  },
  {
   "cell_type": "code",
   "execution_count": 54,
   "id": "ceb65520",
   "metadata": {},
   "outputs": [
    {
     "name": "stdout",
     "output_type": "stream",
     "text": [
      "100\n",
      "21.159999999999997\n"
     ]
    }
   ],
   "source": [
    "def square(n: int) -> int:\n",
    "    return n * n\n",
    "\n",
    "# main code\n",
    "print(square(10))\n",
    "print(square(4.6)) # not suppose to accept.. need to check"
   ]
  },
  {
   "cell_type": "code",
   "execution_count": null,
   "id": "2fa70620",
   "metadata": {},
   "outputs": [],
   "source": []
  },
  {
   "cell_type": "markdown",
   "id": "aef8132a",
   "metadata": {},
   "source": [
    "**Why Functions?**\n",
    "- A function groups together a **set of statements** so they **can be run more than once**.\n",
    "- They can also let us **specify parameters** that can serve as inputs to the functions.\n",
    "- Functions will be one of most basic level of **reusing code** in Python, and it will also allow us to start **thinking of program design**.\n",
    "- If our code gets too long or complex, we can break it into logical chunks and put them in functions."
   ]
  },
  {
   "cell_type": "code",
   "execution_count": null,
   "id": "2e1ac771",
   "metadata": {},
   "outputs": [],
   "source": []
  }
 ],
 "metadata": {
  "kernelspec": {
   "display_name": "Python 3 (ipykernel)",
   "language": "python",
   "name": "python3"
  },
  "language_info": {
   "codemirror_mode": {
    "name": "ipython",
    "version": 3
   },
   "file_extension": ".py",
   "mimetype": "text/x-python",
   "name": "python",
   "nbconvert_exporter": "python",
   "pygments_lexer": "ipython3",
   "version": "3.11.5"
  }
 },
 "nbformat": 4,
 "nbformat_minor": 5
}
