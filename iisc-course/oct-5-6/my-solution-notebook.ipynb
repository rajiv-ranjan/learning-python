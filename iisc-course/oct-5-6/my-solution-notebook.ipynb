{
 "cells": [
  {
   "cell_type": "markdown",
   "id": "c03aa8c7-ed34-46ec-a499-40516474811c",
   "metadata": {},
   "source": [
    "# My work"
   ]
  },
  {
   "cell_type": "markdown",
   "id": "c27b9521-8a20-48d2-9eaa-d98a62eecfb2",
   "metadata": {},
   "source": [
    "## Euler Problem 8\n",
    "https://projecteuler.net/problem=8"
   ]
  },
  {
   "cell_type": "code",
   "execution_count": 112,
   "id": "3069803d-a9b7-4f6c-a53c-696290ec5f89",
   "metadata": {},
   "outputs": [],
   "source": [
    "input_number_as_string = '''\n",
    "73167176531330624919225119674426574742355349194934\n",
    "96983520312774506326239578318016984801869478851843\n",
    "85861560789112949495459501737958331952853208805511\n",
    "12540698747158523863050715693290963295227443043557\n",
    "66896648950445244523161731856403098711121722383113\n",
    "62229893423380308135336276614282806444486645238749\n",
    "30358907296290491560440772390713810515859307960866\n",
    "70172427121883998797908792274921901699720888093776\n",
    "65727333001053367881220235421809751254540594752243\n",
    "52584907711670556013604839586446706324415722155397\n",
    "53697817977846174064955149290862569321978468622482\n",
    "83972241375657056057490261407972968652414535100474\n",
    "82166370484403199890008895243450658541227588666881\n",
    "16427171479924442928230863465674813919123162824586\n",
    "17866458359124566529476545682848912883142607690042\n",
    "24219022671055626321111109370544217506941658960408\n",
    "07198403850962455444362981230987879927244284909188\n",
    "84580156166097919133875499200524063689912560717606\n",
    "05886116467109405077541002256983155200055935729725\n",
    "71636269561882670428252483600823257530420752963450\n",
    "'''\n"
   ]
  },
  {
   "cell_type": "code",
   "execution_count": 113,
   "id": "958d79ca-90a4-4eeb-9c6a-4a338abea3a1",
   "metadata": {
    "scrolled": true
   },
   "outputs": [],
   "source": [
    "\n",
    "def clean_number_digest(passed_str:str ) -> list:\n",
    "    # cleaned_number_digest = []\n",
    "    # cleaned_number_digest = \n",
    "    return [dig for dig in passed_str if '0' <= dig <= '9']\n"
   ]
  },
  {
   "cell_type": "code",
   "execution_count": 114,
   "id": "350ac25c-5c76-4a10-af10-1d9b60c3062f",
   "metadata": {},
   "outputs": [],
   "source": [
    "\n",
    "# print(list(clean_number_digest(input_number_as_string)))"
   ]
  },
  {
   "cell_type": "code",
   "execution_count": 115,
   "id": "c7172c7b-570d-4d4f-b726-7f7411524921",
   "metadata": {},
   "outputs": [],
   "source": [
    "def product(s: list[str]) -> int:\n",
    "    if '0' in s:\n",
    "        return 0\n",
    "    product = 1\n",
    "    for ch in s:\n",
    "        product *= int(ch)\n",
    "    return product\n",
    "    "
   ]
  },
  {
   "cell_type": "code",
   "execution_count": 116,
   "id": "1502160b-2743-406e-bf90-1122e9b488ff",
   "metadata": {},
   "outputs": [],
   "source": [
    "def euler_08(input_number_as_string, size: int) -> tuple[int,int]:\n",
    "    number_digest = clean_number_digest(input_number_as_string)\n",
    "    start, window_len = 0,size\n",
    "    full_length = len(number_digest)\n",
    "    max_product, location = 0, -1\n",
    "    while start + window_len <= full_length:\n",
    "        window = number_digest[start:start+window_len]\n",
    "        p = product(window)\n",
    "        if p > max_product:\n",
    "            location = start\n",
    "            max_product = p\n",
    "        start += 1\n",
    "    return location, max_product\n",
    "    "
   ]
  },
  {
   "cell_type": "code",
   "execution_count": 117,
   "id": "4d92e645-3afc-4010-b0bb-b56eecf73299",
   "metadata": {},
   "outputs": [
    {
     "name": "stdout",
     "output_type": "stream",
     "text": [
      "CPU times: user 534 µs, sys: 9 µs, total: 543 µs\n",
      "Wall time: 546 µs\n"
     ]
    },
    {
     "data": {
      "text/plain": [
       "(197, 23514624000)"
      ]
     },
     "execution_count": 117,
     "metadata": {},
     "output_type": "execute_result"
    }
   ],
   "source": [
    "euler_08(input_number_as_string,13)\n",
    "%time euler_08(input_number_as_string,13)"
   ]
  },
  {
   "cell_type": "markdown",
   "id": "06f50b4e-998b-4e19-9048-67d2561dedae",
   "metadata": {},
   "source": [
    "# Euler problem 9: Special Pythagorean Triplet\n",
    "https://projecteuler.net/problem=9\n"
   ]
  },
  {
   "cell_type": "code",
   "execution_count": null,
   "id": "a47c8c9b-097c-4550-8dd4-b30d84cf1713",
   "metadata": {},
   "outputs": [],
   "source": []
  },
  {
   "cell_type": "raw",
   "id": "730c8951-b522-4be7-b058-7b2b874ebcda",
   "metadata": {},
   "source": [
    "# Kaprekar’s Constant\n",
    "Step 1: Choose any four digit number, say n. This is the first number of the sequence.\n",
    "\n",
    "Step 2: Create a new number α which is the largest number that can be formed by using the four digits of n.\n",
    "\n",
    "Step 3: Create a new number β which is the smallest number that can be formed by using the four digits of n.\n",
    "\n",
    "Step 4: α − β is the next number in the sequence.\n",
    "\n",
    "Step 5: Repeat from step 2.\n",
    "\n",
    "The sequence is called a Kaprekar sequence and the function K(n) = α − β\n",
    "is the Kaprekar mapping. Some numbers map to themselves; these are the fixed points of the Kaprekar mapping, and are called Kaprekar’s constants. Zero is a Kaprekar’s constant, and so is called a trivial Kaprekar’s constant. All other Kaprekar’s constant are nontrivial Kaprekar’s constants.\n",
    "\n",
    "For example, starting with 3524,\n",
    "K(3524) = 5432 − 2345 = 3087\n",
    "K(3087) = 8730 − 378 = 8352\n",
    "K(8352) = 8532 − 2358 = 6174 K(6174) = 7641 − 1467 = 6174 with 6174 as a Kaprekar’s constant."
   ]
  },
  {
   "cell_type": "code",
   "execution_count": null,
   "id": "b672d409-84a2-4eeb-bea1-e4e19c1a65b8",
   "metadata": {},
   "outputs": [],
   "source": []
  },
  {
   "cell_type": "code",
   "execution_count": null,
   "id": "79666a35-ef3b-4880-a69e-d36a9547ffad",
   "metadata": {},
   "outputs": [],
   "source": [
    "Fizz Buzz\n"
   ]
  },
  {
   "cell_type": "code",
   "execution_count": 149,
   "id": "a7df8eea-3cc1-4bf6-9cbe-46a31d929706",
   "metadata": {},
   "outputs": [],
   "source": [
    "def make_fizzbuzz(upto: int, fizzbuzz) -> list[str]:\n",
    "    return [fizzbuzz(i) for i in range(1, upto)]"
   ]
  },
  {
   "cell_type": "code",
   "execution_count": 151,
   "id": "7f6bbd72-39bd-479f-bc46-8e99cb9413c8",
   "metadata": {},
   "outputs": [],
   "source": [
    "def fizzbuzz_1(n: int) -> str:\n",
    "    if n % 15 == 0:\n",
    "        return 'FizzBuzz'\n",
    "    elif n % 5 == 0:\n",
    "        return 'Buzz'\n",
    "    elif n % 3 == 0:\n",
    "        return 'Fizz'\n",
    "    else:\n",
    "        return str(n)"
   ]
  },
  {
   "cell_type": "code",
   "execution_count": 153,
   "id": "41581c08-7da3-43bf-9187-0b003406a4f8",
   "metadata": {},
   "outputs": [
    {
     "name": "stdout",
     "output_type": "stream",
     "text": [
      "['1', '2', 'Fizz', '4', 'Buzz', 'Fizz', '7', '8', 'Fizz', 'Buzz', '11', 'Fizz', '13', '14', 'FizzBuzz', '16', '17', 'Fizz', '19']\n"
     ]
    }
   ],
   "source": [
    "print(make_fizzbuzz(20, fizzbuzz_1))"
   ]
  },
  {
   "cell_type": "code",
   "execution_count": 159,
   "id": "57d2f1b5-a1d4-45ab-b612-db999de5f296",
   "metadata": {},
   "outputs": [],
   "source": [
    "def fizzbuzz_2(n: int) -> str:\n",
    "    fb = ''\n",
    "    if n % 3 == 0:\n",
    "        fb += 'Fizz'\n",
    "    if n % 5 == 0:\n",
    "        fb += 'Buzz'\n",
    "    # return str(n)\n",
    "    return fb or str(n)"
   ]
  },
  {
   "cell_type": "code",
   "execution_count": 161,
   "id": "8bc49954-0e8e-4597-a0d7-0d7ad511a29f",
   "metadata": {},
   "outputs": [
    {
     "name": "stdout",
     "output_type": "stream",
     "text": [
      "['1', '2', 'Fizz', '4', 'Buzz', 'Fizz', '7', '8', 'Fizz', 'Buzz', '11', 'Fizz', '13', '14', 'FizzBuzz', '16', '17', 'Fizz', '19']\n"
     ]
    }
   ],
   "source": [
    "print(make_fizzbuzz(20, fizzbuzz_2))"
   ]
  },
  {
   "cell_type": "code",
   "execution_count": 143,
   "id": "d9ea8921-78da-45a3-8566-7e4236b0634a",
   "metadata": {},
   "outputs": [
    {
     "data": {
      "text/plain": [
       "'a'"
      ]
     },
     "execution_count": 143,
     "metadata": {},
     "output_type": "execute_result"
    }
   ],
   "source": [
    "'a' or str(15)"
   ]
  },
  {
   "cell_type": "code",
   "execution_count": 145,
   "id": "e5df76e0-8a2b-40e7-9f99-777a9204a982",
   "metadata": {},
   "outputs": [
    {
     "data": {
      "text/plain": [
       "11"
      ]
     },
     "execution_count": 145,
     "metadata": {},
     "output_type": "execute_result"
    }
   ],
   "source": [
    "'' or 4 + 7"
   ]
  },
  {
   "cell_type": "raw",
   "id": "ebd4001e-4a11-434c-8358-bfe4f0a8a9e3",
   "metadata": {},
   "source": [
    "Euler Problem 2\n",
    "Each new term in the Fibonacci sequence is generated by adding the previous two terms. By starting with 1 and 2, the first 10 terms will be:\n",
    "1, 2, 3, 5, 8, 13, 21, 34, 55, 89, ...\n",
    "By considering the terms in the Fibonacci sequence whose values do not exceed four million, find the sum of the even-valued terms."
   ]
  },
  {
   "cell_type": "code",
   "execution_count": null,
   "id": "7fd9e178-634b-4bf9-8152-8ec3d5b53c65",
   "metadata": {},
   "outputs": [],
   "source": [
    "def next_fibo_no(num1:int, num2:int) -> int:\n",
    "    "
   ]
  },
  {
   "cell_type": "markdown",
   "id": "4566bf83-12ee-4b8b-8570-c821a58f6446",
   "metadata": {},
   "source": [
    "# ADPVX\n",
    "\n",
    "* A string is termed ascending and denoted by \"A\" if the characters in that string are in *strict* ascending order. Example: \"best\"\n",
    "\n",
    "* A string is termed descending and denoted by \"D\" if the charatcters in the string are in *strict* descending order. Example: \"yoke\"\n",
    "\n",
    "* If the first part of a string is ascending and the remaining is descending, it is termed a peak and denoted by \"P\". The number of characters in the two parts need not be the same. But together the two parts must contain all the chanracters. Example \"13789640\"\n",
    "\n",
    "* Similarly we use the term valley, denoted by \"V\" for a string whose characters descend and then ascend. \"yoga\"\n",
    "\n",
    "* We denote the strings that do not come under these as \"X\".\n",
    "\n",
    "## Write a set of fuctions to classify a given string"
   ]
  },
  {
   "cell_type": "code",
   "execution_count": 45,
   "id": "0c9dff02-f467-42ad-9fa3-79be7a621036",
   "metadata": {},
   "outputs": [
    {
     "name": "stdout",
     "output_type": "stream",
     "text": [
      "['b', 'e', 's', 't']\n"
     ]
    },
    {
     "data": {
      "text/plain": [
       "'A'"
      ]
     },
     "execution_count": 45,
     "metadata": {},
     "output_type": "execute_result"
    }
   ],
   "source": [
    "def ascending_word(word: str) -> bool:\n",
    "    ch_list=list(word)    \n",
    "    for i in range(len(ch_list)-1):\n",
    "        if ch_list[i] >= ch_list[i+1]:\n",
    "            return False\n",
    "    print(ch_list)\n",
    "    return True\n",
    "\n",
    "\n",
    "def descending_word(word: str) -> bool:\n",
    "    ch_list=list(word)    \n",
    "    for i in range(len(ch_list)-1):\n",
    "        if ch_list[i] <= ch_list[i+1]:\n",
    "            return False\n",
    "    print(ch_list)\n",
    "    return True\n",
    "\n",
    "def peak_word(word: str) -> bool:\n",
    "    ch_list=list(word)\n",
    "    number_of_turns=0\n",
    "    for i in range(len(ch_list)-1):\n",
    "        if ch_list[i] >= ch_list[i+1]:\n",
    "            number_of_turns += 1\n",
    "            \n",
    "\n",
    "def check_word_type(word: str) -> str:\n",
    "    if ascending_word(word):\n",
    "        return \"A\"\n",
    "    if descending_word(word):\n",
    "        return \"D\"\n",
    "    return \"X\"\n",
    "    \n",
    "\n",
    "\n",
    "check_word_type(\"best\")\n"
   ]
  },
  {
   "cell_type": "code",
   "execution_count": 29,
   "id": "7541a86f-4840-4fc7-9103-6a66d615adbc",
   "metadata": {},
   "outputs": [],
   "source": [
    "# def is_ascending(s: str) -> bool:\n",
    "#    return all(a < b for a, b in zip(s, s[1:]))"
   ]
  },
  {
   "cell_type": "code",
   "execution_count": 31,
   "id": "73b5b1fa-89c3-4705-8d51-5d8f6d0ab6d1",
   "metadata": {},
   "outputs": [],
   "source": [
    "UP, DN, EQ = 'A', 'D', 'E'"
   ]
  },
  {
   "cell_type": "code",
   "execution_count": 33,
   "id": "1dd587b3-2591-423b-92c5-542e40465b8b",
   "metadata": {},
   "outputs": [],
   "source": [
    "def relation(a: str, b: str) -> str:\n",
    "    if a < b:\n",
    "        return UP\n",
    "    elif a == b:\n",
    "        return EQ\n",
    "    else:\n",
    "        return DN"
   ]
  },
  {
   "cell_type": "code",
   "execution_count": 35,
   "id": "a274ca8e-aeb2-4edf-98e5-55cd9fc94120",
   "metadata": {},
   "outputs": [],
   "source": [
    "def transform(s: str) -> str:\n",
    "    return ''.join([relation(x, y) for x, y in zip(s, s[1:])])"
   ]
  },
  {
   "cell_type": "code",
   "execution_count": 37,
   "id": "918c26fc-4a56-40f5-b6d9-0bd26d7892d3",
   "metadata": {},
   "outputs": [],
   "source": [
    "def squeeze(s: str) -> str:\n",
    "    if len(s) == 1:\n",
    "        return s\n",
    "    elif s[0] == s[1]:\n",
    "        return squeeze(s[1:])\n",
    "    else:\n",
    "        return s[0] + squeeze(s[1:])"
   ]
  },
  {
   "cell_type": "code",
   "execution_count": 39,
   "id": "52a651f2-3c9f-49b9-9cc4-c6a3a9fd69da",
   "metadata": {},
   "outputs": [],
   "source": [
    "def classify(s: str) -> str:\n",
    "    sig = squeeze(transform(s))\n",
    "    if sig == UP:\n",
    "        return 'A'\n",
    "    elif sig == DN:\n",
    "        return 'D'\n",
    "    elif sig ==  UP + DN:\n",
    "        return 'P'\n",
    "    elif sig == DN + UP:\n",
    "        return 'V'\n",
    "    else:\n",
    "        return 'X'"
   ]
  },
  {
   "cell_type": "code",
   "execution_count": 43,
   "id": "639e49cb-ff5b-4b62-b38f-be7e75f8b36a",
   "metadata": {},
   "outputs": [
    {
     "name": "stdout",
     "output_type": "stream",
     "text": [
      "1234 AAA\n",
      "yogam DDDA\n",
      "yoke DDD\n",
      "zone DDD\n",
      "hello DAEA\n"
     ]
    }
   ],
   "source": [
    "for s in [\"1234\", \"yogam\", \"yoke\", \"zone\", \"hello\"]:\n",
    "    print(s, transform(s))"
   ]
  },
  {
   "cell_type": "markdown",
   "id": "5ecf5ebc-9c70-4953-9891-d91fcedacb36",
   "metadata": {},
   "source": [
    "# Problem: Convert Arabic to Roman numbers and vice versa"
   ]
  },
  {
   "cell_type": "code",
   "execution_count": 593,
   "id": "d4094c1e-8588-4c03-8c6c-9ed263a9095a",
   "metadata": {},
   "outputs": [],
   "source": [
    "\n",
    "def transform(place: int, digit: int) -> str:\n",
    "    roman_digits = [[\"\",\"I\",\"II\",\"III\",\"IV\",\"V\",\"VI\",\"VII\",\"VIII\",\"IX\"],\n",
    "                    [\"\",\"X\",\"XX\",\"XXX\",\"XL\",\"L\",\"LX\",\"LXX\",\"LXXX\",\"XC\"],\n",
    "                    [\"\",\"C\",\"CC\",\"CCC\",\"CD\",\"D\",\"DC\",\"DCC\",\"DCCC\",\"CM\"],\n",
    "                    [\"\",\"M\",\"MM\",\"MMM\",\"MMMM\"]]\n",
    "\n",
    "    return roman_digits[place][digit]\n"
   ]
  },
  {
   "cell_type": "code",
   "execution_count": 595,
   "id": "5eac8d24-2e74-4d9d-bb0f-975768f5aa26",
   "metadata": {},
   "outputs": [],
   "source": [
    "def convert_integer_to_roman(num1:int) -> str:\n",
    "    s = str(num1); s_len = len(s)\n",
    "    roman = \"\"\n",
    "    for place in range(0,s_len,1):\n",
    "        digit = int(s[s_len-place-1:s_len-place:1])\n",
    "        roman = transform(place,digit)+roman\n",
    "    return roman"
   ]
  },
  {
   "cell_type": "code",
   "execution_count": 605,
   "id": "136d411c-1ec0-4df7-9edc-27a92af92367",
   "metadata": {},
   "outputs": [
    {
     "name": "stdout",
     "output_type": "stream",
     "text": [
      "DCLI\n"
     ]
    }
   ],
   "source": [
    "# print(convert_integer_to_roman(8))\n",
    "# print(convert_integer_to_roman(11))\n",
    "# print(convert_integer_to_roman(100))\n",
    "# print(convert_integer_to_roman(151))\n",
    "# print(convert_integer_to_roman(851))\n",
    "# print(convert_integer_to_roman(1651))\n",
    "# print(convert_integer_to_roman(1119))\n",
    "# print(convert_integer_to_roman(2789))\n",
    "print(convert_integer_to_roman(651))"
   ]
  },
  {
   "cell_type": "markdown",
   "id": "ef0bb356-e030-43b1-8b24-3fcc92a0797c",
   "metadata": {},
   "source": [
    "# Problem: Convert Roman to Arabic numbers and vice versa"
   ]
  },
  {
   "cell_type": "code",
   "execution_count": 609,
   "id": "fce7af8f-e256-45ec-85e7-d623a7c7725c",
   "metadata": {},
   "outputs": [
    {
     "name": "stdout",
     "output_type": "stream",
     "text": [
      "XXVII\n",
      "XXVII\n",
      "XXVII\n"
     ]
    },
    {
     "data": {
      "text/plain": [
       "27"
      ]
     },
     "execution_count": 609,
     "metadata": {},
     "output_type": "execute_result"
    }
   ],
   "source": [
    "def convert_roman_to_integer(s: str) -> int:\n",
    "    roman_table = {'M': 1000, 'D': 500, 'C': 100, 'L': 50, 'X': 10, 'V': 5, 'I': 1}\n",
    "\n",
    "    s = s.replace(\"CM\", \"DCCCC\").replace(\"CD\", \"CCCC\")\n",
    "    print(s)\n",
    "    s = s.replace(\"XC\", \"LXXXX\").replace(\"XL\", \"XXXX\")\n",
    "    print(s)\n",
    "    s = s.replace('IX', \"VIIII\").replace(\"IV\", \"IIII\")\n",
    "    print(s)\n",
    "    return sum(roman_table[ch] for ch in s)\n",
    "# \n",
    "convert_roman_to_integer(\"XXVII\")"
   ]
  },
  {
   "cell_type": "markdown",
   "id": "d983e7a4-3d34-4fd2-8757-7f1e5227b42d",
   "metadata": {},
   "source": [
    "# Problem: Covert number digits to words (Indian system)\n",
    "\n",
    "* handles indian ways like lakhs, crores for less that 100 crores"
   ]
  },
  {
   "cell_type": "code",
   "execution_count": null,
   "id": "6f939028-2bc2-47a7-900e-8b59ed78b2dd",
   "metadata": {},
   "outputs": [],
   "source": []
  },
  {
   "cell_type": "markdown",
   "id": "19fb6053-c291-4c20-aa0e-8135f494937c",
   "metadata": {},
   "source": [
    "# Euler Problem 21: Amicable \n",
    "\n",
    "Let d(n) be defined as the sum of proper divisors of n (numbers less than n which divide evenly into n). If d(a) = b and d(b) = a, where a ̸= b, then a and b are an amicable pair and each of a and b are called amicable numbers.\n",
    "\n",
    "For example, the proper divisors of 220 are 1, 2, 4, 5, 10, 11, 20, 22, 44, 55 and 110; therefore d(220) = 284. The proper divisors of 284 are 1, 2, 4, 71 and 142; so d(284) = 220.\n",
    "\n",
    "Evaluate the sum of all the amicable numbers under 10000.\n"
   ]
  },
  {
   "cell_type": "code",
   "execution_count": 186,
   "id": "27f74c8a-8900-4340-9c36-2b7d8103729b",
   "metadata": {},
   "outputs": [],
   "source": [
    "def sum_of_factors(n: int) -> int:\n",
    "    aliquot = 1\n",
    "    r = 2\n",
    "    while r * r < n:\n",
    "        if n % r == 0:\n",
    "            aliquot += r\n",
    "            aliquot += (n // r)\n",
    "        r += 1\n",
    "    if r * r == n:\n",
    "        aliquot += r\n",
    "    return aliquot"
   ]
  },
  {
   "cell_type": "code",
   "execution_count": 188,
   "id": "b788b2f4-f908-4711-8791-b5ca35200f22",
   "metadata": {},
   "outputs": [],
   "source": [
    "def euler021(limit: int) -> int:\n",
    "    amicable_sum = 0\n",
    "    for n in range(1, limit):\n",
    "        aliq = sum_of_factors(n)\n",
    "        if n < aliq:\n",
    "            a = sum_of_factors(aliq)\n",
    "            if a == n:\n",
    "                amicable_sum += (aliq + n)\n",
    "    return amicable_sum\n"
   ]
  },
  {
   "cell_type": "code",
   "execution_count": 190,
   "id": "8b64e296-1dcc-42f9-b986-6bb34b5ba77e",
   "metadata": {},
   "outputs": [
    {
     "data": {
      "text/plain": [
       "31626"
      ]
     },
     "execution_count": 190,
     "metadata": {},
     "output_type": "execute_result"
    }
   ],
   "source": [
    "euler021(10000)"
   ]
  },
  {
   "cell_type": "code",
   "execution_count": null,
   "id": "7f573163-600e-4213-823b-595eaacfef11",
   "metadata": {},
   "outputs": [],
   "source": []
  },
  {
   "cell_type": "markdown",
   "id": "b9d69f89-9117-497a-9541-2e16b552677d",
   "metadata": {},
   "source": [
    "# Learning reduce"
   ]
  },
  {
   "cell_type": "code",
   "execution_count": 219,
   "id": "28ea6776-d8df-4b2d-b6f0-a4644e566ff2",
   "metadata": {},
   "outputs": [
    {
     "data": {
      "text/plain": [
       "\u001b[0;31mDocstring:\u001b[0m\n",
       "reduce(function, iterable[, initial]) -> value\n",
       "\n",
       "Apply a function of two arguments cumulatively to the items of a sequence\n",
       "or iterable, from left to right, so as to reduce the iterable to a single\n",
       "value.  For example, reduce(lambda x, y: x+y, [1, 2, 3, 4, 5]) calculates\n",
       "((((1+2)+3)+4)+5).  If initial is present, it is placed before the items\n",
       "of the iterable in the calculation, and serves as a default when the\n",
       "iterable is empty.\n",
       "\u001b[0;31mType:\u001b[0m      builtin_function_or_method"
      ]
     },
     "metadata": {},
     "output_type": "display_data"
    }
   ],
   "source": [
    "import functools\n",
    "functools.reduce?"
   ]
  },
  {
   "cell_type": "code",
   "execution_count": 221,
   "id": "66098806-1263-4407-9106-5a7badbad121",
   "metadata": {},
   "outputs": [
    {
     "data": {
      "text/plain": [
       "\u001b[0;31mDocstring:\u001b[0m\n",
       "reduce(function, iterable[, initial]) -> value\n",
       "\n",
       "Apply a function of two arguments cumulatively to the items of a sequence\n",
       "or iterable, from left to right, so as to reduce the iterable to a single\n",
       "value.  For example, reduce(lambda x, y: x+y, [1, 2, 3, 4, 5]) calculates\n",
       "((((1+2)+3)+4)+5).  If initial is present, it is placed before the items\n",
       "of the iterable in the calculation, and serves as a default when the\n",
       "iterable is empty.\n",
       "\u001b[0;31mType:\u001b[0m      builtin_function_or_method"
      ]
     },
     "metadata": {},
     "output_type": "display_data"
    }
   ],
   "source": [
    "functools.reduce??"
   ]
  },
  {
   "cell_type": "code",
   "execution_count": 223,
   "id": "d4d42a2c-52cb-4c80-b97b-aa753f3447e9",
   "metadata": {},
   "outputs": [
    {
     "name": "stdout",
     "output_type": "stream",
     "text": [
      "(10, 10)\n"
     ]
    }
   ],
   "source": [
    "def tuple_mul(x: tuple,y: tuple) -> tuple:\n",
    "    z = (x[0]+y[0],x[1]+y[1])\n",
    "    return z\n",
    "\n",
    "print(functools.reduce(tuple_mul,[(1,1),(2,2),(3,3),[4,4]]))"
   ]
  },
  {
   "cell_type": "code",
   "execution_count": 214,
   "id": "ffd29809-446b-4ae5-976e-e975e36230dd",
   "metadata": {},
   "outputs": [
    {
     "data": {
      "text/plain": [
       "\u001b[0;31mDocstring:\u001b[0m\n",
       "reduce(function, iterable[, initial]) -> value\n",
       "\n",
       "Apply a function of two arguments cumulatively to the items of a sequence\n",
       "or iterable, from left to right, so as to reduce the iterable to a single\n",
       "value.  For example, reduce(lambda x, y: x+y, [1, 2, 3, 4, 5]) calculates\n",
       "((((1+2)+3)+4)+5).  If initial is present, it is placed before the items\n",
       "of the iterable in the calculation, and serves as a default when the\n",
       "iterable is empty.\n",
       "\u001b[0;31mType:\u001b[0m      builtin_function_or_method"
      ]
     },
     "metadata": {},
     "output_type": "display_data"
    }
   ],
   "source": []
  },
  {
   "cell_type": "markdown",
   "id": "d6578af6-356a-406e-b282-5826e6fc78c1",
   "metadata": {},
   "source": [
    "# Problem String Manipulation: Anagram\n",
    "\n",
    "Two words are called anagrams of each other if they are both consisting of the same letters:\n",
    "\n",
    "steps, pests spare, reaps\n",
    "\n",
    "There can be many words which are anagrams of each other\n",
    "\n",
    "spare, reaps, pears"
   ]
  },
  {
   "cell_type": "code",
   "execution_count": 281,
   "id": "5eb0a544-e753-4d25-bda1-1e406582741f",
   "metadata": {},
   "outputs": [],
   "source": [
    "def is_anagram_1(word1:str, word2:str) -> bool:\n",
    "    word2_list=list(word2)\n",
    "    for letter in word1:\n",
    "        print(word2.index(letter))\n",
    "        #print(word2_list.pop(word2.index(letter)))\n",
    "        \n",
    "        # if word2_list.pop(word2.index(letter)-1) == '':\n",
    "        #     return False\n",
    "        \n",
    "    return True"
   ]
  },
  {
   "cell_type": "code",
   "execution_count": 251,
   "id": "8a0bab66-c540-450a-8131-66ba2126d801",
   "metadata": {},
   "outputs": [],
   "source": [
    "def is_anagram_2(a: str, b: str) -> bool:\n",
    "    '''Checks if the two strings given\n",
    "    are anagrams of each other. Case sensitive'''\n",
    "    return sorted(a) == sorted(b)"
   ]
  },
  {
   "cell_type": "code",
   "execution_count": 285,
   "id": "9b4c93af-6d4e-487f-befa-d7e17c3e9131",
   "metadata": {},
   "outputs": [
    {
     "name": "stdout",
     "output_type": "stream",
     "text": [
      "2\n",
      "1\n",
      "0\n"
     ]
    },
    {
     "data": {
      "text/plain": [
       "True"
      ]
     },
     "execution_count": 285,
     "metadata": {},
     "output_type": "execute_result"
    }
   ],
   "source": [
    "is_anagram_1(\"abc\",\"cba\")"
   ]
  },
  {
   "cell_type": "code",
   "execution_count": null,
   "id": "b9a20a84-d5dd-4420-af04-a7c156b23705",
   "metadata": {},
   "outputs": [],
   "source": []
  },
  {
   "cell_type": "markdown",
   "id": "6bf44fff-1e6f-47e1-a772-982ee42981de",
   "metadata": {},
   "source": [
    "# Problem: Date String\n",
    "## given a string of the form dd SEP mon SEP yyyy\n",
    "## return the seven digit integer yyyyddd\n",
    "\n",
    "## SEP can be comma or space or comma plus space\n",
    "## the two seps can be dfferent\n",
    "\n",
    "\"12 Jan 1999\" $\\Rightarrow$ 1999012\n",
    "\n",
    "\"14 february,2015\" $\\Rightarrow$ 2015045\n",
    "\n",
    "\"2,Nov, 2020\" $\\Rightarrow$ 2020307\n",
    "\n",
    "## ddd is often called the Julian date"
   ]
  },
  {
   "cell_type": "code",
   "execution_count": 560,
   "id": "a4879681-d12a-4d7c-b322-771978ec4a87",
   "metadata": {},
   "outputs": [],
   "source": [
    "def cleanit(input1: str) -> str:\n",
    "    #input1 = input1.replace(\" \",\"|\")\n",
    "    input1 = input1.replace(\",\",\" \")\n",
    "    input1 = input1.replace(\"-\",\" \")\n",
    "    return input1"
   ]
  },
  {
   "cell_type": "code",
   "execution_count": 562,
   "id": "a4a63d2a-0510-4022-9fc2-4d7a96886c2c",
   "metadata": {},
   "outputs": [],
   "source": [
    "def clean_and_split(input2: str) -> list:\n",
    "    data = []\n",
    "    input2 = cleanit(input2)\n",
    "    data = input2.split()\n",
    "    data[1]=str(data[1])[:3]\n",
    "    return data\n",
    "\n",
    "# print(clean_and_split(\"12 Jan 1999\"))\n",
    "# print(clean_and_split(\"14 february,2015\"))\n",
    "# print(clean_and_split(\"2,Nov, 2020\"))\n"
   ]
  },
  {
   "cell_type": "code",
   "execution_count": 564,
   "id": "db5febc8-f9f1-4065-a031-ea1caf7745f2",
   "metadata": {},
   "outputs": [],
   "source": [
    "month_dic = {\n",
    "        \"jan\":31,\n",
    "        \"feb\":28,\n",
    "        \"mar\":31,\n",
    "        \"apr\":30,\n",
    "        \"may\":31,\n",
    "        \"jun\":30,\n",
    "        \"jul\":31,\n",
    "        \"aug\":31,\n",
    "        \"sep\":30,\n",
    "        \"oct\":31,\n",
    "        \"nov\":30,\n",
    "        \"dec\":31\n",
    "    }\n",
    "def return_days_in_month(month: str) -> int:\n",
    "    return month_dic[month]"
   ]
  },
  {
   "cell_type": "code",
   "execution_count": 566,
   "id": "44d6125c-1085-46f8-b520-adb24ce35220",
   "metadata": {},
   "outputs": [],
   "source": [
    "def julian_date_calc(year: int, month: str, day: int) -> str:\n",
    "    print(year,month,day)\n",
    "    total_days = 0\n",
    "    month_list = month_dic.items()\n",
    "    \n",
    "    for month_tup in month_list:\n",
    "        if month_tup[0] == month:\n",
    "            total_days += day\n",
    "            break\n",
    "        elif year % 4 == 0 and month_tup[0] == \"feb\":\n",
    "            total_days += 29\n",
    "        else:\n",
    "            total_days += month_tup[1]\n",
    "\n",
    "    return str(total_days)\n"
   ]
  },
  {
   "cell_type": "code",
   "execution_count": 568,
   "id": "8b502619-3f37-45c9-bbcc-eb31b715710e",
   "metadata": {},
   "outputs": [],
   "source": [
    "def convert_date(in_date: str) -> str:\n",
    "    date_as_list = clean_and_split(in_date)\n",
    "    out1 = julian_date_calc(int(date_as_list[2]),date_as_list[1].lower(),int(date_as_list[0]))\n",
    "    print(date_as_list[2],out1.zfill(3),sep=\"\")"
   ]
  },
  {
   "cell_type": "code",
   "execution_count": 572,
   "id": "a6d722f3-aa05-43b4-8be1-a5ea3ff63678",
   "metadata": {},
   "outputs": [
    {
     "name": "stdout",
     "output_type": "stream",
     "text": [
      "2023 mar 1\n",
      "2023060\n",
      "1999 jan 12\n",
      "1999012\n",
      "2015 feb 14\n",
      "2015045\n",
      "2020 nov 2\n",
      "2020307\n"
     ]
    }
   ],
   "source": [
    "convert_date(\"01 Mar 2023\")\n",
    "convert_date(\"12 Jan 1999\")\n",
    "convert_date(\"14 february,2015\")\n",
    "convert_date(\"2,Nov, 2020\")"
   ]
  },
  {
   "cell_type": "markdown",
   "id": "7615ce50-8a19-4c24-9b28-ef629f637e19",
   "metadata": {},
   "source": [
    "# Sort a key"
   ]
  },
  {
   "cell_type": "code",
   "execution_count": 630,
   "id": "fa817c59-8223-436e-8618-5005efba4ada",
   "metadata": {},
   "outputs": [],
   "source": [
    "words = [\"hello\", \"pots\", \"post\",\"spear\", \"stop\", \"opts\", \"spare\", \"could\", \"spot\", \"cloud\"]"
   ]
  },
  {
   "cell_type": "code",
   "execution_count": 632,
   "id": "5c352dfc-8956-4c81-bf5f-56463ffcaf74",
   "metadata": {},
   "outputs": [
    {
     "data": {
      "text/plain": [
       "\u001b[0;31mSignature:\u001b[0m \u001b[0msorted\u001b[0m\u001b[0;34m(\u001b[0m\u001b[0miterable\u001b[0m\u001b[0;34m,\u001b[0m \u001b[0;34m/\u001b[0m\u001b[0;34m,\u001b[0m \u001b[0;34m*\u001b[0m\u001b[0;34m,\u001b[0m \u001b[0mkey\u001b[0m\u001b[0;34m=\u001b[0m\u001b[0;32mNone\u001b[0m\u001b[0;34m,\u001b[0m \u001b[0mreverse\u001b[0m\u001b[0;34m=\u001b[0m\u001b[0;32mFalse\u001b[0m\u001b[0;34m)\u001b[0m\u001b[0;34m\u001b[0m\u001b[0;34m\u001b[0m\u001b[0m\n",
       "\u001b[0;31mDocstring:\u001b[0m\n",
       "Return a new list containing all items from the iterable in ascending order.\n",
       "\n",
       "A custom key function can be supplied to customize the sort order, and the\n",
       "reverse flag can be set to request the result in descending order.\n",
       "\u001b[0;31mType:\u001b[0m      builtin_function_or_method"
      ]
     },
     "metadata": {},
     "output_type": "display_data"
    }
   ],
   "source": [
    "sorted?"
   ]
  },
  {
   "cell_type": "code",
   "execution_count": 634,
   "id": "cdd505de-6785-48d9-8b3f-0ab27c4bf08a",
   "metadata": {},
   "outputs": [
    {
     "name": "stdout",
     "output_type": "stream",
     "text": [
      "['cloud', 'could', 'hello', 'opts', 'post', 'pots', 'spare', 'spear', 'spot', 'stop']\n"
     ]
    }
   ],
   "source": [
    "print(sorted(words))"
   ]
  },
  {
   "cell_type": "code",
   "execution_count": 636,
   "id": "eedbbb53-431a-4b1b-a9fa-c0c3875880d8",
   "metadata": {},
   "outputs": [
    {
     "name": "stdout",
     "output_type": "stream",
     "text": [
      "['hello', 'pots', 'post', 'spear', 'stop', 'opts', 'spare', 'could', 'spot', 'cloud']\n"
     ]
    }
   ],
   "source": [
    "print(words)"
   ]
  },
  {
   "cell_type": "code",
   "execution_count": 638,
   "id": "caffcf13-abe9-4c9a-9e16-05a8f2c82675",
   "metadata": {},
   "outputs": [
    {
     "name": "stdout",
     "output_type": "stream",
     "text": [
      "['pots', 'post', 'stop', 'opts', 'spot', 'hello', 'spear', 'spare', 'could', 'cloud']\n"
     ]
    }
   ],
   "source": [
    "print(sorted(words, key=len))"
   ]
  },
  {
   "cell_type": "code",
   "execution_count": 640,
   "id": "2ffaa3e5-048c-4428-b9ed-6c306fe0f214",
   "metadata": {},
   "outputs": [
    {
     "name": "stdout",
     "output_type": "stream",
     "text": [
      "['spear', 'spare', 'could', 'cloud', 'hello', 'pots', 'post', 'stop', 'opts', 'spot']\n"
     ]
    }
   ],
   "source": [
    "print(sorted(words, key=sorted))"
   ]
  },
  {
   "cell_type": "code",
   "execution_count": null,
   "id": "628b2051-c1e8-49e0-8ce5-3742e6724f9b",
   "metadata": {},
   "outputs": [],
   "source": [
    "new_list = [\"bca\",\"abc\",\"def\"]"
   ]
  }
 ],
 "metadata": {
  "kernelspec": {
   "display_name": "Python 3 (ipykernel)",
   "language": "python",
   "name": "python3"
  },
  "language_info": {
   "codemirror_mode": {
    "name": "ipython",
    "version": 3
   },
   "file_extension": ".py",
   "mimetype": "text/x-python",
   "name": "python",
   "nbconvert_exporter": "python",
   "pygments_lexer": "ipython3",
   "version": "3.11.7"
  },
  "widgets": {
   "application/vnd.jupyter.widget-state+json": {
    "state": {},
    "version_major": 2,
    "version_minor": 0
   }
  }
 },
 "nbformat": 4,
 "nbformat_minor": 5
}
