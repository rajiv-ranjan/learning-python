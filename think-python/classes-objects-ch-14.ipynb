{
 "cells": [
  {
   "cell_type": "code",
   "execution_count": 8,
   "metadata": {},
   "outputs": [],
   "source": [
    "from copy import copy\n",
    "\n",
    "\n",
    "class Time:\n",
    "    \"\"\"Represents a time of day.\"\"\"\n",
    "\n",
    "    hour: int\n",
    "    minute: int\n",
    "    second: int\n",
    "\n",
    "    def __str__(self) -> str:\n",
    "        s = f\"{self.hour:02d}:{self.minute:02d}:{self.second:02d}\"\n",
    "        return s\n",
    "\n",
    "    def __init__(self, hour=0, minute=0, second=0) -> None:\n",
    "        self.hour = hour\n",
    "        self.minute = minute\n",
    "        self.second = second\n",
    "        pass\n",
    "\n",
    "    def print_time(self):\n",
    "        print(f\"{self.hour:02d}:{self.minute:02d}:{self.second:02d}\")\n",
    "\n",
    "    def time_to_int(self):\n",
    "        minutes = self.hour * 60 + self.minute\n",
    "        seconds = minutes * 60 + self.second\n",
    "        return seconds\n",
    "\n",
    "    def int_to_time(seconds):\n",
    "        minute, second = divmod(seconds, 60)\n",
    "        hour, minute = divmod(minute, 60)\n",
    "        return make_time(hour, minute, second)\n",
    "\n",
    "    def add_time(self, hours, minutes, seconds):\n",
    "        duration = make_time(hours, minutes, seconds)\n",
    "        seconds = time_to_int(self) + time_to_int(duration)\n",
    "        return Time.int_to_time(seconds)\n"
   ]
  },
  {
   "cell_type": "code",
   "execution_count": 5,
   "metadata": {},
   "outputs": [],
   "source": [
    "def make_time(hour, minute, second):\n",
    "    time = Time()\n",
    "    time.hour = hour\n",
    "    time.minute = minute\n",
    "    time.second = second\n",
    "    return time\n"
   ]
  },
  {
   "cell_type": "code",
   "execution_count": 9,
   "metadata": {},
   "outputs": [
    {
     "name": "stdout",
     "output_type": "stream",
     "text": [
      "09:40:00\n"
     ]
    },
    {
     "ename": "NameError",
     "evalue": "name 'time_to_int' is not defined",
     "output_type": "error",
     "traceback": [
      "\u001b[0;31m---------------------------------------------------------------------------\u001b[0m",
      "\u001b[0;31mNameError\u001b[0m                                 Traceback (most recent call last)",
      "Cell \u001b[0;32mIn[9], line 3\u001b[0m\n\u001b[1;32m      1\u001b[0m start \u001b[38;5;241m=\u001b[39m Time\u001b[38;5;241m.\u001b[39mint_to_time(\u001b[38;5;241m34800\u001b[39m)\n\u001b[1;32m      2\u001b[0m start\u001b[38;5;241m.\u001b[39mprint_time()\n\u001b[0;32m----> 3\u001b[0m end \u001b[38;5;241m=\u001b[39m \u001b[43mstart\u001b[49m\u001b[38;5;241;43m.\u001b[39;49m\u001b[43madd_time\u001b[49m\u001b[43m(\u001b[49m\u001b[38;5;241;43m1\u001b[39;49m\u001b[43m,\u001b[49m\u001b[43m \u001b[49m\u001b[38;5;241;43m32\u001b[39;49m\u001b[43m,\u001b[49m\u001b[43m \u001b[49m\u001b[38;5;241;43m0\u001b[39;49m\u001b[43m)\u001b[49m\n\u001b[1;32m      4\u001b[0m start\u001b[38;5;241m.\u001b[39mtime_to_int()\n",
      "Cell \u001b[0;32mIn[8], line 36\u001b[0m, in \u001b[0;36mTime.add_time\u001b[0;34m(self, hours, minutes, seconds)\u001b[0m\n\u001b[1;32m     34\u001b[0m \u001b[38;5;28;01mdef\u001b[39;00m \u001b[38;5;21madd_time\u001b[39m(\u001b[38;5;28mself\u001b[39m, hours, minutes, seconds):\n\u001b[1;32m     35\u001b[0m     duration \u001b[38;5;241m=\u001b[39m make_time(hours, minutes, seconds)\n\u001b[0;32m---> 36\u001b[0m     seconds \u001b[38;5;241m=\u001b[39m \u001b[43mtime_to_int\u001b[49m(\u001b[38;5;28mself\u001b[39m) \u001b[38;5;241m+\u001b[39m time_to_int(duration)\n\u001b[1;32m     37\u001b[0m     \u001b[38;5;28;01mreturn\u001b[39;00m Time\u001b[38;5;241m.\u001b[39mint_to_time(seconds)\n",
      "\u001b[0;31mNameError\u001b[0m: name 'time_to_int' is not defined"
     ]
    }
   ],
   "source": [
    "start = Time.int_to_time(34800)\n",
    "start.print_time()\n",
    "end = start.add_time(1, 32, 0)\n",
    "start.time_to_int()\n"
   ]
  },
  {
   "cell_type": "code",
   "execution_count": null,
   "metadata": {},
   "outputs": [],
   "source": [
    "def increment_time(time, hours, minutes, seconds):\n",
    "    time.hour += hours\n",
    "    time.minute += minutes\n",
    "    time.second += seconds\n",
    "\n",
    "\n",
    "def add_time(time, hours, minutes, seconds):\n",
    "    total = copy(time)\n",
    "    increment_time(total, hours, minutes, seconds)\n",
    "    return total\n",
    "\n",
    "\n",
    "def time_to_int(time):\n",
    "    minutes = time.hour * 60 + time.minute\n",
    "    seconds = minutes * 60 + time.second\n",
    "    return seconds\n",
    "\n",
    "\n",
    "def int_to_time(seconds):\n",
    "    minute, second = divmod(seconds, 60)\n",
    "    hour, minute = divmod(minute, 60)\n",
    "    return make_time(hour, minute, second)\n",
    "\n",
    "\n",
    "start = make_time(11, 35, 0)\n",
    "end = add_time(start, 1, 20, 15)\n",
    "\n",
    "print_time(start)\n",
    "print_time(end)\n",
    "\n",
    "print(isinstance(end, Time))\n",
    "print(hasattr(start, \"hour\"))\n",
    "print(vars(start))\n"
   ]
  },
  {
   "cell_type": "code",
   "execution_count": null,
   "metadata": {},
   "outputs": [],
   "source": []
  }
 ],
 "metadata": {
  "kernelspec": {
   "display_name": ".venv",
   "language": "python",
   "name": "python3"
  },
  "language_info": {
   "codemirror_mode": {
    "name": "ipython",
    "version": 3
   },
   "file_extension": ".py",
   "mimetype": "text/x-python",
   "name": "python",
   "nbconvert_exporter": "python",
   "pygments_lexer": "ipython3",
   "version": "3.13.0"
  }
 },
 "nbformat": 4,
 "nbformat_minor": 2
}
