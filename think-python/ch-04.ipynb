{
 "cells": [
  {
   "cell_type": "code",
   "execution_count": 33,
   "metadata": {},
   "outputs": [],
   "source": [
    "from jupyturtle import make_turtle, forward, left, right\n",
    "import math\n",
    "\n",
    "\n",
    "def square():\n",
    "    for i in range(4):\n",
    "        forward(10)\n",
    "        left(90)\n"
   ]
  },
  {
   "cell_type": "code",
   "execution_count": 34,
   "metadata": {},
   "outputs": [],
   "source": [
    "def polygon(n, length):\n",
    "    angle = 360 / n\n",
    "    for i in range(n):\n",
    "        forward(length)\n",
    "        left(angle)\n"
   ]
  },
  {
   "cell_type": "code",
   "execution_count": 35,
   "metadata": {},
   "outputs": [],
   "source": [
    "def polyline(n, length, angle):\n",
    "    for i in range(n):\n",
    "        forward(length)\n",
    "        left(angle)\n"
   ]
  },
  {
   "cell_type": "code",
   "execution_count": 36,
   "metadata": {},
   "outputs": [],
   "source": [
    "def arc(radius, angle):\n",
    "    arc_length = 2 * math.pi * radius * angle / 360\n",
    "    n = 30\n",
    "    length = arc_length / n\n",
    "    step_angle = angle / n\n",
    "    polyline(n, length, step_angle)\n"
   ]
  },
  {
   "cell_type": "code",
   "execution_count": 37,
   "metadata": {},
   "outputs": [],
   "source": [
    "def circle(radius):\n",
    "    arc(radius,  360)\n"
   ]
  },
  {
   "cell_type": "code",
   "execution_count": 40,
   "metadata": {},
   "outputs": [],
   "source": [
    "def is_repeat_required() -> bool:\n",
    "    response = True\n",
    "\n",
    "    if str(input(\"repeat required? \")).lower() == \"n\":\n",
    "        response = False\n",
    "    return response\n"
   ]
  },
  {
   "cell_type": "code",
   "execution_count": 41,
   "metadata": {},
   "outputs": [
    {
     "data": {
      "text/html": [
       "<svg width=\"300\" height=\"150\">\n",
       "    <rect width=\"100%\" height=\"100%\" fill=\"#F3F3F7\" />\n",
       "\n",
       "<line x1=\"150\" y1=\"75\" x2=\"152.1\" y2=\"75.0\"\n",
       "    stroke=\"#663399\" stroke-width=\"2\" />\n",
       "<line x1=\"152.1\" y1=\"75.0\" x2=\"154.1\" y2=\"74.6\"\n",
       "    stroke=\"#663399\" stroke-width=\"2\" />\n",
       "<line x1=\"154.1\" y1=\"74.6\" x2=\"156.1\" y2=\"73.7\"\n",
       "    stroke=\"#663399\" stroke-width=\"2\" />\n",
       "<line x1=\"156.1\" y1=\"73.7\" x2=\"157.8\" y2=\"72.5\"\n",
       "    stroke=\"#663399\" stroke-width=\"2\" />\n",
       "<line x1=\"157.8\" y1=\"72.5\" x2=\"159.2\" y2=\"70.9\"\n",
       "    stroke=\"#663399\" stroke-width=\"2\" />\n",
       "<line x1=\"159.2\" y1=\"70.9\" x2=\"160.2\" y2=\"69.1\"\n",
       "    stroke=\"#663399\" stroke-width=\"2\" />\n",
       "<line x1=\"160.2\" y1=\"69.1\" x2=\"160.8\" y2=\"67.1\"\n",
       "    stroke=\"#663399\" stroke-width=\"2\" />\n",
       "<line x1=\"160.8\" y1=\"67.1\" x2=\"161.1\" y2=\"65.0\"\n",
       "    stroke=\"#663399\" stroke-width=\"2\" />\n",
       "<line x1=\"161.1\" y1=\"65.0\" x2=\"160.8\" y2=\"63.0\"\n",
       "    stroke=\"#663399\" stroke-width=\"2\" />\n",
       "<line x1=\"160.8\" y1=\"63.0\" x2=\"160.2\" y2=\"61.0\"\n",
       "    stroke=\"#663399\" stroke-width=\"2\" />\n",
       "<line x1=\"160.2\" y1=\"61.0\" x2=\"159.2\" y2=\"59.1\"\n",
       "    stroke=\"#663399\" stroke-width=\"2\" />\n",
       "<line x1=\"159.2\" y1=\"59.1\" x2=\"157.8\" y2=\"57.6\"\n",
       "    stroke=\"#663399\" stroke-width=\"2\" />\n",
       "<line x1=\"157.8\" y1=\"57.6\" x2=\"156.1\" y2=\"56.4\"\n",
       "    stroke=\"#663399\" stroke-width=\"2\" />\n",
       "<line x1=\"156.1\" y1=\"56.4\" x2=\"154.1\" y2=\"55.5\"\n",
       "    stroke=\"#663399\" stroke-width=\"2\" />\n",
       "<line x1=\"154.1\" y1=\"55.5\" x2=\"152.1\" y2=\"55.1\"\n",
       "    stroke=\"#663399\" stroke-width=\"2\" />\n",
       "<line x1=\"152.1\" y1=\"55.1\" x2=\"150.0\" y2=\"55.1\"\n",
       "    stroke=\"#663399\" stroke-width=\"2\" />\n",
       "<line x1=\"150.0\" y1=\"55.1\" x2=\"148.0\" y2=\"55.5\"\n",
       "    stroke=\"#663399\" stroke-width=\"2\" />\n",
       "<line x1=\"148.0\" y1=\"55.5\" x2=\"146.0\" y2=\"56.4\"\n",
       "    stroke=\"#663399\" stroke-width=\"2\" />\n",
       "<line x1=\"146.0\" y1=\"56.4\" x2=\"144.3\" y2=\"57.6\"\n",
       "    stroke=\"#663399\" stroke-width=\"2\" />\n",
       "<line x1=\"144.3\" y1=\"57.6\" x2=\"142.9\" y2=\"59.1\"\n",
       "    stroke=\"#663399\" stroke-width=\"2\" />\n",
       "<line x1=\"142.9\" y1=\"59.1\" x2=\"141.9\" y2=\"61.0\"\n",
       "    stroke=\"#663399\" stroke-width=\"2\" />\n",
       "<line x1=\"141.9\" y1=\"61.0\" x2=\"141.2\" y2=\"63.0\"\n",
       "    stroke=\"#663399\" stroke-width=\"2\" />\n",
       "<line x1=\"141.2\" y1=\"63.0\" x2=\"141.0\" y2=\"65.0\"\n",
       "    stroke=\"#663399\" stroke-width=\"2\" />\n",
       "<line x1=\"141.0\" y1=\"65.0\" x2=\"141.2\" y2=\"67.1\"\n",
       "    stroke=\"#663399\" stroke-width=\"2\" />\n",
       "<line x1=\"141.2\" y1=\"67.1\" x2=\"141.9\" y2=\"69.1\"\n",
       "    stroke=\"#663399\" stroke-width=\"2\" />\n",
       "<line x1=\"141.9\" y1=\"69.1\" x2=\"142.9\" y2=\"70.9\"\n",
       "    stroke=\"#663399\" stroke-width=\"2\" />\n",
       "<line x1=\"142.9\" y1=\"70.9\" x2=\"144.3\" y2=\"72.5\"\n",
       "    stroke=\"#663399\" stroke-width=\"2\" />\n",
       "<line x1=\"144.3\" y1=\"72.5\" x2=\"146.0\" y2=\"73.7\"\n",
       "    stroke=\"#663399\" stroke-width=\"2\" />\n",
       "<line x1=\"146.0\" y1=\"73.7\" x2=\"148.0\" y2=\"74.6\"\n",
       "    stroke=\"#663399\" stroke-width=\"2\" />\n",
       "<line x1=\"148.0\" y1=\"74.6\" x2=\"150.0\" y2=\"75.0\"\n",
       "    stroke=\"#663399\" stroke-width=\"2\" />\n",
       "\n",
       "<g transform=\"rotate(-90.0,150.0,75.0) translate(150.0, 75.0)\">\n",
       "    <circle stroke=\"#63A375\" stroke-width=\"2\" fill=\"transparent\" r=\"5.5\" cx=\"0\" cy=\"0\"/>\n",
       "    <polygon points=\"0,12 2,9 -2,9\" style=\"fill:#63A375;stroke:#63A375;stroke-width:2\"/>\n",
       "</g>\n",
       "\n",
       "</svg>"
      ],
      "text/plain": [
       "<IPython.core.display.HTML object>"
      ]
     },
     "metadata": {},
     "output_type": "display_data"
    }
   ],
   "source": [
    "make_turtle()\n",
    "# square()\n",
    "# polygon(n=7, length=20)\n",
    "# polygon(n=9, length=30)\n",
    "is_flow_next = True\n",
    "\n",
    "while is_flow_next:\n",
    "    circle(10)\n",
    "    if is_repeat_required():\n",
    "        pass\n",
    "    else:\n",
    "        is_flow_next = False\n"
   ]
  },
  {
   "cell_type": "code",
   "execution_count": 42,
   "metadata": {},
   "outputs": [
    {
     "data": {
      "text/plain": [
       "10"
      ]
     },
     "execution_count": 42,
     "metadata": {},
     "output_type": "execute_result"
    }
   ],
   "source": [
    "\n",
    "def collatz(x):\n",
    "    if x % 2 == 0:\n",
    "        return x // 2\n",
    "    else:\n",
    "        return x * 3 + 1\n",
    "\n",
    "\n",
    "collatz(3)\n"
   ]
  },
  {
   "cell_type": "code",
   "execution_count": 43,
   "metadata": {},
   "outputs": [
    {
     "name": "stdout",
     "output_type": "stream",
     "text": [
      "banana\n"
     ]
    }
   ],
   "source": [
    "fruit = \"banana\"\n",
    "print(fruit[:])\n"
   ]
  },
  {
   "cell_type": "code",
   "execution_count": 46,
   "metadata": {},
   "outputs": [
    {
     "name": "stdout",
     "output_type": "stream",
     "text": [
      "True\n"
     ]
    }
   ],
   "source": [
    "def compare(fruit1, fruit2):\n",
    "    return 'Orange' < 'apple'\n",
    "\n",
    "\n",
    "print(compare('Orange', 'apple'))\n"
   ]
  },
  {
   "cell_type": "code",
   "execution_count": 53,
   "metadata": {},
   "outputs": [
    {
     "name": "stdout",
     "output_type": "stream",
     "text": [
      "['adwita', 'dyuksh', 'rajiv', 'rashmi']\n"
     ]
    },
    {
     "data": {
      "text/plain": [
       "'aabeglnor'"
      ]
     },
     "execution_count": 53,
     "metadata": {},
     "output_type": "execute_result"
    }
   ],
   "source": [
    "scramble = [[\"rajiv\", \"rashmi\", \"adwita\", \"dyuksh\"],\n",
    "            [\"delhi\", \"mumbai\", \"goa\", \"bangalore\"]]\n",
    "print(sorted(scramble[0]))\n",
    "scramble[1] = sorted(scramble[1])\n",
    "\"\".join(sorted(scramble[1][0]))\n"
   ]
  },
  {
   "cell_type": "code",
   "execution_count": 2,
   "metadata": {},
   "outputs": [
    {
     "name": "stdout",
     "output_type": "stream",
     "text": [
      "True 4846606288 4846606288\n"
     ]
    }
   ],
   "source": [
    "a = \"banana\"\n",
    "b = 'banana'\n",
    "print(a is b, id(a), id(b))\n"
   ]
  },
  {
   "cell_type": "code",
   "execution_count": 3,
   "metadata": {},
   "outputs": [
    {
     "name": "stdout",
     "output_type": "stream",
     "text": [
      "[1, 2, 2, 3, 4]\n"
     ]
    }
   ],
   "source": [
    "a = [1, 2, 2, 2, 3, 4]\n",
    "b = a\n",
    "a.remove(2)\n",
    "print(a)\n"
   ]
  },
  {
   "cell_type": "code",
   "execution_count": 12,
   "metadata": {},
   "outputs": [
    {
     "name": "stdout",
     "output_type": "stream",
     "text": [
      "dict_values([0, 1, 1, 2])\n"
     ]
    }
   ],
   "source": [
    "from pprint import pprint\n",
    "\n",
    "\n",
    "known = {0: 0, 1: 1}\n",
    "\n",
    "\n",
    "def fibonacci_memo(n):\n",
    "    if n in known:\n",
    "        return known[n]\n",
    "\n",
    "    res = fibonacci_memo(n-1) + fibonacci_memo(n-2)\n",
    "    known[n] = res\n",
    "    return res\n",
    "\n",
    "\n",
    "fibonacci_memo(3)\n",
    "all_value = known.values()\n",
    "pprint(all_value)\n"
   ]
  },
  {
   "cell_type": "code",
   "execution_count": 15,
   "metadata": {},
   "outputs": [
    {
     "data": {
      "text/plain": [
       "{(1, 2): 3, (3, 4): 7}"
      ]
     },
     "execution_count": 15,
     "metadata": {},
     "output_type": "execute_result"
    }
   ],
   "source": [
    "tuple('lup') + ('i', 'n')\n",
    "d = {}\n",
    "d[1, 2] = 3\n",
    "d[3, 4] = 7\n",
    "d\n"
   ]
  },
  {
   "cell_type": "code",
   "execution_count": 16,
   "metadata": {},
   "outputs": [
    {
     "name": "stdout",
     "output_type": "stream",
     "text": [
      "monty\n",
      "python.org\n"
     ]
    }
   ],
   "source": [
    "email = 'monty@python.org'\n",
    "username, domain = email.split('@')\n",
    "print(username)\n",
    "print(domain)\n"
   ]
  },
  {
   "cell_type": "code",
   "execution_count": 19,
   "metadata": {},
   "outputs": [
    {
     "name": "stdout",
     "output_type": "stream",
     "text": [
      "2 2\n"
     ]
    }
   ],
   "source": [
    "def divmod(dividend: int, divisor: int) -> tuple:\n",
    "    quotient = 0\n",
    "    remainder = 0\n",
    "    quotient = dividend // divisor\n",
    "    remainder = dividend % divisor\n",
    "    return (quotient, remainder)\n",
    "\n",
    "\n",
    "x, y = divmod(8, 3)\n",
    "print(x, y)\n"
   ]
  },
  {
   "cell_type": "code",
   "execution_count": 30,
   "metadata": {},
   "outputs": [
    {
     "name": "stdout",
     "output_type": "stream",
     "text": [
      "(10, 5)\n",
      "(2, 0)\n"
     ]
    },
    {
     "data": {
      "text/plain": [
       "7.5"
      ]
     },
     "execution_count": 30,
     "metadata": {},
     "output_type": "execute_result"
    }
   ],
   "source": [
    "\n",
    "def mean(*args):\n",
    "    print(args)\n",
    "    n = []\n",
    "    print(divmod(*args))\n",
    "\n",
    "    return sum(args)/len(args)\n",
    "\n",
    "\n",
    "mean(10, 5)\n"
   ]
  },
  {
   "cell_type": "code",
   "execution_count": 34,
   "metadata": {},
   "outputs": [
    {
     "name": "stdout",
     "output_type": "stream",
     "text": [
      "('goa', 'goa', 100000)\n",
      "('delhi', 'delhi', 500000)\n",
      "('patna', 'bihar', 900000)\n",
      "<zip object at 0x12725de80>\n"
     ]
    }
   ],
   "source": [
    "city = [\"goa\", \"delhi\", \"patna\"]\n",
    "state = [\"goa\", \"delhi\", \"bihar\"]\n",
    "population = [100000, 500000, 900000]\n",
    "\n",
    "data = zip(city, state, population)\n",
    "\n",
    "for r1 in data:\n",
    "    print(r1)\n",
    "\n"
   ]
  },
  {
   "cell_type": "code",
   "execution_count": null,
   "metadata": {},
   "outputs": [],
   "source": []
  }
 ],
 "metadata": {
  "kernelspec": {
   "display_name": ".venv",
   "language": "python",
   "name": "python3"
  },
  "language_info": {
   "codemirror_mode": {
    "name": "ipython",
    "version": 3
   },
   "file_extension": ".py",
   "mimetype": "text/x-python",
   "name": "python",
   "nbconvert_exporter": "python",
   "pygments_lexer": "ipython3",
   "version": "3.13.0"
  }
 },
 "nbformat": 4,
 "nbformat_minor": 2
}
